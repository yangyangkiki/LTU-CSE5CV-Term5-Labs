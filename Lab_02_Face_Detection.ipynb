{
  "cells": [
    {
      "cell_type": "markdown",
      "metadata": {
        "id": "view-in-github",
        "colab_type": "text"
      },
      "source": [
        "<a href=\"https://colab.research.google.com/github/yangyangkiki/LTU-CSE5CV-Term5-Labs/blob/main/Lab_02_Face_Detection.ipynb\" target=\"_parent\"><img src=\"https://colab.research.google.com/assets/colab-badge.svg\" alt=\"Open In Colab\"/></a>"
      ]
    },
    {
      "cell_type": "markdown",
      "id": "19429a69-eaec-47ee-b3ad-4e150594af75",
      "metadata": {
        "id": "19429a69-eaec-47ee-b3ad-4e150594af75"
      },
      "source": [
        "# CSE5CV - Face Detection\n",
        "In this lab we explore two different approaches to face detection.\n",
        "\n",
        "By the end of this lab, you should be able to:\n",
        "* Understand and implement Haar Cascades using *OpenCV*\n",
        "* Implement basic Deep Neural Networks with *OpenCV*"
      ]
    },
    {
      "cell_type": "markdown",
      "source": [
        "## Colab preparation\n",
        "\n",
        "Google Colab is a free online service for editing and running code in notebooks like this one. To get started, follow the steps below:\n",
        "\n",
        "1. Click the \"Copy to Drive\" button at the top of the page. This will open a new tab with the title \"Copy of...\". This is a copy of the lab notebook which is saved in your personal Google Drive. **Continue working in that copy, otherwise you will not be able to save your work**. You may close the original Colab page (the one which displays the \"Copy to Drive\" button).\n",
        "2. Run the code cell below to prepare the Colab coding environment by downloading sample files. Note that if you close this notebook and come back to work on it again later, you will need to run this cell again."
      ],
      "metadata": {
        "id": "qHrEAKS4h2Nm"
      },
      "id": "qHrEAKS4h2Nm"
    },
    {
      "cell_type": "code",
      "source": [
        "!git clone https://github.com/ltu-cse5cv/cse5cv-labs.git\n",
        "%cd cse5cv-labs/Lab05"
      ],
      "metadata": {
        "id": "wM8UKEozh4MK"
      },
      "execution_count": null,
      "outputs": [],
      "id": "wM8UKEozh4MK"
    },
    {
      "cell_type": "markdown",
      "id": "701be84d-41f3-4bbb-86e2-cb53f2e19203",
      "metadata": {
        "id": "701be84d-41f3-4bbb-86e2-cb53f2e19203"
      },
      "source": [
        "## Packages\n",
        "In this lab we will be using the following packages:\n",
        "* *OpenCV* for face detection\n",
        "* *numpy* for interacting with image data\n",
        "* *skimage* for manual Haar cascades\n",
        "* *sklearn* for computing accuracy\n",
        "* *matplotlib* for visualization"
      ]
    },
    {
      "cell_type": "code",
      "execution_count": null,
      "id": "3c952893-2663-4c4c-b4c3-fb036aa579e0",
      "metadata": {
        "id": "3c952893-2663-4c4c-b4c3-fb036aa579e0"
      },
      "outputs": [],
      "source": [
        "import math\n",
        "\n",
        "import cv2\n",
        "import numpy as np\n",
        "from matplotlib import pyplot as plt\n",
        "from skimage.data import lfw_subset\n",
        "from skimage.feature import draw_haar_like_feature, haar_like_feature_coord, haar_like_feature\n",
        "from skimage.transform import integral_image\n",
        "from sklearn.metrics import accuracy_score\n",
        "from urllib.request import urlopen"
      ]
    },
    {
      "cell_type": "markdown",
      "id": "1bf63f74-5389-48e1-8e6a-e02bc3b61d89",
      "metadata": {
        "id": "1bf63f74-5389-48e1-8e6a-e02bc3b61d89"
      },
      "source": [
        "In this lab, we will create many functions to perform parts of face detection and recognition. For your reference when answering later questions, here is a list of all of those functions.\n",
        "\n",
        "**General Functions**\n",
        "* *`display_image()`*\n",
        "* *`load_image_from_url()`*\n",
        "* *`draw_rectangles_tlbr()`*\n",
        "\n",
        "**Manual Haar Cascades**\n",
        "* *`classify_manual_haar_features()`*\n",
        "* *`extract_custom_haar_features()`*\n",
        "\n",
        "**Haar Cascades**\n",
        "* *`preprocess_image_haar()`*\n",
        "* *`detect_faces_haar()`*\n",
        "* *`haar_detect_and_overlay_from_url()`*\n",
        "\n",
        "**DNN Face Detection**\n",
        "* *`preprocess_image_dnn()`*\n",
        "* *`postprocess_detections_dnn()`*\n",
        "* *`detect_faces_dnn()`*\n",
        "* *`dnn_detect_and_overlay_from_url()`*"
      ]
    },
    {
      "cell_type": "markdown",
      "id": "098ce237-f8d2-4d85-8e68-107a8ebdb56c",
      "metadata": {
        "id": "098ce237-f8d2-4d85-8e68-107a8ebdb56c"
      },
      "source": [
        "# 1. Haar Cascades\n",
        "\n",
        "A Haar cascade classifier is a machine learning based approach to object detection proposed in the 'Robust Real-Time Face Detection' paper.  \n",
        "\n",
        "\n",
        "To implement Haar cascades for object detection, a large number of features are efficiently extracted from an image and fed through a feature selector algorithm which selects the most important features and trains a series of classifiers to be able to efficiently detect the presence of an object. This training is faciliated through a dataset containing positive and negative examples of what is to be detected.  \n",
        "\n",
        "In this section we will describe the process in more detail and implement a subset of the functionality of Haar cascades."
      ]
    },
    {
      "cell_type": "markdown",
      "id": "2e105982-d377-4d5c-b443-ba10562f593e",
      "metadata": {
        "id": "2e105982-d377-4d5c-b443-ba10562f593e"
      },
      "source": [
        "## 1.1 Haar Features\n",
        "\n",
        "The first step of Haar cascades is to extract the Haar features from an image.\n",
        "\n",
        "In the original paper, the authors introduced three different kinds of features to extract from an image. These features involve grouped rectangles of identical size and shape that are moved around a detection window, where the pixel values in one part of the rectangle are subtracted from pixel values in the other part of the rectangle.\n",
        "\n",
        "In the below code cell we display the different types of features described in the paper."
      ]
    },
    {
      "cell_type": "code",
      "execution_count": null,
      "id": "3fc30713-d40a-4ec8-8880-9a7f8fbe89d9",
      "metadata": {
        "id": "3fc30713-d40a-4ec8-8880-9a7f8fbe89d9"
      },
      "outputs": [],
      "source": [
        "# Create images for visualization\n",
        "images = [np.zeros((2, 2)), np.zeros((2, 2)), np.zeros((3, 3)), np.zeros((3, 3)), np.zeros((2, 2))]\n",
        "\n",
        "# Describe each type of feature to be extracted\n",
        "feature_types = ['type-2-x', 'type-2-y', 'type-3-x', 'type-3-y', 'type-4']\n",
        "\n",
        "# Go through each feature and draw on the image\n",
        "fig, axs = plt.subplots(1, 5, figsize=(19.2, 10.8))\n",
        "axs = np.ravel(axs)\n",
        "for ax, img, feat_t in zip(axs, images, feature_types):\n",
        "    coord, _ = haar_like_feature_coord(img.shape[1], img.shape[0], feat_t)\n",
        "    haar_feature = draw_haar_like_feature(img, 0, 0, img.shape[1], img.shape[0],\n",
        "                                          coord, max_n_features=1, random_state=0)\n",
        "    ax.imshow(haar_feature)\n",
        "    ax.set_title(feat_t)\n",
        "    ax.set_xticks([])\n",
        "    ax.set_yticks([])\n",
        "\n",
        "plt.axis('off')\n",
        "plt.show()"
      ]
    },
    {
      "cell_type": "markdown",
      "id": "7b5580bd-1126-425c-8c78-c6fca50ce20b",
      "metadata": {
        "id": "7b5580bd-1126-425c-8c78-c6fca50ce20b"
      },
      "source": [
        "With reference to the displayed data above, the Haar features are described as the sum of pixel values in the green sections subtracted from the sum of pixel values in the red sections.\n",
        "\n",
        "The three features described in the paper are:\n",
        "* A two-rectangle feature (These can be seen in the first two visualizations)\n",
        "* A three-rectangle feature (Seen in the third and fourth visualizations)\n",
        "* A four-rectangle feature (Seen in the last visualization)\n",
        "\n",
        "When finding the Haar features, these rectangular windows are moved and resized within a detection window, and at each position the difference of sums is taken. This detection window is usually smaller than the whole image, so for detecting objects within a whole image, the detection window is moved around the image, and within each position of the detection window Haar features are computed.\n",
        "\n",
        "In the code cell below we create an empty 4x4 pixel detection window and show the position of the four-rectangle feature as it is moved and resized throughout the window."
      ]
    },
    {
      "cell_type": "code",
      "execution_count": null,
      "id": "448c5f73-4b87-498d-9d05-ac2c2f36b82d",
      "metadata": {
        "tags": [],
        "id": "448c5f73-4b87-498d-9d05-ac2c2f36b82d"
      },
      "outputs": [],
      "source": [
        "# Create an empty 4x4 pixel image\n",
        "original_image = np.zeros((4, 4))\n",
        "\n",
        "# Compute coordinate of the four-rectangle feature computed on this image\n",
        "feature_coord, _ = haar_like_feature_coord(original_image.shape[1], original_image.shape[0], 'type-4')\n",
        "print(f'There are {feature_coord.shape[0]} positions of this feature in the '\n",
        "      f'{original_image.shape[0]}x{original_image.shape[1]} image')\n",
        "\n",
        "# Determine the number of plots required for a square axis\n",
        "square_axis = math.ceil(feature_coord.shape[0] ** 0.5)\n",
        "fig, axs = plt.subplots(square_axis, square_axis, figsize=(19.2, 10.8))\n",
        "axs = np.ravel(axs)\n",
        "\n",
        "# Plot positions of each feature individually\n",
        "for idx in range(feature_coord.shape[0]):\n",
        "    feat_coord = feature_coord[idx:idx+1]\n",
        "    image = draw_haar_like_feature(original_image, 0, 0, original_image.shape[1], original_image.shape[0],\n",
        "                                   feat_coord, max_n_features=1, random_state=0)\n",
        "    axs[idx].imshow(image)\n",
        "\n",
        "plt.show()"
      ]
    },
    {
      "cell_type": "markdown",
      "id": "ce4f6d3d-331d-4644-ac2d-9466629cf42b",
      "metadata": {
        "id": "ce4f6d3d-331d-4644-ac2d-9466629cf42b"
      },
      "source": [
        "You can imagine as the detection window grows, so too does the number of features extracted!"
      ]
    },
    {
      "cell_type": "markdown",
      "id": "04f2c0f8-f381-44d8-931a-247a9fdf30bd",
      "metadata": {
        "id": "04f2c0f8-f381-44d8-931a-247a9fdf30bd"
      },
      "source": [
        "## 1.2 Integral Image\n",
        "\n",
        "Computing these features can become very computationally expensive (summing values in each rectangle and subtracting from one another). As seen in the previous section, an enormous number of features are extracted for larger detection windows, which quickly becomes infeasible to compute.\n",
        "\n",
        "Because of this, the authors introduced a different representation of an image to address this. This representation is called an ***integral image***.\n",
        "\n",
        "We wont go into detail on how this helps compute Haar features, however we will look at what an integral image looks like.\n",
        "\n",
        "In a nutshell, an **integral image** is one where each pixel represents the sum of that pixel value, plus all pixel values above and to the left of it in the original image.\n",
        "\n",
        "This is best illustrated with an example. The code cell below creates a 5x5 array of ones, then computes the integral image using *numpy*."
      ]
    },
    {
      "cell_type": "code",
      "execution_count": null,
      "id": "8210059f-419b-44be-9d13-31d7eca0df8f",
      "metadata": {
        "id": "8210059f-419b-44be-9d13-31d7eca0df8f"
      },
      "outputs": [],
      "source": [
        "sample_image = np.ones((5, 5))\n",
        "print(sample_image)\n",
        "\n",
        "print('-' * 20)\n",
        "\n",
        "integral_sample_image_numpy = np.cumsum(np.cumsum(sample_image, axis=0), axis=1)\n",
        "print(integral_sample_image_numpy)"
      ]
    },
    {
      "cell_type": "markdown",
      "id": "94dc49c0-fe2a-4b91-9fdb-2d78789d0275",
      "metadata": {
        "id": "94dc49c0-fe2a-4b91-9fdb-2d78789d0275"
      },
      "source": [
        "We can also achieve this same result using a function available to us in *scikit-image*.\n",
        "\n",
        "**Task**: Find the appropriate function in the [*scikit-image.transform* documentation](https://scikit-image.org/docs/dev/api/skimage.transform.html) to compute the integral image. Use this function to compute and print the integral image of `sample_image`. Verify that it matches the result with the given *numpy* implementation."
      ]
    },
    {
      "cell_type": "code",
      "execution_count": null,
      "id": "046177e2-9b57-41c9-8c28-0b8b80d0a892",
      "metadata": {
        "id": "046177e2-9b57-41c9-8c28-0b8b80d0a892"
      },
      "outputs": [],
      "source": [
        "# TODO: Your solution here\n",
        "\n",
        "\n",
        "# TODO: Verify your result matches the numpy implementation\n",
        "print(integral_sample_image_numpy)"
      ]
    },
    {
      "cell_type": "code",
      "execution_count": null,
      "id": "c50edb39-93c7-472e-a055-199ce40a3132",
      "metadata": {
        "jupyter": {
          "source_hidden": true
        },
        "tags": [],
        "id": "c50edb39-93c7-472e-a055-199ce40a3132",
        "cellView": "form"
      },
      "outputs": [],
      "source": [
        "#@title Task solution\n",
        "\n",
        "# TODO: Your solution here\n",
        "# NOTE: We have already imported the integral_image function\n",
        "integral_sample_image_scipy = integral_image(sample_image)\n",
        "print(integral_sample_image_scipy)\n",
        "\n",
        "# TODO: Verify your result matches the numpy implementation\n",
        "print(integral_sample_image_numpy)"
      ]
    },
    {
      "cell_type": "markdown",
      "id": "8ca152ea-3ac4-4597-b29b-024cd540cda8",
      "metadata": {
        "id": "8ca152ea-3ac4-4597-b29b-024cd540cda8"
      },
      "source": [
        "**Comprehension Question**\n",
        "\n",
        "Determine the integral image for the array shown below ***by hand***.\n",
        "\n",
        "$$\n",
        "\\begin{equation*}\n",
        "\\begin{bmatrix}\n",
        "0 & 1 & 2 & 3 \\\\\n",
        "4 & 5 & 6 & 7 \\\\\n",
        "8 & 9 & 10 & 11 \\\\\n",
        "12 & 13 & 14 & 15 \\\\\n",
        "\\end{bmatrix}\n",
        "\\end{equation*}\n",
        "$$\n",
        "\n",
        "Run the code cell below to check your answer"
      ]
    },
    {
      "cell_type": "code",
      "execution_count": null,
      "id": "e46bee8e-1f6b-4310-82ae-92a4c918f216",
      "metadata": {
        "tags": [],
        "id": "e46bee8e-1f6b-4310-82ae-92a4c918f216"
      },
      "outputs": [],
      "source": [
        "arr = np.arange(16).reshape(4, 4)\n",
        "print(arr)\n",
        "\n",
        "print('-' * 20)\n",
        "\n",
        "integral_arr = integral_image(arr)\n",
        "# Or\n",
        "# integral_arr = np.cumsum(np.cumsum(arr, axis=0), axis=1)\n",
        "\n",
        "print(integral_arr)"
      ]
    },
    {
      "cell_type": "markdown",
      "id": "207fcc5a-89c5-44a0-9bdb-895280761663",
      "metadata": {
        "id": "207fcc5a-89c5-44a0-9bdb-895280761663"
      },
      "source": [
        "How can we use the integral image to help us compute Haar features?\n",
        "\n",
        "In the Haar features section we discussed that to compute a Haar feature we place a set of rectangles over a detection window and compute the feature as the sum of pixel values in the different coloured sections subtracted from eachother. In our examples, we have defined this as the sum of pixel values in the green sections subtracted from the sum of pixel values in the red sections.\n",
        "\n",
        "To illustrate this with an example, consider an 8x8 array filled with ones, where we want to compute the four-rectangle feature that spans the whole array. The integral image for this is shown below (values in the array are in the bottom-right corner of each cell in the array), with the four-rectangle feature visualization overlaid:"
      ]
    },
    {
      "cell_type": "markdown",
      "source": [
        "![haar_feature.png](data:image/png;base64,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)"
      ],
      "metadata": {
        "id": "YhDgS1-cdEL3"
      },
      "id": "YhDgS1-cdEL3"
    },
    {
      "cell_type": "markdown",
      "source": [
        "To compute the Haar feature, we need to find the sum of values in the green sections (`W` and `Z`) of the original array and subtract this from the sum of values in the red sections (`X` and `Y`) of the original array.\n",
        "\n",
        "Because we have the integral image, this becomes very easy to do!\n",
        "\n",
        "Consider section `W`. The sum of pixel values in this section of the original array would be 16 (a 4x4 array of ones), however in the integral image, this is equivalent to the value in the cell depicted by `A`.\n",
        "\n",
        "Considering section `X` we find something similar. The cell depicted by `B` contains the sum of pixel values in the original array of sections `W` and `X`. To find the sum of values in `X` alone, we just need to subtract the sum of pixel values in `W` (which is represented by the value in cell `A`) from `B`!\n",
        "\n",
        "Following this logic, you can determine how the sum of values in sections `Y` and `Z` are found. As you can see, it becomes extremely simple to find these values by just looking them up in the integral image, rather than summing across subarrays in the original array.\n",
        "\n",
        "**Task**: In the code cell below we provide code representing the example we just described. Complete the line that computes the Haar feature."
      ],
      "metadata": {
        "id": "gYoIpr3QdAug"
      },
      "id": "gYoIpr3QdAug"
    },
    {
      "cell_type": "code",
      "execution_count": null,
      "id": "a8291511-0781-4355-9b45-5b964375c60e",
      "metadata": {
        "id": "a8291511-0781-4355-9b45-5b964375c60e"
      },
      "outputs": [],
      "source": [
        "# Create a sample image and compute the integral image\n",
        "sample_image = np.ones((8, 8))\n",
        "int_img = np.cumsum(np.cumsum(sample_image, axis=0), axis=1)\n",
        "\n",
        "# Extract the values of cells A, B, C, D\n",
        "A = int_img[3, 3]\n",
        "B = int_img[7, 3]\n",
        "C = int_img[3, 7]\n",
        "D = int_img[7, 7]\n",
        "\n",
        "# Find the sum of values in the original image in the sections W, X, Y, Z\n",
        "W = A\n",
        "X = B - A\n",
        "Y = C - A\n",
        "Z = D - C - B + A\n",
        "\n",
        "# TODO: Compute the Haar feature\n",
        "# haar_2x2_feature = ...\n",
        "\n",
        "print(haar_2x2_feature)    # Should be 0.0"
      ]
    },
    {
      "cell_type": "code",
      "execution_count": null,
      "id": "f93b89c6-c5ea-4da2-946e-1e6b7ba0487e",
      "metadata": {
        "jupyter": {
          "source_hidden": true
        },
        "tags": [],
        "id": "f93b89c6-c5ea-4da2-946e-1e6b7ba0487e",
        "cellView": "form"
      },
      "outputs": [],
      "source": [
        "#@title Task solution\n",
        "\n",
        "haar_2x2_feature = W - X - Y + Z"
      ]
    },
    {
      "cell_type": "markdown",
      "id": "4bece41a-97f1-4c7c-9ba6-98de6ada82f5",
      "metadata": {
        "id": "4bece41a-97f1-4c7c-9ba6-98de6ada82f5"
      },
      "source": [
        "## 1.3 Using Features for Classification\n",
        "\n",
        "The next step in using Haar cascades for object detection would be to efficiently select a subset of features from the feature set to use, and create classifiers to detect objects given a training set. The code to implement this is quite complex, and outside of the scope of this lab.\n",
        "\n",
        "Instead, we will take what we've covered so far and implement our own (*poor*) classifier, based on a subset of (*poorly chosen*) features."
      ]
    },
    {
      "cell_type": "markdown",
      "id": "00c0a5ec-bee3-4bab-8b69-8ac14739f2cb",
      "metadata": {
        "id": "00c0a5ec-bee3-4bab-8b69-8ac14739f2cb"
      },
      "source": [
        "### Dataset\n",
        "\n",
        "For this task, we will be making use of a subset of data from the [Labelled Faces in the Wild dataset](http://vis-www.cs.umass.edu/lfw/).\n",
        "\n",
        "Specifically, the [subset we will be using](https://scikit-image.org/docs/dev/api/skimage.data.html#skimage.data.lfw_subset) contains 200 images, 100 faces and 100 non-faces. All of these images have been resized to 25x25px.\n",
        "\n",
        "In the code cell below we download this dataset and print some properties of the data."
      ]
    },
    {
      "cell_type": "code",
      "execution_count": null,
      "id": "8e69a9ac-24aa-42f6-8eba-57a6642edbc4",
      "metadata": {
        "id": "8e69a9ac-24aa-42f6-8eba-57a6642edbc4"
      },
      "outputs": [],
      "source": [
        "lfw_subset_dataset = lfw_subset()\n",
        "print(f'Shape of data: {lfw_subset_dataset.shape}')\n",
        "print(f'Type of data: {lfw_subset_dataset.dtype}')\n",
        "print(f'Pixel value range of data: {lfw_subset_dataset[0].min(), lfw_subset_dataset[0].max()}')"
      ]
    },
    {
      "cell_type": "markdown",
      "id": "ae34aecf-9edd-483f-b4fe-7084658cb0bf",
      "metadata": {
        "id": "ae34aecf-9edd-483f-b4fe-7084658cb0bf"
      },
      "source": [
        "To better understand this dataset, we should visualize a few examples, meaning we need some visualization code!\n",
        "\n",
        "**Task**: In the code cell below, write a function `display_image` that takes an *image* and optionally a *title*, and displays the image (with the title if provided). Ensure this works for both RGB and greyscale images. Set the *figsize* of your plot to be: `(8, 6)`"
      ]
    },
    {
      "cell_type": "markdown",
      "id": "e86ec834-3f5c-4b23-9c0e-7a9ee81dd08c",
      "metadata": {
        "id": "e86ec834-3f5c-4b23-9c0e-7a9ee81dd08c"
      },
      "source": [
        "<details>\n",
        "<summary style='cursor:pointer;'><u>Hint</u></summary>\n",
        "\n",
        "You've written code similar to this in Lab 1 and Lab 3. Refer back to those labs to see the display functions you wrote. This display function will require parts from functions in each of those labs.\n",
        "</details>"
      ]
    },
    {
      "cell_type": "code",
      "execution_count": null,
      "id": "b461fe71-de30-4c65-a2fc-41c22845c257",
      "metadata": {
        "id": "b461fe71-de30-4c65-a2fc-41c22845c257"
      },
      "outputs": [],
      "source": [
        "# TODO: Your function here\n",
        "\n",
        "\n",
        "\n",
        "\n",
        "# Test your function! We multiply the image data by 255 to get it in the range [0, 255] for displaying\n",
        "display_image(lfw_subset_dataset[0] * 255, 'Face')\n",
        "display_image(lfw_subset_dataset[100] * 255, 'Not a Face')"
      ]
    },
    {
      "cell_type": "code",
      "execution_count": null,
      "id": "a1032755-c540-4a85-a0a3-c570a73242e7",
      "metadata": {
        "jupyter": {
          "source_hidden": true
        },
        "tags": [],
        "id": "a1032755-c540-4a85-a0a3-c570a73242e7",
        "cellView": "form"
      },
      "outputs": [],
      "source": [
        "#@title Task solution\n",
        "\n",
        "def display_image(image, title=None):\n",
        "    fig, axes = plt.subplots(figsize=(8, 6))\n",
        "\n",
        "    if image.ndim == 2:\n",
        "        axes.imshow(image, cmap='gray', vmin=0, vmax=255)\n",
        "    else:\n",
        "        axes.imshow(image)\n",
        "\n",
        "    if title is not None:\n",
        "        plt.title(title)\n",
        "\n",
        "    plt.show()"
      ]
    },
    {
      "cell_type": "markdown",
      "id": "1ac33a85-0a67-46f0-90f0-353ee90440a7",
      "metadata": {
        "id": "1ac33a85-0a67-46f0-90f0-353ee90440a7"
      },
      "source": [
        "Following that, you will have seen an example of a face and an example of a non-face being displayed. In this dataset the first 100 examples are faces, and the last 100 examples are non-faces."
      ]
    },
    {
      "cell_type": "markdown",
      "id": "e0612b95-6e71-4052-972f-59ed722746c6",
      "metadata": {
        "id": "e0612b95-6e71-4052-972f-59ed722746c6"
      },
      "source": [
        "### Classification"
      ]
    },
    {
      "cell_type": "markdown",
      "id": "2a42487e-dc19-4431-94b8-c38d90e4826f",
      "metadata": {
        "id": "2a42487e-dc19-4431-94b8-c38d90e4826f"
      },
      "source": [
        "Now we have a dataset, let's move on to classification on this dataset!  \n",
        "\n",
        "The typical approach for detection with Haar cascades is to:\n",
        "1. Compute a set of features within a detection window\n",
        "2. Select a subset of these features to use and perform binary classification based on those features\n",
        "3. Repeat steps 1. and 2. for all positions of the detection window within the image (the detection window is convolved across the image)\n",
        "\n",
        "This is a complex process, so to keep things simple for our implementation, we will just focus on steps 1. and 2. Also, we will set the detection window to the same size as our images, meaning we produce a single classification for the whole image.\n",
        "\n",
        "Choosing features is a very important process to create a good Haar classifier, and the Haar cascade implementation uses an algorithm named **Adaboost** to do this. For our purposes, we are going to select a subset of features in a very crude way **Note: You should never do feature selection in this way in practice**.\n",
        "\n",
        "In the code cell below, we (*crudely*) select 5 Haar features that we will use for classification."
      ]
    },
    {
      "cell_type": "code",
      "execution_count": null,
      "id": "c893b7f1-6e1f-40d1-a242-448ae8056236",
      "metadata": {
        "id": "c893b7f1-6e1f-40d1-a242-448ae8056236"
      },
      "outputs": [],
      "source": [
        "# Compute coordinates of Haar features within a detection window of size 25x25 for four-rectangle features\n",
        "# We choose 25x25 to match our dataset image sizes\n",
        "feature_coords, feature_types = haar_like_feature_coord(25, 25, 'type-4')\n",
        "\n",
        "# Extract the first 5 features. We will use these for classification\n",
        "feature_coords = feature_coords[:5]\n",
        "feature_types = feature_types[:5]"
      ]
    },
    {
      "cell_type": "markdown",
      "id": "01a4e4ce-0714-4b47-8906-3a8b4023620a",
      "metadata": {
        "id": "01a4e4ce-0714-4b47-8906-3a8b4023620a"
      },
      "source": [
        "Next up, we need to determine what to do with these 5 features to classify the image as a *face* or *non-face*. To do this, your tutor has found a decision boundary that works reasonably well.\n",
        "\n",
        "In the code cell below, we define a function `classify_manual_haar_features()` which takes the set of computed features and returns the classification label: `Face` or `Not a Face`."
      ]
    },
    {
      "cell_type": "code",
      "execution_count": null,
      "id": "3f4471e5-add9-4632-a623-b852190af51f",
      "metadata": {
        "id": "3f4471e5-add9-4632-a623-b852190af51f"
      },
      "outputs": [],
      "source": [
        "def classify_manual_haar_features(features):\n",
        "    if abs(sum(features)) > 0.1:\n",
        "        return 'Face'\n",
        "    else:\n",
        "        return 'Not a Face'"
      ]
    },
    {
      "cell_type": "markdown",
      "id": "31beb4d0-8eff-4634-8eb0-9a3f7dd8fee7",
      "metadata": {
        "id": "31beb4d0-8eff-4634-8eb0-9a3f7dd8fee7"
      },
      "source": [
        "Now that we have chosen a set of features to use and have specified a function that can take a set of features and perform classification, the remaining steps are to write some code to extract the features from an image and then perform classification on some images!\n",
        "\n",
        "We will do this in 2 stages. First we will write a function to extract a set of features from an image, then we will write some code to bring everything together.\n",
        "\n",
        "**Task**: Create a function `extract_custom_haar_features` that takes an *image*, *feature_coordinates* and *feature_types*. This function should extract the Haar features described by the features coordinates and feature types from the image. Look in the [*`skimage.feature`* documentation](https://scikit-image.org/docs/dev/api/skimage.feature.html) for a function that will let you compute Haar like features.\n",
        "\n",
        "<details>\n",
        "<summary style='cursor:pointer;'><u>Hint</u></summary>\n",
        "\n",
        "Specifically, you should use the *`haar_like_feature()`* function. You will need to first compute the integral image before using this function. The detection window is equal to the image size.\n",
        "</details>"
      ]
    },
    {
      "cell_type": "code",
      "execution_count": null,
      "id": "193df593-7281-407e-912d-9fe22292e9a0",
      "metadata": {
        "id": "193df593-7281-407e-912d-9fe22292e9a0"
      },
      "outputs": [],
      "source": [
        "# TODO: Your function here\n",
        "\n",
        "\n",
        "\n",
        "# TODO: Test your function (See if your function produces the expected features for this input)\n",
        "sample_image = np.ones((5, 5))\n",
        "expected_features = [0, 0, 1, 3, 5]\n",
        "extracted_features = extract_custom_haar_features(sample_image, feature_coords, feature_types)\n",
        "print(expected_features == extracted_features)   # Validate that all of these are 'True'"
      ]
    },
    {
      "cell_type": "code",
      "execution_count": null,
      "id": "f87914a1-8da9-491e-8360-3afb54e1c920",
      "metadata": {
        "jupyter": {
          "source_hidden": true
        },
        "tags": [],
        "id": "f87914a1-8da9-491e-8360-3afb54e1c920",
        "cellView": "form"
      },
      "outputs": [],
      "source": [
        "#@title Task solution\n",
        "\n",
        "def extract_custom_haar_features(image, feature_coords, feature_types):\n",
        "    integral_img = integral_image(image)\n",
        "    features = haar_like_feature(integral_img, 0, 0, integral_img.shape[1], integral_img.shape[0],\n",
        "                                 feature_coord=feature_coords, feature_type=feature_types)\n",
        "    return features"
      ]
    },
    {
      "cell_type": "markdown",
      "id": "7b1f3225-0765-42f6-96f8-5a731d85413b",
      "metadata": {
        "id": "7b1f3225-0765-42f6-96f8-5a731d85413b"
      },
      "source": [
        "Great work! All that's left is to write some code to bring everything together and classify some images in our dataset.\n",
        "\n",
        "**Task**: Write code to classify the first image in `lfw_subset_dataset` by extracting the Haar features described by `feature_coords` and `feature_types`, then display the image along with the classification label as the title. Repeat this for the image at index 100 in `lfw_subset_dataset`."
      ]
    },
    {
      "cell_type": "code",
      "execution_count": null,
      "id": "d893178c-f0c2-43dc-9f8b-e17cc19bb1a4",
      "metadata": {
        "id": "d893178c-f0c2-43dc-9f8b-e17cc19bb1a4"
      },
      "outputs": [],
      "source": [
        "# TODO: Extract the first image in lfw_subset_dataset\n",
        "\n",
        "\n",
        "\n",
        "# TODO: Extract the features of the image\n",
        "\n",
        "\n",
        "\n",
        "# TODO: Classify the image, storing the classification label\n",
        "\n",
        "\n",
        "\n",
        "# TODO: Display the image along with the classification label (Remember, you'll need to multiply the image data by 255)\n",
        "\n",
        "\n",
        "\n",
        "# TODO: Repeat the above steps for the image at index 100\n",
        "\n",
        "\n"
      ]
    },
    {
      "cell_type": "markdown",
      "id": "29e087b7-711e-48d8-aa98-3c0dd76947f3",
      "metadata": {
        "id": "29e087b7-711e-48d8-aa98-3c0dd76947f3"
      },
      "source": [
        "How did it go? If everything was implemented correctly, you should have seen our (poor) classifier based on a subset of (poorly chosen) features actually did pretty well!"
      ]
    },
    {
      "cell_type": "code",
      "execution_count": null,
      "id": "1121e5e3-3ea7-489d-8c3a-ab66e8a6657a",
      "metadata": {
        "jupyter": {
          "source_hidden": true
        },
        "tags": [],
        "id": "1121e5e3-3ea7-489d-8c3a-ab66e8a6657a",
        "cellView": "form"
      },
      "outputs": [],
      "source": [
        "#@title Task solution\n",
        "\n",
        "# TODO: Extract the first image in lfw_subset_dataset\n",
        "image = lfw_subset_dataset[0]\n",
        "\n",
        "\n",
        "# TODO: Extract the features of the image\n",
        "features = extract_custom_haar_features(image, feature_coords, feature_types)\n",
        "\n",
        "\n",
        "# TODO: Classify the image, storing the classification label\n",
        "label = classify_manual_haar_features(features)\n",
        "\n",
        "\n",
        "# TODO: Display the image along with the classification label (Remember, you'll need to multiply the image data by 255)\n",
        "display_image(image * 255, label)\n",
        "\n",
        "\n",
        "# TODO: Repeat the above steps for the image at index 100\n",
        "image = lfw_subset_dataset[100]\n",
        "features = extract_custom_haar_features(image, feature_coords, feature_types)\n",
        "label = classify_manual_haar_features(features)\n",
        "display_image(image * 255, label)"
      ]
    },
    {
      "cell_type": "markdown",
      "id": "b9743b56-0dfc-4590-8dc6-e5a92f13d170",
      "metadata": {
        "id": "b9743b56-0dfc-4590-8dc6-e5a92f13d170"
      },
      "source": [
        "### Evaluation\n",
        "\n",
        "Whilst we achieved perfect classification results on two images, it's important that we perform this evaluation on a larger dataset to see if our features only work well on these two images, or if they generalize well to other images.\n",
        "\n",
        "#### Task\n",
        "\n",
        "**Task**: Write some code below that loops through all images in `lfw_subset_dataset` classifies them using the Haar features described by `feature_coords` and `feature_types` then appends the classification label for each image to the list of `predictions`."
      ]
    },
    {
      "cell_type": "code",
      "execution_count": null,
      "id": "e3b03cf2-400d-446a-adfe-ef646b3b04f6",
      "metadata": {
        "id": "e3b03cf2-400d-446a-adfe-ef646b3b04f6"
      },
      "outputs": [],
      "source": [
        "predictions = []\n",
        "\n",
        "# TODO: Loop through the image dataset and append each classification label to the predictions list\n",
        "\n",
        "\n",
        "\n",
        "# Use this to validate that your list of predictions is populated\n",
        "print(predictions)"
      ]
    },
    {
      "cell_type": "code",
      "execution_count": null,
      "id": "0925ee0b-5ac2-4af1-b5ec-b4235c13f9b9",
      "metadata": {
        "jupyter": {
          "source_hidden": true
        },
        "tags": [],
        "id": "0925ee0b-5ac2-4af1-b5ec-b4235c13f9b9"
      },
      "outputs": [],
      "source": [
        "#@title Task solution\n",
        "\n",
        "predictions = []\n",
        "\n",
        "# TODO: Loop through the image dataset and append each classification label to the predictions list\n",
        "for image in lfw_subset_dataset:\n",
        "    features = extract_custom_haar_features(image, feature_coords, feature_types)\n",
        "    label = classify_manual_haar_features(features)\n",
        "    predictions.append(label)\n",
        "\n",
        "# Use this to validate that your list of predictions is populated\n",
        "print(predictions)"
      ]
    },
    {
      "cell_type": "markdown",
      "source": [
        "#### Calculating accuracy"
      ],
      "metadata": {
        "id": "uw7M6tx1f80E"
      },
      "id": "uw7M6tx1f80E"
    },
    {
      "cell_type": "markdown",
      "id": "c292919b-f036-41aa-bc11-209ca1c65578",
      "metadata": {
        "id": "c292919b-f036-41aa-bc11-209ca1c65578"
      },
      "source": [
        "With a quick glimpse of the printed `predictions`, we can see that our classifier seemed worked reasonably well, but it did misclassify a few examples (The first 100 examples are faces, the last 100 are non-faces).\n",
        "\n",
        "Let's quantify this by computing the accuracy score of this dataset!\n",
        "\n",
        "Using the list of `predictions` you computed in the previous code cell and the given list of `ground_truth` labels, the code below will compute and print out the accuracy score."
      ]
    },
    {
      "cell_type": "code",
      "execution_count": null,
      "id": "e1f6f3a8-5bd8-40c2-b365-0c87fe307595",
      "metadata": {
        "jupyter": {
          "source_hidden": true
        },
        "tags": [],
        "id": "e1f6f3a8-5bd8-40c2-b365-0c87fe307595"
      },
      "outputs": [],
      "source": [
        "ground_truth = ['Face'] * 100 + ['Not a Face'] * 100\n",
        "\n",
        "# TODO: Compute and print the accuracy score given the predictions and ground_truth labels\n",
        "dataset_accuracy = accuracy_score(y_true=ground_truth, y_pred=predictions)\n",
        "print(f'Accuracy: {dataset_accuracy * 100:.2f}%')"
      ]
    },
    {
      "cell_type": "markdown",
      "source": [
        "#### Displaying all results"
      ],
      "metadata": {
        "id": "14d0iooCgEhP"
      },
      "id": "14d0iooCgEhP"
    },
    {
      "cell_type": "markdown",
      "id": "0f71f988-f445-4cc9-bf9f-497bf1d55c00",
      "metadata": {
        "id": "0f71f988-f445-4cc9-bf9f-497bf1d55c00"
      },
      "source": [
        "You should have seen an accuracy score of 84.50%. This is a pretty good result given we are only computing 5 (*poorly chosen*) features, and using a very basic classifier. We would expect to do far better if we performed more-informed feature selection and a more advanced classifier.\n",
        "\n",
        "For your interest, we provide code below to display the image and classification score for every image in the dataset. You are not required to run this code cell, but you may be interested in seeing which images the classifier misclassified. This output of this will consume a lot of vertical space on your screen."
      ]
    },
    {
      "cell_type": "code",
      "execution_count": null,
      "id": "317a7903-029a-4549-a992-351960e3797d",
      "metadata": {
        "id": "317a7903-029a-4549-a992-351960e3797d"
      },
      "outputs": [],
      "source": [
        "for image, ground_truth_label in zip(lfw_subset_dataset, ground_truth):\n",
        "    features = extract_custom_haar_features(image, feature_coords, feature_types)\n",
        "    label = classify_manual_haar_features(features)\n",
        "    title = f'Prediction: {label}. Ground Truth: {ground_truth_label}. Correct: {label == ground_truth_label}'\n",
        "    display_image(image * 255, title)"
      ]
    },
    {
      "cell_type": "markdown",
      "id": "9777719d-6406-47a8-8cc9-310fe239d0f3",
      "metadata": {
        "id": "9777719d-6406-47a8-8cc9-310fe239d0f3"
      },
      "source": [
        "## 1.4 Further Reading\n",
        "\n",
        "This section provides a very brief discussion of other components involved with Haar cascades."
      ]
    },
    {
      "cell_type": "markdown",
      "id": "a241bd5b-7c72-4700-b92f-e8a541359c2c",
      "metadata": {
        "id": "a241bd5b-7c72-4700-b92f-e8a541359c2c"
      },
      "source": [
        "### Normalization\n",
        "\n",
        "We've seen in previous labs that before performing classification on image data there are usually some data preprocessing steps involved.\n",
        "\n",
        "For Haar cascades in particular, data normalization was found to be a very important preprocessing technique. Normalizing data before classification helps to minimize the effect of different lighting conditions amongst images."
      ]
    },
    {
      "cell_type": "markdown",
      "id": "daf9e65c-7d86-4f55-9d30-d37b15570960",
      "metadata": {
        "id": "daf9e65c-7d86-4f55-9d30-d37b15570960"
      },
      "source": [
        "### Feature Selection\n",
        "\n",
        "In our example, we chose 5 features to extract to perform classification. In practice, there are thousands of features you could extract, so how do we choose which ones to use?\n",
        "\n",
        "For Haar cascades, an algorithm based on **Adaboost** is used. This is able to efficiently choose features by training a series of classifiers (given a labelled dataset) that end up only using features that are found to be important in the labelled dataset."
      ]
    },
    {
      "cell_type": "markdown",
      "id": "bff7d96d-8f5d-4460-8782-8ba088752f71",
      "metadata": {
        "id": "bff7d96d-8f5d-4460-8782-8ba088752f71"
      },
      "source": [
        "### Cascading\n",
        "\n",
        "For even greater efficiency in processing, Haar cascades are arranged into a 'cascade of classifiers'. What this means is when features are being extracted from a detection window, at first a few features are extracted and classified. If the classification suggests the object being detected isn't there, then the detection window continues to move across the image, however if the classification suggests an object is present, then a further set of features are extracted and classified. This process is repeated over a certain number of cascades until a final classification is made.\n",
        "\n",
        "The benefit of this approach is greatly saves on the processing time required. Consider the case of face detection. In a given image, faces generally make up less of the image than other background objects, hence it's expected that a large number detection windows should be considered as non faces. Being able to exclude these detection windows without extracting the complete set of features greatly speeds up processing."
      ]
    },
    {
      "cell_type": "markdown",
      "id": "28f888e9-9d96-414f-8921-20c342d76635",
      "metadata": {
        "id": "28f888e9-9d96-414f-8921-20c342d76635"
      },
      "source": [
        "# 2. Haar Cascades - OpenCV\n",
        "\n",
        "Now we know the basics of Haar cascades and have attempted to implement them ourselves, let's move on to using an existing Haar cascades implementation that has been properly trained to detect specific objects in images (in this case face detection).\n",
        "\n",
        "To do this, we will be using *OpenCV*."
      ]
    },
    {
      "cell_type": "markdown",
      "id": "2d9315df-66e7-4401-8e90-b3edbaec00bc",
      "metadata": {
        "id": "2d9315df-66e7-4401-8e90-b3edbaec00bc"
      },
      "source": [
        "## 2.1 Loading Sample Data\n",
        "\n",
        "Let's first start by loading a sample image that contains multiple faces so we can evaluate how well Haar cascades can detect the faces.\n",
        "\n",
        "**Task**: Given the following URL, load the image data into a *numpy* array and display it. We have provided the *`load_image_from_url()`* to help with this."
      ]
    },
    {
      "cell_type": "code",
      "execution_count": null,
      "id": "22360106-31d7-48b1-85b8-9602df85ff4a",
      "metadata": {
        "id": "22360106-31d7-48b1-85b8-9602df85ff4a"
      },
      "outputs": [],
      "source": [
        "url = 'https://images.unsplash.com/photo-1531844251246-9a1bfaae09fc?ixid=MnwxMjA3fDB8MHxwaG90by1wYWdlfHx8fGVufDB8fHx8&ixlib=rb-1.2.1&auto=format&fit=crop&w=1390&q=80'\n",
        "\n",
        "def load_image_from_url(url):\n",
        "    \"\"\"Given a URL, loads the image into a numpy\n",
        "\n",
        "    Image loaded in RGB, with HWC channel ordering\n",
        "\n",
        "    Args:\n",
        "        url (str): The URL of the image to load\n",
        "\n",
        "    Returns:\n",
        "        (np.ndarray): The RGB, HWC ordered image\n",
        "    \"\"\"\n",
        "    with urlopen(url) as ur:\n",
        "        image = np.asarray(bytearray(ur.read()), dtype='uint8')\n",
        "    image = cv2.imdecode(image, cv2.IMREAD_COLOR)\n",
        "    image = cv2.cvtColor(image, cv2.COLOR_BGR2RGB)\n",
        "    return image\n",
        "\n",
        "\n",
        "# TODO: Load the image from the given URL\n",
        "\n",
        "\n",
        "\n",
        "# TODO: Display the image\n",
        "\n",
        "\n"
      ]
    },
    {
      "cell_type": "code",
      "execution_count": null,
      "id": "45ee76b3-b2e7-43f2-9688-7bac11b1cac1",
      "metadata": {
        "jupyter": {
          "source_hidden": true
        },
        "tags": [],
        "id": "45ee76b3-b2e7-43f2-9688-7bac11b1cac1",
        "cellView": "form"
      },
      "outputs": [],
      "source": [
        "#@title Task solution\n",
        "\n",
        "url = 'https://images.unsplash.com/photo-1531844251246-9a1bfaae09fc?ixid=MnwxMjA3fDB8MHxwaG90by1wYWdlfHx8fGVufDB8fHx8&ixlib=rb-1.2.1&auto=format&fit=crop&w=1390&q=80'\n",
        "\n",
        "\n",
        "# TODO: Load the image from the given URL\n",
        "image = load_image_from_url(url)\n",
        "\n",
        "\n",
        "# TODO: Display the image\n",
        "display_image(image)"
      ]
    },
    {
      "cell_type": "markdown",
      "id": "362184d8-e55b-45c9-800d-6c70d383ac7b",
      "metadata": {
        "id": "362184d8-e55b-45c9-800d-6c70d383ac7b"
      },
      "source": [
        "## 2.2 Creating a Classifier\n",
        "\n",
        "Next we will create our Haar cascade classifier.\n",
        "\n",
        "We are going to be using a pre-trained Haar cascade classifier that has been specifically trained to detect faces in images.\n",
        "\n",
        "The *OpenCV* implementation has a whole collection of different classifiers that have been trained. You can see a [list of classifiers](https://github.com/opencv/opencv/tree/master/data/haarcascades) available on their Github page. These pre-trained classifiers are stored in `.xml` files, where those files describe the filters used to detect faces within a detection window.\n",
        "\n",
        "These `.xml` files are automatically downloaded when you install *OpenCV* to your machine.\n",
        "\n",
        "**Task:** In the code cell below, create a Haar cascade classifier that we can use to detect faces. You will need to refer to the [CascadeClassifer documentation](https://docs.opencv.org/4.5.2/d1/de5/classcv_1_1CascadeClassifier.html#a6d01a748b103f0cd6bd2a20037ae8731) to see how it's done. Use the classifier described in the *haarcascade_frontalface_default.xml* file.\n",
        "\n",
        "**NOTE**: To ensure we can find the path to the XML file, you should combine the XML filename with the path given to us by `cv2.data.haarcascades`"
      ]
    },
    {
      "cell_type": "code",
      "execution_count": null,
      "id": "bf50ed2a-da6c-4593-b2f5-f485bc0fabf9",
      "metadata": {
        "id": "bf50ed2a-da6c-4593-b2f5-f485bc0fabf9"
      },
      "outputs": [],
      "source": [
        "# TODO: Setup the filepath to the XML classifier file\n",
        "# xml_filepath = cv2.data.haarcascades +\n",
        "\n",
        "\n",
        "# TODO: Create the Haar cascade classifier\n",
        "\n",
        "\n"
      ]
    },
    {
      "cell_type": "code",
      "execution_count": null,
      "id": "c5a02e9a-7a90-4fe6-bd6f-ecbde3711057",
      "metadata": {
        "jupyter": {
          "source_hidden": true
        },
        "tags": [],
        "id": "c5a02e9a-7a90-4fe6-bd6f-ecbde3711057",
        "cellView": "form"
      },
      "outputs": [],
      "source": [
        "#@title Task solution\n",
        "\n",
        "# TODO: Setup the filepath to the XML classifier file\n",
        "xml_filepath = cv2.data.haarcascades + 'haarcascade_frontalface_default.xml'\n",
        "\n",
        "\n",
        "# TODO: Create the Haar cascade classifier\n",
        "haar_cascade_classifier = cv2.CascadeClassifier(xml_filepath)"
      ]
    },
    {
      "cell_type": "markdown",
      "id": "7dce7a3b-68fa-460b-819e-88ca1ba6535e",
      "metadata": {
        "id": "7dce7a3b-68fa-460b-819e-88ca1ba6535e"
      },
      "source": [
        "## 2.3 Preprocessing\n",
        "\n",
        "To perform classification with the Haar cascade classifier, we need to first apply some preprocessing to our image. In this case, we only need to convert our image to grayscale.\n",
        "\n",
        "**Task**: Write a function `preprocess_image_haar` that takes an *image* as an argument (assumed to be in RGB), converts it to grayscale, then returns the grayscale image."
      ]
    },
    {
      "cell_type": "code",
      "execution_count": null,
      "id": "422162a0-cad2-497f-bd76-bfaa4eceeb98",
      "metadata": {
        "id": "422162a0-cad2-497f-bd76-bfaa4eceeb98"
      },
      "outputs": [],
      "source": [
        "# TODO: Your function here\n",
        "\n",
        "\n",
        "# Use this to test your function (You should see a gray image)\n",
        "gray_image = preprocess_image_haar(image)\n",
        "display_image(gray_image)"
      ]
    },
    {
      "cell_type": "code",
      "execution_count": null,
      "id": "c2981e3c-0e8b-42a8-9acf-829f99d84d7e",
      "metadata": {
        "jupyter": {
          "source_hidden": true
        },
        "tags": [],
        "id": "c2981e3c-0e8b-42a8-9acf-829f99d84d7e",
        "cellView": "form"
      },
      "outputs": [],
      "source": [
        "#@title Task solution\n",
        "\n",
        "def preprocess_image_haar(image):\n",
        "    return cv2.cvtColor(image, cv2.COLOR_RGB2GRAY)"
      ]
    },
    {
      "cell_type": "markdown",
      "id": "3d048588-1949-496a-8e31-76ef06df9e83",
      "metadata": {
        "id": "3d048588-1949-496a-8e31-76ef06df9e83"
      },
      "source": [
        "## 2.4 Classification\n",
        "\n",
        "Finally, let's perform classification and look at the results!\n",
        "\n",
        "**Task**: In the code cell below, preprocess the above image, detect faces in the image using your `haar_cascade_classifier`, then print out the detection results. Store the detections in the variable: `detections_tlwh`. Refer to the documentation for a function you can use to detect objects in the image.\n",
        "\n",
        "<details>\n",
        "<summary style='cursor:pointer;'><u>Hint</u></summary>\n",
        "\n",
        "Specifically, you should use the *`detectMultiScale()`* function.\n",
        "</details>"
      ]
    },
    {
      "cell_type": "code",
      "execution_count": null,
      "id": "64ff38bc-1ce3-48a7-997c-a03e82f13d50",
      "metadata": {
        "id": "64ff38bc-1ce3-48a7-997c-a03e82f13d50"
      },
      "outputs": [],
      "source": [
        "# TODO: Preprocess the above image\n",
        "\n",
        "\n",
        "\n",
        "# TODO: Detect faces in the image using your Haar cascade classifier\n",
        "\n",
        "\n",
        "\n",
        "# TODO: Print out the detections\n",
        "\n",
        "\n"
      ]
    },
    {
      "cell_type": "markdown",
      "id": "785bb038-3655-4b70-bbf3-2eab815c84c5",
      "metadata": {
        "id": "785bb038-3655-4b70-bbf3-2eab815c84c5"
      },
      "source": [
        "<details>\n",
        "<summary style='cursor:pointer;'><u>Expand for discussion</u></summary>\n",
        "\n",
        "When looking at the documentation, you may have seen there were a number of arguments we can specify with the *`detectMultiScale()`* function. A brief description of the two most important ones are:\n",
        "  \n",
        "* `scaleFactor`: This specifies how much the image size is reduced by at each image scale. A larger scale factor means you are more likely to miss face detections, but the detector will run faster. A smaller scale factor means you are more likely to detect more faces, but at the expense of a slower detector.\n",
        "* `minNeighbors`: This specifies for each detection how many neighbouring detections it should have to be retained. The idea here is that a reliably detected face will have many neighbours, whereas detections with few neighbours are likely to be false positives.\n",
        "</details>\n",
        "\n"
      ]
    },
    {
      "cell_type": "markdown",
      "id": "43f5a80e-9b75-4b46-ab6d-3b7ced73c912",
      "metadata": {
        "id": "43f5a80e-9b75-4b46-ab6d-3b7ced73c912"
      },
      "source": [
        "<details>\n",
        "<summary style='cursor:pointer;'><u>What does the output represent?</u></summary>\n",
        "\n",
        "As you've seen in the last lab, when performing object detection, we attempt to find the bounding box coordinates around objects in the image.\n",
        "    \n",
        "That means the output represents a list of detections in our image. The number of detections corresponds to the number of faces that were detected.\n",
        "</details>"
      ]
    },
    {
      "cell_type": "code",
      "execution_count": null,
      "id": "7ec5f12f-6079-4cb3-b4c0-08ebd58ad69f",
      "metadata": {
        "jupyter": {
          "source_hidden": true
        },
        "tags": [],
        "id": "7ec5f12f-6079-4cb3-b4c0-08ebd58ad69f",
        "cellView": "form"
      },
      "outputs": [],
      "source": [
        "#@title Task solution\n",
        "\n",
        "# TODO: Preprocess the above image\n",
        "gray_image = preprocess_image_haar(image)\n",
        "\n",
        "\n",
        "# TODO: Detect faces in the image using your Haar cascade classifier\n",
        "detections_tlwh = haar_cascade_classifier.detectMultiScale(gray_image)\n",
        "\n",
        "\n",
        "# TODO: Print out the detections\n",
        "print(detections_tlwh)"
      ]
    },
    {
      "cell_type": "markdown",
      "id": "75c4179e-7c7d-451d-8026-9784b104fa8d",
      "metadata": {
        "id": "75c4179e-7c7d-451d-8026-9784b104fa8d"
      },
      "source": [
        "#### Comprehension Question\n",
        "\n",
        "There are 4 numbers associated to each detection. By looking at these numbers, what does each one represent?\n",
        "\n",
        "\n",
        "<details>\n",
        "<summary style='cursor:pointer;'><u>Expand for discussion</u></summary>\n",
        "\n",
        "The first two numbers represent the *top-left coordinates* of the rectangle bounding the detected object relative to the image. The third number represents the *width* of the bounding rectangle, and the fourth number represents the *height* of the bounding rectangle.\n",
        "</details>"
      ]
    },
    {
      "cell_type": "markdown",
      "id": "72a10b40-3888-448f-83c2-53e7b4a8cd71",
      "metadata": {
        "id": "72a10b40-3888-448f-83c2-53e7b4a8cd71"
      },
      "source": [
        "Given we have no ground truth detection annotations, it's very important for us to visualize how well the face detector worked. To do this, we can overlay the detected bounding rectangles over our original image and then display the overlaid image.\n",
        "\n",
        "Bounding boxes are often represented in the [tlx, tly, brx, bry] form representing the top-left and bottom-right corners of the box. For consistency before visualizing these detections, we will transform them into the [tlx, tly, brx, bry] form.\n",
        "\n",
        "In the code cell below we transform the coordinates to the [tlx, tly, brx, bry] form. If no detections are made, *`detectMultiScale()`* returns an empty tuple, hence we only transform the coordinates if a detection was made."
      ]
    },
    {
      "cell_type": "code",
      "execution_count": null,
      "id": "2845acee-7f5d-4cb0-a984-c8ced6107978",
      "metadata": {
        "id": "2845acee-7f5d-4cb0-a984-c8ced6107978"
      },
      "outputs": [],
      "source": [
        "# Transform coordinates from [tlx, tly, bw, bh] to [tlx, tly, brx, bry]\n",
        "detections = detections_tlwh.copy()\n",
        "if isinstance(detections, np.ndarray):\n",
        "    detections[:, 2] = detections[:, 0] + detections[:, 2]\n",
        "    detections[:, 3] = detections[:, 1] + detections[:, 3]\n",
        "\n",
        "print(detections)"
      ]
    },
    {
      "cell_type": "markdown",
      "id": "caf1ce9c-52b3-4d9f-9bbf-3b8bbad173aa",
      "metadata": {
        "id": "caf1ce9c-52b3-4d9f-9bbf-3b8bbad173aa"
      },
      "source": [
        "In the code cell below, we define a function that can take a list of bounding box detections (in tlx, tly, brx, bry form) and overlay them on an image."
      ]
    },
    {
      "cell_type": "code",
      "execution_count": null,
      "id": "ec57d0b9-813d-40e0-b247-77558452aef8",
      "metadata": {
        "id": "ec57d0b9-813d-40e0-b247-77558452aef8"
      },
      "outputs": [],
      "source": [
        "def draw_rectangles_tlbr(image, rectangles, colour=(255, 0, 0), thickness=1):\n",
        "    \"\"\"Draws a list of rectangles in [tlx, tly, brx, bry] form onto an image\n",
        "\n",
        "    Args:\n",
        "        image (np.ndarray): The image to overlay rectangles on\n",
        "        rectangles (list of list/np.ndarray): A list of rectangles to overlay on the image.\n",
        "            rectangles should be in the form: [tlx, tly, brx, bry].\n",
        "        colour (3-tuple): The RGB colour to draw boxes in\n",
        "        thickness (int): The thickness of the rectangles\n",
        "\n",
        "    Returns:\n",
        "        (np.ndarray): A copy of the image with all rectangles overlaid\n",
        "    \"\"\"\n",
        "    # Copy the image to not mutate the original image\n",
        "    image = image.copy()\n",
        "\n",
        "    # Draw rectangles\n",
        "    for rectangle in rectangles:\n",
        "        tlx, tly, brx, bry = rectangle.astype(np.int32)\n",
        "        cv2.rectangle(\n",
        "            image, (tlx, tly), (brx, bry),\n",
        "            color=colour, thickness=thickness)\n",
        "\n",
        "    return image"
      ]
    },
    {
      "cell_type": "markdown",
      "id": "9efadc8b-707a-4771-89fd-3d8f41efe4f0",
      "metadata": {
        "id": "9efadc8b-707a-4771-89fd-3d8f41efe4f0"
      },
      "source": [
        "**Task**: In the code cell below overlay the box detections onto the original image and display the overlaid image. You may want to change the default colour/thickness."
      ]
    },
    {
      "cell_type": "code",
      "execution_count": null,
      "id": "423368d2-57fc-41f2-a4cf-2a105472d903",
      "metadata": {
        "id": "423368d2-57fc-41f2-a4cf-2a105472d903"
      },
      "outputs": [],
      "source": [
        "# TODO: Overlay the detections onto the original image\n",
        "\n",
        "\n",
        "\n",
        "# TODO: Display the image with detections overlaid\n",
        "\n",
        "\n"
      ]
    },
    {
      "cell_type": "code",
      "execution_count": null,
      "id": "aaf9d85c-c336-4661-94a1-299ba9749ddb",
      "metadata": {
        "jupyter": {
          "source_hidden": true
        },
        "tags": [],
        "id": "aaf9d85c-c336-4661-94a1-299ba9749ddb",
        "cellView": "form"
      },
      "outputs": [],
      "source": [
        "#@title Task solution\n",
        "\n",
        "# TODO: Overlay the detections onto the original image\n",
        "overlaid_image = draw_rectangles_tlbr(image, detections, thickness=3)\n",
        "\n",
        "\n",
        "# TODO: Display the image with detections overlaid\n",
        "display_image(overlaid_image)"
      ]
    },
    {
      "cell_type": "markdown",
      "id": "7613e069-c88b-49b5-ae75-85a5c62b6083",
      "metadata": {
        "id": "7613e069-c88b-49b5-ae75-85a5c62b6083"
      },
      "source": [
        "How did it perform?\n",
        "\n",
        "If you left the default arguments to *`detectMultiScale()`*, then you'll likely see some false positives as part of all detected faces, and potentially even some faces detected twice.\n",
        "\n",
        "In the discussion above, we saw that there were a couple of arguments we could specify to *`detectMultiScale()`* that impact the number of faces detected. We should perform some experimentation to see if we can find a good set of parameters that can maximize the faces detected, whilst minimizing false positives.  \n",
        "\n",
        "To make this experimentation a bit easier, let's first write a function that can return face detections in an image, that allows us to configure the arguments to *`detectMultiScale()`*.\n",
        "\n",
        "**Task**: Write a function named `detect_faces_haar` that takes an *image*, a *Haar cascade classifier* object, a *scale factor* and a number of *min neighbours*, and returns all detected faces in [tlx, tly, brx, bry] form. This function should perform any necessary preprocessing before performing detection."
      ]
    },
    {
      "cell_type": "code",
      "execution_count": null,
      "id": "8e57f790-f31e-4740-96ef-09d21a74011b",
      "metadata": {
        "id": "8e57f790-f31e-4740-96ef-09d21a74011b"
      },
      "outputs": [],
      "source": [
        "# TODO: Your solution here\n",
        "\n",
        "\n"
      ]
    },
    {
      "cell_type": "code",
      "execution_count": null,
      "id": "8b81b63a-2765-4840-aab3-ab290c4b09ee",
      "metadata": {
        "jupyter": {
          "source_hidden": true
        },
        "tags": [],
        "id": "8b81b63a-2765-4840-aab3-ab290c4b09ee",
        "cellView": "form"
      },
      "outputs": [],
      "source": [
        "#@title Task solution\n",
        "\n",
        "def detect_faces_haar(image, haar_cascade_classifier, scale_factor, min_neighbours):\n",
        "    gray_image = preprocess_image_haar(image)\n",
        "    detections = haar_cascade_classifier.detectMultiScale(gray_image, scaleFactor=scale_factor, minNeighbors=min_neighbours)\n",
        "    if isinstance(detections, np.ndarray):\n",
        "        detections[:, 2] = detections[:, 0] + detections[:, 2]\n",
        "        detections[:, 3] = detections[:, 1] + detections[:, 3]\n",
        "    return detections"
      ]
    },
    {
      "cell_type": "markdown",
      "id": "ab2d2c35-f439-44b1-9137-9a35126bb3d8",
      "metadata": {
        "id": "ab2d2c35-f439-44b1-9137-9a35126bb3d8"
      },
      "source": [
        "**Task**: Use the function you wrote to attempt to find a set of *scale_factor* and *min_neighbours* parameters that have a good trade-off between maximizing faces detected whilst minimizing false positives.\n",
        "\n",
        "These were the best results your tutor found without any false positives:"
      ]
    },
    {
      "cell_type": "markdown",
      "source": [
        "![Haar Cascade Best Detections.jpg](data:image/jpeg;base64,/9j/4AAQSkZJRgABAQEBLAEsAAD/4TVcRXhpZgAASUkqAAgAAAAHABIBAwABAAAAAQAAABoBBQABAAAAYgAAABsBBQABAAAAagAAACgBAwABAAAAAgAAADEBAgANAAAAcgAAADIBAgAUAAAAgAAAAGmHBAABAAAAlAAAAKYAAAAsAQAAAQAAACwBAAABAAAAR0lNUCAyLjEwLjMwAAAyMDIzOjA3OjIwIDE0OjQwOjI2AAEAAaADAAEAAAABAAAAAAAAAAkA/gAEAAEAAAABAAAAAAEEAAEAAAAAAQAAAQEEAAEAAACiAAAAAgEDAAMAAAAYAQAAAwEDAAEAAAAGAAAABgEDAAEAAAAGAAAAFQEDAAEAAAADAAAAAQIEAAEAAAAeAQAAAgIEAAEAAAA1NAAAAAAAAAgACAAIAP/Y/+AAEEpGSUYAAQEAAAEAAQAA/9sAQwAIBgYHBgUIBwcHCQkICgwUDQwLCwwZEhMPFB0aHx4dGhwcICQuJyAiLCMcHCg3KSwwMTQ0NB8nOT04MjwuMzQy/9sAQwEJCQkMCwwYDQ0YMiEcITIyMjIyMjIyMjIyMjIyMjIyMjIyMjIyMjIyMjIyMjIyMjIyMjIyMjIyMjIyMjIyMjIy/8AAEQgAogEAAwEiAAIRAQMRAf/EAB8AAAEFAQEBAQEBAAAAAAAAAAABAgMEBQYHCAkKC//EALUQAAIBAwMCBAMFBQQEAAABfQECAwAEEQUSITFBBhNRYQcicRQygZGhCCNCscEVUtHwJDNicoIJChYXGBkaJSYnKCkqNDU2Nzg5OkNERUZHSElKU1RVVldYWVpjZGVmZ2hpanN0dXZ3eHl6g4SFhoeIiYqSk5SVlpeYmZqio6Slpqeoqaqys7S1tre4ubrCw8TFxsfIycrS09TV1tfY2drh4uPk5ebn6Onq8fLz9PX29/j5+v/EAB8BAAMBAQEBAQEBAQEAAAAAAAABAgMEBQYHCAkKC//EALURAAIBAgQEAwQHBQQEAAECdwABAgMRBAUhMQYSQVEHYXETIjKBCBRCkaGxwQkjM1LwFWJy0QoWJDThJfEXGBkaJicoKSo1Njc4OTpDREVGR0hJSlNUVVZXWFlaY2RlZmdoaWpzdHV2d3h5eoKDhIWGh4iJipKTlJWWl5iZmqKjpKWmp6ipqrKztLW2t7i5usLDxMXGx8jJytLT1NXW19jZ2uLj5OXm5+jp6vLz9PX29/j5+v/aAAwDAQACEQMRAD8A4K0u7y1idLeRgJVKSBcr8uR1Pet3R7+7X7AY7fzGS7VYnD4PG7g478k1gabBFPKWe5VZDhkRiFVQOuSePStSTVJDp9vpkZmt288OrJlRyMZDfj19hXPG6dx2L2tX92mryPOQ7uxdY423p0GfYHjoeeasaRNNe2sLXTNCxl3RPgZGTkdKytXkSAWcbRbZoV+V1/jTHp65Ofxp8F+kT2BnLDcmF8wELgnv+VRP4tCklyXOp0Ozmh8WtZ2t88OYllMm7oD25wT1/WtL4hx3F3qWgWInjuJZGLIyjGSSOvJ9KzdK1gW7y3UgiWZYcSM67gAWGCDj24+tZ+vahJ/bmnyXTQkKxl37sbQBkAY6fTHJxWqlFw5V1Jinz3MTWdO1RrrypbRnEbsSduxVYd8noPxxUdjCYbmRtQuLNIpCQ2yXewJx93aDg1Z1VrA6zIjzC96mM8sCOME4PXg+lNuPst3Ao8lBO4XdJyxH0zWTaTtYqzsX9Mi0u5vPM/tOdVdcZMYJUD059q3pvDWmXNs9zb38zLG25I2i+UNjABOe/wBD1rio9Iuobx2t7q2maNOUSU5zkDjI9TTjcasfLmmVoYj8voPxHent0Jtc7zwhZpeajFaOyooJJ8r5c4JJ45HP+cV64FAUAAADgCvEdLJ07y57xJYZH2pGrKy5LHAZgByP88V6fpephoppUF7duCV3FeOOcDAGOtdNF2jZmclqbvlgfdJX6UmXUcgN/u8VKOQD60YrYixFvUnGcH0PFOzSlQwwQCPQ0wx9NrEY7dRTAdSUnzg8gEeo6/lRvHQ8H0IxQByvjG+EQghBYbD5pI4zg9AfzrL8LXjx3kRlkLxyNhQeGycgH3FUPEsz3WpyQsyuvmANglSpx0HtkY/Gqug3sdlqDrOqrL9oEbPL96PBzgcVhzrnKtoei6npNldq008MjsAMiNiCfwHevJ/FDQs7RQWYtYYflcOpZtueevOO+K9f+2x3EdwqLuCjCZbAkyO348V5J4qM8dzcnUUhS5PzEFx09iPwFGIuo6Dp7nH6rfRxxKkUYEZACqq/n+dUr2eF7WSSJ1kZMDGcnGMZP5inawQ8cXkFgzffD4yoxk9vfFYjO1tC0K7CN33h15Hf1FcqgbJlF3l8zJZmOAARnI+laWh3k8GqxMiGSVjtG4nIPrVNU/elQXWQKcKBuyffpV/QVgkupEmVtyqGDocbfqRWj2EdPcxQ/ao/tVuXh3D/AFb4IPt7Z/nWdqN0sixRxWXllMjYp3H2Oafd6pOLtBaRySkfKd5JYgdDj8ac0moXGxyME5xGi4bbkdqw6DSF0iIW8qTz3DW/zBdpTDOfT/d5wfWrurXcd8s1w8EJjPyLLHlWRvTB9ayr9BHYtvWbzY2G1mbKt+AHH51oy3jX9rDLBdKjpb+U8Jj271GDgkE5xk46dDWkdtw+0hmgWzy6rbi3kxOGCIQTyw6HH1xxXpulaPdf2vKl+TcmNP3ZRcAZxncSSPwry/QZW/tFf3hjbG5nQDIxznP+NekWUtzpDTJ9rnknmiWQsAGIGMj69efoa0oW6lYr4tDgLadrpwyJGUA2SKo4z646Y6cCnX6NcPBIwYQMyxlQuDwePXpj8az7PT5ZGeaO4k8oiPzMtuYAY68c4OOlbVoxuNQs0lYCOWZItwG4BuGzxxkZrGzuIzddjUSxEjKKrDzIoyEddvGM5GeRnHrTYUjNnA9w0bFfljDfwnJGSD26Vt65Pp0c0LLNFI8Dt88S7S6gALkZxj9az5nF1EtxYMsN3Gudgb5WPfGR1pzauC+EfpW+TW5YGv7fyVTcTLnacFc8dcc/p3rG1PVG/wCEhMvkr+4cqFDcZKgd85xn9K1NOvEubj7RcWB8xMqfUnGCCD2/xqneRO2rTXaW8UcXmFuPu44//V+FPmQR63FnvbWJ4ibfa8m4IQeFORkE5z3zg+1UJb5yNo5cnvyCMenoahuxFJLvJG1yy5RepHQ1PAqzRoI2bcnIbGMj0z2pNLcHsTWWMSTRlN8QEmFbbu5AwMfXP4V1EMt1xa30AkUQs6+YAedm5eelc5Y3q2l9cOvEjxhJDsyTkdMsM5rT0q2jnkkmtpZEDBl3M/ThQR+VNNE2PXNVtILLTdDSDyWuRPCoLR7mfg+n411yoB2TPsMV5HcXF6ZLFEvZW+yyLKu8dOCOPz4rpJfEsuoWkVm6eU0jKgmB5OOrdPxrrjUTMWrHc7R3DfgaMJ3LD6k1W04/aLCGQtG5K4LRtkE1a2gdVrQBu1fU/wDfRpCqDqx/76NO2xt2FBiU9qBWKGp3ItLVXjfDNIqgl+Bzznn0qaa6tIQPNnC7gSAXPOOtYHi5YvKiDlsIclF4J7g/mMU3UJI5fDMPmxI8iIv3R2zgj1B6ZobEcX4gMFxqJvLX5YoWIkUjc2Dg5znPXvj2zWPol75moXd06JL5LbiGhb5X46546epoN5bJfSutyzIWICYAwceo9uajge3ZJbmOB4RI+92yQZOMDPfHP864XP3rmyWljtTfQ3mnQNgrLFJud/OA5PIwv5V55q0c8uqSSSJJKsZZmQDJC9CSD2ya7bQIYGEH2q5LZl2gZAGDxnJOSe3StvxD4dZmubyG1s1uF3PFJj5yAOmOM9TWzi6kU2Qnys8G1Qus2xgqxxk8Ieq5z1rNk2XFw3ljaiglQzBc/wD166HUI5DqcgKiQKhJ89fvDvz1/Wsm2SG9kkLRrFGGAkiSQjA9RuycfjWEdjYyklkt9VhYRsO7IMjIP07YrQhj8uWa4hDjcGX5QMEEHIx9KmurH7L4njit5/MJICtMhAIZeOmfWtKGEWuptA1vFJlsAoQ2O35/Wqb6oTLWmxm3Mt2uVZoh5MjZAXjoQDg9utJetcXN8lwspD7QrHG0+9bpUq1tJHIEWBArRypgkY6k4H6+gqleQpFLCCAA/JHJxnJ/xrCTszalBTIo7KW90yeGK4G4Rj5pCflXPP8AP+dWNDjltNA1GCzgguw+VluSRujA6gZ5xz2/Crlw866FbLB9kW3DMZXB+bOclSM88YOPeqEeqWwgngt3OBEEAA24Bxyex6/rWifLsZ2975lXQYzDrsbFgIw43AuQOGxzzXuWlaVFC8l2zJO8h3RyAfdU9h/jXhejB01uxaM7JAQoMmMA9R29cda9mt4L2HxBEk1/OwVQ0uFADkgAA8dM+ntW+Feg8Z8SPF9IsXu5njKu0boQEhIVgQBz06cj61Jphe31WztE/eSNdRNG28kZ2jjGeD0Bqfw3EYrq5u/tssbDGwKBjnggnn17c0wRbNWt57RXBgnVuM8EBeD0x05rJNIlFnxvaCDxRHKSsckqgzR4yM9OOnXHXrWHPfLHJHEQyIHKlN3qeoIHpXQ+K2uNU1K1aOJbiUhkQbvXpk/3vrVC50K/t4rVtW0xbSNH4ZJQ4kPXnjI71M3Fts6KeHqSgrI0YpfOto403byxkIVSSRyMj+v+TXO273E91MZ/lijbYo2dRxwR16fWtSC6drmR49/ksu0Anpxwfbp2qtCPtNvM0ayM67QgDbs5HJ6n/P1qWYrRFOe1Vpt4dQWyQPQ1V099rRskqOCMYYc1vjw5qN3AJrG1e4iQMjMmck8dTWTFYy2bSSsI8xE4GMEHI4Pp3/rQmrG06FSMbyi9C3/o8175crRiV1ALseQeo47VqWoMMomjJ8qMHp0bpxyevSqVq2izmRtTdLeVRlAsJkJ9yQRjp71fsJ4LqJUgYRxlsqBzu4/Ok9DN0akVzNaf5kiand6ldRTum0I4QIo+6q7hkge4H51u3V1qCWVuJYWMMXMLDIVg/fPfp6/1rB0+NzfywQxwxzvPI0kkj4VR1yfbmtXUrq7svKhvpLe4iG7ZLbudq+2D359e5q+dK5SwtSUeZWtvuuh1/hvWJbXUHgWf/RG+6rjgZ549Dya9AtpPtNpHcIrBXXdhhgivENLlaaRF3eXHu3hivLN3/XFez6Bbm301MXUs8bDKGUAECuinNtHLYsTMsSbpBxkD8zikwgG4PgeueKxtSlh1qeSJ7xbbTbT/AF8ucFmPQAngfX39+MPxXfWMi6fBax2t5p6qWKsxdT24HRiPc9/eq9p9xfs76LcpeKtSmnv2tHgYvAdyMvRwQPz9adYa2kGjz6dMh8tlIDLjOTnP9K5y8uXjKOiBJEbEaxktGp7cN05/KmySXctotxe7rbc6gymPYkvU5APQ8VjKraTY40W9FuZFsDf6s1g8R8hslgE25wCTkt/nNVtftodP1GK1tklZFhXyYQwwckjt1+ma2YvF+nadpFwXhmSaQ5MrovIHAOTkD1xyeKyz44tr24tgfJlsYkEznaquJApU4xhgMkHnH6VHLzQck9jro0kqip1I73/Ibaa/e200dvewGHBBAwVZeeuCfUCu31Dxbby6aRPMz3ixgRbMhcHHJPcGuL8Qy6dqCW1/HfRzMmU8uEySMQccAEf7I79zVfSr+11O6tLKS1mgcSqC7kIWQA/LknjJx/jUU6so3V7m9fAc3K4wcdG3p2v5LsZmp3ou5ZbmBJbYNjCAHOPY+nNYCu4J+yl/NxjajFj68V6lrekWRFhFZWYtfMmWNyk3m4BByMEnkHisrWvD1pb2izWc1y5jKyOtzFjA5AKnAwcj8qXNytk/UeaMWpr3u9/TomecNKUlhkZzkvk/LtIIPP0ro7O1Rw0yKqEpyDnA/H1qkFeSZ5Rpz35jl3NCQQD05YrzjntWlALuOeSSfR/ssJciOMbijEc4XPPp1qpbHFKL3NXaHskisVTMIDAlj8znHueOP0qTXTJ5NuGCbwMlsDjiqi6vb3aRQW8ccMkQzdOuSHJPB9u/T1o1HUYLsRxQOXZeuY2x+JNZzep2YalKUbxTZoPa20/h5I4cNcvIWeJhkZ6BlJ79M1kTaatki/PIh2gBYwAOufmIxn8R3q5ZXbxW0kKSr5rliB9cZP6Cs2a5T7UbfyZysUnktJu2gttyuR3P+NVzX2OWUHGo097j9JJTWIJ43jBVy+w8MSM49sfrxXYar4g1K68SI8dtvl8tY/K7McnpnjHrXDRKp1hPutjIPfB/P0Ndx4bkij1CMPc+aVLYkI2sCe3vgj+dXSl0Hilrc4V7aazJEXK4BZkHf6f56e1W9PWLyZMrLJKgyCqnj64/CpklhkcxF34xn5gN2T7/ANPWruiaWsurEm7EdsilpxCRuwB0/wAjikk3oZaIYl0jzoZWnGOXEbbSOOxHI/Crcs1s8apNcbywxGI7t5MY+b5gT1yf06V31pounPYs9lZRxmQEbwNzn1yetcxNoOn+HL+KWbKh0cow4KMSBkZ78mlVpTgr30Z6eBq0p8sZJ3je3nu+xhxPbxxSm32syBt0bDy3wMnj/Jqnpk9o+mXc9uZN6yqHErB9owQMY+lW762S+1iK5tpG3viMg8nOeMnv6njvXQ6aujaZMLVLSASvyXZMlmHfnp+FXQpuqmceNjCg48t9Vez9X6FfTL6KPSgtvI4KB/MIujEeWJ3AA4+hrnzp8XiDWplsipVwz+ZKSMFuTnpnnPaug1zRo9TvYbhirKjDhhnA9AaoNZroN0k9pCJ7ZBu3SqSYScYJxwV4PH04qalCdNJt6I7aOJo4hzUY3clt812sZcvl+G5ZpNUt4GRiMGNQ5wMnIyfuke/UVWsklvLQ38UDxxO42uAUQb37ccdf0p/jqG+1qwhGnWElxbRAHzIocDnJIUAZ4/XdWffx63o3hrSbC5vJZhfR7obBWbCKMHDD15B9uaUaanFu5VSv7OpCLiktG99LXS3fY7HVo4rRba7soBCqMBLsuWlLgkcYY4PGDxxU2uSXC2MLahbs0PmElgU3E4P93HoK5a6g1vRZ9Mn1SKN0PO1eMOMYBPfp39K29Q1izfTHT7NFudSGURMpQ5zySSOvP4Vg3Zu+h3x/eQppLn3Teuz+ZdT4gTQW6WFzpd1DbghDJsR0x6fKeB274rorfxbqFr4XEptp0sSpKzNtyVOeTk5FcG+b+M6hGLUaZ5B8wRsoKsRwCCOOff8Arno9Lv7XUrKOVYCwZSViO+Rjx0B6dR2rpdaT916HmLDU7c8Y82r/AE7GH4k8Vy3UGn6LCyRKH864cS5WR3ZQu4gcYBx3o129htJLeGzlhiDICfssrDY2Rk88EEHr3wPSufvtHuLDbe6np1xaW/mDzJGiwCCwHGR0HB9eKjudG1pU1C8uDBd2saqI24/eITwFwOetTyOW66Gsa8KTSUmrPp677naawILLT47uwAtZopFYp9paUvz3B44OO5HNZNj47PiC6tINUQGSG4XcoI8ts8DIPfJFO0HSr7xHoaRXUskMkbgqpQYCnv75Hc5q9cfD+3s1W2RIDF5YaSdo8PI3v1zzz1p8n7ttq2xDxEVUiubm+LXW+qVvuNvXbjS7/R5o5BbRT7CsXkx4AboVz/F1FcJpFtpvhnV5L2+Ns0Rh/cnYQVY/LgjqDjPJHetfSru3li8PXM+pNJHPG3yAjKTLgbeenUgZ9qTxo2nX15axlpHuC4S46MQhPy5xxx19ahNqV5aG0ownTUYtvRu/y/4BjaR4gTVNftLj7KLZ4xJHH5IXO4lSMlhj7uR0qvr0UkvimUIspluZIflYAsGBYjldo4wOT+NM8TW2h2fimzsYjNBaKqm6mSRi5JHBx0wOOgqX7Bb6LrC39rdRajYRyIzfMHUKwZTnsOD0PWnNdVt/wSMNVjzbXkk15P3WjqdUudSt7mxScIIxKhEkJUKG4+ViACD1wakv31DVtNuIrRJiokxIkrDJA7KM8896zfFPiCLUfD5gsH85J8EOsYUZHCgYHJ6Cui0kW0Oi209xDc2t7KoDRyw7Nzdz/X8adKmqjeoYrFSoRg+RXXr37XKHhnw9rWm6dJctZyCxmiyyMdsmR6DhhVi/0nXNZsoZNLsYhbxks0Eh2Hd2xk4/Ct3wP4g+0X1xaysPJctsyf4lPb6jP5VJrJ+26ldwz+ZJHFL+7RJFULgA9DjqTWtWmoannYd+2i4vSx53NBeWdw1tdabJaSeX+83xkA8+vf2Pt71p2zx6ZbvpyXNvHCwEZCWp3SIQdxL5xnkfrV3xD4isbfwtcw6hclrhLry7FRhmICqWGf7vPP1Fecf8JNqt/MyWVk87RKXOwMwCgjkoBjAOOvtWPJJ+9DqdS9nTj7Ko7Wd+vVI6F9JkllV7By4i2oXP8Q2jP65qDT4kbUr1LuHFy7GTlsFeF9DzxzWHf+ItU08HTtRt2gfeJmRRsZSV44+hHFXEupJr+yvbWNFR2VSWGCyk7Ouecj9arkcFqc9ScalZyjtp+FiwoIvxJk4YuTxwcnPr6CuoLYT765xwR3rlJnDXy48xjzgdMZ/z+p9K6yHbIirsy2B3rOOxtU3ODtvt9yeI1Kofl25BrpdC1Jrax1YXMoVjEAgduQcnIBPJoisY0UTSxtFtzgLwPx9elV57b+1d0CAosuEUsuBuyPz5/nW7dnocMPe+I7HwRcz6Z4Xjml6OFKEgEkHJH6sQK6DUbW01S0Nvdb+eVYDnOP8A9Vc/dRGzexsrYHyEOzHoEGBn8cVsQt5UHJJwOvc1tF+1Uucpv2Li6ejRjS+HHsbaeTSLow3Oz5FlAZWwR+WR/kVzniIXCa/a2olTzo03ybOPmJHH44NdV/aMkmrSKT8scBO3I7nH9K5/XIkPjK7IOZpoo1z6cc/p/nmqoytU5I7IjELmpe0nq2SLqN3JYs+8BgPkwOuP8a8vu/E+pf8ACRPqkF1JHMr7UweijgKR0IwOld/ql39ntT5RwBwOO1eTXfNzKR03nH510VlojkoPVnoV78T9RvtBbTzDaQGTiSWEMrY9hnAPv/KpLzxk0Om6XchjLdyWD2xuGOWUbgpI9zt6+9eaAHvW74c0c+IZxbNefZ/KGI/3ZfJJ6fnXLZRafY67uV13Ld5rup+KdTigvr3cXIVWlOEXtngfmcc11kPw+u5JTGmvhoYMM7O5KD3UZPv1x0ri/FXhyTw9qsdoZfMZow5O3GOT/hWvoXiwWWkrZSXt9b7MqrRBHypIz1HHf86cWpaiknF2Ov8AAeg2ra1qiavHDdNbPGiEHcj9cEjvxjGfX2GPXLbQ7WK5SbYiFFwAoxivE/h0jSateajCzmBo2RUZACu1l25IAHc9uK9wWOWRSzM2DwoOacGpNrsa8rjFeZT1+KDUbK60u9Tfb3ERQAc/j7EHBrx7RlvYPhjPJKHLLKzIGycKrDp7fKa9d1BHjns2xhWZo2z2yM/+y15jomlJHqd/ZyzSxRPcOsh2GTOWIRQOQMjmoq1OV2aNqWH9ouZNK3e/6HTaZqDi3je1CQgxrkMO3YdOMciode1eSNYTJIN6sAyjuKpxqmn6vEiSP/Z0wJjZ49hLDqCCBWJrWuPbTHfpMd4/DozKG2Fs4GD7g1z1m6lK0e5tSp+yqrmad1dfkcVdWN3Bp1pbRebC81zLgjI3AHaOn+7+teo+DvD9tNp922ox+e0beUgbgg4zuyO+CPpXKefq13avqWpQmLEzwwDaPlGASQfq36V11pfXOjfDu4vJmP2mYs0W/r83yr/jXQqCdFVHu2cf1qca8qKbUUjhNQX7P47ukZhLK4QxsATgBhjoD6Dtx+Yr1m28I2uvaVY2N5ElrZ7FuLqNPl3Mc7QMAYPqcV4V4imn0/U9PubSSSOaWyjO5GIY8nr+Q4r6R0D7ZLp8MmoS+ZchFSQlQCXwCeAAOpqoJWUWRNvmc1/VyG48GaUtzphtXihtrF94hVfv4xj+VXPEqRan4ev9gy0MbSR5H8afMMflitF48DLYz39vauW8QJHHZaqznCpFu3A/dOP8mtGlBaIhXqbs4vS/s/hzQZtbnnysc8pij6b3JbaMjrVfRtduPE6XlzdahZxzxEERrBgMrd1DZJOePUfjXG+M7949B0jTS/EbTuwB64cqpP5NWH4WurhNWhEGC77kwTgEEcg1z1I88Xc6MPU9lNcvW3maXja81N7qCC/jjVbfLQsq4ZkYKvPPP3B+OfWsnRdfvNB1OPUbLaJkBAD52kEd8EZ/+tWj43kmM1uJF7MoJIJOMenSuYB+X8Kqn8KJxLbqu5eka+8R67uYq93eSn0Ubj29BXaRaPqGkW1hY3UJW5MocBCWym4HtwMYNcLYGT+0rRoiwk85MbeucjpXsXjbXJtMutLsbYp5k2I5GYZIXIGfxyaiq3ewUUrNnN3PEyHBVEJ/HJJXH05qZ/E8QdrfTLZrmdUGXl4RSo5+tVbxVXUUU52sXxkZ53f4d/asvStRjBmtBCWuVMh8wcccn8+lYU/hudNf4kjoZbqSKTEqFiQACD/n/Jq5o7Ty61ZBkUF5gVUDnaCCT+VY7X7ySFlsrZCM8HcAOpzV7SdTuLcpqBSJCsiWsRUZYl2BdufReP8AgQqk1c5uRo67UnkttTeTAZd7n88Hiqia2kr4eK5Zs4KRDJH4ZGPr0qK81iKG8mivA0sIGSWAB+vGBVfStQ0K9upAsqLsYFRI/t1z0BzXRBcuhFSfO0/JGj5kViLzUZ1ljhEKxp5zbmySc5wT6iotUtoby/W9tDK3m26K7LExIAJ/LP8ASsrxpdyXccGmWADBpA7ESD5uP14FS+GVubHUZ7QsVjRMAg5B5PGfbI/Ws1Jwm5o1kozpqDMfXoZ5LZoo4gCoJzJkYFclpulF9SmaS1kntY4VeR/LLIhZQfmI6DJxxzXonjbUZII44YZmEkxCMB1C9Sf6U/woYbeG9iniYzzRrDJG7fKzAbRyOnylfetHiHNXaMoYZRdkzzrTNMsNU1Z7ZzHaDcB+8n2qRkAlMjJPcAmuz8DafdQahKk8SxWbTyXMcDttyRlcHOMduuKW98IRQ+KBavCSl00IiOQXhO7k56EYDfkK9G1Lw9ZvDE9ijW88YIDKc5zyc5qavvR93U6MK+SonPTR/irHF/ESK3axhuI0hBIZXEcpYkGMnv6EYrx0uCem1R0Ga9t8U+GLu+0R7xrktcWkLsYGwFKYOSMYG7A75rxi5t0V0WNyVY8gmlRi1q1a5eMqKUYx5uZq/fy7npPwwvo9M0q/vrmZfsYP7zIOU+ZAfrwa9Qi8baF5e5tb0zaR/FcoP0zXkHg+wB8P63a3Mc0dvd2u2B2B2GQEng9DggZx2FcBC264VSTtY8j1rWno3Y5ZSfKj6abxdous30dhY38V1OoMn7oErgA5+bp/EK5iLStesLq71Ka3uF02f5ykUm2XIPBC9ec+1YfwhVB4uuCtqrhbQkvj7vzLx+P9K9ouJbl5Sn2dWHIVvXjPP1PH5UqlLneppRxXs9LXucbaeHk8RQ28upQ6hb2aEvGzShZMnpnqR1PGKpeIPD66PctKf31pMgSNsfMMDGD79fzr0KfdHZMJcMFfIwAPlB/yaz/E1tFP4ZnfIDQ4lTJxyOv6ZrKrSiqMkty44ic8RGTVlt/X3nDJp7674VsoLfYEhu2M5ZgCqZPI9a5nxTqA1qf7JaziO2t1IiP8LEccfQZ/WmprQOjGxF0lq7s4WYqD0Y8c8Dsc+3FZ8lvcWGiNE89u0QTaroCpHuD6GunBpSSvtHY48fJwbS3lv6dDdj0qwv8AStDa5VZZk8sIQfmVgw6n+hrurTxBPCzvZSC4VpihjKjCspwwzng/z46848Q8M6qbO/BlkCxQzhzkZwM8n3PWtnVvFWi2do1vDavJdLqC3WdxAlHmF88e2BzzyayhdSszabTjdHqs3iK8leCKd4reaZSHi84ZXHUrggn8ATx2rO1W4Wz8NajLNlnmZVaMrlgSqgg7ep7nHr361474r8Sp4j1JZ4rRbaCGPyoV/i25zyR7k/nXdeKPEVldeE9LS3kVboSRyKAMHhSDnpxz/KqqPYmmtzh/HqRLfWSQtuVLRULdy25ifr1FY2gFE1aKR8iNMsxxnHFaFvaW+qa/p9rdXMiRTMyMyc454xnp1rah8MDw1qVwl/LHIgYCG4VcqRjIOO2f5j0NZSlaNnub0KXPVUo7f5GX40YPHp7AMAwc/MOf4a5UEDrXc6vZnWJbZkAKwEs24cFe/wDSqWr6NYabdJ5sPlZwxUgkOPb0q8OuaBOYPlrNtblXwZo02reKbKOJd8cUgnlKnO1VOef0H412Ov3NheeKz9pMhm3rHEAcDhsc8eua2dFRdN02ObRrBYxOQsrxHnjvzXGXjGXxU++OUEXJw2QQTuznrx07VFaD5tdkRRmuVW3Zoy281z5tzBtPkfNIGPQbVOB+VZmmQWUdyZ4pJDJNvBDoMAjng54+tdRa27JoersgV2dkXGeemK5CEPDqEMB6nzG/NM1lBe6b1W3Nep6w3hnS5UVsF1IABPPHrnvRJ4YsHWFFDJHEWZQAOpOc/oPyFaRYllcu4CEkYOQfrT1vF3lRHnBA4BGaiyHdnmfihJrXxGAcHI24ztDdSBnpnHrXHxWsi6ncYQuwP3AMn8BzXdeMZza6hIZbQTQSIFHmMxJPUemCP8nmuMiMy3+TBud227c8g8Diutaq5xvR2PRvA2l2t5pMs0sS745mVc9vlU/1rKvpbPw/4xumuLp4oyqyKArHII6/Lx1zXU+GFNppRjkVbeWVzJ5WecYAHB9gK5LXLWLUdVmupzuf7WsTDttUhcfSuWpyqWp20ouUTO8Y3RGs27tv8tYfMB9Q3t1HStv4fagL7xBqEwi/0abZIgK8IwBUgfgKp+L4Y7yVpMghbZQMduCa2PhylvdS3xt4jFCoQKrdVYRqG/8AHsmrjazS6CacXFvqbd1/pHjNkzho7cNn0+8P61rW2qs6SwFzJcRHJPXP0FY+kwvJf6rfSSxTzu4t0+cARhQeufc/yq3YaZa2eoC/mnaa5YY8tOE/Huf0rWnRk48yM6teClysbqutf8Sa/ldvKmjtXONpG0kEL79TXmXiTXbuK8tfs8ikhNxYcnt0PavY9b1CC802aJbGGcKmVjeLfuPpjHrXkPjHT7S11SKe2jEUc9uHMIGFjPfA7DvUVk+dNl0bOm1ubL38PizwnIwfbPBywJ5UivMtJs0u9UMLswVYZ5AV65SJ2H4ZUV6VbeEV0eNZ0kdRc6aksqbuDIc7v/Za5nwLp0UnxDtLK8Tcs0Mg2np88DHn/gJNOiuWcokYhqUIy9TsvhHrFhZzajZMjfbJdreYSNpUDAH1yT+lel211clXef5HU7cZ6jsc143dx+FPD+kPYrLLDrUBbF5C5dzIpI2lc4A7VpeC/GF14nnex1W7aAWsQZTAdrSHJBYnsBkcdK0VRqXM9jN0oyhyL4j0+UTXMUgN20eRwoGePeua1Szs9Qubi7mv2hjt43USz3BEauVx0JwAAecetW9SuhbeFr2ayuPMuhEzI0nIbAzn/vnnFfPupXVzdTBrq8e4Yfd3sSBn09PwqZJVJabFQlKjCz+I27UpK+nQyoJTJdhQVPDAtg/zr0f4jzW9r4fjh8mMO7KgbYMqO9cPpkqjwba3a4ElpdKwZv4cNmu08ZQTax4YsLu1QzTSbSsSDJbdg8flWF2nZHUkmrvscDdxAWmnTrFhLi1kG4rwxWZwfx6VZt9JttcvrU6msluHhxAFcL5hUD1HPQn19a7TVvDT2fgXQorqILcQSMsgHOzzMsQfxAH1riGuzFeaDbzBiq3zQ7m5G35Rxn2ccewrdvRxW9jmUbvna9253Fr8MfDd7ocMwa7jnkQMXWYEg454IxXKeMPLfQtCvLeRZYoQbdzsxghV2557quRXpvh60SAvA0pZI8qAfQ81zPirw6lh4SiiggHkW13Cpf8AvKqOoJ9/mUe+KVObcW2VVpRUko9TznxFYT2Wm6Pdv+5lm37MZDFcKVb9aZDquoro0okuTOijGyY7tvpjPOPoa6z4j28knhTwncAExx+ZGT6E7SP0U/lXBySj7G8cfGRzznNawipRvI5pzlCVoOx3Hw6gk8Ra1LbStBEyQeYBtbDruAYdT7frV3xppUtkTbXQEkaPtRu49vfjGKxfhbJcN4xjitrjyZmtJFDfiDj9DXW+Op7+ynWG6E07SKpEwwwzkjHPXpV04qMtOpFapKpG8nsP8NEy6E6xwPEUUtGrnPT0PetWP4d6ZMbfUmtpYWZd4c3C8k5J4PXkms2xu5bV9LgMUs0dzAEVwQuzHPcc/ePHtW293eW26NpgGClAzRJkA9gcdKJq61Jpuz0IZtLsopW0qCVWa4QOzKM9AcH9BWPf+FLWzgkvi8nmxQb48wYBAXA5z6A/nXFyf2rBOTBrB89vlzG6g9cYOK9Pi1a6is4ICsbCKMR9Dg4GOma5lFNaHS5WabNtNOn3ElkC+wNTDTiMHzTn2FTC8hYlfmBH96kedtmVZVU9+pquSAc8zzvxdp8KeIlfzkluBGvlQysqhD2bkjP0AzwK5C18gzFJzby27sVd2UEhum7GR3/Q1u+NtaiHiGUxQzhREqTSgYUv2PI9P0rIu1trXQ57ywIvHFxHAJowEiVgrE45yR9a2UbKxg3d3PRfCdgX0WGYQx5cth3hCnbuIHAOAMCqVpZW0njSWyB/exztcOAhx0BHt1K1f8Jauk3h22DbopUXZIjDB3DgnPfPWuZt7jXP+FkXmoxLItixeIedlVYBAAV74yo56fyrGVKLepvCtKK93roSePbCy0hYljR0W5VhhACd2c5Azz96rvw10z7DobzlCDLdOisQQSoA4IPuDWP4q8OeIddxIdTEgYANAynC4J6FVAx09+K2/C82p6BYW9lrhtBaQLiOaPzN3sG3KB365o5IpNrqHtJSaT6GLodzfy6nqUMdu8qfaJJxt54B2njv0HHWui026kubm5keN41iQKA6kck//W/WsnUhEt1NJolyZS7Eg2k27ys8E7E7+5PbpWhoH229tDb3mstPdW0x2xSIEeSPg4cH+Y5rSFXlSRE6TlJsh0zxpaJrDQQrNLKspjwF+VQM5Oe/69qt/ELT9O1zw7cahaRgalEoGVGDIpOCD785rn2tYF1m52+HzBKCAQCzDPqCOK6DR7QzabNb3FtN5swKssnzBfpgYxRzJpoSTUk9jN+JesDRP7KMURkR7WRGXdtPO3B/nVTRdAlPjHwz4gtlH2WWxgaUjPDeSUPbGMAdTXRTeC4L7y11KN7yNIzGqyHACZyAAuMc9+taEVquj6d9gtNKnaPbthWH7sfuSWB/maUVZuXVlSldKPRHlWseEL3VvGmoTTZt7a6ae5SXGdo5YZ7HPTg5rh7ZjZzF5RcR7o2CPE+wg9jnHIz1H1r6LkjlgsYR9nluL2JiCBEypzx1PBwD+lct4h0GW+tlkfS/tDD7lukWza3qT2H069+lDdhJXfY4DR73XLqA6aEedJIyY3kkKkqxA+8T0yMU7wtotlceLhpPiXzYPKDZjJxuYDO0nsMZOR7etdRouk3+myeZJpd/DJjyx5aq6BST2PI61rTeD4X8+7uLF7q/mYplRtURFQo9MECpTt0LkuZbmJ4TurDTF23UsdvF/a4EeX3KAjIwGR7E85r0Rb1JNQtJMBY/tkvX2ZlzXIJ8PUiColqqRMfmJy2OOuPmJNdPc2Rk0+OxitppJkIJkeIqjnOSTn/69ZzWuhrSd0+ba1jT8XJFe6IUjlUOkiyKA4GSM8c14z4z0x7O00y/jeUyPdSLsL/IhAQjC9iecn2FerDTrxiC4wB043Y/DI/nWXrnhu412aN7soGhB2sVCjn25A6Dv2rRq8+axmpWpON+ptWKSQ3CCTAZhtbB6kVB4lVZvAPiERqAw3uWVuSyhSD9eBWdZ3+u2MpN/o9xPDvHlzW43rgDHUZ59sCrN/Zz3+nalZQQyrDcTbmEqlSxBXoDjjjFTTjysdWalFWZyPi+Oeb4O6BcRSM5tnjaZt3IJVh/NsVrXvhjS7zwlBcQ2kMJAhJdFwzbjjGe/WrraZcxeGJtNaN4bWNXaNHTc2Tk9m9TxXF2t5rqaK8ulrezNAqGRJUWRQqlsfLj3H5ewq5K+zM6c1HdXJfh3ZxQfFeWEKWFtFJ5eDjBwAf5n869B+IrxxW1juiR/OZozuYDtkYz15/nXNeBNS023vmaztrh55ZN8rSsgkG4AMzA44B/u+tXPiTrXn/ZNKSzDNvErTXGyNNvQqpkwCenQitab5bXMqq5r2NXUllfwNpE6fu5oJ1PzdsbgfrV6y0iTVrJL1blU8zIKtHnv1BrhJ9Z1PTPDOmaWI5p3nldzAYhIyqB8oG3jBOeme/0r1Dws8ieHrZJ4mimwd6Mmwqc+h6VcnFqxkou+pmt4WkCsXe0bHTKkf0qpcaTLES0dsWhJ+UoM8fhXZSXFshAeRFJ5GTikBjlJ2OTj2OPzrOyNUYirtbHBHtTmhZ0Kq23IwPajcBjaePrT1J56ioSLbuYUnhSxuGV7tY5HV9/yRbQT6kEkGrE/hzSbqMxy2cTq33iwxnHvWqANwJz7ZqTaWbpjHpVO73JSS0RSi0u2hZDGCoQbVRXIQf8BHGferK2UW7IQAnuBVlIwUzjnPenbHLfeGKARCtqAOBmpRCpGMU8hhwPTvTsnAJp2AjFvGMnaq570xLCG5Y741IH95c1YiiMrbiPlq+igYAHBNOwFeKzihXaiD8BipRCo6LUpADfWlPIIU8j2oEQlBntS7R0AyakyNvvTj6g/lTAhdVPYZqMxIc8Cpm+b/61RHPI6igBnkrjO0UvlqQMAZqQAYHJpCOTjp7UARlF64BxSFV9B9aeUPrn2pNmBnrSAiJUPtLKCelHkgnORUhUEgkDj1GaQZVwQPlPVeuPcUDI/KVWzsG49wMmnLGnZV9elSMoK8HFNY7Ru/r0oEBRMfMv6VEbC23iTyI946Nt5qQMw6rgmpNwxzQBVk022m5eGMnpyoNQNpFv5flpGqoOigYH5VpDp1I5oJyACT+VFgMGTRLeQ5uIUmCnKebGjbe/BIyKtoYrWGOLcAoG0KFwFHoMCtEqrnkA49RTHhVmOPxosMoXcUN0oXcyOvKnYf8ACkhu5YFEdxHIAP8AloFJBp8loA4ceZG69GTkflUqzSKoyqyD1Q4P5H/GkBQCjqT+dOAVRncMfWnJBsUbRx61KARjAFKwDB04Oak9waCCccGlAbuDimAb8dRwfQGlDgnv+INBbb1GB9aQk4yVU596BAJNzAKp29CTxirKCLABSRvqarqrsRhV/OpkguG4XYT/ALWaYFtM4wEwO3apMkdVOar7bxQPmhAA75oIugeGhP4GgCcsd+CrH8OBRv8AmwFI9+Kh23Z6yRcnsvajZdZOZ0HP92gCckjPynH1pDuHAQ492FQGK5zzMMn0Sk8i5PBuOvYKKAHrIxldNuPTml+bkCM4+oqH7POBhbogf7q/4U0WtySM3jMvXhRQBY3ODgxn65FJufkFR69aiNs5IzdSD8qU20hAH2uX8Mf4UAOfzgeFU56ZbH9KRWlOQ0ePYEUw2hYhTdTH0y1AsiOBcTEj/aoAefNBxsHJ6hqaGk7xr+DUyW1mCFkuZcDkjg0y3dX+U3LBueJAM0ASl5ecRA+mWo/eMpDKmR1AbNN+zyq+fPLDsMDj9KV4ZWI/esMew/woAZmbdjZHj1LkH+VIGk64Trzyf8KPKlVCPNc+7AHFIqlVwST2GRmgCUNKDzt9uTTlkcdQPzqJQ56EZ9CKXa2ABgj/AHaAJ1fPVD+lG9c8hh+BquEfJIC+xxSOt0B8jIT05BoAsl0I4P4GoCRIfldQQegNRs12uAVib8SKRprpFP7rPtvpXGMUD07f0p6gYbiiigBp+9inL/WiimIVh8wpi8nmiigCePpWgAM9O9FFMB3daD0/z7UUUAMU/wA6CTuxnvRRQAr8MMegoPCD60UUAM/5bMO2BSxcnnnmiigB3dvbpSJ0P1oooAQ9/wDdpDyXoooAYeZVB6YNZl7xICOCBmiikwNMgbAcc0h5VCeuaKKYDW7DtxTj98DtmiigBhA5471Bk7xyfu0UUASRcqc8/wCTTyMAfSiigAwN5pJPuLRRSA//2QD/4Qx3aHR0cDovL25zLmFkb2JlLmNvbS94YXAvMS4wLwA8P3hwYWNrZXQgYmVnaW49Iu+7vyIgaWQ9Ilc1TTBNcENlaGlIenJlU3pOVGN6a2M5ZCI/PiA8eDp4bXBtZXRhIHhtbG5zOng9ImFkb2JlOm5zOm1ldGEvIiB4OnhtcHRrPSJYTVAgQ29yZSA0LjQuMC1FeGl2MiI+IDxyZGY6UkRGIHhtbG5zOnJkZj0iaHR0cDovL3d3dy53My5vcmcvMTk5OS8wMi8yMi1yZGYtc3ludGF4LW5zIyI+IDxyZGY6RGVzY3JpcHRpb24gcmRmOmFib3V0PSIiIHhtbG5zOnhtcE1NPSJodHRwOi8vbnMuYWRvYmUuY29tL3hhcC8xLjAvbW0vIiB4bWxuczpzdEV2dD0iaHR0cDovL25zLmFkb2JlLmNvbS94YXAvMS4wL3NUeXBlL1Jlc291cmNlRXZlbnQjIiB4bWxuczpkYz0iaHR0cDovL3B1cmwub3JnL2RjL2VsZW1lbnRzLzEuMS8iIHhtbG5zOkdJTVA9Imh0dHA6Ly93d3cuZ2ltcC5vcmcveG1wLyIgeG1sbnM6eG1wPSJodHRwOi8vbnMuYWRvYmUuY29tL3hhcC8xLjAvIiB4bXBNTTpEb2N1bWVudElEPSJnaW1wOmRvY2lkOmdpbXA6YzYzZDI1ODUtNmNhOS00NWUxLTkyYmUtMmQ1OTNhNWE1YWViIiB4bXBNTTpJbnN0YW5jZUlEPSJ4bXAuaWlkOmRhMGVmNTlkLTliNzQtNGE5Yi1hOGIxLTA5ZmI0Y2UyYzIzYiIgeG1wTU06T3JpZ2luYWxEb2N1bWVudElEPSJ4bXAuZGlkOmI0YTgwNzdjLTQ5MmYtNGRhNS1iZjIwLTdiMThlYzk4ZmVhOCIgZGM6Rm9ybWF0PSJpbWFnZS9qcGVnIiBHSU1QOkFQST0iMi4wIiBHSU1QOlBsYXRmb3JtPSJMaW51eCIgR0lNUDpUaW1lU3RhbXA9IjE2ODk4MjgwMzAzMDk4NDEiIEdJTVA6VmVyc2lvbj0iMi4xMC4zMCIgeG1wOkNyZWF0b3JUb29sPSJHSU1QIDIuMTAiPiA8eG1wTU06SGlzdG9yeT4gPHJkZjpTZXE+IDxyZGY6bGkgc3RFdnQ6YWN0aW9uPSJzYXZlZCIgc3RFdnQ6Y2hhbmdlZD0iLyIgc3RFdnQ6aW5zdGFuY2VJRD0ieG1wLmlpZDo5ZjAyZjExYS0xODU5LTQyYmEtOWQxMC01MDgzMmQ2NDkzYjYiIHN0RXZ0OnNvZnR3YXJlQWdlbnQ9IkdpbXAgMi4xMCAoTGludXgpIiBzdEV2dDp3aGVuPSIyMDIzLTA3LTIwVDE0OjQwOjMwKzEwOjAwIi8+IDwvcmRmOlNlcT4gPC94bXBNTTpIaXN0b3J5PiA8L3JkZjpEZXNjcmlwdGlvbj4gPC9yZGY6UkRGPiA8L3g6eG1wbWV0YT4gICAgICAgICAgICAgICAgICAgICAgICAgICAgICAgICAgICAgICAgICAgICAgICAgICAgICAgICAgICAgICAgICAgICAgICAgICAgICAgICAgICAgICAgICAgICAgICAgICAgICAgICAgICAgICAgICAgICAgICAgICAgICAgICAgICAgICAgICAgICAgICAgICAgICAgICAgICAgICAgICAgICAgICAgICAgICAgICAgICAgICAgICAgICAgICAgICAgICAgICAgICAgICAgICAgICAgICAgICAgICAgICAgICAgICAgICAgICAgICAgICAgICAgICAgICAgICAgICAgICAgICAgICAgICAgICAgICAgICAgICAgICAgICAgICAgICAgICAgICAgICAgICAgICAgICAgICAgICAgICAgICAgICAgICAgICAgICAgICAgICAgICAgICAgICAgICAgICAgICAgICAgICAgICAgICAgICAgICAgICAgICAgICAgICAgICAgICAgICAgICAgICAgICAgICAgICAgICAgICAgICAgICAgICAgICAgICAgICAgICAgICAgICAgICAgICAgICAgICAgICAgICAgICAgICAgICAgICAgICAgICAgICAgICAgICAgICAgICAgICAgICAgICAgICAgICAgICAgICAgICAgICAgICAgICAgICAgICAgICAgICAgICAgICAgICAgICAgICAgICAgICAgICAgICAgICAgICAgICAgICAgICAgICAgICAgICAgICAgICAgICAgICAgICAgICAgICAgICAgICAgICAgICAgICAgICAgICAgICAgICAgICAgICAgICAgICAgICAgICAgICAgICAgICAgICAgICAgICAgICAgICAgICAgICAgICAgICAgICAgICAgICAgICAgICAgICAgICAgICAgICAgICAgICAgICAgICAgICAgICAgICAgICAgICAgICAgICAgICAgICAgICAgICAgICAgICAgICAgICAgICAgICAgICAgICAgICAgICAgICAgICAgICAgICAgICAgICAgICAgICAgICAgICAgICAgICAgICAgICAgICAgICAgICAgICAgICAgICAgICAgICAgICAgICAgICAgICAgICAgICAgICAgICAgICAgICAgICAgICAgICAgICAgICAgICAgICAgICAgICAgICAgICAgICAgICAgICAgICAgICAgICAgICAgICAgICAgICAgICAgICAgICAgICAgICAgICAgICAgICAgICAgICAgICAgICAgICAgICAgICAgICAgICAgICAgICAgICAgICAgICAgICAgICAgICAgICAgICAgICAgICAgICAgICAgICAgICAgICAgICAgICAgICAgICAgICAgICAgICAgICAgICAgICAgICAgICAgICAgICAgICAgICAgICAgICAgICAgICAgICAgICAgICAgICAgICAgICAgICAgICAgICAgICAgICAgICAgICAgICAgICAgICAgICAgICAgICAgICAgICAgICAgICAgICAgICAgICAgICAgICAgICAgICAgICAgICAgICAgICAgICAgICAgICAgICAgICAgICAgICAgICAgICAgICAgICAgICAgICAgICAgICAgICAgICAgICAgICAgICAgICAgICAgICAgICAgICAgICAgICAgICAgICAgICAgICAgICAgICAgICAgICAgICAgICAgICAgICAgICAgICAgICAgICAgICAgICAgICAgICAgICAgICAgICAgICAgICAgICAgICAgICAgICAgICAgICAgICAgICAgICAgICAgICAgICAgICAgICAgICAgICAgICAgICAgICAgICAgICAgICAgICAgICAgICAgICAgICAgICAgICAgICAgICAgICAgICAgICAgICAgICAgICAgICAgICAgICAgICAgICAgICAgICAgICAgICAgICAgICAgICAgICAgICAgICAgICAgICAgICAgICAgICAgICAgICAgICAgICAgICAgICAgICAgICAgICAgICAgICAgICAgICAgICAgICAgICAgICAgICAgICAgICAgICAgICAgICAgICAgICAgICAgICAgICAgICAgICAgICAgICAgICAgICAgICAgICAgICAgICAgICAgICAgICAgICAgICAgICAgICAgICAgICAgICAgICAgICAgICAgICAgICAgICAgICAgICAgICAgICAgICAgICAgICAgICAgICAgICAgICAgICAgICAgICAgICAgICAgICAgICAgICAgICAgICAgICAgICAgICAgICAgICAgICAgICAgICAgICAgICAgICAgICAgICAgICAgICAgICAgICAgICAgICAgICAgICAgICAgICAgICAgICAgICAgICAgICAgICAgICAgICAgICAgICAgICAgICAgICAgICAgICAgICAgICAgICAgICAgICAgICAgICAgICAgICAgICAgICAgICAgICAgICAgICAgICAgICAgICAgICAgICAgICAgICAgICAgICAgICAgICAgICAgICAgICAgICAgICAgICAgICAgICAgICAgICAgICAgICAgICAgICAgICAgICAgICAgICAgICAgICAgICAgICAgICAgICAgICAgICAgICAgICA8P3hwYWNrZXQgZW5kPSJ3Ij8+/+ICsElDQ19QUk9GSUxFAAEBAAACoGxjbXMEMAAAbW50clJHQiBYWVogB+cABwAUAAQAKAAOYWNzcEFQUEwAAAAAAAAAAAAAAAAAAAAAAAAAAAAAAAAAAPbWAAEAAAAA0y1sY21zAAAAAAAAAAAAAAAAAAAAAAAAAAAAAAAAAAAAAAAAAAAAAAAAAAAAAAAAAAAAAAANZGVzYwAAASAAAABAY3BydAAAAWAAAAA2d3RwdAAAAZgAAAAUY2hhZAAAAawAAAAsclhZWgAAAdgAAAAUYlhZWgAAAewAAAAUZ1hZWgAAAgAAAAAUclRSQwAAAhQAAAAgZ1RSQwAAAhQAAAAgYlRSQwAAAhQAAAAgY2hybQAAAjQAAAAkZG1uZAAAAlgAAAAkZG1kZAAAAnwAAAAkbWx1YwAAAAAAAAABAAAADGVuVVMAAAAkAAAAHABHAEkATQBQACAAYgB1AGkAbAB0AC0AaQBuACAAcwBSAEcAQm1sdWMAAAAAAAAAAQAAAAxlblVTAAAAGgAAABwAUAB1AGIAbABpAGMAIABEAG8AbQBhAGkAbgAAWFlaIAAAAAAAAPbWAAEAAAAA0y1zZjMyAAAAAAABDEIAAAXe///zJQAAB5MAAP2Q///7of///aIAAAPcAADAblhZWiAAAAAAAABvoAAAOPUAAAOQWFlaIAAAAAAAACSfAAAPhAAAtsRYWVogAAAAAAAAYpcAALeHAAAY2XBhcmEAAAAAAAMAAAACZmYAAPKnAAANWQAAE9AAAApbY2hybQAAAAAAAwAAAACj1wAAVHwAAEzNAACZmgAAJmcAAA9cbWx1YwAAAAAAAAABAAAADGVuVVMAAAAIAAAAHABHAEkATQBQbWx1YwAAAAAAAAABAAAADGVuVVMAAAAIAAAAHABzAFIARwBC/9sAQwAIBgYHBgUIBwcHCQkICgwUDQwLCwwZEhMPFB0aHx4dGhwcICQuJyAiLCMcHCg3KSwwMTQ0NB8nOT04MjwuMzQy/9sAQwEJCQkMCwwYDQ0YMiEcITIyMjIyMjIyMjIyMjIyMjIyMjIyMjIyMjIyMjIyMjIyMjIyMjIyMjIyMjIyMjIyMjIy/8IAEQgB+wMgAwERAAIRAQMRAf/EABsAAAEFAQEAAAAAAAAAAAAAAAQAAQIDBQYH/8QAGgEBAQEBAQEBAAAAAAAAAAAAAAECAwQFBv/aAAwDAQACEAMQAAAB5vkvl1NZzc61+mRpvpOvHmOHRsCFv1AQqgM70enPo+mdHU4jh6AsW68wlGqySwKiEC6aeUdRjPNA0Czed3rnUVEbIDk1eEIQ1IUKkIQhCEIRzvOtZUur0zpygplwNiz1M3l0zMaMSuUQtKSqwbQfSxGEa3Ong0ufqEzRszn1UMstza1krUxueg89ZZ61b57lxo3nTmldscVx6XRFLlMSnWjbkDnZNQS+TTsbQSWVb3fno2cb5/SNI8wFbKWjeZxrhMkKPrS6Zoza8sPFKrW646ToeEIQiuxCLJUNSEIQhCEIQitOc47HIWa/TO3ahkpMbFwOO6pboz1H0KzJGfqh6ldTGHDM3VxKyWoUUZuZpFqyL01bBpKFrbpz2tsK1yL3zlc9T2x5r5eyLIrrUB93d1zwJaOfamtnPO6TQ6TM1btZ67eb5fN/P6uh68MrmGtjV0TSuhc0rI6iaN6ZcyuVY2+2N/RDCEIQhFVjiJqhCEIQhCEZkY/LQcE7hm87dXqyZRz3n6Qzc8eBKF0JyulC0H1IUw4xbJ0fO0gmkoqqhpBEydECmidTPnV89Lja68N7vwx+et7pnzXzdmi+JV0PXGDjUtwqMvn2Kzo+chbNTcrDuk1OmAsa5Pl6NnfGrLEmmjQzB6o0rSU0dkWi0ZGiwN6Z3u2ZweriEIQhCGsrHETVCEIQhjCyyeG6uma03ek16JVAtmPx3j8dZxIooW0TUKydRdSJMYay6XX5np5LRlFVI4LpWdJ1zlYQz2Hx1ts2OnG+8y952Ok8w83W6y/NmaG5iSmJo2Yme1mdGzmyWoZVvTMgbnrEvTZ6cR+eqM26JkzN1KNQK6OzGIVZITB1mv2zYaepoWxJwhCGEIQhDFdjjFg6sJAzB47DzZVXZq6mvuE2WS58c3w6VZB1LUAtzSSTlrpiNsrmqLZdzCySmXN2JlpSN1fnZO+b3OXLuJm1XnrGbma+uV2+Z9l2pwvLZkp1mfLSsF6LfMCUDHWIfOYdunI8uhcwq7V5zPXY6cGlx8auzbytJWanTITVsmYXZ3XJbZpVQuzvN4VuXJo2IQhCEMIQhCEV0kRNRk53hseW3Uy83Rs3u2GrSBJcTnrO53PzpumRLKc6lLXqDVMiSiJCzUyIxRaF2sg/n1jebWqFZn6hcHazTnuLnpJNi8970efI56usxMbqyIq+h80S03WK8gHVGw54tuhJbnRiV7zKa57V1pmkGlMzpWQRIPSo2NEK1MqXR642N5wcb6veJyk04oQhCEIVMIQhCEIRBAY57jsTN0tzI56I3nd64v0Ezb7MnlvExqCyBkpqNVldTimi4aBNTbQfGoBxrQDKEFEkcx9Gs6HpmPPvi46vZta47vbiHz1r9ccf5ew9FWWQGtFGallmPnoglkvIWyGlsuqyC3jta+uV+LHNrA6mD2Ti0erouNTebNus3nj866XWSxLIQhCEMIQkQhCEZ1hyzhFZzXO4PPRpnGt0ybWnvI8osc/w6BBudCayHoxbKLqIYotsZ0cgrbYIyprocsm22ANLpq1grUx1tjqumMbn3Bx1ezb6cdbrx0dQ2vM/J3tmrWHSwA3dvpzyufQOahbr5xWhXTOTN6es6cnLZ6CtSvPUAKsxqKRsiXQ9GazZLXm6O87Gr0G88pm9DrJioYZEqEOOMIQkQhDVhybNsiCZOaBmhc9BQHWzqPil9Mk6lU1h8dDxTakEto1GKwsGqi1mTsVFpGU7IiK7YEZZXd2uZ++Y/PQJodMiY7D47V3O705dd6PNMdfK/N1uzovMIJoFumdcVygct3xVrLwZqBzUK0bnIz0qaJvKpa6aUiSmy6IVVb0lwKCzWpc6Nu1058rjfbbzMpqiDBCEIYVMMISIdaU5/F0tQ+3DwFxQsaL1BM3C06pA8Uncv1LtwTnrJlOszMaAKKjUorokzrTJJRKLy2tTNoyjVM7VtTst3x1tc8rloXTaSi9crl3r1ja3y6n0eeIfXlvn6VZpK6XPQ9XoV0wRqYOOmnmTsxiNaGFmmj0zgY6hzRTENZFtlLOQiQbQiIh9kM2i6ItLgvXPJt6XWNrcHsyo6NZKkSuIQhDCGEgJjwZW0ZJl4uJy0WXSxsqhiVaHTOz0ldg8YPPWbx2FpfpSVF6VSg60RMmSKU+SdpNmTjWuD49I1T1nS6cKJkDNJlv1KM9QJ1rudTXPZ68Bo1emeJ4dCM6kWFeo031vfhjc95vLpRYXmW2YmiU9Lcgb0aW+8qbalVPJalmVWkAmHi63S1CbIxQEVGyyzS6Z1lsVCGHEOIQhDAtzzvOm6aupnY1lc9AxLKkrUuxSmdMaHSadVkbMXlvA47z9CIyekPwkbMc1vT3OoyHmyy04MqCwm7Md87QhkvpxHzmqGafWYY7Buis1d8ey9Hnx8XW3POPN2LksqpbN5oz16PfHlue2nR0MmFJaU6E0oi1GULWayu1lZm+CZEAapGUkPtMQqygjF2mp1xkc9E6mzqaioQwqYZGJK8IVZbONz1dqbeg8ctw2OKs6a25KUgup0xKtHU3NM0FzeY8/UAtrK3I2acizc27lc6bIOaSFlos7ndE46ZKvc3b5F3nh5sKsq7HWGeqrT6cO69Hn53nozU4Pj0aD6AouoZ32XfhxvHrnzWrmxYpCcw6yNoy5908pTNCVa1CWu4sQ/JQ5ISJbrrS1gKWmD7DumQM0rUrl3NzT0tlZEIQhqiIrQBMHju6t7pm6uU4bDzYWkXQ8AzJWdkWlaxbrnu9sRrL5bz8XGxoexqgRquxTqrnRmaZTIVmpuA8etl0fNZa0WaW+UrzzMWJRT56ynWm52dc+u9Hm5Hh00NTmcakaFlGqFmya6/pxx86xsdLpYMD2aMpCSWBga3q4k2XB9aU1RedyNBUU0XFqDqUZtF0PWtJVCL9SyjdNjcNWwiiVJWtiIRlJz3LcYtCdQvcyOWsbNK1vaz0zLM3l1HbRaa+/Npd/OXZznLWfnV2aFpTVkg+jkp1o1g3GSouW6xpXz3o1NTOshprnZ7ee3XPE4bKqMozoPOj7xpSF74ZGNVlNWnUdcc3jQzUpr0Ltx5DnrDxsqaruQtQ/LQJyvc5jZGZFIVC6lN5m+REGZSgDcvDMC0dRNVwtCLNjpMvmqldCtDek3VJVkRWuXjoVvmRZhRZc5PPUcdL7mtFVOWWurrZmOoms8/x+nt3i0vPZ9Jmvmam+AN5pR7WzYA+1bN8tdkJ1F1g7GTIIlo1ZqfjvbrEs6zJurWC98ibylijy0lDpRO1Gs6lxp68+bLq9M8pjcjXSE0JQjXa755Gbj51Ka1LnCs1QeL0bNFuiEHS6gmrWhrzIltkKhrl9FmlQO1bbRrBkPRVlOVUWUgjQ/U6TSaox+fTIz06br58tRwaA8yGepOesdcBJia6Gmn1mVpPeBfH9d3kY5vn7754zd8bdekfHo1tZA5+nLz0l08laNJX0+azpb05aNyBypORNun2xj8PXYFRnzQ2ska56F5Z+a8DWM7VzpCwthrx0rna7Z4vj0Pt1bAoz8ql3dBJMXPrG1bDQxorXlEuLIkCt6kxnUU6CNVNTZa8rEiaG/QbLmxfjy30O0O6U8/q6+uQcNnRPT40KJrW3Og2JVAs1i899D15TOSly4t1mfLdEgs2VOhDI07ETTdeAPs8o9yF5PsdFjyGLl8voZ/b5Y9yRz+hr78mgmdy94zfR9vmVS8dy9lO/DJc7rzWd2uexzU0XqUcvWbczM9YrO8znEaUbSjYrn2bHXP6c9aQ6+dstj0Z4rlswLBYgXhulUZ3L7HV9PHZXNQBjs+/nnJSVNFSOVcvt9T28dUvL47LfhqvmZ0Fz9B9eauenWnzyLzLrMejSz6DunlhGFz9rb+Vr6X2W10mxi0y85y7bXTligpZy71TVUi3xHYNo27w/P9PJtuzsbfPG7/Ou1zJ5+wrl6rc7rz7buvzQizn79r0/B0s6p5+2E6E9fnUJncvbldfnyXUaoxszeAJxoQDTa4+oSfRD3xPJ46My3T5JyYmxM6XY6VzVGpoMveREmh0nK5XKpKqKlILCtIc/rQ6+AohLDn67evziEEM2a3UqizH1Tenhcx89gtcp3zzdb+fsO35c7Pqpvhnz+kfqFOmLj0bXX5Z+uGPy98u3zOh7rt+fMxTeetGs/n3CzY9Jynm+x0WuGZYFy92z18TAOd9J1+bWYHD6vXen5U0wePq5S9Bunh6KXcQPPbmb06V5ue1mHn/QR6fP6qULHqTnb1+YSYWfVn9Pn6U30KzWqTEcJpK2WO2M+h0u/ATZz1zHh9QXr8c+M3d0Ftx0Dz1qsNuD6cimY5UVEvkLW+UXUvkjy+wXfGNobAc9N3X5lQLUpNOzO570M/UnvxVSzz3ws+q/fCidIztpOOdel+vj0Z+hs9PEROvO8/qajnZrgLj0z9PyxunnJtOmq+OjbaOPevv4sKdG5+vp9eXnuvGvh9bptfPlZzD15/o+Xr+X2X8/fr9fnGazdN8jx9wPXw7KDejzY/L0Hc/VtOAEY2fpz1w2ZQM+guczdYrTJz2l2+K83sLPHSrfLB1xsi8nj0EZ+i/T5xdjZ0Fj6A/b41EB71q50VnefnpVRN56FkhihyFK6jI7WhLRc0JPj9yxkm0LHpncD68x9yF1+XmW9Reebjb8PvaevPXLkXc75+v6+KgxOX0Od7/Nh049bgBy+rtXyOZnn+4R0+frb4Y1xk49dt8lGs1c/pddvyE1yfL2FdPnYe+elx92vrzYfbzQ5fU6V4rjnHqy/o/AG8nt0OH1OseOh1E5+4ZsjXny9cQfX8qvj6S+P0+hzgcx76dTr8XopvF1gPl9IjXg1985deIsdSo2d4PD07fbgTrnnxgZU8+9mPoq+MGi82l69Pt8Z4xWqrvZx0y87hqW6xpI5ECcrCtYJUGTRms6HTJTXP8Al9gmfQR1xo3zZ2dZE9ep0+YumN3rzI1BufXnfL7IWU0fz9Wz08V9ZXP6HG+n5FvTn0qAeT7cYNzsLHu6Xr8eWuNSBc/oPrxi6i5+7Y7fMsBOftwenkHuLeH1yGA+/kt4fRKvn0prAuh/d+d1OHWjz/clcaePSFcdD08dOvLzGfdH0/Ju5dcvSeOqS3Ht6np8/WzVXBY93Rev4xdySsEPmtmapzvnuH1Mzl0u1noO/jxc+TL8/wB2WuIbRSUNn+n4WVz0S3nt6wLz6j1ZvnqpaQBHKZIrBK19zpOmXGAefQfn6Y8/QX08mXjeLn2nen4+76OKS6qox5ZTR/P0c1w9mjjGnrGBPZzfq+TO53s7y8boDuXaD17mfMbTZ1lvZPp4MyzY5e/S6/PtK56ObvF9cb87ydYp7+Ujn3GzrsOXanrxO3yE5Vsayut3+H0M/r5+ic3OM5fR3N+AjWOB6ce55d8nOsye3R6/O6THTLjmns3+/wArp7kbWcjeJS9lnoPj0c95/WbrzVSjPXq+j5XC4oNtK1azelpdB3PpnKTNEc+tGpZcallojLc6bCi2GOg7ZHs2tRDA+PRznj+pFxjC310fb8OG8BWa8thBa4fPXP8AN9cHj1vzqW85vq+McaMvE3HZZ2dnfGY9xWOp+egtgHbz72/n6XL0c3z+hfrnpzT20d/lwxec68Oq5dl24ZWOg8u9vG30532Cctrzerhe/n6jPr5yXqpjLMbHu23iD6ccDryOTb59QcezMuz+fazOgu/g1Ovj3LzF1nK1DLOkzsjn6uf83tM35aJoaevmfT8gIrCQpJGOrmxz3LHS9a89B7CbjRstLTBuJRVYQhRvdc8d349hbq8e0UrlwfF9bIz1r9Pj09cNH0eGi5ww2taVioCxvlMb6THTpcdDdZ53WYSjof25Iz+eufsHlO59qOnG7Wawya3GtebH59NrtwJ1mK+e5mTl3Wpgce+nrJVzo9MIq8/fO8/p5T1eOeeos9co0ufU7XGevPg75D9eOvrGlnpo8u3B7x12OjZs+nPs+3Ck45MJNmzQmtbn6sLz+6lzdCb18/8AR8q0Y0k7vU8zzoanjTzrT59aYtx2rqO+OoMEpyfTlOJxeth0288jqdJpseb0v242bxPh6Acbq7eYWzlsdel7efmtZP1gmjM0HWcLj3CzpGlLqLkWWS7fPoB6/NnYo2NOEhlgks6Ejv7vX1ErwVc0rSoMz5hmej6nM8u25Za0llc3eX0Y3LvierxXri9ORMuznfbARwc1Lv5Ljs7QeXbounIkx5q+51dZqrBjmI2uXY3eOPmr+Hv0uXcKsf0/Pz9+awQxMpI1KC5drj2oUjHWjWZXGtrFFmbrIrN8Xy1lk1qaYSdfno+ej+nyk3MZWV7mXHuPz6CnK+vw6e8ysLlHs5Lh3jKxcWEB12OfXE7cHzay87vUzjoQazhcb726Oo65kOlTWXz6LF856cPQNTl86Il1dZvJAXh9+bnqB14P055XXju+nxm531Hk9o0vHzWR38unXdahUHWRIkKElJsFjiM3r+Xfldc8GjTtOffHx6MHr5svXCqyYwhhq6fj21MbwdZKlbHarWK9c6N8wdZ0ufQjp54y353fLRAefVZ18/Wc+wNhfo8t9TRxlD83pOOc1nN9Xj0NZvh1Hs5Ph3hK1OIUIMz0F3znEBiw6mzSXGMaOix26feTt4grCAeXS3GvN+vDfzsiIBNhG8TBfF9AC07Mq6c8j6Xyj+nI3z+roPL7Ob6csLG8vrw6ezt7abLhyAgaWHLqAcpvj2HL0eb9OUUtl2+fp089MzfLA6eampw4whjouPbslxbmU1jc+9GsPrmFvkRKdjpLp57VtlWaASz11euSuHozuvLQ7ecqydQgSUbzevTTJ7cQ/T5LbCJaLM8xOHamajSHHhqlKUl3L0D75i75zjZq8cw866bn26XeS+uLEZXM7n0v53gs+s7n30tZuMXHba9XyX1wD8XveayemM/v5dj3/MG3jb8fv6Dz+rg/X4ifJ7ea6+dV6Py7a/fgRYxIiUyhcO9Gschvlr8u/HdOVZYH466eew1zhdPM1ThDEiBp436FjrytzmGhy9GfvmUzk9eO7jVM2TrgTZXKFnbUTHQ9FfD043fz7O+V1IHgHNs8/sLAe/ny/T49FarKUzpcnl2rzqNKJCI1dHYce2nnfNazz3bhIRcME8u/U8+up25aXblMkQAJX49OS5+615tbWK5c/PpK68H6ePD59gVnjppdfO/u+dVrPU+D6cefTivf87b+b9XkfT5CpfSufbV9HmiWkBiEufx7A2c70418u3P75wqyDs9N/n6QTne3iVThDDjGznfbce3BdOdudaPPuDvnYzmdeVFxqc+205VxGoLOVHSdKD5/UN6fHoawxEpUPNu83sLsC7+fK9PkPSNgpmY3n8+sZXGERHraz0P831dq5x1xtYz+/wAuaREF8+ve8+pXbnodeciJMClE4dcHPsueY6WZCd+W1z2evjBzovy+ynO+i9nh5z3fOc6f531OV7+fL9nh6D5v1uR7+bYxvtJvV7+eZEqKTMzu3l1BZwevDPx1ybliQZnp0HH3QTlfR85qlCEMOdFjfS8e/DdOZEuny7g753VldeFNxt8fRbeDlq1FdEnS7uT5fdT6/AbrKEWpnS6PD1QzpduGT6vG9jg6YvPqPjdMu+oaiFyyuG5erqeXp6Hr4hc64aesHt8+u4YQ816Bx9Gr34vrNtSJg8onDtzc9WTfJ1OOlyVO79vMbvzcpy6bXj9wi9J7fFyXr8Gvw9MfP6uX9/zQuPfsfL66/V5J8u2pZDpi5LLKZaAOXS59QbzD1nAmsu5iSDcd93j7XOS9PzFY8IkREddz6lceuXrNhHPaq5o3zq3ya4P597rwHtrlmly2nU9Zk+T3BerxU2SGRy/Otbj6sWNjWcj0+OesD7yMgk1Dl2y41FCIHXNc8yZw9nSZ7FdPJI4vPrx+3zmuZDGjnXW8+1Xblt6kxUNGHHQce3OdLbx9tPPrUuz05b3q+QRrlh8u2T876Qe50fs8IPTmZ5/TyHq8d3fzUZ11Xzvqh9/PdnVms0bzGSVs4sqJp8evJb5G8+3N7xna5sI0Ofq0efoKmuT9PzFYoccmOeh8PRiZmbvF7cufa/pyouc/WC7i3n3WuNSsl8sK2JrW7chPL7c70eanWIRYF1fz6U8fRzPTlpN7+cXWCmfmhWAd+Wty639OfP8AXkFnSzvo4J8/vumydeZWcm9Ob2+e1wwwRL3XLvwfbzwslLXZdRWdelY6n9ONdoWd2ahzmLrnKy2a5L5v1c6zY9vhM4+jk+vCft+dGaGQn5v2L7NvWOP3y6jUETUt4eQw6hdTj24zfKGO2ZrAe+TCNPl7NLHe2OU9PzFShCLLOxx06Dn142ccnq0ufWeOh/TlWmFrJLFuO+rIKjlJXqbEF+jiFx76HTkNWfGiG2Py78tigb53ds63m660rmZjfOduR3TB+OnRrzXfy89nWk12ctue3P8Ak+spK+3HDaE7/IquaiwtO4x25DfIC5gpeskWafPr6HctrFedwulJelVk7i6awfJ7ea59tT1eMPO+a9Hk0O/A0xpR/J7dPO+kgLpz09Z59Ojt4TMpPQ5008b823xhNC6yoapZ3vcfdOaScx6fnbPXzsAzWjvn0E1b4/dXz64XXx5+tF46X4662+QZh6xPWLcdo5TuGajYSolz1fbhlY6TJpSbVX2ZuNc7jpdK/p4HefttY09YEZG5f15avHvqTUunLnC/We0tkBwFw76Ho8wBxDLAhaWHU8++Vrng75xUzWbbCs69IuKyrPRpTUtBGrbm8z+PbiPP67enO3v5auvFvR565czOgfP6dRNjl3ytSzfLEstIQjq89Nbl24vt5olNaXH0dNZyjodnpPPSigd+TQ9PiruA5q2zeBuHos1nClpzdLHa/HTX6ccnNzN4q1zIx2O5dB9ZRVW1GKvReny5ONUANDJpqSWZo/LvrYuZ25GY3sJRLym8ylI7cz+PfSzrZ68eZ5dpdOfTdecylHmq7iya4zCjWMvU1sXVm6cdcPpjN6cYBdzbW9L2+bPWYWWStKpRWpFWdZvLryfPrbqA+rxaGuezvOTrOVw9A+dE3MJTc9MPpykShxG62PkHc2A9Sx163j6Gu8eqauzq68LO3kN68eZWqXptZ1Maqs5Tn0Cmtjl2uzra6c8+TL1Adcy8d+j56gOOSgSaJ9PmxrB4jWVYXKVBudb/AC7SOX1lZ10CVS8r25kZ1f2438u3XjnN8ux/TnM1NYjvC1mNjc+vL+b1EZ1z3q8Gnw9nQ3IM1yffzCdOUTQsazv83YlCmn6cbtSvNF5daZ2U1nef0UdOfPsmzQPXj1nPpt7xic+nJdeRtyJvmyaK5EpE0VckmdZq2Vri5ECXJ1mcGtGY7UTdk0dnOlvkJ38gu8Z+Ou7c7M0ElHDuGpWdFpfrIUoMoesW569iishK+pHNco3jl9ZCiVA2FSqNGXsc9GjnJRJT7EctvNssumLMa7zO0c1z7bnbhEfnu/eM/wBXkMLOHp5HzeqcuB6fHZNdLx9Gqzy+pienyMdRZi2dRx79JLkZ3r9/K/TlTKRNLl2p5d8zG9P0+Xhc6q59g98+259NTWeUzrG3k+88zeLLllLzvoPP6j+nLT6c6Zeb1inWOZyMl1prlenOwM1hlBzq5PQufQ+3nuvDI1gPO9A6VQbnT49pS3azcuLjZNihAs0VNEJARIQtTmd8slS4zNS+UiL17DG4y4dcu02s9lcclz7j65w6c93l06rO7a5HHTqO3Cgy862sbXXiFrK49eXnS2azevneop2XD04tzgerxsnS1ghXH0drx76XTku3nh14IbOrfP7Mnj2o7efP68edmtXh68rpx9Axu84xc3fPotYwkWsajWcm95PcZvGvvm1nnnTj1Bxmd9PjRWpw3TiTYRcyoDG7rO4l6g5+5wN4zjV59Nix9Z1c7fOqJc7G8KXpt5dJwBnZWdVjhWo0OBzWJ14KswCsLlOgpegxuOdYE3lTV3Xn0m+XMef1g9OJ/Xhqc+u9jefjphduPYbxl9OOR059B5fZu9eNmOgGNZ2d8hQ0Q1H3x0OHqUuH6fFGu4Tm876Ka5uXpuPofrwo3z0NctC7p4ejhrnN6cZCOr8/szrOjl0rnjM9M/pw6/pzzEz7mSiVpeb1F4662saPXjyPXj0Jw/D0dFKb6PL58F6xYkZRZq2zo863M0fWQuvLOs1+Pa/WbdSXPZS58vK51AjZ1lzqLIp49mJDkLHRVy3TkJKPVdkZTI3pdvHSGdc1nrfnVPXnq754/D0g75Eejy6PPr1Bz3LsT6vJbvEN89GV5bJauHoqsw+PpI1y5dqvWO16cQfL7M+sL0+KuvUk57j6Ts6xevDl9Z28dO7x0r1k05rWOR1zpIETqOHpqmpnWazzON8514+gdOWdz7ZvD1ZXfzVdOGtz67XLufvmfvGXrE9Y4nz+rezdb1eTzZCbLLKpaZZnQS9QZ6YO8Vaz1HPrztzvWSlfO4RzuOlaVV02sWVGNDj3cREolJ1lrMjpy5tSEp1I51om3jdvPqTrHMc+5WdV9eZNyJx7AdOef6PJ12OvSHN43peryz1hoUsSStmqbH5ds7G8Op75d905YPj9udqA+rx5CeuHC46YwPrEKtl7fy+yVpNwB05cr04jlYx0fD0kTVW+fWTWVjpZ6fHvazh8+uP5PdlduIvo8ehz6dNy7Eah2siazodOPCef1aWddB6fH5aWWSHKJUb6+gJnHJ75i6z1nPrhXO/TyjY3CMvGxVazd3iYwfw7occQrEcl05QqzWaNZNxseNXHTYmppy/LvfnWt384KA8fVm9OWZ38veY3rTfJY3d6fKfvnco8pyVS0Y6a1H9OWdjpxXn9dnTz91vHEeT2xDfX4uST09eLlwkYamL86mu1y7vcYHXhIgGqXy7bGN9R6POFw9GdjfSevxNZz+dZPj+gHvnh+rxF533PHu4brGfrO3148LnVEd3qeTnQcu2wYWsizWd0476ehVA5nfLP3jruXbISnWSs2rmTU1V0w5EQdy6sW2TsnYiVc9c5kBaj6y3PeiaOOmlnVus4vl90cb6P6HzHTk/F9LO6ZE9fze6xsrPTjMbG9Hl2dS+BrNuhJRvN6268d/twLMXn0ws77XWPLeXaGs9xvnxSeirxWOmLrnrmJSNEBGgrPQbXNHe1iQPNbnD07Xo8gvn9Wfjr1Ps8DWDRynl91lmR6fHjR6Lw9LhuoHrGt048jKDZ3B5IvV8PR0pkUNy7ch6vD1tnaE64TfNt8uq59hzD6ctzn0s5KytLG3u52CSo2hxxqcaGOTAIlrImpLG4x2an06creYlz22e6OIvDJtOnTvpobl14+qOvDq5cwazX3nn8awZrS3jfuTR87x+Hp6brw8yx1D6cfR4Hxs/eAJcbOtLeePlo1lgmJTe1jZPTlySdAOQA872dZ2eHoB5d9r2eC9BTI59bOffE9Hjxz0fn2qzq+svWOk6ceWXHjvLPOFM5d+1TKAufXi/R5Oqs7inOB3ynrPT43Nrn+nHVx03cdGhCKwceUYOpCEOMNHHApVrFeoRz6VnYym00cxrGbefcY75Zy+uGO6dFNdeLn25u5A3zNlqs6CaA1IpgwcXD2bi8/wAPSZrGFrMNc906Gg4VV5tlg83ipj51LO52dHNVa58ya2d5HXgTLbZdL1vL0B8+lXbzk65wLnSdchMCp2uel2d36mQmj048yAHf2c7m860amuZijXPWJtaI5O4wt43M73s657rx2872cdGGGGhliMPCWJDNio8Xazz3TlkY6LWSpYy4usd7nZ0qPPrADr86CMXWRSJvL2/PrTLi3OVZTc7c2ZjdXXhm5t8tFa2sG1nSvFtF2DmjWdm1mrqYWLGaDaojLs0rm4Hmt6yjOq7ikHa0uXp3LgOzLuStckr59tN41uFBlVqLqzRQPrlj1ZckSyjmbTbAJbrNWNitWqzh4E3z3bAM7os6Y6KaQ4hDCiK53LqyW6y62XMJQK4rXOreCcdC82neBunPY5duhlWbx1hq9BEiAPLfqUSh56FSjgesWIXN7NBJzTJxeXobqF1ajCGMRSC5K5YRYrLmXKIRUu7NTsFuSy0pmpZ6CY6LfPQ3xekRSMMstQSTPmqZStTUhA9XxE4gOQ6ubDo2TfrEOdDE1Tm1JTq62yQipUIReZnLpPWXsYkMZ3Tnl9vPm46aXm9M6Fua+nPXuZY6aedUKyEEqkOOSIlY5YMUqPLMMub6cRIcdGEOIQ6xSIlYYYQ4iSMqHIjiEJEMOsRhESKXVCJDjjDFKhxMLoSByAUOVQDSsY1g1USBIFjQ0uRAPPo1WIqZImPrJ0swiJUxIQ4whxxD0iSOqEiHIrEsJFoh7EIYcaFTqhI4xEQhDChK1khhodUJEMMRV0cREdUjjDjipEhoQhhDCGGILCKyBMsJ1ImRA4pg2raHzqEIlZKnRhDERxE6aHpRKmiVIcQhx0YkIrVwinRCEOMOMIQhCHGIyqxxKw6NK1jiEJWEjQ4yxIlg9iENERiQ9SIw9MSEND0hCGhDEFijLIoiROlD1VA4i2VE6ZHHIjCJDkBxxyVIccRIYkkR1SRVixLKkORJDiEMIQ4whxESIhxlQ6MIUqsaGErCEOjlKzETRWtDIhxh6Q8KlEqYYQ8PSGGEQhEViQhgcICKkRBoYYccQhiQ4hiQ9SIkRonUiI4iQ6MQWxL6cYkMIcQxEsGGJERDkRhhhxxCERHGGEOMOOqSBIUDqVYwiuWSMIVPCFUhCGEOORhD00PTREYgqBomXVMFhDDjEhhDkhiVOKJiVhErGGRxCERJl1IkIcYYkMORJDCJCIiEMMRESHGJEBCEIQhEVdEMORhlssQwhFcsSaInTDjEoVMIQiMskenWEjlawGLCshECI45IQhxEhU44hxCEiHGHGHIFtXDDiHJEBCESGEIYQ4ww45WSEIQhhCHERJDDkZVY4ww4hCIjjlcsrGhDjDjj0xIYccgSFLGxQ6sOkSCoQNDiEIccemJDjEhCHEiEIQiS2JKmHlemRxxERyQwhCEIQhEBQqcYQiQxEcciMIURJU5GJEVcYdFTQhKxEQhI4ysIckJHHpxDjjChWukZWGIlcVDjiHphQ9IckjKwhCEjjlaxi6pDEiSSHGJLFJ1CILYkVlY6tD2NCVhFQ5bZGWI45WSRxlmjDESKsWDoitZER0QliMTSdKWCVLMRJGWSMrjCHEIkMIQ446RVhxAETJDEhiVOMOOJESIjiVEUcQiYqmTJDiGETIjkRhEyIhDiIERS2WMSIDjCEIcQ5TEhU44hQ1MKVI1NEhDDjERKyIQ4iVRhDDiVJKnHIysMIiOTAosponSHRKwhDiHRxCEOMMIQxJWSauMIQhDERyI4hhyIoVMKGGICiVTpREepRWIRIYVOORiEKHq6p2DZqLqciVxWX06QW2ySxR1QhxDIlciQh6aJ05IiIcrGEOIQhxCGRxxhlcYYYcRNHEOSGHJEVQ6OOPTEhhDjQqcQw4hDCHHEIciORJCGEMORKJUl9SEVSvY4wiI8RErJIZUOOjCEMIdUkCqWwrIEhFcpGo4whyQyOMqRxyI5FWJowxKpExyRMQw4whhEhhxhxhDCHGJEBDEhhxhxhCJDDDFhWSGHGKoHWMEWXUwxMgIcRCHEMMOPUR4ekMSGEKHpQyskyJBaxxxDiEkRK4ySESICIkidRJEiwkORHEOqRiAhyQxEtGIiJjKwkiSIEiQwhyA44iBYVjiGHIjlRRK0H6iIExDDCIjkSwiMIYhCENVghyMOOsEspokUr//EAC8QAAIBBAEDAwQCAgMBAQEAAAECAwAEERITBRAhFCIxICMyQTAzFSQ0QEIlQ0T/2gAIAQEAAQUCU+Yn0NzcmRY22bXkltC0dzM28QuHEanem1jSJleOZciSUyDfxaT8MUV2XoHZb/23Nt8k8b3Oj1GMTSldvBqVGjrkKKrE1tqoDPSSfbXbBhVqCMil2BswrJ2IBrBFbf8ATnYiVnbaNyzI33qni2rWY1xSlRDxI9usDygNSwhQTsW8spOmpSsZUORROxO0TcjE5zUIKJKDLTBcSKwoRPgQqtFcufFGgVWrctcTSxBVa1o+yRB7VLA2MhRjI4jmwWVDw42J+N9iW1q3k46iujFcyy7MuGBJJkYOsD4rXwIygkQoYVEgjtMloH47s5kiDGP3BSStM4BaQ5V81CVdvTkv6Qq6WLNXpDqOmrrLZMtKh2ywkjVS4GB9Ogr3Cth/O5wkmxqXDRmH228mH7Yp2CLNc7RzGRmRSwkbMW3tJ97apQXVWPn3HsfPeKZo6R2JkIR0mBeWdVrnEqbUfNBfEcO1CJUEm4pLoinCuVOoXICq0kT2txFHbJIZMonY7vWoo4oReLReS91hiRtRFHli0QDxxaUW0O7Y6huX6YI+MSqEZvtzn3WEO9pJBKGktJHoWgU/6iUZIhXrJHCzncTZKzlU5GqNi4dmSpT7VbIsTg/w6VlhWw/kui9H8dtWAIEjJmIlo+zRSgsslAAFswyA+ZC1ecmX2rKpqUayUe2COyDZwqovGKce513ixrR+VhbCIwkaYikkJiEx2lhGjOHfbDjw9mnJK0aqvHLyLCoPwdzUY864aMWqwJOIKDSXcl0HqGsru7+yKUuEBFSBZzYW6cYQBJZsVOAKtLiRLaa4l2Z5HdIZOVlEqiFzRQq2wrfLI+KViS07RnnL0Ts4UbW87AwSFVe6Go+P4dMVkith/AfjYusjnEcqCmblqOA6wNtF2LMJLr7h0Zg3mvyamIC4JrQLGx37Z8Lhq8k4pMrSTCpjitsgqGBVK8AmWtzmRslCQY4IpraOTiefQzEbyp+cD8by3mRaT5fmTL/FvAZJdVDrIN0b7enK8ClZIptnUYLU2dR7RJKVpSusJENcrYzUruZYWE6XEbJIFxKzsGikVhthCrPSklf3yIAJSBsGIOaXbOfcghijt0M1QxQ4oMC38WM1pivdW4+mQtyNlHE25wukaKjNcZitv6S4DVczcahq2ZQ0ioxRVWZFjUZYlRSSFVZvAwCfNccgQZpPzCDVUU0zKAZjsJchC2c6EL7IuGNnRNFbDI8qh7ZwdiaUk1ioow9C3HIi8bPHyqhAo3D1pHxO8YbLUGfVY2ZZt0Rc8WXqV8DbJkaJ134Yom+2s4ladQsdx4cXMcT3c8LNzNW7Gg40VlpAdmMKRF49p4RuY5efiOoUilBkOeOp59Ck/wBuFpGKLORCJFl/m0Ar3Vvivmp8hXOaZRycbMsEgYkpmGf2ygvIrZWSDmM9qIAzAGYx4V24HCGPXjo4xiv/AFrimJpc69rfZVeQtW3jFa6iNBrhWCRkO6E1tqzeSrHRpY/US6lv0PEiHVIYtrQuOWUa0tuEHDG1NEtQoOFgoaVVUqsoZtaiGR5qTMsRUu0SNEu8bNG/hbfV5vc0khZ+BQqLtXEVfavCU/8AU3vDCQUDrSSNsCjyeADbkVYF43mgeVbqLF6tqi1DAIe2azWazWayK2FbCthWwrZa2WthWwrYVstbCthXtq5YCOZGRQXdBKRGqlZmUytDDpFEfdLctGI5isbXLMWOH0IpQzU2K2rVmpuxBw3xE44ZR2tiHEbHd/a1uyNXGMz4Som1ppxopR4/Y9SYRt9qg6bJIt8gjnDCoyAYeOUtiJAuXhtuNIZc1sKiLcfu0nBevbukrRFmeZYV2ZvFMTpmnkYNKBi3+YrpgsstfIWaPlZhyYGS2aB8eAuxB85Rloax1/65NVgblHTo9p6vJf8Afhkdxmsj/oTth1Ow7OAQ4kMce/M0jKGkKG1kyhdtLfTW44gDGiLOxooWIC00hV391IvukURsRQHjbw1QkBp25G186VGuaIO+cKpczTbGv2oBVBW6CJvc6fkt4EjuXMjyf2RaiWyIDzqz1b/1VkABEkRI9Ds3KyUP7BJyQPLSeF22pUEqSOu8MutMA09jx8s/G9vM+0+MhAKRfe8jrMhyxzTmso1eMAgy3UcaywQyShh7LQM1dI8QsQBfTAXtv/X2xWK89s/xnJnXAXNB9qnl96MzvKujSTe1Z42aGTxn3R5Blt1eJ/crZZiuxDGpY9XI1DZBJ2P7eIUVKFqX5DEjVnptzUTNsyHCHVHwrF+SmTx4UBhrAqGJYlSjMi0bJjU0BgbX7mMVAF5VIZQMdjqUhky7zYk8Z3AZ1KzR27tdSORHHqw4MUPbEFDAWwUvD7oNuQq4mZT6nFRxe85FOTI+dSg2XWl0wY1wpd3NoWjgvGtqjnKrbYxYzLGjOskbup6orAincoI7nkrNZrNZ+jJrJrNZ7Yp20qRys0BaQyoSo5I033Hw2+VKoEUOZzKFHt2ARpWbzHCeW5gdSolheWNXBXNYYM1YpQGo+1lIWM1bJvTLS7AJyFoom52haKgNlaMRJ7WibxWpLJE0q6i3qTZqhtiTG+GvSGl/MoSTaj1DLGtuoulrOaMDoirsFDkI2KbDMGoyPHTGMQxRb0JUDyR5Ro2jMcoLZXkVEd4mFuHYciilkyjHV/O5WhUgOq5yRgJ7C281ceVEX2zEHjiDEEmpJcXkEmsxmRRNJtUTPGwww/ixWKuh9rQEQvxSZq4/KQUAdoVrC5VAryRlnkRMROSyRsRBAFMkg5ZHi1kllw64rzk3DEM8L1qtC3Z1kiZQfi3fR/AjV8FZvKQty3QkpXCyMQwxhT+X7tpxDVxdclRtJKBJrFHqWlO0yL4UMrWz6JH6hkkM2tnA6VEPEaKrKnG4QvKAoW2deS4lUJyKkZk1XKM3KFLx8qunGUy1RfbO7mSQHn8CkADDXL4Dh9htmgxWjiRF4wiv538CQY8mDUYjIWnYUQjtnyGzUrbiNEliRQFrz/F+vGhdkS1XZizLJd/k74UyZXkAqWYqYzuVI2X3PDiNyZXNvkLJbbv6X3XUZikmc4Hy6EI3ioohJGIyrGQrBvmolid/StqySKynwrgBfFapsU97+KPsYEMIYeaKW3JDZhjeZQwlRwxJkXOhHttFD1prAcPLC1K1RyEGaRCwlJNusHp4P7buCUUzYoYalGoijyiuVA0lWGAbPHrT5ALSpQkY0+SzLhj7mxhQMUKyxaSEMqjR8tnXZlOkQJKxjzMMVyrTA1DArIA3MzlhaS7R/Risds1n6J11eQ7VyEFU5YZrcaXFJG6kxMlPMTINUT1A2i81B7gclrGsU8hWe6Y8ckYKhaIQqVUnXUhUdBO8alSahOk1xcMaycpijIlRqsgLqBHGWDg6tX/qBj6m8l0eR5GDbS1bIjyKur5wFOz2K5YjK5Ebi4yxJ1DkM1rK8aJloFQAal8rpPE0RWTA1BT7gRPxjUCl81LIm7HWjMwoeajZWp6+a/GIZFBsEN7P7aKgM4BjGBT64iNLKY2km+6F+5uMi51CoBSHKFyiW89K2314rWvNcgzIUNvrqwGXinBaY+JCEZpgtIWkb0eauhIlLE8lDhShcJkSKaRsMtx7BEJazq90hQZrBrRK8IWrkZq80h+4ioKaM0mgWJFMkaokLAGo5AWLECXBoMdktxLTt7HVnrMkQEfI8a4o5M5bxaHFc+1SNpLFLpQ2CpHSSSCo41nEbODCd5I4ZS14VkKjAkonAca0rArEdBKVKyOvEfyhGACKXw2n3G/FcMSoJRaAGpAWovdXtFfjXgLNKdIUxP5W7X3gbqHOKs242bbmh+TKUSM7Lj6Nvf3ulCLy+53bC4xG+rJdELMcmTyYXkuLlLg63Uvsd2Yk189oZdqV+GvWIonnEh5znwCzeQMUFLKcitlNNQPvQ7P4rRDUTBGYlpTH7beHjZqaguDYy8L3caTDQyNEulGQ4DbkY2eAMVR9PMalg522ojwSzRwLyQglVbxFbjEzqut8pMtZ+3oKbOUxTjEcYO0gjoRtRwD8HfFMcsfxXw2fMeWpsKuxUxykPvUXuQk1Mp9OJeSYKrgBt5oIXE+tAYAYMc6lXMqxahax2YhF5whjl5CxCrJ1e1jMd7DdQGEbR4ldlYKvzsQGiWQLAOS3t5IHeWTe8ja4SRJYkhtU0mssLGxNBqY7xL+bgkCJSjLTr7OOSljk4oeGSprfQsuw+KVgANQm3jZwI87scUuKPyflSd4SCVRgfCIZvYQCM1jDfFRyAxuVKPFrVrCxkdxrCz5hlkFJFqnA6xr+SN56i/LUaxigpr0xWIqWaBfbICGt3VZGG1MmpCHD1ErAPnnlFEnPt2BFL7hor1wRmooo0oGixLTH/Wto8RihIiCKeNq0BYnDx/bpnzEP6baURlSSO13MorimujFDxR36cwggtlRoICSrVzSQxi9j3kGhaTNbEm2UEvKaa4mVjfNDLPMtzcvbxcjwF7gx8dwBSjMNwqpDa2zXQ/xgq5tjAu7CsTGsyRk6PTllDHKx2uzS2lqqficrszKKe0xCZt6RV2bFO2HzUThJFlLtcMGpsBGQ0q6h8ErhZIQBHuwJKz28SHjdspbqsLP72b8gAAmuMhreb7cPvopOajNzEUPtMmqtlij/AHZTsHdcKQYF97NHvNJGEkcli8QK4dDL7SzMah4mpf8AGyUXOyODS4NSr7YXYwAM8n+KzUtm9rQlamYF295QK0cISOUBG7zSaiOAXMqqqLXUFlnmSJIKNs5rl8FthxJVvLpM8ShpZ0hNvejEt9hd5TLfXPMYpStbxzTpaMtXds0VPNFFRu5K9WJ47WRorESTG3uJWktunoppZYmqTimHAsVF6QDjeUuTEwSGVtkzgbF5LgqmimkULG3HrJq1Ck8F21AQclxLxNNcTMOYyJ8OfBShGhoe0w5ZdxrHozM+ZJMKY/jiSg2tS/dXheSRYIsGCGruApOciv2BvU2wDZA10UqKReSUWNvh+nwkPGYnWUU5CMx8HYzMHxHuJVOAj5LDKIGSK09iw3U0jRTST0yaKuSYrSQqttMoTJeE9pH0Wd/FuvBbS9UO8PVnV7kqp0ptVHsYafeFluPSRGpptLqTeaVtWDbhGBDieRKjlDURcRFZny81DprOskS27oFrp17/AK3qJNruUva2cWTFZAPBZNHJcjWQ4kqGFnEvTMn08ei2GLdk1EuQDsTjVZGwuYzUdg0obMcm1LJkhtnu/EpSHij/ACkY5b20g0pkkNDfKSk1gEqq1n2jGQhI4cFTgfgwaQuba5zcWkuOGcIgyoI018XO1SLms6Rs2lWUW0+l5zXDXMUtznmaHJ42CyREW9ssbka1d6c+csKt7RrlJLBo4o5jkXpSOO5VhcJmaBeOln1TnUrJ9xbORUBukFTS7G3HNddYuitDLyDp0ZHCecu0dL05mWa1lgSOYikuleprkrUa8tykUS0wiNSwcZIRp2VN7G2iZ5Y8ltHhjGb+G8aQ3tyZkh/qt0eCX1sNXFykqW7M1MkxpGcVNJzTqMG0mCSH7sYifBZbdNuSv2yVt7bn8YvTwxm8gSr5w8z0cqyOS12d51t9645IRJgzv4K0MGjRoRAUfDfB1FRMuSytSN5yKjfVnkkao1mUcuaiVTEFoqyl7ho5VnQtOS9trmrWSi77LNKjT/dix505EMepVWSUTxbSHkuVbY3RwiTzLHcvNrIoZudRH6lKMi8st4iD/MFQvUYZqEqapdivWoEe4QiG7mtxczNPcqshmhim47hZoXZszRXTSyRvcvI0fBclmRre+K1HKPUiaR5mg1km1aJIDMk8BgXpuDDezSxUkx0tZBHfi8VBcyrLEFDW8QSNmWbj5t6ifDNdxPUs/JEPFQg0QdrfKWnKCbpWkjwVKsakPJCnuSJC6Nax7T2cEatGhF0PvzxZb8FOr1C5Mh2YHUy65kQYj1r5rFe7UJTJjsvvLQ1poq64QYeOUwuLzFLIVk4ZCN9Sk2autA+3hX2sC2jB8BLtCklyug3ygy0cqKjmO5WUcaSYEcCGSaOxNdQi4qF14FxIKuChqzjGmIMXaIrwxJIrWcclPaK9EMq29kgja0t6f2zy3Y9N/wCreYxXLXDNV3O07yMFb1KJRnlUzNtdyHFK1NIY6N3tFyNxc+kXDI9NKVSaRhEXZ1UYlKyC4ikiAuXBQgi2sEWNXnVBdxQzw28vHNKkLSQmNBJBHNUPTo1aOGJFmh3r0biSGEipWtmDdNtpRcdNkipI9EiYLUvvdPcTJ7W+THGoATS4VYgkmsjLq3zRBpcCENkbV+vL0xK0Tk4FD20s3tWCa4EfT0SjEqC5i2KR+LO2LS8zmW7Aeo3PH7ZESwZzDaJHEIo46kk1E0StUUNBcFY9xbQmNlW3ilvdS8n5wkrJ/k7nEk0l0LdngbmUUgauDlthaj0sluUtY4FM0qIrB4+bQi51nrgYSXEGiyIMlMUArsbpVpOMySJuLaQxBrkFddKCGeRLCNaeJZKhY29SXDNGhzPbycdpcIl3CclY4/JsriSnLrSclMWpTm3tYYJrItAwZ4zDJ4pFWaNUx2ZsVbTe/FORGhv2epGkYpNJHVtd+oN2nBMrhC77De4NKYViDeb+bZ98tImyyAKIm3hOSWPlcqq/jiseaB8hgKfejCy106EEclDzTeaaPJlj1htm1gZiokhEiIg5I4OZi1LJms03mpLYEwxaGaNGhkLRVmSVRFsk8u91+1BJ9DJArNkoNpHhKC2cxrDMZYxH53K1ykzTcsZgRWk5Vim5DKBGzLdN/ro+G8ubTSRbqJlaMFaclJFxzQRKoexV54unojXEfFUcJNaD/J3UBWPpscbEGMKDFrcYEtkqVfS62zE1FFHJb3dsEjEZWDp0qkcfm7mWKKb46W6EhIacBalbDRvilbZbn/i2h+1zrTOGXp7k3N6U9MznHqJUJnmNfsHFeoYUJgxchp2GpsvD/kxGY1YNSEEZravGobD7Dk5EC8iMRhEjcGk9y/o5U3GfT8usOY3oyeDrzQhlg2rl1lD1mj2PuThkkj43taEkso9FI7ydLmWuk2/v6u/+r75KtbNUhuLfkhCcdIuYeefBDLUpXWG7RgUiVJpELWjMqc1yaeO6nX/FTsPSTQ1k29z9u7gsrVYlvo97qO15XsgVAXtMm9FqvfF76tbnpsM/p5xxkT3aoHU8dmdF6nN5NW11JbFuoQyR4nlTlxUM7zU60yNJJD065DyGVKR92uH+6n42k2Yrg/6sHGbdeKJSIYasfbNdXj3EvaK3lnCWNw8l3ai1FA1bKHOoq2xynIjfOyikxx5OQM0PBPmg2KEzEQssk0niJ3xPZlnhwDIcCT2kzW6CtGoZWWJoo41lSVTUpxPDLmg1Fq3q9u9INiDadRBpIUoe2urOYx0+9M1dXJ4rZY7Hp9rfpwz9SLUx2YMyMt64ppnlfdWqQbVCkrhOkCvTqFCHeNcVmt66ra8FxFM8LRnMU3tvLSP2oAlxyJXKlSOCN/dff8y2XKG4aop2Z1FLZNPSq0E18dp7cRmSBAsNvYQrLcluDhZ3tem8a3oAHT4fv/AcBquU4by6zzRfjan70x/1jJGtpiJqR4+ZdXvB3sZZYriditvLIzydrZiJCHha1P3B4lBxPECoi/ri2YamiWBDMwV65Dm39k9waKq91Z6kkmlOazgtGGo265aKOSvRnitUlEj7aO28wygy2R8PkPcPvNQqC5mgo9UudXkeV7ZuK86m44ZrjmZ3onNZ8RQPNR6fKEELYeCVIs108LHa1ihGc4pz4DZrqMHPZZpPEV4cT27725dHUua5iKfyGPu6h/dbD/WPzFGdIF5QgCJcryJdr5hbQRMEqwbeG4Ek88NpFCvGALq0earO3aFKP5dVT7N0m9yLMMilLW3knup3tVM07W+DPGURbidD+81ms4ppXbuKiOskoy9vnlbxNK2XAwIAOESxwCW+Y1rtSRgVw5DLqYvElxOjVEokuoIRCszaxw5xWxFe6sUj6qsa8tzKI0t8VHUYz2lo/PYGtq2reuotk7HsfmPG1rPyWzvDJSKI1a4iZp0VLiBeK3hO5oVmjg15RxvUMXJefq/TzabAKcybYrPgyhGlb7t2NoFh1svl4IMpbf8AOpzir7GsDOKia6kiij9PZ2qBItxW9clbZp2YFfi+XayzskXxf3QaklYVbXBtp5LiEIytM93Dwyt4H1WllFJALCIVM4Q26HkIbRVBPnElwwr3GkhX04iphrStmjGHDxLVx+Vgha72xU77NvqB3ZgohfeozhureBBHtUhzSjC0TTfl9U770PmjWaBpJ/UWMLtV2Ula48jpTZgt21rkreiTX7k8T/rma2u7S6uZVnQy0A8ZiZcZyZDhXyxFlIT6eNI5WHBFCFpJVqx1NxV/cFGu88MbhBYXSzXLYZF+B2+e02VVZHK3DMiDxU8vFbE5JNZyLJsR7FavG3gf8R9Jrps2FXyvEiyOfHkyE8s6g6EbTBK//LYACMNXHgYypXFSruvT4dLdvFL77pfce8h9tifsr+fVBmKLwqjZzTHFO2DJ/Z9R80ltLIqWrlZYmj7CrYwimtFw1pCq8ZeTpamNov7iaVa+SKuvDL7ldMdRI0SOyldZbEqvkG28pMcyrPoDdipbvdYmeeXNEeOmJ7nNTv6ie6GbDtbprbRg6/ANHwKk/CL4vB9qT23PU5MWp7LUDa0rOanzxn6f1Vgu1xnC3ly0T28jPIRi4J1YLqT/AGxSqyl94dWoK1ZwhbAQb0PjGsEgzHbZNDtmic1MmYrT+iP+3qZxErexBquc0x8M1P8An9Ufh0uZHrG46l5rFHxQrkcKzs1WhxJaL74f7kFbA0R4Aq8XMEP9V1GVv4jtPFfK8pv8zXUPvspPZ+T3Sn1E0bwyC1Zl6TBm6bwPmrGLhtruXS3xirof6FW8fNcE4PjsBqPk/t/iMe7qDarcgb9UbMuey1brtKYialj2X6RRrpa7XjVdtvc2tE/dmX3IxJm8PyMQgPpVemkNEgU4DKzkLruJhiIN4gGEret/BlUCfSSK1/rwRL1T3QwruzuBX6kyKcmm+aKlfoIxVhFDJSH7guZRVwOYcIr997Y4uLYZVEzLms0PBq482yf1XbfdsGQRiWCOYSxcl2wMUEpSWH30fN5xLyD+uyH+pcDEtrGJpXcCr64MrEhQ8fLZzQtC3SEzdlgsmNq+KNci08scQuppeG3GsV+NoB91L7Juz2FQ/wB2fBXx9fR/7p30TGxgXBb7dSLiseZvyQUikLnFKda+DI/nkZifdPP5jU+IZPbvXmhnPHVyONbZdIdi1xexmS1zxqseKOad8B5MkjKUivCkvEaEalDGr1dxCE2xINh+QlBqUpMq+bnAonupIexfaNfMe9bnO9Z9sjfaUaw3PmaGXiukto2LW0eZgssUHSInT0JhEZ2uz8SjAthiC5bM1nHxwzyiNNSRqeQGMwyAYsbcQNljLGbmBF6iGhWfnTkmRsC5qWOVYLVtra8fWraH71//AM4jsKth97WjR+vpCYiuySEhBbjSOpPdHLQby8TvXA6Vsz0VGn7BzR/EjWKBCbp/cqiotERnNL7q9VOKWa8apI5HDHRIrxFY3C8QKpRlxWwamUmngCK2FsBUbeyXVTGfuR20SSXq63fpXhq0j2t47dYpFhh5WXW+Pz3sinqLJdUt+oQ0G8Ct1FSX1vGJOsIaP4PFJNIekNhkktQkk05SyuBEg4oxV1aKGLEVKW1si4Sbpx5pmWNZJDcPFq0c0Yq2xxyMFa0UBLedJnEsu/p24bW3ljp45QyI0KwK8FIft3lzi7t31W9Ia6x3tziuUuT8fQK1pULPHGIILlg03qKtj9o44lj56liEatIyU0raJIXozZppAx2XIaPE5DL07GhzQ8UQsZ+0a9ODQ5YaSdWqMrJNeyaokmjPc5ijOy6rT20TUbWEG5jiq4ULZ9LRQvUovJi8cZaQZFSMGiuQRHbuQipITN9pY35JyPNY7W7Kk1m3JbH8q/8AOKCGoEaa6EZelVUVvl4Vcxwhaxim/KvkSrrJOPMf2y07CuoTGWSNMx8XvkkUmC6m05ci39lrblmv2ukNtbdT3WOOWWaSSZmiv5oRKrXfTyNAkglbl4quCGfuFkNRxBKP9f0hGaul26pT4qVtXwN7I0+BBaoRV5mnGA34R/ibhM8ys/qErmG1zdbVLJ6dDy0ZMNsmDbRyD0sHqY4UibFDC1eSB3iUOUJ2tiWoU34s5jAy7Rpy10xTiQKYrmyRKiwtzfW+s1vahYri3V0MEqqjzrVxbzTxrxIePNGPHYLmtcV0rzaXkXBddkHbpxC3inEe+o5UIZwp5GDRnMbfkB2vo8SXHzE+GurmRH3bk9QVXnWSNkClWxSEVbMXgsoP/p3EcZi6S0WL6YQI78khq1fNuxBrJSWQ5eZSrxRtI0kbRSRKGkCa0CdZPhxq0aq6tbJRULUKJSRRYJCps4qYZlAw1vlY5BhbXOLkjZx4c+2E+35rApYthjNWkHNd3MhmuS5MbHDq0sdc8ppZR6pZFcVcMwMsT7W0Oxkh46sfwojNXpKov4qssZsmEcDjlAim4ntF5rRmmvazRXI4jlfaL2yS4jo0fyC9rCQ+h6oMzdhRqyyb7FTKWQLq6AvbSAtXwJDgqa/d6u0NyQF2+3HMio0SSxBEani0qQaj9x/FtcIiSTywyyX2bKNirSSyTt26dOPTNPGELbM3xOcjp0upu7SO7iitsVDLimdc5zQh5Z7cexiYmZozUco3hwauI2zFmrgP6jMwq33dXGahTEVyh3cHjk/G3/DhrAr/APPBLRjgs3A3/wDynOH0iKuEFbYMdzKK9bKCZ+aiJtx+UknvtiuBUoDLPptqpF14togZoIoySfiX/lWKBZ19wxX/AKxT+KBo2iO7WMooQSvLHYSGl6fAKmf0hupFlHYUfjpEO9wfjNbea2rapvKRHYS31vBSdRM63TUG+2HZDbCa5ZoJtZfafJPGxhj+GJBuYm2Pyv5D47WMHJb3HIIFYisFmnyKt20ZLxTU6DkuU8qc0DirT3Va+0TJusqa1GSj2hNMQaJ9jMs0+y1an2S/Fv8A1SHJ/wD45QatfhbfWuFtzbZowbtcJsywtr+CXX9kRBMw7J8Y8W2DKsIFGPNXKETQqDSYVZPAl250wzdR9w6W9LTfD/8AKg8QqxyuKY6typTOTQ+bd81I3hp21tpRhTkXK7IwwvZo3iNdMg4bQnUB/ANZomtzl5HWtDPbyWiKIICttctmSP3KVxLYJpHV44EUdRr/APPiIxJirosE9PIzegnqPplxIP8AD3FS2NxDXTn1terFeZWqM4e8ACdo5JI6N0dRcRUZYajZQrQhbcTYqRBXHtNACtD8fl16drR6awqOzkSNYfbEAqzLsgQCBk96DWbI7Cs1kUPiVcrde1vGPLDFCN62wbP/AJoFEYbqAUSxvbrQurcCQgxf+t0oS7J09tbhKb4ZvvRD7DDwkmafynIpcNQPstfInOopWKG2n3DjK3Sant1Tzdt4qx6nPNJuWB5I7hR2PuKhVBwaY4pjyumsa9Rg4btN1qV9msfNuxrqL+ARiDzYIRTVHs81uxjuJM4szmCias2X1/VQOMUg2M9uD00dlGyuDoKIxVjGbizaxQ1NHureA2TVtJtIhqcYlVmK5kzXH4dgGRQ0WIyQYkq8KcMQk4/pwMS/3MGt5S/IvyyatTBI6sRi+7dUx6dVFLHvLIn2MeGxSfNjEpRPAf8AAe6cHxIfCSavG2a9OpM0NwpuyFs4ZOOpn2RRRFQymN4pQ6Xp89uqe12bNWknE8M4YeHGdQWrOKzmvxE0tCWK1SXrJNPI80nG3G6nNqoWB/NXfukxXSohLB5SRviGNHtbjMMqz7LZyeOQUT7Yy2uObp+DXS48t1KFksh81H7Gn/EU34dGkL2fHUy8dzdI2dTUUHFapgU42q2dRA94oaaeSOP1maBM0iarHa8UtPF5uYWMPmpQ7RxcgSvGaljy1wvuPHLEyCM58qFwkVW8f+5titxV43NI8QCWCfcY4jxUi4r04jsrD+jUazThBYRtLdEAVI29SgmrWCTVABW1S60YLWSrmFoZFp6e1dI7TfF2KIw3yerRZsbKxe8Z+jBE2ktZba+WSp+qIKWG/WlZmofaq4kWNJ7ppGrFYxVtgx3S1aSh48eJvFNXSANL+MJesuRaJzyXEu8dmeS0h9jRZzrlOmwgPBbiFEWrD2z9Yz6AfIBJXIMhyBTfh0mRo0M82ZZHepJGrkLHkl9LAxeJjihPLuLpRV5c72/qpDQuGFczrXT54Tb5Va27DOM+TWWrcUWNTiUVtgbeRWaRhrZqy9jml900oGLT8Zf+PjxP8NdBun9PGIiPF1FkWEYggLmaordjSKiBn8xyYotTeYbZwp6lGHiFN7jfx/8Az7ZcQ3tSrpKh0kkhEsVlm3gF57upyW0tfB6Zh7sOAGH3fFdWQSR6URWO1kftXYq18S/q/j9xP3OnQNDB1NcXDAaqWSa9kD3HSvIZdTGvZ4I1ksmaW3SrT+7qgz09fyFbHLZIFN+PR13kNuwq5+3C92xqMxSUPhLuWORJ5ZlHns42QQ0IsUUyY10irFZrFEVio4hHWKxUyrTOrMI9YlHgnVo+FzHJHSTbNmovzerZTxmYNF+p/hqsmGP1eymM2sjNGJ1VTIZCXqOs9ni5x6TiF5IjRD4thtfzDaC3bMd8a6kml5SnZbiZra8knaQ9opDDKs6qIpc0sgVLiTddqbwc9rE+LseIre5iZT7bwZq06asDV1QfZ+Vdcm9j4rzpb4meoj4Bqd0QJrxzppeWgPPcpyWyDJz2PlaPx0ZsXtXiCSGeAKUTNQxO1vcwcV1Fq6yYrNFsUXdSZDSOOTdT9HzWaz2WsirhhLLFDs07AuOKhFHOvDbRGzQXBEEcShUoJ96T2pAmLUWuj+auPj4qKBRX/nqB82p3tV+Cad/CjEX7kmVCnsIaruyS5WSNoj0sbX+PbZv7LsZrrUeDVic2PVv+f9AkkjpZ5BXMJLW6HI+TX5Uqsz3Fq9rVlnN0PZMuYI/wufnt1fPpYzlJMqzli9m2l1SfIq9jMsCIIo+sZS96a7tfTf0hitWduJ1bp8IW6h4Z+I0TmukJtfUy7I4DDjCvbf8AH6ovi1lyJHFAg0cd9RRTFaisVoTXEaCGuPNaVxrWq4ubaOSQzxxJphXUbRnSWW2tlqxReEJQTFPHrcvHyUBivFTtGkrcbl4/KJpaD8L4/dtZdGUnPJX9khp30WBxr6pOWN8gNXVYw9r0bHqmPtSZoaluJJa6gnN0z081Wfts+ofen0apLRTY9vUl7UjFA1zmj57dLji9N1mTNz03Lk/chupeG1tzmGc+7tPgxAayxJ/u9VOb8fIBFfBFXLsgVjjrYrpA/wB2YZhrpZ+24zXUExdSpiOuiSKHBB7TzkXzSDeyOYeormKFcNb4MrWKk+kcD0k9JbTUYJBUm/fFYP1X0yRXPqLY1dzAxpIrK0jY3jarRV9PisV1KNjc2ibXXa89twqFzFC63RClYjmO6x6toZGr0UXFJbTrUEUonY+OoSYQZIt4oyY/t0JPM7Brfp8WlxK2sMg9tWpFz04wOwCiG09LHxzWsmt97enCNnYjBqCPml4hyCHVbrp0Zjrp1ysFXtxbzV0t1jujcyqxumuOl2n/ABZPNJOjLyippY8SazMntuesY9ZBjnk/tf8AGM7J1F9IgwZeta8PTn4blTkdRi4rzpZ9yjMnUv7Lj/i10UKZu13MouYTDNVmulX39ROKsx9zvmmJpdiWt0NG2Pf99icDNXaNby7HHHtUgjqQPkkx1BHxDNbGup3DRy2VyBdM4UT38KUbrKk5rpLjmzSCr2AiQzurLc3MEUHV22acGAXMRq4sedjbvyC0mWpM28cVxyUEyjRRxsbtXtkt5Liv8ZdZtbd7KEITU2wEZqVWNRf0yW0TCVFaMWchHDqdhyxSDXMcaC3Zqt7bEXppqW2dKMStSe2GKPSKZdaiXWs14pBh5vuLcryXGiCmk2X5RfFX4ytqdbbqAL35jcVv9u4jY1FPxytfP6ia5tZJOo3ETCxh5Xs1iR+3UIraOQrCK6ffDmvWT0/2nq1A27YrHbz9RatnoxKwAC11CYGknURxwPdyemtYpr+4AmSTBgflh7Xvm9xV1Mi0lvDcVJazxnVhWat+o3G0fxLHyUJmSMi4laWxOnTrZltmsRT3+tG7LuJGIlkxUbDUEgPCk7pBHGSMtmjhmXVFuXqzhdWkwQXNFAQLNN5pwtckjmIWclemsqltYashFFFPJouu9GCg0kUqwB5+RauVAhik2NADLWQc4a2TXIfVKluDSXawwR3cWJ2Cpk1Oycge3dQHBli3XRI5JJbaRrhhNN0824lW6WKdbyAyZp5BHHf3qXNRuvDYgNL1AGG7JYHpYXTNZ+rFH4GM5oPWTWankamjaScxslQ3hhis9Z5b+HjvFiV2tJJo6D5G1ejuHkayWNsivdR5TXAxPHJho5si9fb1towlnt5qa0uWLRSqLa78KYpRPZxyIsc6lUlNGAOI4StCN6C1pWuK0rTIfpfIYOnpbmVbvPHeGltCCIGQzRSSr/jmJ/x1f42j05qRGC6vj0haltwBw06tG289NFcPS2b0IsDStK4hXEK1K0WjkX0lvJR6XIjemuA08F1MVQhWhR69DBSw8auG1MLBkB2uOmSGMwyKYrhlpILe4VchL31jpFwB8WWbWP07yo7SQ2VxKbGOWFu2aMozyrRkNK0h7Y747GpYGkoQtCWt5ZGjtIeM2KVNZpi3tm33igMUs0p1zRtozS20IrXFYrFY7YrWjDHQjUVisU0SNXo4TQs4RSQqi6ita1rFYrH0YrFY7YrFYrFa1itaC1rWKxWO+Kx2x9H6xRXNASLWWoqTWorWsVitaeFHo2MRKW2jFRTWkDULGFS1kCyLOlNuwVCtNc2Urf42GQDp86pBFbW695R5HioyMdvNfvtita9DNyJBKtemjyEArxROB9OK1rHYCv19eta1jH/T/X8fnt8nv+qx5+nH04rFYrFa1itFr08Vca0EFHYHsRkNFilOpWTP8Oaz9AI+nHbFYrH1mhQ/7Xj6/GeQZz9XyM98dvP8WK184ojznFNLQetjW1bGmQPRQgh2X680Se2K8d/msUBWP4s9tRQ/g/X/AE/is9vP0FBnFZxWKx/1cGsVjtxiizrW1Rt/AO+B2z28UKHbz9P7+oVj6PH0H+DP05/iP1ZrxXlT2xmvNfNfvNZ/gx2x9eKxWaKK1GFlrkKUHU/wea8/UKx/IB2Hb5/m+K84+rzmsfw+fpHjt+6HjsaKBz3z9Ge+azTNgfP0YrGaINbYO4NFENcZFY/7IH/Rz/Ln/ofrsaFee+fo/f1/P1a1474/6nzWlBRWPpz/AB/NY7Y8tQPY0PpP0/usisjtnvmvHbzWRWRWRWwxutAisisjvsK2rNZrNZrPf4/gzR/h+ew7+K8V4rYVmtqyK2FeWI8Vsa2bGxxnxXmsmgTXntnFAmsmvdnzXuNENWKwaKtWhxrT5wuexzWGrBrU1q+cNWta4OKC0VFa1xYrB292cHOvjXFa0EFcYrWiuaEZrQEcaCsCjnGBnhjNca0VQUFFaKKwK084FarWBWKK15r3USa2rYVsKHbNfvtsKya89sVrQWvHbFY+jA/izQPfNZrPnv8APbH1k+M5oL9Ge2a8/SSK3XO47fPbx9HxR7bUKYZr4OfoOBQ7Cie2exr4rYms1nvgGtVrQVijGGOhrBrAzX7/AOptW4rda5K5RXKK5RXIK5a5qMprkauVq5GxyNXI1btWz1u9bSVmSsy1s9e+stWWobGtWrDVq1atRD1q9aPXG1cdcdcRri8cZrRqxJQ5DWslAvXuweagZ69+SX1PJr9wFhKW+5WXoA15zms1ms1sKzRas0WFZot53NCUVyChItbisisVkis18Visd/P0+aGa815rzWta0VoKK1Faita1rjrjFcfjiNcVcdaVoK4lrTFajOgrVc6rWgrxWorUVqKxWKxWvmsVgVgdv38fSfmvHbx3IzRJFB6BBo+axWKxWPGKx5ryfoziv2Kxk1tWO3zWKxk0VFCIVx+DH44q48Vq1EPQrP8ADn6Pn+IHz3xWPo89v2a/dYo/WO/7I+n90M181jz3zRGa185wUbNZNZxXisDv89j84rFFawOw7eKP0Z+jP1f+R9B+frP04o/P0D6P1+u36+o0K/Zr9n4X47j6R2/Zr9V+vqNDzX6/f7xRpR2xX7HwaxX/AK/dN/Aa/Xcdv3//xAA3EQACAQIFAQUGBgICAwEAAAAAAQIDEQQQICExEhMwMkFxBRQiM1FSFSM0QEJTJGFDYkRQgaD/2gAIAQMBAT8BytnPgRbTxk0cZU+CbF/6dZPTcbIb97YtbNansLKLEtspq50nA3qZa2SRbQhvOHBN5vRcuXyuXzf7lHmc6rHHe30LOxYeiIntlLg6iT1PYlwPcREa0QJZx4KnJcuXzt3L/d31L9pbXHJlTuHfNER6FsSyihMnyJC71/unriW/cX3ygeYyorliXc2I8DHoauWEJWGL/wBVbQtzjQn+xRJfQWiIr8liXdXyXHcR5LjIi7m+TNjYdj4RW/b31I6s/P8AYbdxDgXGUh85LuY5W0PJaFk+5llHj9xfK2THlbJLNr9v1FLjOfByXytq2yQ9CHlHk8s1uW7lkso/vGWyWi+2h6H3dtLiU+B85VOBaLbaHmnoZEllE8s+NaL5MlkuP3D0WEMT0J9w+5sdIkSW48+opu6EMqab6biWV9CGXIj4zWu41k0TWX8dF/2tsmW0MTyT75O+cc5vc5zaKS2y/wBFR69hljbubER8d6ydsvIt++b0LvbkclyRVsmVFuJZsgI/2SVx2FlbO5cfGaRbXEnlbJ8arZLJ/uF3EtMdDzWT1pCzqc6YHkMqcakM8x8CeS03zViSzQ+O4v8AuLZcdw8nnFXOnJD0stq2E86gtFPOp4crXLanxkhDZfVbclmjy7m2m2TLHHc2yvpeaLDQotnZnZjgNaFLuHoYnuXNhRRY3Jv66YHmXJ8ZvQ3l5FyJcepHmSziPub9y+/ZYWVPYsPghCUvCjsqn0Oxn9B0ZryJxLFhLuPIehkUdJ02FnVFogK42Nru0LShiyecR8fuegcbZWzW6LW0xZYZhKjhh5yjyfiFdeZ7/XfmYPE1KrlGb8hk1pem2w9MXd5MWTJ8aYCGPNvuEs76GLJ5okXytnfOJIfewR1KI92JebO1iKcZ8ZU7McCUbZ2FySdjqMHb3apn7OXxyf8AofJUPZsYyqvqXCHjaf8AWj36H9aMPXjWl0qCMVg6c7NNI/Dl/Yh+zo/2I/Db+GaGrOwnsSkXz8iMtyIxZy3RbRDLz72nhK049UUe4Yj6HuGI+09wr/aVKUqcumWaGPJUpvewqNT6DpVH/E7Cp9DjLd8C9n4j7R+z8R9osBiF/E42y5KMVKokytUw1Kbp9B7xhv6z3jC/1lqFahOUY2t3EVck+nPo6kRw6RHDdLHG2SqMv1ijuKmlyOknwSSgSbk7jMEv8SoXZcwEvil6Epu43c9mfMl6DLI9nfNfoY35VM3y9m/P/wDhU8TF4RI6Ni2TEixI6ki6eT0w4yZLvKk5RwtPpdj3mr9zPea33M94rX8TPafzI+mpcmJxFSj0KH0PxDEfU/EK/wBTDY2tOqoyZjPnyyo/Nj6mNq1VXajIeIrfczAVajrpSkVfG88P82Jjv1EjpLGE/T1c76EriRJ3Z0nSynvtl1E23lYWxRwdVxvYlga7YsHWJ+zqsipSdKXTMsYXFSoXSV0z8Qf2Ip4xTko9CKmJw1JuD2Y4YL6s6MCvNmGw9JJ1aX0OWWR7OX5v/wAMd8uBcdj2evz7/wCip42RWxZM8rDXkPbOLuToYanFdq+TpwL82dGB+rF7n9WV6FHse0p6LES4xnSdI49zW/S0zoOk6d1Y9p/Mj6aFkuTH/wAPQ+EVmYX58TGfPllRX5kfUx3z2WMB+oRUXxswyp08O6ko33PfKX9aKOLpSml2aJ1qbxPZOBXpqNRpFjDv/HqkI9TJxs9h3I5xRPZFCKdRXMRilSqdCgj8Qf2I/EN/AivOjGEZzjye84b+s94wv9ZD3avCXTG1joFExk3GnC30HUn9RVJrzKNWTktz2gr12dKuVLRWxGRh3erH1Mb+pYkT+hgX/jJH4bVvyfh1X6mEwc6U7sxyUYwiy5tY9nO9f/4VPGyImXGx5wR7R8MC+TF+ifrpps8yQ+8q/paZa2XDPaSvOPoWYi2S5FyY7+HpkrcGFsqyK+B6qjl1Lcfs9feilgemSl1orYPtqrnGSPcv+6MNhlRqdo5oqeJtEP0L9TYoW7RDw1SWM7TyK2Bqzm5I/Da5RwVSFGcH5lfCVKCuzr+p1IWGqT+KCPc632sWErL+LFhqv2le99ih8yPqY5fntl0VrpXMS74amdI0jCL8qr6FCq7WZdMxvgh6GxyUtpox7XbMvFIv1Iq9SZhH+ZH1MYv8ljiON0U6UKmDXW7JCw+F/sPd8N/YYaOHpz+GZU9n2ldTPcGv5oeA/wC6MNhVQn1uaJ7ybI8EUdJPRT4Mevhh6HSRVzp+p/4b9TnNkcuWPubZqmq2GglLg9xf3oWAu/Ge5UE92Yn3aUvikdGD+pVw1F0nUpPJiyrYeVdRcPofh9U/D6pQwNWFVSkY357OTg9n+OXoTZc6im/8F+p07XLHs+U5J9TuYivVVVpSPeK33Mq1qso2cjp6sFH1HSQ6SZUnOjhodDHja/3Hvtf6mDxVSdVRkzEeNlD5sfUxe9eSOgrtJWMTthaZb6lkYX5VX0KZGRjpfBT9CKTVylT7SaihYSmpr49zFYanOr1SnY9ypf2IxVDsYKUXdEpuTMPtVj6mKwdaddzih4Gu/I9yr24J05U8C4z5IosNHtB26PQVREqh1s6i5CdjtYkpXLPOmzH+GHoLdCRIX6J+uaGQ3Xe3LkJbi3RQ+YjG/PkJD4KL/wAOXqSHJWOo6mQrOIpdSJfCjDv82PqYz5zLuxZs9n+KXoT8TGIwsFUwrp3tuRwDX80e4v70YOl2KfVIxEvzZWLnOxJWwcUjqL2MTvhYZX2PZ7XbIr71GQfTNSZJ4WtLtLkng1zIqR9nvxTZVpQr0Yxpy2I4F/ej3B/ciFBUKdRuS3IRsyxUp0sRTh8drIhg6a/5EYfCwjUUlK5PDU+2cutGNanXbjliN8HAhDccR1qn1IVKv1J1an1KUnLBzuR4LMse0eIeg9Cypwc5KK8z8OhF2dRCwdP+xDwVN/8AIjFYTsUpJ3TEVaXvEIOMlwLAP70e4S+9DwL+9FaKo4Xob3FlEdrFPvHojUaMNUbrRMZvXkWyh+kn6knpTa4OuT5MJJ9tH1MfK2IZt5HnsYB/mS9CXOShlHkasYV/41Qg7ovlVlbCRLXI0nIrq2FgIbMB+pRW+ZIsU522Kq8ypG6IOyIu0iVQlJMuISOGYGf5yRX+dL1LFjEfpYDR5ZQlsS3RSjbBzIPyLj4PaXEPQaLDQ88L8+HqYxfnM6Sxi1/iwEXOpo7SRdl845U8nx3b20YX50SvSm60nY7Cp9p2M15EYyjhJ9S8yT10Z9FRS+hUqYKtPrle5FYO21y2ERGrhaTbhySiyKGXIsuYSdPs505u1yGGw/lUPdaH3joYfjrMZOlGgqUHchUFVcdz3ihVoqNR2I08H9x2WE+4p+6UZ9opFSopSbLo8xO6JfQhG5JWJZwV2JFTxHs/56MRGSrS2Omf0OiX0MRF+6wRbYm7LJOwpooYx0049N0fiEP60U8dGX8ESxkfsRia7rvixsPQjCfPh6mLX5zySZi/0sO5hlA8h6baqqbI8Ch5klYpuzuiGNrfU97q/Ul7QxHVa5WxdarHpk9dyOUZnW8myLuTGyL3G8k2uDt2OTeaGxSOob0J2GUibLNo6WdLKUSxV8Rh5OD6kS9p1v8ARD2lWb8j3+qV8TOp4hSvsVcrkN3lYTsXKmbWaMJ8+HqV4VO3lsdjU+0lSqKPhMSmsJTT7mPOUDzPPO5cvlfNEiEdyxU5EJnWSld5KndE6bQuNMeM7l8o8k1sMS7u+S0xHtIs8rEcq63Ka2GR23Ovew9zjcrLzGy5cjshs6mRlYk76Iq5GCQ+SN4u6I4+v9RY6r9R42s+GVsRVq7TfcoRHk8yWbL6ul5Ryb3yuXygti+x5E+7RU47lCHtpW+47ZoehLbKsvhKa+EnKxKbb2KHjzbvTyvk33EOcmXLkIuQrRKq3uh64pF0PYjzolkl8OS0comRWxU2WqK+EZJ/DYY9C1zd+6jwTLFi2UeMmRhdXLI2Y45Ii9i43ctYqy6pikYfnKrLpRf8tdyjoROyiR500XtbKp4e4p77ZMhly8nyWEthLJZ05eRPxWIlfUvCMqcao8a2WIUronDp1Ri5CjZbk+NNPL2fFOs7/QeO/wCiPf8A/ohY/wD6Io4vtKig4oxcVGs0hCWxsSmrDqN7D5YjDcZV5fEW/L0PnSsqnhIckuNFNiZJbdxB75T2KZHk4Zwx8nUJ7ZrRHeREqO70o8iXBU40oXcJEZWKr21UCZPjTwcns750vQl4i1y1jCL8+JjV+c8lNl2Ki2ty25La5Eoq0STshSux+DJHlrXBU8JDknopq7Ohkqe3cQ5ET5KYiWU+co+HXS8Q0S51eQ+CpwPQha6cOuSiiWAgvhdQ9xpf2HuNJ/8AIL2dCXhqDVnbRSe5MlxqR7P+fL0HydLsdLsYP58TEb1pJk0UyKtnX2ZRh1SEjEytsRi29iW0bZQJcakiJU8JHklop+I6RrYeuBEaIZMfBLLy10vEMlzpWT4J8aVEWdkWRKKWWD+dExvz5FsvZvz36FTxPRF7kiXOv2b8+XoSdpjkJmG2rxMVO1aQ5XIciL7CK6bkYen0q43ZXJyvK7KNmyplTJlixYtnEqlNeZLnRQV5ZPgfOuCL2RJ7FPgZIuSyXGuPI2S50x5FuPdnQSpO50SOlli7PLO+TywsbVYmO+fIu7G57N+e/Qn4nojlJ76b75YPEKjVcmPEYR/wIVMK/wCBKthF/EWMwsZdShuVqnaTcsqctxEtkyHA6fU7i2K1W7shlGVp2JE42IcFTnK+lFRXZTj8JUVnoobHVcfA+dcUSLlMfBKWUso8C0+WSexPnTTRe0blORN7Dz6UOKGQ4KhcQuBGG+YjF715ZdVj2a/zn6FTxPQuS4+dK5G7ZqbQ5XyeSZTd43KnhKXIkVpW2OWcii7kHdFbghwS3epCGQlsVdEVISsMem5TXnk+cqY+CYiWUVsWNjbJjLnX8NtVN+RUl5CKk2yPGlohwNXGmmLOlV7OakOthakurcfun+yTwPDuUq+Dovqhe5J3d9K4HpgSZfSyxYw72sT8JGlbccrFVdR05Rk2RlYqSTRHgmrPVDO4xK41YpxvIStkyasxs62JjbvlSXwkrWzpjRU5FwS4yi7oeVsrDHzrjyOLFsTIeHNvYWVNfCMmuojSGt84M6yeuHBNaU7Fr6ks6DtIqeHKpuypxlcgm2PKnuVFqp8jQ86LurEo3KVPYX0z6OqbJrctcSHERCp0qxOq5C4NymMnyeQ+MocDQjpLCGiS31x5Hc6RxEttskSydiFrDa4yiVFvmsmr5dnI6XkotipsUelFS1ttSJCZfNDRGlKR2VmVnseRU2kSjKfB2MhwkvIorYtkm0OXUtUJdJKbeii7FkQZNeYnlF/EyqrMYmPcWTI5UyT3Jc6KZcudQ2IuVOdceRyLjFm+c4cZonyf7yk7HUjryj4S2x5kXdDFuTVtcolskIjFMSs7kZ3HK0ys9xcEoJy3HFR2WSWxFC5Hn03OzY4li2l8ZXYqskRxP1FWidrAi97lYeS0qwp2HK++XmeY0Q1zFqRcvldFxMsXWVMYhD5ExxJq60U+Cb+HJPpL9SuIqrbTCKkdmhrYnmmQ3EP4Fccru45dT3FcnLcbuIltE8hcjzg9xE1uWyloa2zYskdRKfVmiXOTy2zR5jyp65ca1nYjEa3FtIsSypjFk8qVTq2GiUERhvlCVio9hDITsxrzJ8aaTHHKpHOKuJEUVZ9TyjyeRJZy3WT2JaIq+5NbltFh/CiU1JZsjks2MRLJiLCRbNtlyLyWlPy1osWIwHHYii3xliayjxkl5jkXJz8iLs9iVe6FK+SFdD3ESyp8FTjQo3LfQjUcTaXA35DpliL6SE0ypVvstF9ifB5ZS8Iyoc6KL2GS0RRUXw6VpYxIYhiyRcuXH3L4FqjkhZIXzMqhch4cur4S/mSlcS+pbNNDe41tkiYuThEuB5wWx0k7Cdim9yw45SVtMfCPgg9suYje5J3ZQOlE4jKTL3G8pLKBU8OlamjdCLZR0W7m/cwVxxyjl1JH875VMova2T8I9tta2I1s5iHwS40RnYlNvNOzF8SGiRL6aYeE8inLcZHgbypP4sqmVMQ8pcZU+Cp4cnmtLGy5HglktFy/ey0Rdi7ZuR4ykR2yqcZQyfBPnVGNyplGbQmmrksobolx3Kk1wdcjrUkTj56EU35HkR8Q+RcDyi7MRV4yg99EuMk2OTzjBNXFBChc7LS8o8ExMvYUzrE9XUdSOs6zqLsu82LOJcuUYRcLtkqUVHZly5TnR6d2VZ0HHbKPIyXGXTpUdiq75wkSy63ElUb0SXw9x16U98vMZ/HRSldFbw6pcaqfhyokuNMllAnwJiOzR0M6GRT8++ZbO+c+ryKcnfnPrs2iOSGVONDyRdjzityolYirsnxnZZdTLIR0vRGNyUBrT1s5za3zpS6Sp8UM4PbJk+NVLgnwUeSb2elxuyxAnxlD9lJi1NO5GnaV814mJW0T0Rh1EqbQsrFi2StY8LuSlfUjzO0kcipNnRYukN3GrnZjh0xytksosqc5qDcbiXT4ixYp85y4LaVJobuJ2OpvS0bkdhliPc2zsbF8nL4raZK5bvXAs0WI/COdyxbu0PR02FOw5s5LCgxpocrrOMbippIcGJlRp5wxvSrKJWrKq720KZ1D3WVi3eNMSLFhdzcvlbNjaW4qifGb2Otrk6hNPO2i+SE0bFxybysWY08r9zfRcuOV9PWORcuXIteZ1xO3Q6w3fuE0XL/vL6pTZKUpbWKcLR3FYsMlTT3FRSIxt39zqZ1Mv/6+5f8Ac3Lf/kO//8QALhEAAgIBBAEEAgIBAwUAAAAAAAECERADICExEhMwMkEiUUBhQiNgcQQzUHCQ/9oACAECAQE/ATocrxRDsl0Xssb8ihToTvE+8MQ2LDWxLgrZYv5EnyWRd7OSnQlRqKhD3Vtvkbwh7URVsfGGPClQ5knZFcbbIjd4oSHhcDFEUaxLsrNFYSPFnixQZR4DhmKX8mQ3aKoT2ufA3futDER4G762WWWW8WPCVnpsjHZeIqyPYuCSQyx4TJkcvsguBxYkyikeR5DbwpM8mJ2N0MRD+QxvHiPa72LFFC3PYs2MQyih50+8OLvjNDwqoXZdkh5YuBuyHWJSKE6Q5ssbLLLxWVeyL/kXeID/AEJVt1Nqxf8ABYopo6JM+hEZUObZpt4WGLYpDwsXiMqPPD5O+CSovYs0OO1UkR5/jvhll/WHL6Flui7whxKy0VtY3misd4i/2Mo5XI9iKOh87KxSKs6zWxFjWEyfJWaxxhjeUmU0UKxeRyK/4jYxRGWLkrDRKFDEXwWd7UPL2t84vdLvNkfifZJDLGXhF4eLw8IrjLxeyy8dFidHZpjH3/HZKJQnSwkRVYlKhPgc3m/YYscDQsIoexFCganeY9j/ABRVsSo5WxCEmhsexLFCdH1iihqvajyQxL+Q7xziPA5CG0dDLxQhi2IeLLHi8LNDXAhkdQk7YusQ7JKxZui8xL20RGRobWxHY9qJCjZRCyOH/HboVskjsoUqGyI4jGhFewhlZe28XwR6wlYtMmqzCtrRWYlFjL2WdnjveyjxZF0WRIPF8/w2+S8cou8eX1hMc8I/4EiUXZ0SX3vvEnmiiUa3JWP8cNkJcmo7eYKxcF7kI5E0N7GsI862LYs2eV5QrLwnlfwFhj2vCFEosZJ8Vm9ixIrFiJlYeYSpDlZQyCHj+hOiPkOyKos7xR4i7Gzjc8/WxYrZW1DyhsQ/esWJnlwJ7oDvFY1MrDZZeaw/YirRVbHhEe8dusM6LsR9C7JL739+08J7kMvCRXI3+hcr3mXhqx4rgS2Q/QyPWPsm+Cy8LDWy82NYorMeCXYlmWYd4umeWYp5XeGVtW5e4nWxSLEyxO/dfB95fGyjos8qPMi8/ZKObzWbLGRHSWbLwo2PhVmxn1iPDwxOsMTYlmmS217l70LFZi6xH22yxvEWeRIRLlFvDzaIuhOhzRJ+RzvWHiyLJO8XYxY02T6vFljGJFHP1tXRebHsWVvWWLDRQsLKGkSexPd5CeLxWVsp1hIlH8lZ6aY9NI1IJcrCfGEc4WXYmLbQ1xhDzEd+w3iKze15r2Fj6FtVni9iHitiLwnskxJsQ2eDHFrDPIsbwsRimhQ/RrJ+azq9LETV4jwem/2ek/2Tj4/ZCTR6v9Hqf0epX0LnCQ4jWEOHAxDynQ3se1sj1i97kvs9SB6kBziXa2LNotHApLKPVguEetAnqQfWyXCIqTV2eM/2eM/2Pyi8oWxiV58qY9QetwXnoZf6PNohcuBJRVEeD/qHeoijxNSIoI8Ua3R0WzU6Ids4xqvgSPvHkPrF0eTLEUU9sVYiW6HXsxryZ4o8InijT63xindnpRPSiThFLgh1j9kEvE8Ymol48C6zPo0/iWWT+SwotngxZY2IssmsNFYopE5KxTikeSI6qQpWrRbNSKkemv2OFc2KE3yeWoXqMnKXTHwWaj/E0+2UUzU6Fwj7x92f2WLDIuT6P9QvUKmJu6eY4kULZF+zH5M8iyzT636f2fkO0S+JD44fTIfHE/gLolblQtN/slptLsUX43ZF8FkvkhIRRqRI4kyPLJvgjC1dnp/2elx2RTb4PCX7PCf7GpRaPMciHYkhpEo0ab/Et0Q57JRJKkQ+BZE1fmPVR6sSc00QzqdH1hlbWaP3lH+eY4mj6I+6vky7xdmn1tfWNP7EMlyiM6QtT+h6n9CnUaPIlK41QhfM5JXR5rwojNJHqwHJeVo0tSLLEyWoqpinE9SI5GlVckumQ+JRp1YlU2WWx/KJraf2NUQ7ZyVRLlGnZydM06aNVdkfgWXQ5NT4HKf6PKX6J+TXQtQ9T+j1P6JS8vrMmWLKJGmzyJMv9H+Z0dnWH791Jnmep/R5Mj5H5im7p5l1hOj1EeaJTVUiHReJ9CXOPAarUL+izUoilRUf0RSsbqbFqM86FUpOxacT04k4JIgS6F8UyzSTsXzkWWx/KJMaNNdjbXA3R5OuiEmlwjzf6NN+T5IxUUS6ZGcfGmKaR5RsTT1OCTLEzT+xxZGB4I8DxJRs9ORGNDaPFDVDNM6Y2JH+Y1hCJd+5QosUCUeB8DZD4obF2SX5iIxbPA8UT076OYvkXJLohi0jUI9CGibqdjmv0eZN2RXBR1yX+ZRSZDiWKNXoj0dn5RVCjNkPW+kKTjJ2Od/R6h5eTROXB5ik4slJv6HPihSfjVEOI4hxqMnLgspEvEikSX+ohlos0vsW5ulZ6zf0OT/QptfRDU8uCaoTo8/6POP6FL+iPM7J8lHQifuRWxwTJQSRDiJeP8kRV7WkzxS6NSK8WacfxP8Ak+ia/FCw5YfQpWT+SJKmViMbkJ0OaQuZ51PgLrE4/ZBmm+SXY+hRZGLPGySrC6NSHFi+KLRaIfJln3iUSPDG7miSwuzS+y6LYns1PiyHR5DZpP8ANklYolI8FsaHifuq2VijU+LL4R5F2P5ogqW+StUJakVQ3Ky5H5PgTJMRRJFE7tNEpSvlHmxOX6NJPy8mTgenfAoST4JOZ5TH5yVCgymfQ1RH9knQmRzqdDZp9Gr8SPMTjEX+bL5IcvDVjix6Z6T/AGTg4/ZFEF4lMSFlmp8WR6OBs0vk/ZliWF7K7xotJEuxy+hOyfRKCOBaUPGyEIpi3yw4njhDVERIlErDVnooSrLFElCzwEqyxqxImQR0y0WasizT+Jqi0YktJI8EQiSjRpiKJFFjVlENzNT4s48EeSI02R+b9mWJH0fWys1lkGSkNmn0McTwIx4OhzpkZpn3tl3srD6Idi4JP2Fmt8kLrZPvGi+CfYh/o8fsXB3waX6KKKHyxJFIcbIqtjdDk2LoZLTiOBGC+yMYrr2XiXR9EdlbrWHhZrEnyfZ9kfc0+y/YeFtbo8nliWx9iNJ/kT7IqyMUka3xx9i+eKPoSxRW2fQhFYlWI+xJs5EPYlhy5y8rsQ2Q5e6XYiK/IW174Kvab5IPbPCHOi2WKWGNPHQnZpxqI0a/WNONsr8/ZZ5sjdkutssR79jU4d4RPHSx9F4e1i6JGltY+xEO9z79mWpTIy8tzdDds09s8aj/ABPD+z0/7HpjhSs0+YjHdnJGDsUEhdIZr9jNFfiX/qbF1teI9kyOyWF7E+sR5NTofR9Y+iiucvY/iMgqW1n2R7Id7WP2GNWaa3apE0+9rxqfE+iyyT/E0nxhxRwPVSLI/QzVfIlbHGkL5YZ972uSPyJdEdkixS9iXQyHRPEcR6KH3v1PiJketrPsXZDsWxj3t0eo/wBHqP8AR6j/AEes/tbdTogQ73M1PgseSPIn0L4oiTJSedLo1ZUhs0I3ySkkuRcyvEhd7mMh2S6Fsl0WX7EyWJsQniI/Yn8REetrx9kO9re5Y1eiHRYzV+Iutj6I8Eetrxq/9tFWhIaH8WQjcUKNE+hi7GaT/E1526ErZGNI1LRDEyGbLyzTJv6F1sn17Uz7E+SQiJREY9y7JdFEetnJLoZ0eYtVUecS1iluWJy4NPopWcGr8RdbJYj1ssvGpDyjQoan7JKSYoTZ6U+rIqlWNSPGIdkuxTpUM0tOlbEasbiRISsn2Q6xRWxkOESfJF2tkyvZk8eJI+xLCwx7EfeH2R62zZ9jRBc4rHkxSeJ9mmUPDJdEfjirNVfiLrY+ihbKGJYQ4JiVbGaiqRp/I1OizTjeOhyVElRp9kiO5jxJENjY3von+hlYmLsjhYeOTkoSF2UeH5bpkEM04onw8M+zoRPsXAnexwTQ4SiJyI+p2OOpLhi2/YsrExIrLzZZrrmyHY9S+BRs03R5YaSGrIrkl2Q5WFslmhDeJPgvCEI8ShLjGq+RXdD4ZZIRDrCwxYvFiFvkKQ3ZpM1V+eUuR94n2Ii6JagnmSs8CC3vsjtfJfs6yuJp94jwjT+WZulmZB8bp9F5Rq/sUiUh5cvFEXwXQ2JjJQshppcj7OCQiPR9ixIvFljEyL43WMVFkZNdEm2+cMiWIl2JYZB7VjzR5os8keZdsjuYhora5pEp2aSPsgrRFxierE80zVfOaEq3NWKKWUaitHOEx4n0QfGGhDwiWJiI9bJlFFCTGUzT6HufQolCJZXWZ9iwyPReI8lHjifYsSVMQyL3qVF4Y2WN8DR43E0lwMUnQm33j7GMWbPNFl5eVijwTHpngzxZLo0xYfeymcji2JCzY98GPc+iijk8WKI4vFPGoIeF0NFkXyVnU7ILnDVjVDNN7ZOjzLIZaJcDF+TKpUKNIZFC7GR5eGLMlwMj1mI8p87/AAIwrLF1nk5yyjg4Jb4j3PrKG8PrCxqCGVnU065ExSY5cYkrIKmMRKNrEO9uohPEHmTGyTNONLDL5ExDI47I7HwRZeWWfJkYU8oltWGiLwhnkNnllJFDW9reyyzyFLkY3+JZF4nhsSKIxGrQtHkqsM4eGRLNSrNPY3hwUjmPYv2KQpWOPkTg0Q0672PsifeF2IgdbNVclkdjZB/ltezkViGLCH2WPkoooVeyh7pYY8y+GIYliuSvoUSy8sS4F3hkcPlkO9knyeQsTXBZeE9suxdksdMrgSNUtkXjUKEsRxIh8tr3JnDzZLZf8KbovEsv44hh4j8hc7+yWlmOPsj3slGxRSy1Z0xMQtsuxdk48C6H2JY1OsQxPCxHEyHy9tIokuSOHsor3YnGZKzxRwSPsRJ3iGJYXZHrc3Rp4lGxqmLE+yPfsuKZ4o8aZF7Zn2S6F0PvMuhmniXWxd4aFFZlJ3Q5MbPPasMiMl0WXv8AE8DwPA8DxRSzEeWUKJqzalSRDUl5clFEo6nkacZp84l1iPZ0XtcuTT4zNCx4+QoJbE+fY8drWPoR97NRcmn3tQu90/ljUI97Y4kRGS6PEoor3HhF5rKpdk19rPjfI8MRDYsMoWZPgg+RsjnnFHIy9jkKQnt8VssssmvLohxLMu8IXe6ZHs1CK52qRZIj3iXv3mKHu4+xy4y+UXsjsc/EU0x4ssvDs7VCVbGIYujxWHqJHlZViVFnmeVssvY0R6zfI+eiyyXWULa1ZQ1Z4ramcDdiLJezebOSsKNq8IvEXXvKRwWS5FCjy9uxkRlll2ONihizyFQo5bHI8kNEVWXpX9iTjmhxKyi/cTGyyx+zRWLyhJscKylfA4L6KGms3srdWbRxivZorFFFFY5OceJWKKGn9Hiz0z0yiitzTKZRX8ay9lboxRFJfZOVvgd4QtSj1CTv36PFHiiv/H0Vmv49/wC2q/8AqVf8ais8nJznk5zycnJyc+/Zf+5KKKKK/wDZf//EAEAQAAEDAgQFAgQEBAUDAwUAAAEAAhEhMQMSQVEQIjJhcROBIEJSkSMwobEEQGJyM4KSwdFQouE0YPEkQ1Njg//aAAgBAQAGPwLnEIHYyhiaxBQzjVF2HEi43TcrQ41oVOeGkJzLlVEDThNiuwQcNAu8JtTSaLSN+D4Tpss0ksTPTUusqfZN0IVDLTqr1KqUBNNlnbbwi4FEuBhDK7nTRSFajVn1PwXnyq0/k3FNDumEJXLY8MzepcwosrWXR9XDzSi8Olp/RZpouoys2aQEKyCi023VCideNWhQbbcM1cyqVliyzaIUUlSoVAg+eefsnuLrrlw8x+pyDmiJuFBrF07dS13lEkfLdXuU0u+ymjXfKYQ+XuVBcENlSxus+nlDEaAD3X4nIfobQKbKP6llkINK0hNnDzTRHMMqhp5U1zS4RWuq69ZWKZlECfKNHQgYVKqo/RSm4ZmNUfw5bNCVLS2O5RcC2VlaQAoLh9lLSHjZZgco7rdMiTuqfFSnhbrbz+eUC6xQyzmCY5rtahQ6/wABKHLLloVUqlwreVQUVZhyOoXLQqeFfgzTMqU0OXKKIiFlVad0dVWi5aFakIByMXcUWarONHJuU1tKPig3TXvd2V6qIQmKcBdNiJdRMFr/ALLJjtpNzZM9AvfSpIoFLjUooIRWUI+y5nXCym6/REmyed1Ubwj1eEC1h/zKcTHYPFVdz/0QyYDPeqcBEbCi5pcFEAeyvrYKjiVOZdSIIqoH3Rb1Rr+VSitPhbefzIAQbbyv6ZWGd1LfaECeL4qDuublVDKJuHImbqeEESgAj8QCkgT4WZxkSp/2VSB5VLI78A7RRqpLqotQxvupaMvZOB1QhEf1EhRPumenUbrMeoqVZd1zoBzCSRWGlT6cgboviQDLWE/7KpaMx6fbjRfsueZ7KpqNVic1zFVkc4UTsOZQrJNbIQVAxC5QZ+6kiiMNEhECig6LLYb8OwQNqovmBsF3UEyVE1GiAFCnOxPKaWVzfl8phWnx+URqEZaSFmfQTsmMa4ldVkONuVSwowgSDIUNssoUaqphBza/BWnC6zNafK5kCAhP2VQhCd2VFC78CMOPUheliV3qi5gjDJTSEdpRcR8zk4TA0WX1BCiTPhCFBMBRciyOaRG2ia6ocO9HKDytJ1RcywN4T2PAOZOQVaBGfZDMaKQnloTswFVrBTszpaLBNww2JuiWyAKQVmNUSeniXTVczYjZEq0+FBopdbThse6ADPLkCersU44p5dly14EbfmcphWlVp5+GBsishCyO+6lrqwskcMvE5dVBVWqWyQU13qSTdTwjRUFUJNdVQErNQKpVICkvL1McKGiiVuEaK91+IM3us7BI24eo1oaD3WZxEmt1AssztNkYMgiV+IuVvKsw6QNCi9jsp7qTVTmqeyZiP93Ao5AbqN1ekotw6CnMLFAZ2g6hqoVOiynMCgdkJqtTspUbIHNdGqwQ2IA5ijDzO2ikSVK5lArKzN12Q0Ou6bla173XlZGHKbxCmc2JuhmFQgfqR9ME7lRitg+EAcElu65BdFrIBCo79UQ/XX8+lFoVzAhUUgInVepqiWj7oiIKGk3K7BNc02UrmNFy2WWrgUA2pRa617prGDuSVMqbr5QqyUHbq9PPwHbuoCMqynKqrptqqKpopigUpsmgqmEiRHMnFoyCRHZTuUQNUzuFzfosuWurUInIRXdEmJF4TcttShkBjdOBY2qh8IAIPa7NJqN1ljJvwrooAHLqqNp2UOb7qp8It0C9QOlNabCpWaAEH0i0Jwse6/4VGk+UXRcaqbzshlJBQBMhdKkqIWonYrlqnCBH7oHKPCwWOrQLpCOVt10qxVitfhurq4VwrhXV1dXV+MZjXsvU0QOUxuEW1gqnShsiSeWE5vUiA3lR56oh5CdUgoOEKr6eFA4EzTgNVHCIqs2m3DLiPhosiJUrKRVdNl5RzOUKpqst4UALKAmuLoaVluIF05sXqEfquEyelQHledUWuOaVmsqBsWV82kFd/KB10TS/EsswY4jxCc0jDblqiLKi6h+quPYIt5o1kJha0RvN1czsiIgXshrm4Nb1NAsVytMnRVEbqBouyvIX7KDUI90WvC5XUUlQMtk7FFG7KiaDhkOpBPlGR7q38iyuqnjBRaLBH5PCE83sqtj3Rip1CyWCqRm1hRMowI7yucK8rZFSFVQDfgeyvwquVsCFCnQKdQq2X4YHsjL3ShOnDyqGB3XSSUTCiy9NzohEzmtVNX3lCnsoDZAF0JEHhULoE6LQLLosxQga2ITTM5REE/uiYbOtFmKPZB1mrroBZAvIAd2XI2G+VjSRE0WVvWUA35aL3R3X4jo2K5iSiqKoV1y3TQaCUMtN5RhvLurysobpVP8AKqhhkSKGQrH4L8LfmGTDZVOBgWUzZENxFWVQIZwoa2BeQuqiqcsouLp7oCdFkINEWtuEGndEq6Ck8GwbqPgosp0UKVzSiW1QhXlNWQt5S5YmH8qMDsEGtAzWV25tSshdNk4zbdZv6lXpBXLxJznNtCAJWUa6oXKyprm7p+V7YFynYXphjzSRqshiVCHqZo/RRqUDnr5ouSE7DgS5OoTFAo1R8qe4Wyzm/ByMGQqhFzHV2TRY6KaF0SjFXfSnONXOTnF8NiyMzUoOzcqB2Qg8JVAtFp91p91otOF1ccNfsrlWP3Vv1Q5RVFrrJuV1G3V1m3RDQMyrdekRROOHylThifZCBEq9ygSFDLFZSRGgKP7r1DhyV6jgWk+6j1A5W47KlkZIM8HKgVlRZdVD/ZcylqECvhGF4REwi114uszatTcR8RcIEfqjlEcqaTqFkjVZdyi6UJ14ExRd0INtEa2WdpQIqU1pbdPzjNIWZ15WXVcphctYWZxOayhZwaogc1FUHP8AsnLKW10QY8B1FVUWyytC5gK7ojlqgWPtupxMR09qBUgfouaivEVQvCyymtmQCiSeUqcyABCr0TRT+bmmyBuSsgtwHZOc2il7oRcURFFnFiqLwoDZ8IvIgLNMotlFl3FelkWZSFzsY/yKrocw9jKkOWZgLggMvAoP3KkGyk/MpzADRATnCBAKAdrwtovIRlk1Tp9pWRre6E+y5z7KAaQUwTSaIvO8LO3yszpom8tZ1WZzyZuE5r5g2UScyEkiblOa2ZmndD1HCtbphnVZQMxOqxOUGlFOUBSb9kBMyqKMtFGya3/M5diie6cTZTMJ2sm6zdkIUzVQbq1kebm2lWUlsSqX2Q3XSunhaoKOygIg0TATUKPgv+SWTJCPZQ6uqi4U6KDZQ3l9l5RGWO8rU9wi6XHysxLY2UsCg0UGPZZgYUmFmvNJ4VUwApldVUa5SFcnyjLQiH5m+FOHjBw/qoqtXdblXk3U0qgdNOFVCxG57aIjdMrUXhbrKBLwVWhXhf5ZTG1y2UE2Qa4yNEWuuoQLRUFBxpuiQ/Iz9U5zhLy6+yZA+YFHEzewX+6OZeyd9UIhpqoNVBX9xlDLCadIr2Ts2hVblVMqwHCnBsWX9SgqtFMqmWbVUSouhuqcMwMFOIMtC5Jpsq/m+ovKgDmQzX3V1INtFmvKdik17BCgIO6OWiyp1bItzRqoadEcx4AZuUq4JRLm/qpt+6/xD7qCfdS05vCzNxCXapzcRshSBRAlZJGTspGqkmqBdhN9qI4uHmEbqVmDi6eFd0NE3ZS1AwulO9R2WLQuZ2bun01RNqJlYrRQUWxWUXNGaKKxM3oobK9QNovxH5R2CAc3NmtqsMZiBmHKQuRxaTZoChw7qIMIkKaAboumVNlIQa4U3WV7Zbug0GiNFET3Ur2Ubqi/2Q5hKkmIRdcprnCqENuixqElEhRqqlCf1RGG3mJUlxKcxnUUGd1DlOn5UG6IBnyjN1V11kURKLXNUK1CvkOwhN08LNZu5XU53hGjkDh+6mqGs6onQWRDt1mkOajuVVFTCzChWUxw5qqpIpSFM3VaqXVAFAs1i4W2U3UCKKhWl0KLkLuXsvSc1p7zVAAo6CdF6kXRCie6LVhu+WaIgI5ny8n7LNIyFQTdZtEakNCebumjUN1EC8VWcG2sIyeexVRVe1VDkSFuERo2nuqrfZBOkVsjN9FJCJPKFMrutnXlbqglXqiDZQ1tl0/ZW4Mm5anTRoK37o01VjTVZ4qjaHVUarNSNlJ+HL8HqAV1VFLlJUhON5VTwizcNqdDXQ3sm4oqCYIKqVZW/RAi6hyLp5VyC6zZsrwuyqjwjgIHATwhHLylN2UXRAop1+AlxpCL26aqmi5Se6rhtoVRsV3ViiRisvrRAEQBYhBzXO+6c4u5vC1gaBZzrooYITDAEDdPZhk53FMcL2lMJMQ4J2fEhpRJcOVs2RWVTm+yIkwg7NQJuFFZkqtogrlw+XzdNPKBKynUrdShKIUTCEI1RMkFZipNAuyqEaURcRqg4B0QgXCsoOa6EMUu/VemzpnhFFKGbxKo6fgkpzoJnZdBHdZnGAFGYnwqOk7KfmC9J47jsre4RDRw8rLDvK9WKOoUIYSOxQw8OJmYXM0h3cIep1eUchIRBuFOvCS6qd0x3Wrlakqy6XfZF1YmyyubVSEIKHCUCFmGGmOLxmNwrKPgDXVkQnQabcJbA3Rcg4aISbtWXSU0HaEGQKIubAOxQzNYO4C3VPsn+pqE832VTRpspQd1tygtzI8sO2Vb/sosNl6TDMXKcaplO5TebmN1DwYRoQpzwjiHxKG2y0BNpRGZCDCEgHvCGVv6q6mQqiTKMFGRVFQfZOCDs0LsozKjgVOqjdE/ujov/KAgkKojjE0C/DMN3lBuybg5oHU5E4bWUuV6mFDXbtVHFZoHmEMOpkXKzNMt7ccxEgIllVDwGysjo+ywY0QJxoEzCc7De2PNli+UJTZ3QLDdyzO5R3X+N+in1C4aKjlQE+yq6mxWnshnlw/ZNQ9RwaCuXHBKDdN1CayVmztMVhERCBmqC7cGuTnGxUA1lDDcsui6q1TZdZqJA01UGbSolN+rdAtomtAKzHLZNy0ddEGJ0/5XVmPABp+yqblEgL/yuX7Sq0OyluqDoUaoG6F/CgWUFTOVSDIURRAAlSWr2CFUT/EPcGizG6r/AAn4J0dH/C6py6jVRP6KCE7KTZQAhhsaXE1UkiUcRrZjZNOaZQm6ibKHTCby8uyoIPGBdc3Q2/dZWiBwOFhuDbS4otx3l8imQFB7ceIIIEIZoHhGCs0wRsix9WOsqVCoOYqlOynDw7m4TXljnRWybLMhErMDYp2FhOpHNsqPbGiDyWkE6KlTuVGG2iDMuVwTDqazEovivhV3vEIvcByjVcrmotIDk7cOhEP6u6vZQDAWaaeVllOcXIPzVCq4lzlOqkwtEQ2KK11bVVqoIoobEphz5fCbIqLq2i8J3YAIktC7bJojWcy1lNLjXsoBO10RmBMaI5zbRGLqWa3aq6JrJjeEPw2e4XRh/ZMcyjDQhSrwhSqDQyYKbyN8lQDQ+6zAnwgzUldH6rllvunYbjJFj2UO5m7KWWWa1UeeAvmHeVDnE0VEWpw7Lpun4ie30xTUIte0D7pgF4Qcbqcl9V0mFkmqy/Tw7q9V+IRN3LLhARuVlxcrhuF6jeh5utXj+6IVySO6aQ2kLOETAbOqGeXR7JwbAYNlnzhgFgqGDrCLWOP3XPdQHkjY1CjKGk/ZVwo8KMT1B7qHOKzRfcrK4uBWdq9MirP2Uh34f9hX+ZY7LRCc9xkkaLNy+YqjXqVSCi0KcMhoXo53Zp+lHnzHQpwzUUD7qBUq1VLlc/ZZmtdH2Xpu6gpWd2iDag3V5KEFznbLKWxVd7LLCM7BZWupeShmIUE5aLsjFu6Jid1RVogUN1TdcgMu12RJMzqsPnLzFZWV1vNkZNJQAt4UzElNmjdSE1oMhc7aWVpCc7UK8D+5Q2SzcBBzwRLU0hw71RJgeUyoMO0WID1Ar0y7DDAfqqsLLsUGgoCYWcvgaapzvWmBaE5nquaQKd03IMMmKiYR6SdwmAGtpUubm7IerAUsNdlniCE4vKpVSmjRtSm4DfJQw26qrisT+HJNG52d1En2QJxAOy9Vr82XZYeLmkFUK5WOd4Ch+8ldIUQ2U+lIouecovC5elZi4ANtO6hPM8ot5UxIbVOb6UQFXDAMpqD5FF0vUNBusStTC6CI+nEuqgtGxMrMOkWUmoRzdBouV3VYqpcTuqyYWZ9AjFk11oWV4qv8yALmD3VcT7JmKx0tsoGyh6FOHK2sIZ68L3UTOkqq0UIm7VHAUqFUU7InpVqaqNZ3TnOjMuVuYJ0BxOkusmh/ujmflqgGOB/dQUG3ZCiITvplRmssSKOJlOB9Qu0c1AS8v7jRHEd4X7oNDHFusBRBHleq00NCpr7I4mami0lHwmNYIpQZbrUNLarDcLtumgSCL0C6Sg4TdSWOd2mFDf4ZjfCjEGXzUIlmK0sIqJ/ZdI91MCmykOC9RmG0seYkrO7UqWNzQnZnEGKSVh4juWsTqsNzvrkrKxo9ii17TH6LGw9AZClphcyDvqesrR+iDjjZWn9UY0COVozd1mLfcIudFVlY/wDDOybhz8ycT9KLhhCpiicyk3kIZjAC5HcynKfKy55TnQa7IephSQnBjSKI5oXZycCmZgV1psNLq6KII7FTK6qhAzKc0boUdmOiaRh0iCmhgAhFCXXUyVm9ST4Rbm0ojzTRNdFwu03RrqgqBVCAySq3XKSN1NqKnupD5UPoN91FRKEiUdW90Yw2hZru7qYKyz90A+o3UnZQm96FSw1RPzqMRh9lGG0+65jIR7w1ZWEcuy5mwdJRwdA6QoEJrRclc8T2WXsmAAQRdE4jvEMKblaB4Tn4gaa0zKfTw/ssN4AyE5XZe6AceRtfKLmjL2CAZmbArITWMvMIesJcqAA+U9kWWRulE2d06EDL2nWIQw/pqFhuNsyHohg9rod+rZY3txwnBDJJB1CeXumdHL0y081pKaWsfA1YF6bmR5QDenssqavUaFmo1xvREYVSVBujjvubITYo4+D1NrTVMmxEFA52/dUM+FVuXwufGMaQFyNHlSFORVWXFLD5U4bi3xVbs3CgJ9UHNMa1RjFk90RHlDwuYQuWyaGtQLB5VNUxqLbFgQjdCnHM1ZnRValSApUIRbuud0+FytAXdEnZOxi2YsobJ0ILUQGukbBE6goNfE6So5Qz6kWOdmBM7LkY1cwoszUYbJVLJrWxmvVZsaFnETus2pRCDmmoX4eQHwicU89qq4c3ZH08MB28qplMh+UwizPWbp4c6TFE7DggZflVcVrGbTVZTikM0dMpuWHEFTn8VX4uIJ7J7pPue6htf+UCdCs7SZXMG+4RcHElQsrzLeyysYfKxST1IMYpxDmUCaWhQH02RaWROqz9WVsRsmzopZ1iyaHXJhWqFm9MrqKqXLqKdJmqwi+4QYGzlRa3phM8Jr9+MrJvwc82aJX/AKd0dlPouHshGC+U5jsMtIGq/wD1usnSNUMmZrh2XWBOwRw3B1dUEw4TqQomSmfWVS6ZWSOUoO0bRAbzVQhxIB9oRBM9kICLbyjJsvVxBI0n4LBPgfKU1ZmNa4+VnPI5ObpKl45WmWqiB34y2iqSnOjmi6wcWsbr5XIF+YBtpWTRreEC6GJjiAdAjogApTntuE3mhymW5tlUzCDmkcxjmsp9HBP/APNH1MMnaDEJ78sD6VmZzNPdctO8IhFx04PaOu6mKLypIhVsVKz7okEiUG6LkbHdDCfUZoKc7QLHOJWsL0hhUXIAF/nlerqf0Tq1NFCaRWQqDVHvVei68yFf/uKcG3KanYL/AC1XKoVl0Kn3Qdusb+wqqupa4Snk3IRzkA/LO63XK8hdZVa8Ryt8ogOjKAjqnJ9eVQbiqkCmVA8LIDRB11BEnyphAbrKLNCl7oUtiFPaY1VKnssX+028JkFXE92rLm+6aG2jRDNc14RND8Lm7hHA/DI8qi6l6tK3U4ZGIJpCdjPHTRqA/qVGzCw3xzFOaLkJ+G7lQDD0nqCjN+iFSJ/VZQayg3FMEiZKz0jdOmi/AqJ1XSEG+kPYp0ZffVGcJ3SpY7pKzDW/ZS8ZiDTsszDNAnBek/TiJtKgJ58fsnf/AJBGYIyJa66Dg/l/uKLcGpQGqhNYFQ+y5at1ajLTOyDm/wAOfTAup9MLqcPdVqsoCGJGUhVbTVOOy8ILLssX+woDEWQYbq9kYYA5PJOil1lQ8Hem3NlvCyDDM90xpfmxDUgacXOmCqysSLURy3cbKNhCyi0IfDIVWptBccCT7L+HP0uMpuJNmws26dS6OVscC121EcR9ANVLHBw7cP1UfA3DYYcbqQar0/4n2eszQIOyosNzTlxJNtkcN55hY7rD2leq9o9R/wCqGFjcpbZ26IZytVVLDCqwFZnaKHNkoFszaF6LAXvvegU4+JmP0tWVghRB+D1G9GJXwVmYUCbkI+JQd9UoS4WuupXVODvZPKpCh0KdFymg1XpYl9EV+IHERYap2E92GM3aSEHZ/UjRO0zUWUSgXHmQa0eSs/CougNHUQQRy1HZYv8AYVhVGcaLN6seU1mblGpWO+RECvwD0RLnUgpxOI3DMdV0XOdmO/GiOfVYg7IA7fqiNCiRogq1qrqjiquVbIDRM8qFzODR3WVrszRfiDxynROa3mYZU4d1LmkIofUVlnzxPanH8N5A2XyDvCzYji53dYZ0JhNB+pAmgHSNlTjyNlOdLOW9Va6DywgKiaWjqqeMyfHwPHzN5hwb4VLpvai5b3ohR1Oy6X/ZSimu3Ced6Dg7Eiyyt1ICgIj5tEH7oh3VEAh+WESRJOzyE7FreBz5lkYJj7BUaJ34MY3lEEyodfXiMUfKVhR8ygvJ7JxAAa3RHPiuDJsEQekBWVLmylj4Oqn4OZ7j5PwCbKQ/N50WJvlTdkHN6rKt4KBRk1my5eUKIAUmvjhaE12gNUeZR2Ri5ujvxouZ3FzgLp0ovcjjP9lPCUfi8LD+AFwkbIF2Udmp2Z7sLQd0AyMvZOYTEUMp7RQLDZs1HsrfAWhGXkoMimbgHLyYCMWHCUecZfKBQP0mE1zprULuocg0CABxMWUMMJxzun5aIAmSBJKBN/hgEkcMTwv4d/0mODsBppqshKz3BuEC3mnZZnU2QOjvyGvkyVUSi0ME7rNlOUtTDeqxc1ChKyNdy9uEkcyk8MgQrQKTPtw7RwY0boAfC7YIoR8xQGgUacSEfjZ/b8WQ4efEHK0J2JigYekZ5/8AhBmDiMDW35rkpjjEu2RGxTvPwjxwxXMiZIr5RccmUdlzZQhBbl8J1a8AFlET4UFwDUfUMyoY1gA3UmJRTiNuDWNusM6EIyDuITWOaGNvJKpUID4ZABPdXhZi4lZNsRPdsFPFxiY3KDnmSbAKZMg6ofGWcHEtkzwLRonHsjuKoxVdJQpqroTPhXRa1Q5yzeydiG7uHgKfgkqd68Gf3KF2+A/GFLMNx9lKrxgPxQ7tGyc0P8c3sUZL/uO//CLcPmGixGlPHCV24NdseGMO8qK5tgpc6OylryUQ41QcgNlsrqEzCnqMJ3DEd44Ph0JvYDjh6OyiVXhlHEoKN0DvBTW/UfgJKGIbAQAnNnmuR+RHbhlETEpxJJonCbiV3m6y7rYqHwHKTSvCt9FzGYVlVqiY8poGwRhOP1H4ZzRoUF7Jn9y7nhP5QJbmGygHLtoECbpsWHCOETSIVTrPuinvRPZZlUUXKOD0DuE58Uc269R3S0LIGmfMosyN9ym4wETdOadCie6huuiyGp7KSn4mjEeEn5jKc7spXtwZh7lAcO/GFP2HBjtnLDdomM+lvwQhz0GsXTubT8idhwd2on+E92oWbeqB3KkKEfP+yM2XbdcyoLoSoNPjlwI8KWdM1QHDDP8AVVSsg+Ko+AHdYvqtnKJUsaaaBf8ApnIZ8ItjVUf8ITkY2VL/AAP8FN8IN7Ig1OoWYM+ynJexhGfZPH2Q2Ux0p2IQq7pvhOHdAG1zw9PQKDVNbMTCh490XfS1NJ3U/LwlQ0rneBO6OIyA0bq8+88GA7p89vgaqucjzH8jE8IlEuT42RealM1Q7cYI1CiIQAKzOqqXGqBn76IMOpiiPCBdd1IUgA7rlsUcnXSU3dU90QsjBzKXK1FH6FWRcNOAIw82Zs2oubBdhO/pWb1B4hBuGCXfumYQMw2vlHunnZRITmTX9k49rK/wAonhlAUcCnBNnZeyk9JoVn/3Qdt3Tv6KpmN6j5cJXIcwWOPlUIIDZOWc3ci4+yzZuYpoOpWTMPusuLVv1J+UyChAQ5s31o4pozSQg8VboTZEOww86ZVL8DO8fXSFiMx3ZzMsYNk05cvbZN21U/KKrE+Dwq/k4mJuYWXdZS66fDpomx2QUKWNJ8IUmk0RLryOFrcNkygMmqwvMo8KuaD5VCw+6nDzNfq0KD9y1UjzCZndJm3AisyidlGV3nKuqPK6mFQAFVdy7h6eNNLAglDJPuEM1jdYeI3O3mGoTm97oEkFUdlJWZ+LmKJGIfErF8n4eaxCxYtmonYOKcpDjBKo8O4Vc0e6/wAVrjs2qyDBdWnNTg302F1FLsv3WQOoFkEosbiNDTcJrJ6RHB2MwVd18cuKZcszHcrjzDZbALP8ugVVa1VGiLNE6N1iYZMPYZbVY2C9lYgPCyg56UYnS4tB0CjDLcKPmdMJxxGh2JF7NKzY3MX1rZqBmZ1RblkCiYflgouB6lvxsob+QGtq4puHsnawFELEQl3dNc+WjLRS2arlc4e6bBNt1U2hUlAV4VbMoNbSNk7F/wAoVjwM5ObcwrYP+sKgb7OXVI/vUV/0yqTybjgCKrGGXVVpwqwL/DWUUPZYBBvKdI5wU3EnLSFMsPgoNaKlQaJmI9ud+UU7pgN1lJ8LmhzfC9TEdDW2Cc43NeFeIcZpsnuBJk6orZTPHDZW6jTVZWCAOE5VQfBCLeEqSBm8wg1rqagFCNFMwUaoBoCGpJqpOtU1zRJz2WM4UeD0p5eCMo3THOcWN9OjRoiMXEeSLyVlzZmxAzaLDw+lxhQNE/NqZTqeEIsBCrxyxRSj8ec9RtweCuVOTqawnzWlCmgWjgwp3svlWY/spDahSRSZhNyioKwcKx63KmJ+ijXVVIXQGs8JrQ2gbJUNaBPBx11R5qt0UE0KxYNAi6b8SZspKw2bH/ynuk9VTuiH2XICfZNzAxKaG1JF9031+bEuUcsL5VQhBz+aNGqkz8NlXdPZpNON+FduElA/UYChDvYIGZlDi1w+ZFMoF6WDmgLMakoUbKMtyu7rc8J3QqfusRws0TfVPJB2zeyxA8wSQhifSbSnP+ok8MPEmZn24EHQ7oLyFlY0koseII0UGyyT/bwhELmUiVC5mBUp4WUGoCjMnzaVLU4puyxZ2Xtwb4T/AGVPurp1bCVCbPS3mKfiblMINwjpN3Lk9NcxapcR0q/DlKJidV5TiNZBXvwoSiC8eEdynRQRM+yA1qU/CzbL03EHvuiBIcBKwWvg+nLp+CiCL2iMUfr8G6v7FOazrbJTMYWe34cKN1KgG6wrZJgfZMJ6jX7oCKcGnvxB+kr3QT3hkumoKzta1hlQSA/fLdS5+bYFH6tUOBY6ifl1TcNpOaKmVRS908Rhm4f+iLyUTAqUEFCzWxNHJzX0cF6eJcWPHEmwCF1BzZVqPKqqBAhAuWJG/Ah2qaE6aouvCnSU3wn+yzWCKhupUarEcet/Kp32TPHDmOX3XLiEqVQN+y0KtBQyWQMVTgQL6r5R44VNEA3gyRr/ALIEXtTZB4GvB39qxMTtHEjg3zwdlx4M2LFR2Ef80fui1rMxGy5sTDHvP7LnLsT9EDhMa0dk1zadpp8LsX6OMfCIWVz5ds1YvKAwaJo78CWlbgey5m0WxRXq6AxwuoBkaHt8WLiC7Fh56GTRafZVumgqTYrI7pP6IYgIObZZgq8MfdAKFF+FY4Glk85TQbr5vutY7oHunVmqx2nYI/3Jo1T/AAFcwp4CQgIkNC6YQzKi37FVI8AfBGqqu+icDw/8qZXNdATHlMLbRXynN4vR7lZMxAG3CVdDLuuyJ78MvqHL9LaD4CNuID2wYngCep9SqXWWbcPPHpJQaZY3UbqixHocIKMb8HTwxhtiDjlY+WgqGjN4Wg91IyR3K6sP7qXYZjcVWIPqdAHsgG11lWQmoKw/J/248rlztB8KrVQlGCahM+vVZcRTdYQ3MItNxQ8CzdTm0hbqyywj5qnmYTps6ywXxRY23GvxZm3RJZ78JAkKJTQNjwCBJiQq4gX+KjiMLo3UmvBzT7KN+L0wdpU8KXUD/wCOEzwPCeJ4sO+GOGV+WANlZn2UnoIrxyi3wZGrIKt2Q5pDhIWYKU078I4fxH9w/wB1Gq2OxTcNzqFNryu5eA4402Jp5TC0fMeEFf1MM8ZE90ZoOOG7liIVCp1HBsKSZ4NPdAyuglRFVJIT9k00rVAEBxR/DFFytgoHE69fjIPSTHExZZXOICy4dTqV/l4jeeAYNVkFsvHwE7EmvCU7uY4+eFCR2QhkjUhPHaPjjj/D7+kJ4SqHhHxZsTEAedNVGDhx/U5Z3uLnbqWqqZ44O7U4fxDDrCcIVj90ZhtepOaDRjpHleyI/q4SsXGa4h4P6LEbcNww4HvwdOydWkg8ZCnj6QpldVXTho7mVE2mqD8nz9XZU4MDooFlZUovcJ2AXPhuCdPLmOuiH0gUTzVGk90crSSrojDOVyHqVdwhXWe/Zcxyk7qHvE7hUfI1ooU67L8TKPe6OLNIiOLWiwXdOdsF/lKPB2OPmTYG6qiJU/K2pWqgWVBVA4nL249MhdAB7JzXe3Ar1PlXZSiOGG6ZyG6vlYLlE4eIc3dEbXCiap+ExpL7CiGLIfN2zwrUnZFznBcpIHxAbcHz9SAWL5CMfMJ4ek9/KKgd0Q7qz/ssp0KLVVELGY8c4MLHY10sig24NVPqE8KBT8D8sXU5gm54osrBKDdUcKmXaEHAeVUFQ9jTh6KmCn/guDt+B1lQQvxuolQ3EkeVfheVGquhYjhRfiOzd/htVTwoie6Kce6B4+keqg9kwTfgd0SU4NpFu6nGoPpC5WAFQvAXZPrFEHuWeat4Bu5hYg2Cbwc1NdsZT2fUIWUOHcRKh0exQLDOL2UhHPUxPBomNaa8GP2dHwhFXvwJ90Fz9bzmKwnbiFZAsOUzdEN6WcoWIPCBU8MTHzBpiZXqYnU/gzysX2/fjVE8cRs6SqVTs1FEBoWWC06Fbo5BHaFBYx3aYK6S2KQeBHbgeDRwuqqi7qCEctFZXRe4wwI6DZFxvwtBCz4mKPGy5HAhf8Ir3VUXAUlZNuIATW/M0cGkVgoYmWq0mVXgXcQwzF7oUcWjULLNfHDBHdPbu0ocD/UAeAduFjN0zTCueLXjRDEz5pT+bu1B7nTzL+JwjoM7fhhFBz8EtaLmeHsvUxObE/QcGO2dwjdYrf6k4bj4A7E6Jqhk6dIWK0fVKYsRm7T8B4xu08BOjlRSLhMcIsg80lVFdwp14/4J9l/hOQ5CB8FuNVRGquEW5oaNFEUWTQLr9lWhClz83YJ80GgCoqJ3kolNYW6J59KhFPKI4s/iB8zQI436aQo4t8cA2anjI5X7oseIKnZpKM8cLEj+nhgn+lO8D9vhgEjsus1VOqRRZw4ikeeFVlaJPZMz3cJ8K1ODx2+FhFg+vAFtxZEvnNqmfb4PTAnM4fumsbYCApBIlqwxmMV/ZP8A7SqLM4n2XzfdemyYyjiD9IPAjdVugU1YZUG6JPCvGyqONuFeF+EQnc2RzdV6eCZJu9epWZ+68oZqsKzF5A2TnNmCdVFeDz3QbvxcMwFUBmUFMabtaOJbPKVfgG78C7ZBz4rWu6axr80XdxL/AJmJ/wDYiqBV/RSKkQ5dBWH/AEthPxG1E6KyZ/E4dNHN4+g8AweVx0499+IxGtGc9RTGfS1Y2FuyfcL2WJiDZBHiU5ulwsLyn0tCoodcX4sLTXOAqiFgv8hTs0p4/pPD3QG6wyRcIu2HDEYeo244kCmbhGxTVmN1B2Ute4L/ABfuF1sXOWe3Cpn8qZzH6V/6cpgwhS5WTEBnRcuDTQoZ8wd/VZNDXSO3FuUXamCt544wyCpudFAIHlYTH6lEcDmBPYIEgBn0goBhLe9105u4TS9haOGT6llkxsuZRmpoYlarEadQs86Qnnsvfgxs1iEW5gNBRBgk+UWsoTqpi6yMGUTaFAaZUG/DJuiKx3um5cAPG5RxcChFS3hiZnR+qGVuY6mxT3Ew3IbqGuMbLFZHM2PsmeE5CDPDmTDgtqLpk6FAjVqw81swU78AUw7PBUg0KwxPNmmFM3ELmungRBqICcE1YJ2lP/t4PlozRQ8cURXMUK83dOCb/cpU7/DSqnLHutQqO/I5cPCrXOarme5pP05v+VmZiE/3IfVrlKDSwERIM6KTjP8Aujzl82nizKeaNCmZqVUudARHqV7J7i0EupJ4ODozRy8X4jeqkJrcNmYBto1TicEClNP0UY7abtWfDIcomCsxLgQsoY7yVdqzPt2X4bCfNFbyCi31IPeE5jHHEeNN04EZDpmF1GQecwTnud5GyE7IBQidITSW0iFLMR7Hdip/icgIo0suppHnhzGXFRmw/wDWsTNjCHUy5pXKsSRXKV/hu+yzPoOGMxsyQmt2Cd3UjVXVbJtgLlZGf6k5zs8Llxf0QO3CE3mArsmAukgXXbKrLvCOKTmcLhZtNYQyYjgydVlc45WGZ3TGYLqawnckt3KOVgBPbiXudDnViFml7fZDCJJmgKc12I1piiB9Zq5Y8j4r/FThDhKoFlbMjvCLMQF0ogdITWZ3F2sWQZh0yCEea6a8E2txxfPANxA0+QiMNgzRq4rnwnLpPAM6/ZVUtMkaI5cA/dZgGDyswLc2oCOb5jKzNuumuoUhpG/Bs76qR/2lUBWfEYZ8qWsgoC3dVLfsrV91E2CGXm8IlxlunA4eHWLqMzvEouLA0LLh2Qm3ZEOw8sakq/8A3Iei0ncyiHA53dlDbrqK0f2cYTQGYeH7ysz318KESuh32VkJUnGd7hZfVlpOy1XM4DsoYaINxMT1Hk2CDTIUqyzPxQw7ESoZjDP/AFUWV2aN21CMYj/9KNyQEJa8iZlPdQACid64ERQlZW4bvSNjCGHm5uBc6YCAbhW1KriODptKbygkVmIRdSXarKddcJyc7NmdO0fk3hTm+ymq6eORgJNynZd90Z0usTC+r5ggyx3TmAzNZKAbtdBoyuZtPEyyhPUbJhwsdhINc1FSFSiv+inOfsF1f9oQPquvMQj62C7s1czAD/avTw8wfZrhRCcX9FJJhBj35WjVcv8AEP8A9aJ9UDF0cT+66ZVcJQ7CM7hQC8eV1u+w+KX4+IVRzj5X4L2Bvdc2Jh+wRc52ZxupH6qLKrvsF1FXQrIQBYFDRC5ncWuw8IPPfRf4f7I9LQf0QzY5orzxstFMZl+J/D/dsqBhAe0KWYf/AHIfhWQPT/TNEA68VXM0HyF/hM+yhogIo7qBh5ZWYRmCgtI9l/5XqkBtd4lQysfUVkODya5aysuOHhvbRRh4WPi909/4jMPJfE3ReTnk9SbkwyB9Rsi17muaekj4brlEqoj8g1cKaLkw3f6UXdAN81EA7K87hcrnt8L/AO8928SoOYN7sVMPGxDsG0R/+nGEO4rwrhgr/CZ9vyOhv2VGj2HHmaD7LphdP6qGin/RbwV1g+Wq4XV9vi52AqRmaexU+piO8nhXCZ9lytLfDiswxcQHcFf42b+5q5sv2VCEWY1Hd1ODjf7rKf4qGbBQyM++vwa8KfkyP4t4Cr/E4h+ykjMf6qqy0Vp40/6zP8jVoU+mz/SukKyoBC24yPiv/wBeifjt+Tb8miHCxVl0rpXSVzYZlUB/mbf9J7/zlRKltFUU34Rr/K2/kKfz9lXhQ02+C35cfnUquYFX/wDZc8JP7/l24TB9gp/IqrLld/7Ft8VL91dH+Ut/7Amfzrj4b8b/AB24T8F1v/L7q0K3CysrKysulWVlVVlWWi04aK44da6lGYqZP3VFJj24f8q4XUrqcwV1cq5Vz9+NguVoXS1aKIELRUhaKw+y0V1VXBUFsgqMoVkF0wuhv2VrcKcZV+N1fj0qyhXHG32+GnC5WquVf+cr8FuNONvzrq6uo/I04iVuONv5GoVgqLVXKo8rT+YstVrw1Wq6SrFdJXSuldK6VYKwVgtFYLRaceqF1LqV3KZKuVEuVyuoq5K+ZaqxVfguqKxX/lf+VUKpCPSq5YWhVgtJUgVVGge6sPutONlZWWvHThCsrKrCuk8b8KH8y3w3/JuVcrqXUupXXUVc8NeNqqysrcLK3wW42VvyKK3Hv8Fl2VOM/wAlYfCb1Wqvworq/C38v3/Pv+XZX4V/IrxsrKfzr/8AUD/0E/lH8iP5X//EACkQAQACAgIBAwQDAQEBAQAAAAEAESExQVFhcYGREKGxwdHh8PEgMED/2gAIAQEAAT8hBSlCiZFzgPFTs0k9T43JsQ2TXCtyuuCsqz14jCRcekTmJcXxATmFhO9MTayZqUXOy/5jkF5SD3EWVykKKsOC4yYSfZBKq8rBTqhj7ExbHGyX6sqOUlAUdqwyIpxFJHPCXiVuhzCBMGB+JbGngrUD7GtSmcDcWt6cUcINA3QPcFCE5ag4DlASsGfMFNj7BKZOZX67Uhp0dRU0fVBEs/8Axa48Erh0IzEauVgGJQy19NAK6YjTQ3LjD3bi0m6i22VfFgdxg79HcsZY5jWDhpKi5G2OP8Yo8RKa22SLOC56pKS94ZTWJbjK+ZQDYnmVwimW/oUBpi2DuMV3oiFZk5miY4jNJmGq4OsQHPocmP5Stptg/E562wfmIpy0DEWOE6p3LMA+fBA7hWrbgVcg/D9RY5aCVk8AiLDW2NRdag7SveFLYH3gheyNfYI7JpFCoNXxAEeD+QeZXCmuo4Dyv0mUPNEN8jriUaUoUC1sYI5bCAdRDxVt88xAG9BA2b8ksXJqGxtUOSR9Go4qLxqAMk+JlXo9kwlTe6gGh4Rw9xMPIKsQKX6DAyK7cSqx5TlYEYvqAWoc6x+6IDDR56mcj2LgUCj/ANKZsu47K9OGd1+hX/3ZZ1CFpDayyhBxqJZ79xL6m3Bx9aVVQWViZYLOJdcGkYy0nFS6pYQoUw4SkWN46Sjsi765qZCoJkcSqYlXkz2l1xNYX6zWh0lg5IUA5yOoXdXSDkEqXEtda7gECyinmeY6s2G0TiWq6dREi9i4j6wjs0mxhRcWRi4A1DARF01ploN9i/lN4TSrr+4ibHC2Ztoxwsu6XygSl5r4lPIXt5hO6AZWXnjhx27gqceVno9Ji0GoL6/qW2ROTln3AgDag28k72NQtNxvKpibnCBgzFtdtQRwXwgCeWuIHQUoFC7U54/UTlYuhK1N7VX5gnwvJMALjraW5a8ywAVqJpWA7mac0vaWW4NCLsQNlzFhJkhEJKXe5QsF8tEqV7Kf/JA21+NfEdiA1OXWH/0BS0SIbjTDAeOlLjuaGreoxDbRaDMpr6oTOFGoF3K1QdxkL4RGOHaTUIBMOyZBzTB3TtizN7JdM5hrPMCtxHaYZe18wOXEW63K4XJIyd0HiAYVTdaSgfWEA6PqZe0Hg1GJ55Iyccobi+MrR4SyS627mrkKRKtgZ8Jje649ZbNI0uOmBZBZyfMROqGBxK276jcqVey8xMxvqbDKpa26WZhob4aWI1da1fuRovyRGGdZUBPuuJVMApbTTPE3ppeLglsV3BcSncQWUjWE3IbXgMV9EjM4m9kxMh5YBhCwT7QUCDhwgXzofMRZVZpqEfZxQKo31CS0bno4XK5307mI8zCX3Z4ZXM5NHMM+2XmEag0ckdoUaHuVBFOpc5QwcEVER0RK3OGeJgalgZZC/wDxQSnUyWnhxOV7yDtLT04/+CpssJpr3APwCE3cKR3BUgndq5UxPSGPrmmncdeDLCijiVydVRMaAbGJmy/EuZpQQ4UCFtlmVivWcpMaGrixixzHS1Kt3GAhUW8Va7my5eQjhAHAJVyolYIYNMF9Mxsa3LchMjq9ERYxeY+AyiZSJW4U9EwugzBDzcDReAZo0QngwUxuBmFNWZmfiPODBT2Ye7xccpUVS7WUC1YtZXvKMU8oKDHOIUeaL1bGEd79HmdESeTv8EpucKU+spS63iYOYFYdxVFnSrczS1tXiI2h8Svxtup9gM4lmxsF+0NksYDEzcsRXFxY8Ogx00OOJk2pgl5UPFSmJtNQ01Q1K445CWnkcwzd9ZhwjfhczIjTV58wLpd9zE+TlMcrrJHOAj70XcpgtxLS9dekNYnIHb/5oFJZDlPDZLOz6GU8/wDzIygaeJSmrCmUOYxS9Zd+EqgSvzELdz3C0tuAVt+gsVshNX2vqUllPREFiPcSsBd04gF6VxBb3XEyHmLN1xOQ5birBUZ09MIhKp4XMzXo4l2mR3mVn4hAr09eI8LUOIA3A+iFgMLUFLLVNNyhwqgeQLFXiVjeDRNdADTLLbhYFmoCsGxxAauVwZ9UD94LyzYnpcGGxGcBjiYtvzCVIdau4D7DxOA9hRhpEEMjXpMJzG3mBiD0ReVRh4mDIsVHqxONzsX/AMiScjm+WXItg1ByAJlzjjc2raC44WRgAPEU8VzAkBQV1mFNR2wvkAWVLg6GncM9ZVMCO5VbhObwcTPdKu3iJu0YYQh4LY1CkpKwuv7g6JDFhcG2X5aibrscXiYBKV64hjnNGphUUVeUCkiOdTEMuAdzm8DMwQaauAMGl/8A2Vc7H0zH/hPyBsggtCeIhXKcy0OzzDcFKruJqYLXRhCqbtu4JLFB41WzmG7NnMI4bgGgl/We6hLyA4jWvQgb44GntKuAtNSeJT7SWWEFhSnzKYjoSuvE0RnWMA4I0rb64lg4Ynh9qE36zcrUq9pZenpLctMqMvmKg4dG49cA1ZKZB7MyAgtMRoHpF2dtCMALYdx6ppqoLWKDRBhmVelwvXHvqMgs8WiqEFotvpHVipUukA0NR4f1MgjwM+sMB2irLfSKaWvH7mOxuVs0scQsQ4hWUN7BV+JalXUHs0qJwBnbmDrLnumVwESsuxXy1AcIwS45PARbolPoTKod8jFJHh/RKKg2u8zTx8pTWNthT2fICWoa5GOL9WGG9NWzfV8z4yLeJTC1m9TLLbG7CLgny6maAR7g81785nxYAXBmEbPeB8he4WaoeK+i/wBCV6+Er5+GV8/E808k8KeF8z/rT/pT/pTw/meFPCnifReSJe9PYRC4g0WIxhinT1EPFh5NRk+zWblMgVy1qITWoNyvHSXdypJpcxUdi8y7qdY3MOY35mcK3zlliY3EXZcDzGuHFRT6EXKWcVuYOj0nVDdRe6WT2yzApfCVOZi2NxKhUNm1R+3bNhBLIbYjNLp0KgtY4jJisUQQUQ5kkHgkfMDkVcSkcc0WxXnssoQSlCHNVLCAI5XWNa/cGXroHiU9WWt2SB23rNBz1e4oUQFkmKwOWB9Zoy4OMM8QTK2qjglsIW8TkVeHY7WDnVQRt94i2COuIE0FGrmApvKWrhRviKiGqPaFMTKsrG2su22PWJWibRQ5ZX4P5jTPnPxDEQR001q4l0c4uI16+64NasMsyLrvmXYwdEcVefbC3oSCQrnU7AN4YXxWY8wT5baK4isg5K0spyBhpMVh8TEAGIY1ojXlLdieT/8ABcxVtTBEa+q+rJNqrzqCxbTjlMtraWOYjqKhRvBF2DfpgY0sHfrKquIzpLFCVMBzUxbEzZcu5p71jUbJcPlc0EC6gC8wW5CLPJDTL3FHAG9h7hRssEOEkHnczjorEAFA8MeUsjXSOLV79QPbzt7wxQTSmYFSp4JpAUrRD91gJxKa6ARpiVQLcEekcBBHTIrRcwA15puH4Ar6dFfqIDIaT/yNgQ8EfnuuZZt9KhKxcf8AAjm3WKGeoG1LPCLYC+2VC2cJaLkaYB0aByjciavgvrKhZGItAFXsuWQZsPvC4Ay7hZvEYpLEorpOG7itd/JFcUFXfcCFrV5nJV1mACs4YVl8IykahxqMrbaIgzgGFqIG8GMQ6lW5h0KmwQkVAkzuKr0C8kG9fSnU8FPZLefhKc38Sx5/+QN2FYTCsjThlz5BgoAATiaVDy0nMGomNQVPDhlOClUhabbqcDlQwS2en8TQ/DMu/OHmJg4bmUfK+IbDjs5lKF1zAgOPWPsGXatqFAbTOeYte5e/oDgwesKAC9M0nTicqp6IDEX1CJoHcVCDC1nEDEqt3qA0bnqVZbKsjLJQ+mJq5fPn0nQ7A7qUP7ZJAy8i4MgOlYVyxtlNg6QQKCOvtFV8z4q4cUJ9QEqDlLFONcRcYwCx8H04OWxSvMZtyUq3k5j7yAUDxRtnDS3GDiACKlDkS3munmWY0yXQQtFNY5YAHAGYgJjV9iGLotNSJ5EKgyIbr1jAaRdls9Aqoem8TWrEuogp51IOG9oa4Rq7kAMvXdiUmuorqbAxY6Iyk96l+R9qZqLbupeUpBazOhZiN9RPS64qF4m5/q/pK9wr38ph/tKPB6MbOM8jP9BMuTFI+7H+WKvJVLC22ZaNqi5jszLBm2nqN93RwSwcuFEzchuyaqPce2Y2vCBg8wdxRWJQDThuXWFwUyiw+8jMUNPSB6V3KqxtSA49riOd9MOaG2WveuIpl9UuwsJ7Fh19Jq5dE8C8xNRNw9g7viWCcncJU9V3cFhkQ1ZJXqCivI5uaK22mDbZ1uFMWhkYjN0it4itY6OZf9e7QeyDv1nUhjq4XqvZe5lyl3tUFCfWOrUYBojFjfSx1LSrOE8FXDMof2IDowPvGsGUovEu2rCjrudFKrdwW4jgywwxlhYnWcSzo3JUs4cTMxhVXceY8oqBXZyvc2QWmGsBuZkN/CpjpsKdRA2guqiYV6wqOwOahqDAMxTIYlUB0pRcTIa1wuPSE0/sQNhRKxhDGWylyMPTmCw4NwlNniMdQHWRikTDij8zAEO2N8Ta7iEJSc/Mutkw6/8AhTqYcsQdnOLK2sjCxPFTuaaZXFrwm8qTMLR57rcyOesy5tqXG4AGTzLamvMG0sfKBMbzCYk1cvLRiGSLrBB6Cup9uKj699S8lVNjLJS/7JArPSd95is+RJ3OaszFzerwwYQrBsiiM3HpNBNgYSqDlRCpUGspFVPeZwzCMNCuBEuEF0yGLadUS5UcLhYOLqBDFGiTIYK8IT4cYUpcgAxVnkO4qZvhKdaU+WmX9Ki5inwxcZm9HJwyn993com+Ya1MNOjySxEvACIpz/i+ZlUFS/eDhYGhUcFeOWolQFXcEEvmwBa4vBDG9ekZ0/XMQKvZmHaLgB1XNcoYutoCGwaqKLLGL7irV7j8RpFeiCt0kHbYcJHKLUOxtcEsFRctII0seJXUPfUsWxSiLDts5g5vCuSWNcKJdzvxDWNTMwxJBchS5sUj2DKDKYrHUrpnsmORnp8pbyfEsf8A0lomb6SkYTaw4g3GWTK9MOoxFixkmHLWvEDdDWCSkFl7V/EwAOJY7EZgXrBOEq2CUw6tHsMEMIQWq+nlN3XpKNC1VYZh5WB6EAq1zfEBXLvE9PA8zLTKWLfxCdfSlr+9fmU5n7RgMWEXGiB8D9oiLXxGHfpGGx04XRHzuZRwhaKeM0uIGSAG9CoTJHF49YmEWPKZU6ZWUHdgcX0FSwiwC9zAtbpJY95KVwzQd3y8xKsJf2hn7DcNBZMeI1sxcHiZ6Y/UvSXr6IbpRx5fMHQGb5QtnTLjO/AjwQAcFvYnrCsFNFFJmdA+YDthenMvwhkomAgJo7swFprOKlirXM9Dj/dT2uBrMWDKoO0AqOBgtc4PEsSlRHgAHBAUwlaw7LlSrF89SoXtHuhO2JUXXXMEBSnCRvUjeajOpI9CHvlqIitplKwcnJNWOWIOrg26GQ4iyGBb3DKaHLAhbHf/AIofobdMpJY2QLz/AOCW6UYruWdKLMo0mmeolknVuU/TawF2QwpzMRg0vMpaS6gc3bR1BSdDEFbavlICtw0YMLlzpMuY6GFriU6hypi3zMA6LEbJfiNDanTFzV8AlVBUFEI6TcEVRQvT7wALYvqWi3wgmWiLhWlwJSL4EHABwufaVPWlo7HCOb9F5TUbhcvRloavubDkloVSbDBVJjnpgXlddMvSC7XiYFJ9JlgHBVLywigmUJYXj3GxaK06xxGBYt/DEFsxUTzyob9tVMpc9AVCKU8MKXv8+ZvJRvi8QyeTDL443PTiBfaF3IZsvaOVeymmLypnMs4AODqDikLhtiBmDZDSnau5dlVuIT9UICeibVMO3aN00c3AWtGek6KywBLXhEUEVDbuPlcMBhsOccS6ALMeYgGngmJJ4JQ9UJZtTNRLs1WPWbkqqMlNpzCL5BwEMG51hK4/I0RGgOW+4IrhKhXwRjbPEr09Nn/tDslOFPRlHSPrMnUM0zYgWRygtxEJa1iECaai4WXDXH0GFnSvEUFzauBlriF4GfWGKwGEyJlz7We0dN0OlEtwV4l4DB6pZ4A3UovfwI964laWXlcy5GglHSCykXCvJsgCzC7vUpfupKdmHcXEGjwzgMhMy6u3F2mB8SZBF8VWojRWVli9JMKVOnuKVSqrqURN8xtaB8IgkIM6BLqEKrXwPZjRDxUDDgpIoufHMQArfcuQK7aZQELtbcr4llVt7U5SYwssAUF9O5jW03oWYsBwuIIe1+GUEF2UXM1LdRDcWmD+pQAxJRbKpG9ckRKmIPfEqKfUQKDbaMJYg+PMoKD0jMXqfMvArBfu/cYGXN9SmwCqjKVgs4LhqkoApRRYzmOUHBK5KU1c4ZpyQWOilovItx4mGWmaglm7UqNBwy7JDRXltgLNdX6Riux6ijxVmUxdHXUrgvzFQ9ipnqGy0OjmcjJ34iDNviQHN0hE9ErQUvEYp+oV00Xf/hlkMKCcmHqZhze460SNvytxkFNFh2Z3U4SXAiq8Qj0FzLIzS0gf7qOlnOgwRTk+07CPWBRwx+JXMT4jpDni4sgXlUeNcCtwWttsesG8qvhnU13MpucgeYBa42XCwC+ocX4hDaXAwa4gDCrO4hQu4gk1TDW5Qdjq4RwCK/NDdfMs4o2+0wbfcDKiQzy78JTXaGWWqqOjkuZD4d+JW5ehHcnFPUsh+20dVjkjx4mg7ttct+9oHQya4behpSiobohLvlimEuaov9S7GrRwV3uEr7ld3MLAIe8vVAop2ys6G2znUG8HTjMS0tmEqKCcHjh7whtCEIByp+PvKPory7YK9rZnUAPxNkt0ZMttJZ2HRHHjA51GkHPiYYblbPJL54buJGT68wWRC5gNnaHNygTmXis3iVbcW6YbPvQHS6iqaoXwQKyKFRsOS+pUWR6uNq2WWnzoTHaDmOw4aSUYcSpmLBXUBnI5Xf1VHGslgJyw4ihjPaLg5SvErDyxiVQnw8hlnkdeomWCBHZoeyXHCkcgIXHF2PKOSJPaxW3ms9cMoiXaAHtD8ptHUVGrnJF3sjmjCUgdZiu2UyoA1a7IQP2iMqakzV2MF6FPaCZuAGdxcuXMw2IQsOCFTAnNPtGVwRIbCQbpuJMZRqXlcXD5ivNYcpEyy8RaKvqanioaXlY+hpOZSwGylVttxkrjxAAyXgw0Z8MuuBbB7Qr64Y2XlHmNpR2bzChVyrcCiMZ1Pswh5UjpE01fEoFWWbbYEsDVyHiXTWyv94mRLIOEWi93ZxAblgBzcyGmV3zDKsttYBvYUbMtMgwMpBtnzBurnd4/uKit2Wpjr7qrzCqLGS8TWwKlUrNOFy1Uw/hMZ5guO5lSaeJZbA5qCIJ5UnEF3HjKbxFQMWypkVHpUt2l6EalqFbVR6Zq6PEc0X0mbNWHEcS7NwgIpV35gdH3iDp2xZYPbUIrxh3jqEI5P2gwy5wp90VnEZlxufXKByesMtd+gfEIdFGUKuZQ34Np1E0wYs67YrDOOF9YIWagWFDa1eY64G5x9o9tX4SxYZgIXLXnZJeRgGIJ4UKGOjw9Fw+zLXiYhCyp+Y0VhZYfRF6Wr3MHoTG6BbHUG8nxYlquEcmYsL/fWWjoMIkoBXbKuA7uwqq1ueLgBq+b9ZeDydwaKZR1b3lyxuwRjeF6iXEmUywU7qkRgpas3Puwuc4h3EttOYFdmUqIiDXcKFYdTAM2CCLPBBVwplIDBtaYx3kLX6Sgco/xFfilAFEuOtZjrRW7CAOcNyMza8F8wscjLDuNhnd7jrjKhq6lqqsKXgYUnIVSFZvvCwitdYARFsFzDhi1RNxb7IyWg70Mot+gl7Ra0ugwQUFniBhPKmbgN+8WN5Ye0tjWQR7irrU0iQothntlSu2sqWEEr6mOuJg5K/VAfDmy7lPygP39RWBV6BXyZvA0gGvcJpa93QlFSmrrErKkZdMcaF2zv2goPMEKP0QIAG13nQ1dQV4LibNDow9samzF6Fmo4voH1t1/jGWXW5Q0ANB9Dde04pxAVZD/ADeYOS0Rl+p8/MwyK0TSayXglNY1eUWoDzqKboPxMaLKt4in6lsEsbODSLKCZ4cs+kyVy1+uI3iu6CUYuFvdGYIx6N+8tzIZZtzKilj2VUcIU+bi+XdvTFny2KmeiV9VcdvaEqjRwfbuJpKaeF/8htKrdMAQuSCQXaL43MN4vrSZDRXU+agnyDQS216jOoHUJmuYilEczIzgbheZgFlfMqISlmxjVGF0qPthds1ghUp31zHAUnVahUCbxpLLxNOYm8PLE0C22c8SmqL7BGQbp8wlFVxE6t0DiVC/Le5UGLhX/v7g+cFRkQVnhBoW1C9IAYRFAcMsJByGFWoGXFYgSYG2qxCXEdirKv6sz5E4heLqPSw49ZV+FyXcRvAFQ0QWiOvWUpJcXEAeRZ8oByVYBiFmjLfE3zffG9G7LfmWe9YG4APULi8bXZxMLkAAeYRRAYM5an7EEf8AXKso2zf7jBoLbc6b3AA5xIuzC2YcILQZZgBGxGn5CCNTZQYfJLoBx9QtNjFxldy4RXzMZGO1AO2oCuA4UP0O7loi2bX5lNQpcYI1hSXLtVK2+U+a5glsKmDF8NxIDdLtXi5jIoKnLDqMcRWNlbcDMP50+0AMhR5cxnSnMXDc4MaPnxAGecaSoJ8luf6CEwxBPWrs+nEqbPtfxAbjrIg3d+MsJXVlHliWGKRNlestRXFr5QbI7XIlZoZqr3AM3Uv3lk1D/AI6Ci/I94+MR3XVVGCs9S7/AM31PMPkyugIqhkQlIGsxMCvTRN1pukOTIwzXIQSVAxiGusFRNhWMI4dPMttnFkSs01Cv6EGrKDBAVlghq6pSnqoNVQT3QNqeM1AIVZO7mshYN4QOJiocL4l3euahuTgI67mgEGnSMs8r9YZpT1B7q1XJLaQo2X8xxmQeCU07FrZH16C7wHcL+jnefSY0GTPiDEfAgwi3AsAbm2C62Di4MlKpbghUpcHUSuoaPWY15vNz4qenUBhtAJK7h5O6NMx69GRMnot+LmtEO6xUBc6FkybduZu8cfuJYaNEVNkBlm0r3MoRGGdP7lTWUBx4QjT0a74lECDMSsVloe+EfdBSg4BPxLc6DRub+6p9JQDfMeqy8S9fsS3P4r+4q/LX6ZWy1UzcL7SowH6NP5hlidUouITOWI0sho1iAjcWnVStyQqknzTGlWg94SPyEzsOBUqiV2VTGNC0J3ZOHUC5E2VcZRxL6CKZbnMKC56Eyt7im7+0FGpnN/TB1LavcL7fnlSjbMuhTOT3lQWcb0vSo8NG/aXAQ0Kgxa63rZE1qFpU7AFhKU6Ra+0YKBc8sorhG0e4U1RrBzGxK3NHqECkC7pLSOslLlGB905eQxUGQOGJginqU2M/YmQ9iIQCm1xdsF3vRAq9GJYt0UkNYpHtYucx7yjeYDV6g7XRWcNy719KJwJvKVBMMjNTIYJiLLu2C5bX9SGk5WekuSMa8xAO8Bqp4UHH8pnVndOY/2FGraxHpXXbj7pk+t5tcTF3YGYQc2q+bj1SEW9Qx2RlssI9MEABMpO4q9xOLkAesyoYvhE3SbX4JRWFaEKs6jDDW+1UfFzmUKDuMVBptiNKGmoHwgES++F2spA54giACK99QpaVUzfMu4jxNFhZsle2vQ94MGlvKv1Csr4/ch0IrbZ793Eo5p+UXfRtn0lyC+LjW4hZZUU4m+uuI1WuA1HXlsLKgKWHU5XCreRRiYVPCj+ooXywFJQPHPDmWkBzUweUoKsnw3/AFLBEHJcA9Xc7skfymaikmAA55TbVejBME1+ZrGzQap6uLQqLetzNp/zCduoPmVUemtTw1BlkXfvMxF6xmU7qMvNnMsiHI0YC8hXHIvAaupfM/CWgxZUpYAKesRWJf5ha29JhbszJ1FxmIDaIINTl2RLCdVcwuYFmyNzK4DgYMRIE77hmpCHuP6lAi3XLGt2GHc34+hC5+YFJibW6lRcN9ywMPuRBW9EDk7LlQQB65hQctR0wd3B2BWzNRG98i4SqkxQ3M6pSisxL0cmXgrwZdwsLplwgZ7EdwMD9Evss0bTAXXUZGk+Ex4z4hkEPQl8fUNkqwtcM48JKYNektmNEeKmQCJVjVhJkieUsrj7Irtpe9MwrChfXf2/Mx5RVcYSaVyWYmoD8DFmhXc6hxLV9LnDFbyXPrDRixjdYhBChia/mXvd3WpWyOjonXPdYA5UKVWEtI2OsUvX3mxvkyVKKt5vF8/MjNb7t1KtLtXF3a2o8RBDOSZOQmYGZD8SvOKLL7y6OFU7gs2Sp4mwl1f2KiHS8lUIaeTJ9oSv6KiPLFTQBpuUNKMDb8cRxOD5fpiAcpKZb7wktV62Y8w6wlpanuUlazXbuW12RP4lNDstV+Y79d8y6hx+BGcYru6JSMHZ1EC+r/Y94QfLgQ6AOsoG+heMbqbXwZbH30yzMwLuNYDnZGitE9FLynvJmkatof8AL1M0YuC5j05gWu5oxUCBxKwWpgmkC8lyKcoumArXLmHAzazB+CPo5hJwFHvErXV+I7MYROWNC64MS3Soo/qXdOIpZFWqOPWLUHmVcPC4pht+UJkpXVXHtq8ekUg+Qo+YLeJxFH72jMJkMIwZpTM4Sr6blDVXg3ww/v3oiOhJVWFwSrQLduY9XEKpDsLzVsamzucRzCniOmsa5gVJQ4viX4Lsmq6gJCpVGpVhLUV5uor0zAANXK/i2MaoKPqfmXAR/JLCqFKYhSYqzamaWXQQWKA6r8QVUqAcX0GniNjJKXOLnztV9v8AMWqOrEL5OCB3OwulqN9UryuL6ShyO0JZ4jW8UcjXD7nxDnjC+rMYCbsqOahuYNL5Wd8xuAdtQOYtWySnpe1li1aunc+X548w9UOKaIU0rU+BMVaO3DBKvam5RVvVPhVw6lydesddwrP1Mi8z6yi9ngrc1kPNH2my+WZvvGFWvljXDyPpDDEE+7MGD1WodwWlRoQxVHIv3nFhcUlsTfOPsYiFTkKvELKvmLNP2ljdbL+IghHkE/UO9CJlZGKjk/jEpW8I77DssRuHabZYwjNC7mWeJYI7Ibm2szPhbZXG9o9YWm9sMS3CGH5mWYzMlpyhZL13sLm9L7zZUVFl4IG3LvoTAAO6h2gLDqEoWmfEXZ7R/KOdHtNPXnn6DbAgJr2fExB3DHKA5QAi2UJuzl+JqNgjxKDhUAcGD4fpxTcT4jWzMI0bhvEXoGYQlUj5zjsnUsCo+JfAr+1+4twAFVoOYM4jCXnzAelFcQAjTFNcVFsprJQzp12zk6vBq40r1m9XO6LfyQ1lbmj+ZeBKKIexi6MORTEgg3hUIYVbbbfeXWM4/MAzZeiNId8wa3OPZF7UM3/1ClhVgxm6zb6hC8Z7WvqUzRVbqLavrWmGt4eWoJUKPJiYCf2Q7jhMDq5YMQFPbJVK4/siBpfFDUaYEQibCGsHZLj1ICPgj5KHqYES1vqx+8pSoohw+I3y8116xZgJX2Nx38n0iUOEQShNC4v9PEajgGlit4tbjlTgQHqyYXnRATR9mIuZjeIrkvTEFbJXmeihgGoSpI3QpilaYTX+zGsNvMuvYVEyf9sak4NdM9iB5hWLJ3qf5qNyUbr5mLHpcH6U0jmIFlWV2bq+IA8WglADW6uVFEsGdyrOFtFtPSC1QKsyS/EO0OHLm0pXLrIOTMXDXypz77gJKQ5U5EFPuhEaZ9nH2izO+ydga8f7zCdTKGVLcIhfUy4AybHMwCwDszObA4ZYrPcOj0mcWpZSncUYnIOeWL5x/DDKNXbRomfgbVmDlgJsVLzLzFZsh3nVxeVPO4JUU0hHwRoZYKDmrLpUftH2R7Rqff8A7jYEHYfzLZqcWraN2hNgsuWdp2cPcv0KHbqLrY3eEsQDROMaiyy8xviVwIKIE2YFYA1RGjNIofZBooAPc3MhF1U1nc44W3+SFnfqtesbY8rjdHcs9QZRF27jnZ2a/qHxUbm/eOBQRc+Y1lbpv/dS8H3GMZG22N7aWATmBBm/klKqY3u8zHFOFTBHhczycTNtzZ/kxOJ+amlLmSUEHNRFNGXzFbeB0RvkqOY4PgptGpRBdKGFJDwg4/cWUMxiAPrC1Qs5lrFAKC2mM+E0V7EwbUXEwIOAzAOEYXZXSQWC0esoDwcsR6Kx7QCg/uYLMlBHd5l081hCWKWPRUNCcONZMkHPUAGtXXze5RsTyxvoalC8ZxwbjBZ+PaJi+9QsTRWXUx9DgmCDK3Ge3OHX+/EzAByOYaUPYfn+Zg7EHlCiiS1W5HThUKujvoR3kfxCaAYOehNfVRGAfuNr4r5ZcKtl4imwLvUKP0A0R90jmC0qgOWpnWtg/wAfPtKwzkwHzEMBNBP1g/uUaIUJe4VLxPuE99AdMU6FhDRHhlqKeYByDl3TExFoyv8A3M8KU/1gB0jzdw5exfaeMSEyI1IeCM28njuPZCAtTYtGmGngKIfHGA5UtDjL90ujUtS2DqvE1EIoeCAhq9Y36QLi5BORp/RCU85/I/xCGAJBVdxSsSYLm69tw35JjOiuQe8uxf8ACIF4Z5pAdGnZtGB5F/XFsQCo3TQRI4hGDBeLmByedaX6RFLO/MW4Q9jaVmNpUOMwgF5uTG3hAJYDTNxT5lE1rEs7NEDMltPScoWopsIVvBhvmHsDLqTh+ZUHQhEpmV4iTsAPf+/E4DiAru8RjC7qOtKTToxBhqHsuDtfh0+srsGu7JmOQddwezYcSorM+i5T0l54we0YuJ+VwPiPp7DOKGDmKJ5D3lWLaITWBUPCaDCZRz9CyEoZYi3rZFZ9osJYFiZ/zO8PUhmaVmV1r3dzczhNR4FQZK0FyqPEowwe6f1f0FK7CMrX0fSeS6v97QxkGhTmW1dbFuZRdXl/upjHVQq7zV/EV8TbN2zMW5BXyOohMbi9BzCR0BKcMM+uMjcCWEOkA54igu5hM7KIKg6oq/L1hF+p49CCB1aWZi418ywliKacfq4TLi/Co3eZlb2nbh36S4uBIbnQYeBF9UqHWGv4mfjOO4e/UJtxqHceLPAOZeXLmFI2glY0nM+9yMfoIaebM3AGjQSjrcIlXKvkndzYZlOw9YnlQPKzQZmnHzMbAwXg34IG2hmk2aZVowbb+0bIR6cQHflmDHdUSg5YPVmrx+pfvNOx4lI2eAqfCL7kdXLW+s4xBCDh59WBrcdYyXzLqG66R3630NymZxg07VnrNu8xsqc/QZrG223AyFUqcH+qPUYTbRNOPz5haUm4IXaVMZ/7FRLEDqKJmg+0tj4Sg1HgTLEo5ls2TS9QEsj2FQr/AMx4JSZ4jBcN1MTagQ4k4g+htUzYrZwg3qOLOSUhv/T8RnVgga942XLS5QaOpgfUwe8WFVYQaEOGPKbc4xj+okD1FD149D3jWc/adwjM8vrGCEqUIj/qDEhlgXKDNGtivxDzMRka7n2wL2lwZTS7iOEVWRgkNB4jkv8AJCeVh/4Ooy3AWYZ91BAg02lxQ2U5lTYcOYLbli7g5C87j6wDiPZGbapcwLsMQ6Vt1iFW1vl3Kuth9YA9T5NQfh+JeuDuaCJtTb4mprYnlgBLGbBLfYo+IAuyHpqmf6kzFOmD6tj8E+6fpcuX9V9ET3qhubQRqU0S90jC1aw/n4lgKcaOOgOBgPPMYjN2RynPpFfmVvSZhfUmB2/xI+DL3gnuIXQue9UjDzhcLqMiEysBYCPrHMw0MVhx7GEXmxhWvoXr3nT1OyUCztjHxLjEh4HtM5pZgqXrmLfx+/8AUdS7lQrUJ4hl4BssVkv+YRTcmtBi/b7S6sJjEsX9EEC5V/BKiSIZCNUegjC3NIvDLvxj7/1KJacPrxMyeZZnkm9LENuHAS/oWWBdcOhzcGRduD/w5jh+i03TZBGs1N2NUMS8Q4J6w3CjaOpcACVEWi4v5IFZ5li/EWquGmaZlRVmnRbOE26u4LTU24ZUjIbHOIRjo9D6Cs63+ssupo9ILXiFxQ5ZlJgLiIfNhXXxP8vww0nC78TI8I81Nwio8M+5j9a+qp4Eqhu7SyxM6ZXpw6hO0zgBaIG17lKS4RWsOT3v5Is4K64ICYQWziyba8MfiIP5maom2DuXnNJkxe/Px9ADBy+X/YhBSzoIPzUWMBwsXB1rMCw3cpHhDo+HUKvolhanP9SxugXpClM0OGUFfWe1B+ZSMWyUaM7CUOuJC5Z/iZHeQDm6gA5NRwBtmX3GUoNEDFwHmY8buob5Eshpf7+8rrzeh/j6FiwkO0cU+PMZ0UDYfziCyHwBl/cVw3/43aeId58POSakvKFkjbztD65JfpkZLVTdPBqXLmBjsAHsy/oAj7ShMX2wWRQMrjn2MLrV4jWlL4ll1bcXHqa4M54ahZtqhF7un2JgUe0CiMdj2SAmfsvZBQnUece1P4YwAx+GHZwRSYaMj1N0df8Ajz9GUQOe0WLKj9DzGlTvWZcAZMsLTBAgwXkp4u/zB6dL+9t+30ZoGw/ctJ5B6YimmfI1OySiez4vfEsEqaYuVQOfRy6lIr0PwjUIH+6CeJeJlTOCX5f8Y+yrrF8ykWLre0vrTR6v+YKd7a/3zE0WiXS5oenEqbenrHD84OnBme41tgx9OYdLjomJjW5at8teIHkZWI0RzRo2yl3qDqb1uIJoLnmJT6TPWLfd/wCEOH02lPcLHLBgAysCq7OMsYb/APCpgnhDs0hvdYPaFMayPXcqFmqI5ShpK1uy/ES/Yx6Z6RA5VhwAHm+ItKz96IYUZc83mWK7y/P2hoGnFk4D5PMyRxU1ZQfb5h2ZlB9O42uMPdoYV013N3NfnEAa6h6AP2MbM9CEHDuFbMSchLTZM7/Su0unh+nrNxxwCyErECjkiASfhexAMue/8StvcFkLqNeCVymiX9DucwvUzMmTTuYNW8OpbmpwCh4lZgfPlhV1/Ev9Y/3zG7Nidf65RCVtF1/EFidykStfygkrdqLIampZ8w99XFL0rz4lzsWwbaC+EpnQn5WfwlSemnEMDsQ7j4acQMKAXFtTrgy5MifL/ma2gaLnB2yeYB6mDCmjtmGp6ss43ZVzCTEdfRuMJyOdnvFcNjcpcrK/x96jAGQw9iUYfQ3Go3snAi/Mv6HuP/jmM2eYPg/mA/wSiXebjPWNYqGuNS0FcPiGMaXzBencyRPS4vaNVtFZiI2/LiOUPM/c4YbETxKQGXSxSvzEl2jD+UwXUyIFDtufBEDVnuncU8ZmUD4aYGrC8XUoJrZ4M/mAhMi2DRqECItEfvCrZZnxFwxfWWfqbmiCQuBAdTthL+jk6uy19lIxcUeWH2f1EiJui62Cepnp1LnO5+TKqwCmVUGUB8QTLTplfbXjlEAp+DUSVRAXH1BfDKL1f6IMxtVhxy8pOgY8KJdTmNgGCMDYI/EdL5Qb9y+IlROXt0wiKVYpSl2zi7iAIzMVLHDcVTHTLRT+P3MY1bxPBKVKlR4JdlWj0mdp4dsHEsjcLoxslhcFhpOZ/Vdev8xpCjSe8wBRsVcGIF5y0bTqp848/wC5cIbpW9Nw490NVKl0ucB6ZRRTyo4qcw/Wtpb83wl65dPMV1cUfYnNDU2lwXQglvC+OiaP0cfWrPpUw7mp7f8AYANL2lIRSpqOvGcwBo+ksFjAUEPJaVuOAes0uL1YosHHiDj10a7ljWaLWJaei2owcODbiBAtAcwLQUf0mHHyHWWUCPFS8YV21d1dwnCaqMF4Nr7nZF95fELDWnOGeEqMHrDy8EQQlnRH1lBGH5Q371AH4Sfmo6vi4/mW1l6S6UWCp38c/wCr7wW4tYPUuLPkqDAOM0FQ0haVTcO5ChaDMHJXqnY6+IVMXOHUwVgc1cq6XdgYnJouiqCY1g+Zkx7lU/RQhgVsGYR8CvZRGPR0yXDbkOkmOVPdnDTyJp2cl34mQ3co/lLUOiZ6hWmj3iTTerStnqM18y5rHbVB7zji0f1NxKLRXAblFDxz/MYjr8t1FGTbqsTfu6m7cxSqDhxDufuZSFB0j3LAIuFBBVMVLOXw/iMpAdCWdgDC8QLZPLEf6uI2pKJkeipzCw1BKwIYsf0+I6qqj6C4bc735BLO4PKAkxiahjKNa95inAf1+o+UGJzL9uHLAjAX3E2Yw1D6ZYmW6JlXtAQlGDvzKa4gdQJdVJxLst+s7qKhrXIAl51zuYLvapC0pQqKYO61X5mBQnOIg2vkhs3fpuFuxRidogAqzk/3UCctNWdv+JVr4IBJAWuymW/acNnn+ib3rNP2iCl+Yf1KUN/8aWUqzlgp+IDZq8Tkgf8AkagaYfaVmAdEdFTcn2mmLmDSRDhBorvMoFw3EurxlUx4/cDF7JmQRqC5slh+IQdAsGUl++poIJKiTN16iGzG+8pZeEBF5AU95csSuMvMWaZXZBfZ9yZDA0qO17Zdav0TGR36wtq2CzX3jrVit8BuO5VzQ2TCAmZOsy8A3uBAAeCFEtXqCsodc4nj5rMwDoCGu/GpwosXZXkgjXulM44dsT15ya95nA8VBaJxfMoyh5Q1WNTzC0bbehCndMU+Jsxay0TKKOyu4m5kFpca24MrkkFsodZtPaOIYFBHpUqLlySrrLd/4j2dBMXl8TFtQ3KjBFAsrHmjKTeJTM/RzAy1yhWGiWYmmiqXFNiQsXmpgVlzToYXwVGVwQ5i8wozVBP8PrOOR3MPZHBpX+uUIXMYJjL3qQWK7QsMOh18LLxcHkyhNPX3Ktp8sRnxRZzWALtsr9xEUV3UCXjiYwUm4IdiCZBN9RFFZlvLxNexZr+f+Snf7hvlHe2jQxbM1BLOcDsKFfqINY/4P9uN645zCLyOdGLGxkcwuVh9n3jxXF0DUp4GuS6hIqnZAK99ASTmWX8RrQdMyiu43RlZnGT0mCFzm0ZlP6W9DGGGJ/hONwy7XCED3KWPMqBXht8fEMIcuX/f7Eo9GuDN1n8n3nlnX6zP6BVZ+Z1KfclLeprQOHPEWDU5zKG1u73cGN3Ii+xNFNzcvQmu3XFRWB/bmEDjs2lJS1j2a/co2s17s5EB0wPFwENtOo7z3MTVhPVmRKYBuMVvknLE2UsMRhghwOMwhfYS7B8ESDvKCvUSotatLmKo7mGLieFWAXVC4UixA55IRB18pLHD4J14hHOcy8AoYz95X3s05juqYhMmZWRS2Y0WgAlBdOE2PMq9FLP8dxqoFeaQt7/iMgoXIa5Sm+oTiXewS+FaPTiaaA/aUO1+s9oSWR53L3whhkVdR95XqMIAwOplUVskYQC+0stdBxjMpYrSq2e8QYD4qNBXjS5bFnHXRLtGASc+UvbTF8t1+pmvnb/ekXTGlunpLK/JnEsyjQM+nzUuWhOeajhCyDFdYgy8qz7WGI8bguETXo5nFEoMrie+ahf1Xf8AT6czfiLEoNs5+lQV0cMxmWKT1/5MBwUeaFM7VemrZ+0rVKG04/2Y6CXxrB98Swhn0Ssez2jGuRLiGzJL4VcGvHzfxLFRqF0+/tKziLH90DPM8C+Iw3Lz4Q+xEGMdFVvEfVV718MKjHaCrv1gVdO4IdQohLmatuq5pb+YMwzcx8WMrhu7hbO2mvtLmvO4IVEV+hibBVuW3NAPiB5irsLIZWO5eOlcRlscQFLbwnOXwSgYxg8xTeIXRbe+JZtVw4n2iDwfDiL67bMy2XNROgFviGe4pcxezSL4PylkAWWqwBoLjqKlBrNAnMpdRa8LR8f6440E6NQz4QfaBSxQQ6JFl8JBjswPAO2DPI80VNMhSj8uI6wiJU1l0z/UPhZzG39xpi5ZlQeLy1uADV+kZbC8s84H+8yh/Wmh0lVRc66mMYegjnxVXu/1NgnlKDL7iepvuvDw/S2pHK77LhV+i/xIgba3D3IoUfJnIJy3x/mdgJD/ADuAQ0apg9Dj6Meori8Cw49X+rhANXyMcBauuJmIEmMSyihPRm4w0HyQErGFlqpig1JQG41dxK1d4AX9oyo+huNIKLl39yAC8kCBzfruWZvJlLV4FvzARDshv2P4mj62mc2L2UTle9KFEEuvCCkWmcahThFwr6sEH1HvlTAEKfImF9uUdmBkGITXtftMg8/lhKgPLFd2nfUr4mTkm1ieQgWpk6eqGihUroTxSwEyQOXVh8TMPUSpnARyLsz+IJpuhqCzf8McAAM7uVoo+0xPuS8UurGqIxLwh5j62o4jY7YYrt0lAogrMbqtKtZcpCukIa59zWJkIUseEvcqz8RbLVQULfeFmDxiC3NHcpC5ahYNiQdjfxUrLdNxARxkzwENtsvyRppLlVyo18ww4M7vshlHlfUxVaYljuTM8iRjtB8ncrCZCGpHp9r+qrmFHpjM+R/S6+0JL3AvMwY1+szwcvtMq8Rah9CF5lthh8PSP6wbrd6rYf77So9SlPMr2oWF2ELiVIHENMu/2Aw9bzLGF9HMb4s+57S9wwNqFFp68GVHF2RMsT3fxDlIeFCczpnP9IARGbPPH+7gGTL8RcZgrHM3SwQvuZj5MzNxHMTyRRge0fr9dVUtYsGvnP5iOp8XKt3LUKC0mvmCYCoeYB0lW/pmuQqWO5pv1qUdGMhLGj3k5hNgcqauIFma+8yQWMO4gFIab1ia5kCVzmZKjVYMxbREbqew+kryuW+ogd4NkcSew1LQCvKFFgQsEHQadVEOkuljxeo4MPowX/l8wlyPWUi/3/iYSBfH8kN77O41c+5BZ6E8zqBc4TIjgReZUreb3zKqNyrYxKujJE0Fs4GAPWodkA7Ybcz21AlTQqLgQvByT1IzMG7d97+hZpe4R/YT+ZQmYSNDeP3LSPjbg9JuOG2VCVKqU44tvb0QWThtKr78AgHaEfvXM28pQS0Hlhj3M154EWA4LCVV/wCDcdeXL6JcVrB8/wC+YFcJ6JU+8WiYpSCZJ67xOAVX6AV9pi4gAG5aTau8nM2mmFbWNCXbwIIQGWJWRjrEAoL4a1BxqxMDZmtBMyqeEiXlO1l0oNpAkbwR58QQATlqA2WeDGisJkWlqDhwWvuIAB2YIia9mIaPcTG0rpAolOx3xLBzCniIckbPEBPBdV1+SYM249I+qKJg8ZVqcrHsTApLyXUb4dSwULYtZm85ibCqlz9F9Km6EHmC0nIsBhFiuqjov6RVzpQP8+JlM2+tJRxG7yV5YliT+glaAk41PFv0M0BvHP0zZVqajNheDhKE9EuYebCVRaRlrmu5ZpzqAFELqIp5I2iPMsE59FQpJ4NvxLCg5UOUYyQeGpxEUg4Mu406QRl0TSufnmJx00k8B4pUVLxgOzFfv3hX9T9qAF1mwzNu0dUz/CMHF08ruOuGgb3fxBtQgLLCjWuBzmvocsuLzJp5qa+JjbzMKU6nkZg3iy5a0v3O1HEzq0BarM/g/M9+mN3Cw1rh3M6CE3VliIAWWPEHFX0UUgLoK5aejYXolJOYqnJARBxUvB/GWlWsxjCnaYmEyHmb1RiCKJTqNVcCMhsNnA94AVPSXNofGiVuCOoz+eLjR3VmG8YQXK7WxKxIFwp57mJ85k26D3lq+CGcHnEANAA64fzCYo8uczAVUIi1MjboG9D0r7y8t5PcUBngG4LBfezQ1Ve8qDcWyefFy9pvk1Ay5yOSDEwF4iB01MkZOM9R45oRrECgXfMqm0CnSfzUQ1/pQiw1Nc4PlissrsHRlMVyOCy3ieWDxMdVPmEQW5gsIZwEw6eqwzmUYJWSifEqzEI5wiNJiAyr8xGrbmCcAsvt/cwOwSdlZi4BifMMApW1wKJpS2LYXtsnrLMMfOCaoyne7jXEye42S5jod2faGxWPgf6pr9ZbAYLTAbGEv2iqP74o5O3pEXU9Ziq6FnmfLC49qsesLjRG2RzLNdY8GLvvQgq+mBt9Zwr8QQAGTGokR1YyqBk5lSx4zKijudSzleTap/i498xDIeiVLMdHEDxv3M1HnNwurn0lStqlE2Qi5txv+kNtr9BsBbEyAvtuDi7G+IKIBjvsZSpG4awqxgvyPoZQQxYNHDOYrSyWoLmS9FvA7iTVc1GjbP2ai+kz4YfUWfJ7zCO2Umynsnn8GWbksDCdscZzMEDMHZNYUDZCYgavskEFaIcE8YMv0sOnpHqoLb1lLY2pND8zGaAalcNOPMtvKTqLelC+5QoCBu9Bh0yxzCsbF8f1EcEA1GBqXQwTjnBAmommFKC0it4g68TyK/B/uP1fEwLQQAVeoYlV+1+YYhzAWDUwsNZ4/wARZvc444hqzpmMno632QWJYzdQbmIOA/QtPMBumP3f3OGCWdvwNQTId4yxTcLiROdNwtHOkWmpn0X3Ig42DglQV+UQ3jiULd/RtY4Ih4ilKpUGnLyTTIvuJReYy4DxMMie3EL7PqMau3vHJfS5jUHRBE8jELYsg+wzpjqK+2K1siotNV3ayIzd11G2zS7S7fS56nDKoS9vmGcviM16jKRoz6xu0G/iXci0cBjlFzg/n2nYDgS4NpdfSV284PSUL8zmzD4l2eQmXiLE5cDaepz7SlkgoWl0wRzzRfjMBowD7QvQfS8O+z/19K2cAw33dZNXn9zix6xsi3N5bmCAbPTr1l4q1dzUsNMF9Wj9TNCj8XL97+YMYlRK+h+mW+YjH00pYZRqtqFqeKIw3Duv2T+pUa07VRV0ckrpzLL7fj/syJpTBGcCkuX/ALNSvDWZaTVYwe+f3M77/UztqZl/4Lgr1iXnTLcGuIR4E9C79/r6VisB/J+45ROq8UtSXoYihnfXmUDVBnpfZ+hMopyZ5Sw2GeogFRMpqGgzDPeBZbw3c2wmu4K9eHOmYuGOyIpdR8kWMCnE2L6DLHmOXLBECkGjoahGR+olCR2uvpSyXQw6BmY4wbrmKyOO4dZoIJmW4+MGzzvMoYpsNnhAGOGhG1TLk0+iKP4lxYDzKJb2VxerOY8KHsYmCVT5qiN2iMyKISnwQmaQGu3rK2DL6t/wH7j7ZHQdYjKVngin7n7lZ4iMbqfEbf4Psm9f+PO1tF2sCmXgyqNqbscQ88iBw+yJOFGXyXBTHaDlKTXXH2RhulBfX/k2Sc3ZxWYr9n0qUgKBp1T9BR9bWKvMzIDdty0Xhbe8ckwjSEkIND4XDjqYpaxv5I3n2F+UVf5MRltVlT2t2EuI3nMlqZ/3cEQZhYojg6U/j9yoTfCp0IwnmA5u5+f+YyF1efiBqBsgDgV+ZrYj4ekAdSiW8J032ng+lc/FahdirgsrPNQB37SneciNs7ATBvIfCIOTjEaQKhbWILkFZTDmoj1AbqyWmCOoWziWrTLzL1pKEWm1RrKlguCKlWmwUYuY4b8xhjVOGJoAMdxfSUN63hnCSI1yTk9uJdC/+QFtG4J6+ZF1GbatU4WbBPaHq4OzmHxKLN6fJMh4iNk33NpA6EUMCI56/cGLPfx+Yi1VWs8m/vLDfeMVX6iO2epUuK5TOdWfH1r2ocodXF2IoiNJHp0q0SrgwJtcJl39pUD2e/8AiLG0+eY/MwGLn3xvz/2WPxLPBBvMWVJ1zc1OLR0y4/V8CylYUF94I0PK8QrxUVkjslSp/OalG3qzDWjs+0vHYfr9yitofb6ZB1CV+QTk4T1p/uAcbH7T2lEoArsOJpG/oC70gKBLGBFGEXMU2ZKgu9Oo5Tvozj99/wAMbtvskuoo+UTMX5IcLAfXackpmHmVKOSYjmikEfuC7z+AZkhdhromPA4TB2M7FILSp01gRvuj3/Q5o9XiGppRXjOZUQrUqi7abovIuLVcWKwcDcvBsr6QyYujkZlunH9r1cVVQYTH2yW5nGjL3UCnN/EozdrPoSlVDtBNWIByIHE+UZhymJXAUp/72hWGnMzx9D6LSr4T/kVSbth6LNvJd/uCkdzmUVK6BKAus02lsxxGChhH6OA2Gs1ErtTWFRR0mSjD5ju1snH9f19MwyhTT9ktBq20AxbpeT+JTgODCIonD8v6mGS8cwZfMz1AydTySnczq4kUqmNYhF4NT7lfuAbAb+WFlhmelw14t+8FNOp5hLgIuMN4zAFwLJYMaFuK/wCQC9Sn+6iDSKcDFUAMp9Oz0jmJUVkMe0xby+hS0XbZ3DWPpnxIX7ywY8iG6WJk3X6Mx8vSOBl0bYy85uWz0zhAetQXVi5wieLPWE0PriZZb1UrJDLvzMnE1uEyuDtqVulphugaBV+8rHFDYPzF3zG6fmCpVHg0QVa0OAs3nBFwTOlv5JcqmdAUe31hvRbfkiT1BDvEohLdtQQ0mq8eh7lSFdo4+Y6xA5QGX6nYSVX6xNnIgO7P1Hv0175Z/iUkPBwimA9ak9pToOqhwvCSYCBQGotF1wYPeVNMc5qosTyrKVcF2gQj2UrePEDFN0/V1CCAfJF9ZZALq50T6L8zLncm4Hf5iPwB24zFRMDb4gMGAV9yDfrk31iUjbVbF6hcifML70CKr3uLXdWbf3DVLwn/ABKs4VH7S5lpYfEW7roK8S1r8aaBLi5k278TFiF/vvOjQPtA0YgTkEZ3POFWx6oYErLfj/eI8vVmpr/V+JieVU1jUxC5ezCtxtFEgrlK3yVtuImD4g2LgZyLL/sxwJXkhNTsFhXjqNcwsIF1FIBHs5jgUXkPFblq4W5s9QbBJ9CaH1srrZ+JiXOEGfd9YWZDTPJtx3BvHa7yal7H4L1AWsHklnUojHvgHcodvaL3+GZl1L5n2iGqsU6PSNqTpzMcZXRFbyaKUDLic2MsisxcUy4wHwuO7tcc/wBRiKOSlyirYwr9krNy3xGoW3GGeDMwTuqH8Sws0jQGVQPkLPtEGn2hRsaYmsXQzl9pZNKYWO4R3HnZ1QZSBuc39kqPbH9pUHFIOp4JyWczKNeOUYUd8K39paGz3mhXsbHv8wlzPsa69pfCcUEr267n4ZbBotVh5i14H+qPNX+eZS2nhwPtAcAKLXcTVtUHnHW3HzLW0+YPNOxcFy+H8KfiV6PpmMBOiNAvjFi1HbfeX/xgBuW1QRbrByjc2d+JgGhdFwm8L4p+JdEebIPeFGX3gXBTockyjXYG2IhW6LUy1pFlgPMvisGvHQ8ZcNjiIFU7MULDv3GUYLOhM5btgp5MffEqMqI4j5KoES9gw+B2KmJVr9VRWUrYM5rLuG1qqoY0eaqviETACY1qc7Q4jMwSP8vacrbGMXC/E74hRc7/AKc/tDDMhTCvSW1owEEeFksTb/UKqibNz2/5E02wn4O4eEctS5cX6I9xHIQvL7qmAD6x5EyzmPNsfBEv/IClEwYo9fWBlr2MqjFrSoG4GCzTAkGXM211BcRXnf7cWOjJTiXZNjS1PDPI8S/cUaCFb5XAusYbFos7I9tpilY/GD+CUBB7wySUMKn4nvORj+42QnRuPqaip6nB69xwtrVR3FLTUIo2wat8SwWPEcko2XgRgYhqzTNk16koRegqaYngxhX+D0jV3CmaJuouWjcNXycQveJUuLb7YOgY0W4cweSKa2Rg9oYfNeUyiHx/yN4NQrccXaDfYJUtHGp4dVaxzqHslNL95TywYAvKzF5WvT/aN1x1H6VE3smjDiUZavLzK1giaqrlOKnoRBsLdy1R04P7lYQ8H+FxfdGDMzWkt+ZfLNrpSZBPVsAaqo7AkCHmAV7mSyUquHBqUIUU3BRwMNuGGsLKM3CNnrdksbvMUTisHohq5crPgynr4L/zmNeWzEuaaq3lS+2H0fiEc2wVYTwRhfzEWkmQKp6wV8227rf5mtMGEjovvP8AYlC4uAHkl4zUpeZ6BKzxKDdHrHX0Motge9Nx8U+cszBXGTpD9tJgbF8rlRmUC0/lT4mQ7oz8CeoiNb8TBSCT7yUTsF7rKYGA0EGTXxDSAEyiapCJy2+maI9YIniPMxM76pGWnzQD+QhTB+ZwBKT0Ey4h6JylW/uoagTdzjqp9ko7lX49pSeBOeCazAzKkrKTn6DGZRqHPtKvmUYlPH0h/idkPeYZXp7SscQOEp6esYULuOIJ+4faoa32h/mKis9EOy/WAHcRVYl+Km8Cr2CVmuXf8syjxCT8R+EvwkVtT3UlsU7JKmP0X8QGiv3fskSAP/fML/BicJbu/wDJ3X9Pwlmj7N/mHsmVZtS5v0m2BuiLay/SJTXzUHxLgdA95l516QOIgm567lEjef3WfzcI+fP4S31M/kgVADoJVNRlCzoh4hPQ3Oc3AZd9Zc22+k85UDzKIqVZicQ9JUSAvEvB81Ke6PpA8wPMoqYW43VZnzU95W5iCcQe57YnM419Mdzmfd9OZd8cyqOZWJkJfcvqXLtm3LGi5uX/AJle5PfETisyq5mIsupbZfj6XWXc/wBicw7YRWcrN6nicfzCM/oe0szFizmepMm13Sdvxzer8Sh8le4I7iqzf3mCdR8lr1gW8+GAN19M1wT3Ahb4SvM94FR9GpcNRVS0j6QqUMM97lePf6fabRoN/aGHc8phKuGuvp7/AEuK3mX952dwOo45LlPcCV1uOuJgP5m3LNNT8RnGY6PxGjc5h3HeJWeprWJWbAvuV39pxftONJ4j4qUcx6Te5jPUwSz1mN1MVFAyekXYDWGm/tKPMxiUGi4blEdXC7Gj5qFO36cTSZlLquZ1KixvxAtzEbxNTnUpOrjh9BrhQGzcsHn2huEfUi1hr7S0z90Fy/apgx8xM35Aq591Qi/6SVxCjR9M9QZxf0g0QG7v2mviINM1iaxNrtmXEsyt9Sj7RrsjnzDuXkiyqnpHrM8TTbKuECEc1e5rDEucePpXcqsyukou0mNyi4lGZXiOo4lYmmpf+ucXH4g12yzuL8TfEzqWk9m/WFWx7sY9cTB0SvWpYcMwxFseVS5m2o4t14hhiWyaIPrEl4qOJ7zc1x9Cu4Y4fo3N9fEKHR8RqPpPnU3zKtleI3bxNctx9vrHr3GY7C55gbm6I3YSfDCxjrEQcMo5Y1usSyuZeNyj1KepQcRweNTR3Lcy7gI1zBxxBEKrU6XNHfoQS7coXfca6hi+oudVBb5Prv6DkmFTEyvMxE6Sun2nt9O3MBPE44j5nMMFrMumA3s95lf3iZ19pRZNELuUnNysQFlRw39pzbgZi/p67nhAq4vROLnGC5zenrMMbRsa+IYfsGpXNXOZyYm2ZKvTc902qJd/eZM/iX6e0vxX0yP9Sr9JuHPcri/vDLxOc+0qcbb9Jm9NznI/ErzMphLnOId16RC3T4hWxu5+pwy7nH1WFv0pSstQ6amyehAt4iPcPFRDye0d7uY6mGa4hlm3MrNQ9YhualXPFArzMnAy8cQtT8T0jXNs13LK0ku/4jhLfieYY4g/PiY94xybJpiZWxLrbHf9R01C/SDTsZUwy1Kz49Zg9xoJgM6mKRldbgUYWBeU8z9yk53Kj2fUl41CIVnmeS5zeJfRPeZ7YNNRCqMVJRfgggUTVImR3qflmtxyrPw/S+3EvNTKc3ifExptXc6syZOiyCDCr7xUPiZlTbU6mBVu/MtkvEMHSdA9JY0eFmRf0rGoPiFf8hKlHMo5hg3PmXjqViZ4PoOeYvrL6isFdv1GtRSZWU6qJRcsqVjOCLyH3nM5zL51M3czUSs0/qDjqPUEtJ4nvBOZRqo+ZficxcdzfiB95kJvUpe40f3Kx3K+Z8PWZ6JrGJ4lri7Ycn6mnE1cvxHxDW5T7XDHELb/AGnrj1J77lcT5nG5VmPxMimeY1LYKWTLYgZxmXWqnonnFekMe84xN8maQl9sAvEH1+IGbl3zMn9xwvM638TnpjzxOLNx8iVmtcwp5nuzDmaY73UDOZ1iPiZ6h2w9GWQbMywLXEu58y2FzzPXc4mpw48wFZbgDFsDmZPMuOYGLRZ4Rcz2m+ZzVxI12RzzbAr0motYuHaUOfoDaJDEuqmO8GZyu5R4+0x1BsnvBxNruWzP9R1fE5l6S82s6j0uCc29TBWYjBeIoO8S8NJuUpziXbJ94UEcrxETLnzMRSHmV8xtXUPLRA035GBlXlgXMcbH4gnGE/xUp2YlRip6Pc9cPR7SxqXVMvtgUqDvE14TzmEqZ7MyZiltjHjqUnLUxF6PoZmeo0cQS5m2anG/tLkx6T8fRtkg2cw7ZTuUcbY8mI8V+iYn5Je9X954PtODv5gKX2yyMoXc+H3xExb3mgg95dm/hBtwajmoPaLenbKC7t6x3WSB43A5BAas9IIMpMx9lRS0z0CVBd9y1wANiy3QOLQt/mAOKgyvwXK+T6yiuvRKLEOqlxw8kW/zTtHeYGvuMUZtYo/uVTN0pUCc2QvbzTcw0r6ahYXoZUogOI+VgqyV6YNxFksy7qL1j4qLQXHJCcB4qp0SGQYURQTmB7EsszAVRXdbia13ekAAr0mV16wJw83KHcwYJTQ37xH+0UDMTMLmEkqzHzDPZ7T2ekG7S9ZZMlseUmDdfmL0IvzMIbvbXU3bU4z9oM0aiv8AKUjLUTr2IWMsbU1QdWfFyvOAZDnzKKKZlLupRwSvGYIE5KlHRETUz1Fhfcvx9LJY4qYZBnc4iW+nUzVFz0Sz6TZzOJfmX7eJdLjeY8bZX0Zd8RrdVLo6S+f1KOU0aeWUN3rgl46mLLmLxqeUspSeBMCbcrAvmZP6h3MsEnIMy4F+swpj6S9hfpMdS7Y1Gtz7QM/zG9P4lucw7qKDWpa6ab5lOj4hcnb9QR3RELisGLuLB9HtiJL/AJiruXoxctd4faCuUx6RIYJaG837xyDcv7x0uWVdwe4jw+MR8t6Sgu3zKPT3hB1eZQACAG1AlOIXwmAvF9S3j6Y5iT2n2npf01UXqZiZr6tXxcx3MdzUuuGB3b4hynwhVw9onm69ICY18SjhPmWaX2nrfpEwPIzg0J/oxuqhP73ByGSiyPjwLNp3HrUG0aXPT+J2NHpMtPxRRVqpTyfSDrAZUqbqajRmCN4Jn2T9MRGu3mYlRwQ+1cWOxMkyl8QmsDcDFtXrDkPzHNweZbTJ6xQljHClgsegjDTbVtfqI4eFMEbE8MDh80QA29UME+UHtV8pYInaVY/OPWD5Jji+epd3C62hUb+U6iV2uuIG8yF9Ymgr5gast7xeRmaoA3hrxM/mclmuL9JHKkIC7qJss+YFtTK9VLViA3llHEqC+sS86jG/oC2amTxNPMq3SNjmvWGBV+79AN4mX1j0wFfQlK+5LoA5L4mQlyHL2lGs/MevsQdKhYGWeb5R4K+/0Aht5R6FekvzT4qUMNo2aIrxiJoE11j1lW8HtKmHMRlFZvEpWiF11IdCAD1KOEOATH9yjbDe/aXqeg956+6HQzKvuVjRGlqVbfJHGIRkPpHMo+ibNiAwmj+WYcJ23FFqjouWGTFxy0XbNFXWo7qtcxxofM3jnxLcsRbWPOJYaznxLWViXRuIRuq8xHhxK8BAFhGcmiVO5WW8MSn6g8HuzM8EJ3HfN4nDOCK2Oebhjz+Ytu+Ine4jtMbJxLnmc6ialy3qW4jlmYx6YhdbnmX5lXKgQ+0SnVwOiBjempivzOPMRdS15PoSoeJknaXPdB5amfRFLlFtil4uuZzRNPLHJNekuitk1LVlslQc+Jq0ckW3jUzqEW8wOoicPeVf8w5GfeafxHtQjuPSfiIGyMxPlHQb9YrfVxcXcAKLx3HxMPU+8ozxNNNTnUUF5E8ShclzAQvzPPLWKZRWD6ygeJac5ip3MWOBjlkJQTpneLZcWi55TcELPMPQjQqN3snipVvmJ0yuD6OH05gRQ4JshCcx4g5gI7jqXDRKV9DmAN3LcQnKDlOI6jiouT6xUyy03iv0calxCyORucZluH0qgfZASczgnRNpe5WCP6jr6eT0h9AyZaGJ25g5ghKLY8x1XEBWtENrYGUSqeIZKUHU/aA1ZNXAWekT7JmriROEBep04qaw7jyThLsp1DCzshzDRLuaojRIwZLdxW49zt9X/9oADAMBAAIAAwAAABD5YCzsUJ5lgW1YPFhf9G2JJSaSSSACmCWtsKOmmXniSEt+7eDZXbxTcL1dAUdKqZQrsef/AOtqUkAkgABS/Afxnw5nQknnOtWz1eYbW14dctOuQYNBEonohb//AP0S4AJIABERaKDFm/lxBKUMeu3FTWabkXQPkJ0rCN/ZwqrGQ9//APJEliSSQTn4yDd0r/RhkeOxvGh72eqcRVIQDQb+5/z2fE99eBtv/wD6VNolVQRhXHEDN3F+16HGl7YoaAozWASKs+OcfF5EWd3rGtv/AH//APqUg+7lp7Vr9LZrMtShklLipEUfAGX4oT7Nz4WoEZlaoXv/APQkAEEn/pV4BEwzClYX9UE0h7dM4T0pTRdEbilZ9C+iN5cLwAAE0rbbkTTP+Hz/AOSaF2WIs5Sflpv8sLFjeMBRk0UD6RRZDYKsnskJt23OIdczP+Nh4JqAZBg0VgLa6xTEMFLP2aVMPOhXZDG+0xmn/gFDx0x3y2//ADhFUmj0ZAUWoHrRdQCqUckQe5STE5ABRTSTUzhyBBbJ5D6a88mxYthApEho8z1TyG4bXraiCXQwZtz3HQjeRGA/yiC2wBFhgRvHda8ANrF5/q00NZynHomP9RHN9E1cwxAyLGLiGTv/AJD43jdTuyFh5YRdpvaPodJ/Rd1e5ioxCg0E/wDCIxkbiC5RNaVov+2RF/HQCo3C+Vczk8JoonjhKpR+xJeEvUM74705seyCu3f+6VB05/bJdKm6tpYWhE1IFLmtoTDNadYan6hXwEsS0AlAmH4UbGH7o2EQmrcHK4UuZVf5yM3IGEJxro8BWzCkZf0Rn4EVGOHsu7cjltbJg5eCgzlzdtq/b9KgRn/QdfInAkH/AH22dNxDOfzYS9OMSgNO54QeiJaEIAinA0IFGz7CunJ2xlswiDAG+ssiS7sn8rxNa4MyI0s6D7IJgOvM4TMvCV8UShQZIaCiXVzSnhiFciBidA4Z0BTkEXEZPbij6mQgcdz8kNHfpi+F+kKyG8BMAQHCMM2bI1Q9ArvaQ7r26hbcZuyBUgcG20MX6WOlN44m9P0vzWzkgetBPKUU/MVYYGkGBRwsqsD9girSDSK1f53woTTUDp6ro7eJgW32v5G9Wbm6anzia80TRMxFu+V4hLbTSHIZ4OuHPX1kimVUQzaE1/uKCZKhUOtVIICRJLNnbgAmF1guEao2Xju7sL1alvk7Sw5npG1UZI22mdHYkLCjKB49BExpY6B5iXHsYjcfqww9459z0hPpfHrwmJmRAPsRLsWx/TAOXr03vyeiPatvlsPot0eR4vfQoDsB/TEcBXaDxc30qOnrx0raCOJLHQ7wkl/2tUz1/wDNqmzv9wRnqvSyQxSp+Zmhe7k7nTn0guyPFKy11nOFh7w124VrtKchL9VwDg8GS2wzqFoCvD0cBD4jBHQ2ACUmWRQcqltkSGlA3FAttVW2OCEeyrmWSb9mpiISXWmUwXmOkekGmcA0mwAI0u5ri4jZokU1QC3fpVcOmSWwFCZI16kmDK/WHE/qGSH+eWydpJ9v1Vn4D+VCkBQEXAzkwuCWWj6p46joik3fGwA9zyyWgqHCW3skCqaiDbTRasiFNhG6m2VLG2279bAr7zyUICZOMMu6ZgI3fyWRTEmicZJaQxkPCeV197KyxiCy21NG0MZz31VH7nrY8Lq2TxraWXPZRNG3RjmMmZFU4yDpmSSSm2x/UQIMQuUql/TAlkLrMh4Qi2y6/JGEvlf0sB/Z43QB5RUV+7iSWLA8f5Jap1UyK5T2V0j94ehWykXkSVswnOJVgm5K6SCujH/c+NhFhKKkf0n4j+rAjA4DWGkoOtUE5ANfGbElVYEh5iA2yIl2qjn6zYYM6Z1MOGy4DPVWVl9PgoZxjhwn2WXpqP8Ai/Eb3Jsg0gUIFGgIUU3OGFDWgHjK1kDoPN29f0aDZBIDzGGgEfyrqY/hVGMYXVRR2ODi+x/kdD9GDPx0dHR1ypVq1+43JjLM1dlhfsY81ZjNW0VlWjvqDeVJd67f5xhPLsjqwlbUCQ3PVGDJBbV1UEMsUMtfXDzxQ5in9SuKNxlS+E74JMCqzQSV9XUUjFAcx9TGkAciIlmE+PVqFIC3olSap5CCRJUp70EH8qXBz7lET9w4sQh5WrZtsly0+0JgL/8AMFAJLOqI+OMMPbTQccIaVqbpUmJ/xhmoYh/7CsWrbO6A2uQ+oXD8o7R4IEUf6QREtX8AhrVtOBMGcBtAmcZjoZCYR7KtwHF9yAMkYBWCU3g+ixyaDXk4Vxfp2mv+spD/AEOT9FgICIAHyc2X8VaM9qv1c3zxZFNr9ixkfdL9/U5jMsTEIyP3m/a4m5Zpg5gxSMcmTKx8rGomd1te4mP752EEh5PIOmD6bVitdiNVG91VmQD7jJotSNvreJDyLpaDJ5LKJpakaPHaFxQalqVUG0w/6nI5Bxy6CyW6fQbDQ2eFBnL0WSE2KFJpNeG6ajN7IDcvvOn6ulgDEeZkKYSL1NKpV8h+H5CwknJWi3d674gGTNRAnqPx39Iyz+wsIE2bbfT6UkS6ySSb6AENJb5ho0KntOgS4/c8tJvptS7ykuH7AGWJNLsBNppvVJeTb+7/AN/+7S2++2YlrgFs9hswf/bppggEov2xAaabaaTTdTIdaSIW9pib+3SyTXba+4RD5ojTwW/S99lJAEG15PTbSaSTaTaaAaUX1tm5l5v3yWWaTzbb2JudlCa2/vk1JIhIIn4ybaabTTbSbaTbabbbQafSTu/e6SbaXzy2wNhCeb/z9A/pKm3++abbSTTbTbbbaabTbbZbT0TScnyTWTbc7P5IIzb2vspBIE/2+/TTSaaTSbbbTSTTbSSTdbSSbTVe23ybSaVfs2MCdtkIAAJn321zVLSbTTbTTS6aSbaSb+T+lvf1lt3pou6aSWLsh33pMBCIJO/GIF2+vfujEflhrttn83+on1k+omUxl19tlsstl9FqlkgJB3/wKf3SbSaababSSbrTbLTSe7aXbne33/n2+X+06SkAVrEJxAoO32/22vtFkBLJJKgMleQ3EAFpJktrrtBI8QVllwlogBBBIIJgD3ZJIJ/+22l+yaaXTaTDaQWbTTbbLbcaaX0+tn2/17F47poAv12+5G+STTaTaTaSraabSbTbaSSSLy4mbSbb232a6aSfem/hBJm1u++2xbTTTYaTTSiZRDQTSbaaSTaRTMTSTTbQYT26aX0z3v/EACwRAQEBAAMAAQMDBAIDAQEBAAEAERAhMUEgUWFxkbEwgaHBQOFQ0fBg8XD/2gAIAQMBAT8QyYxZ1DnTIZ6sMGW8HsAoy3ZGe9WyoF+V8z7x7FnK4/TkHOF3b/wx1YfEc5YQkbIwxJkba+cZ8TytvBOiBN+9+kpdeudGd8liSvcP3sMbZTp5YIEHiwZ+hNgZkcWpMyyUbvESrZDL8HBDJ4X5mYsT9ImPqS7t/wCAyB7SxM7+kbBi28tltbbZ74z6G8JvkE9jj8ogz2zfYD26yGxGGfNmEDvVr9PV3GS2J7En5vEOzwl4S3tsXQT8kDLBO7WR4AWSFhOEA8Ln9I2cb/UIPmXq7dXsfRjJ4y9s58Z+nLLeN2DuAd2lvcu+2XnUOuXwvFGDs8MiEzv6CbRnsywCZ5yME+cT7417tnIbRIE2cZFu2TJecbDY6u4/o5Zl3b/RDG6tr1Bntuscq7B4Y8FvGcj1/QyPbdseCNlHae+y3hsm9bqtg6gkA7OVzuG9nds6nuc9nB4kQ2EWzbMLvWh27EHxYwbZPXAdSw7fE2cOrJluxb/Tyzjfp+YxOM72fzHzvW3gagxDlsO8TwOSw9y28E+8bwFjZkBJya+bclH2EYOaQXafWMcOpc9l0yNOPi37R5bJ1OO4dj8IXLO+M4Syc7HUFtBKRs62J7jbXLYOpAWHsghXDtlEqp8WWWf1Mu7eMgzqJ+FnDoywyTyE9MM5kGavmfNs6t43vbPmz6Ms4GQEwl+beMyRyOcBMXI6SgIbLbSzqD7yd7wvU58wXjvjG7EewELe45Ghby2F8cZxlkiy4R+Y21qxi222222220ttLbbS220tOOo9gPVs6diUt4NWYw2QbYeQS/R3Z1w8OnkPHsmMund8cbZ3Ms9epbBzSO9JJ0g1OCXXfoJEzogy/O6dcaW5b2WMmsI+m20yxFErDPOwzl0vjwFG3Lbf6GfTnL7HLGDt1yNifrB2NWCeo+Dk9gHJ7yN5zjGTuS3I2bJjC73Ptkm9QybBkZukGLJeDM7gvaeuNl1B3GQEom8Bx8W3yNvV8rJ8ibpd5v0PUl9kF17ZvROEezbzll3xv9PqLbYNgEI8M6YHFCHIZsSO+7OF4yPeRyWQ5LsatSB3Edb3EoF04Adq3jZucHG5CZILLOroWjtnE4ZZY9gXq9br54/Kerevo+ImtnQTXgnAYoZ2VLVtttv0a2v0sHVjslg2Bel91kB8jHCfaDPZd9QZko3wc5BaW3zNnGcbhsQkhsp1IEu2XaIkdt12UHe7tmBs2PGl3D3DiB6T0siO35n6V2deRdy6wzJdYJ5222w4Dq6ZfasPYjNl3jps5z6ssski/NsGwfe3hbOXqG9bGId7xll+vI2dS228PTLKyfaExT7era4W57Evi6l0C7HVk7hrCxLr1euPTYx23byG7gd6kXLSxmk2xZJBIMkZwdo6lsHrhI5ZDqVtPsbd2TBJB1Zxhxtv1NsG9zbjd2zueMt+gZ8x7O2N9jExDjIRdLeMsvIW814LjLrIKJBshl8xEg2djJZTbw0uuF3qGQEnfF8cR08ZyTJLOOku8FOMB5ZhyEzhtnnCT7NvKtvVn3jp+jLLONt+hNYOo+VmxweNk56sWNsviZT02TreHqyFtjyMfOTjGPcYctgb7IZs5De7zfEst90dDZuy4KF0j7cKDK/Fvd2mSE0k7BabOGINYOG93WXxwTOWWcd8BJySzqzrh7WQ77sPdmofrw4d32XkdyddRpKOzgbxyLwLXzJZS+C1Oo2PNLTq3hPo7zjqeW7ZJk7F3fI0SLqZOOiU6ga7xnHmDcSjq75ODyG8fMgu2HVhfdIy6EAiMmRdWWZeuD1gZ4dz6Msng8tc/FnBJsXjg7kss4zrfoTuwg4G34cHuGrL3tknyBJ+v9oX5/tFavLU0nUPywgss4yzjOHOPiFgmwM3kp1tmMFxm73PnGF4mO8n1UsVgtlhy6MG5t85J1ZLLPt0+ycJDHuY+Wtt+8t8t0sunJkdWc5eQb5InsmE+SwpE8MkfQGuWkyL5canT2GJhLj9BLkCYGLMT0Seh/E/9R0ev9j/ANWmgF9r2li7x5wFh8sbGMZLSIZPAwm3SNnXVpvMeS7j8IB7vYD54PUMZB1eds7hvim7stj2+JOAcnLGZxrwPtw89IA5PVt3YcOvieChBeMuje5fHGSc5Zw9Ryr3fK9n2RfgkPG6pdyY42zG2JIEWnyL0ZHjP3Q1H4tU7IzpZP1SPa8Tpto4wF/iL/8AiWXr53IFp/Tpv/k/7vk//H94O9T9rSXpdC+AhfPPRp9sN3qzebepSJBi641vN7l1HyfY6n3LdnyHjcu2+eOxkZelDHuYZxg2S6QfbW98DYaRO9/tdFr9pw9/tOrLYEway+1cId3EUr2HGWeKyyM3nzf/AGZA3+V2xz9+V+nVYsJV7eHrvkwv3u4Jl3DkXqMrfF30E2Ma+2oQ2/eD+I28vzLYM+UhS+rr+s/1dlbuyGfqI9n6/wCrIb4wxn5T/eb5LSc6nEQ2EYHsscgHbZumyPTeceT5GAbl0ZW2Tm8bzl3beT836HJ+H95j/sG0OfvM1R+z/ce9T0wwdydyIYvB+wn/APlP/UP/ANC6Lj+CACfd48v4fzK4D7a3gP3GbImPq3+e/wA8Z1H9y/gfxYzucQ9vtx8QGY4ZZEXdFqcNmjXxLnvUAe5XvgTF8wPLH7t0QMPyWLsP3Lyg/eSliSIoT7iNO6Qga55eRRnRadf2JBr+1J04o7jsjLfm7P6p5/fuvk07OfqL/JZHN4DqwgExDWW8EJnTRvV/1hsvP2JdT/AyG7053PGwE7j0koYI5x17asTed49u7LyGlaXpjfzHQgz9B/uzJ7brh0sOl1KHG5AiAEfe7frtk2/4fzK+xt877N+9v8xlmY7se6AgK+2ESqG/2vI4ZfsLh9rqGLCkeWhxttsyRZKOlP5lbgT/ANBKDWpF+yRf/aG9X7xV3HfZWaQesFPOn8S/leQof17Dq+x/Er0sIF1w4Ps/mOzo9wQ1EMc3QjY4/e/E/eWueJIRqbGnWVeLU/Vf5Lby+a/GTNbs7ZE3o3+PHwJ+8+xOEdL2yXLW6b1Yd8sFnCReS98LqsCULA0tV+H+5KE9pMOLoGNKeBBdoj/m18tbjfOKHcARvdF8SwyAKgExY61/mf8A8vxAs2P93YCdEd/tZm4s/dJ0TT1Hc8fta6Zq+QmlPwWn/qZbX9psmq/a6RDh/h/M9kMMuhSPfmwGrA8sHPs/3YEAe7r+mgB3D4Lf6qwj7h/E6B7KBsMPGwH8P5tjuzFgSMHRun7f7hvS/wAX51vdVE7jwGP3jwQvlNnDEkCeLGb/ADayGHOWIDpO3eXiiB2i6iO70DAPCzUZPS9PCh7acDIz3APl2kyIsw+tljuHAQz82n5sfbQzruR6X+zPUcfm+e7xdu49nOMJ3+kabp+8wRgyWUVCrFuyfl/q6W1M2d/+dQI6plud+qdQA/e//rNqUn6ygv3fy2eQw6uthW8Go+5tOA7/ABZM/vf4T+bKkY+JxwE2drbqzifZ/uL5Y+2Sfh/HCK9B20Q4fJkBddL+IDv/ACFlInyRbYdn7P5hzI/kkN/mWSw/uQ6Z/wBi69t9t1zh/hJO2N8Z0iib5MIex+I+InT23YQyWLG9Mm9M8ukNtZ9Q06sR6ASL/a2Z74wiXq62OrZB7NQ9T+aGfq3Rn8fwQOrDw39p/wBC9dRPyhHkp7MYsOwy9GVyfh/MztnoHfAOE/deT88EfMWyu3f9rongBVgn4+IFF0tvfJr8wH+ZWYy+8NH5/wBWhCZg/nv+G1+pi8oI/tNU9fw3QJ+zGfI/D/6h94+8Mxg11pETPx/eVN4dEEB3B5p/cgx4+JSSd3Nlg06/wR0Y3UP3/wBTRF6YPW/3nd7/AHgPT/efXvZ/JagHsv5v8RHHln8cejSz95wEYZn+Qv8A3wWOv2Es7jEWfJgmf5JkcYfuTUqn4jnB2I6eyzSPvfOfeTFI/PP6zwT1LDDhj8cCKP3jAS4waxzH/wCYWMuv0egkPaAf4fzDB6DFyOr/AD/1PX+tmxPsOdHUlJs4UZl4NU7l55YfaJx93+Zx07ksyYj8LYyAep/5/wCG9X5ZTAoqzIkG7ReocwYyfxlsq9SuUTLeJ9382vYRZ/v2XkmJnZSYyLI/p/Njs2nlo23+Che7NhKGHS/xH8xH68KO+Nhn93+OG/hjzMr835pT7z88kfmHbHjt27Sm9c7HU8e8PbI9Wjxsw/XI2NF+06ev2ke7/ZtCB+4y2bYfpBs3Q/tIA0uoH7r7djWdCd2pb526l2s9CNmMX8lLFmn9rD/pA7f42gkO2BjdYbtGH4kmD/Zs+9fszItT8MNfltzplzrHgwRiDSGADeekhLortKALFfj8xh0v2nHtb+kRnu/6meo+85k6vmT8CfeQ7/8Ar9oPcoBukdXAMt8LdHqXZNifxf4j+ZnOxXdnG3xfu/x9G2hDv0EvTJ8JoyYxd8P2362WXkSnUXGyPaGIfoSvYr5DMdS7QSRPeA6vHON4DTeEJQ9l3uc8bwQ6LCxivnDuwzxJnWSy962ntlIy24yZPEldl8W6l8DH2+JQ1jrHFfPcgvR+yzT/AITv1n7RIPz7cYOwlvvyZ2QnhKWz4Qk7lhhzh3HkRRv8J/MrJovuNk+v2urL9mDHHW+eWPoc1b0x0CfZZiwzEwi3h8zwGysAS3E8dvnLYXcQaXr3i+QyPbb3E+wzkItyrLIBu7P028kh8cbN2EmScfMwDLsbYPbAZ7J+8QMg6sQ2zS95ACpJhJXcOibAbF8tfZjXkjZ+ZV4MCtr5fMvBfAQmS+JLe64hHzWToz+jsdhrHvJ0ljpZ3srY4bD1GROWXpZj3HrbcNttcCPJTxrHGJDuy7wnCO+GPPo3j1PrZ9GcNnMeCRCkAagvifeFnk19lXg7YkXgW+/tJA0ts11adcJo2TtuTB1tn63ydW9woQ3efFgwjPuv6ARuWnWQ+Eti4FgrP5li2xqWHfLURB3Liw74X7mz6cBHqzh9ygznx9eQj6c+jDRqZa4GJu6Ih2waGw6IIc84GsANnPUhxOp+OVO+iNWGp48RyWwyWJP0gXuwbyC8ZMNl723hGlzqy9JfrWGfM3Y99z3pHaSR2bm2QFhDvefkS0DgsQ+kIdI9Xyy6wayyx3/QFsJu2n+qhhKxB0Ym84+yemazuJP8Tin+Cyf+i1f9EWKn8QC4bdUiQ2D5tIIntdEjB0wWG80h5XkxO77X0+o83gXSeY5IDZPi2f8AQYgd2Fb1uilhOiWQ17atOPDZLB1ex0ydGWNv/UDpx9q9R5LMLz9Z7BknUtB9Xqd5zZfrwOLfVj+5/wBQdZb9W1l3f5/1dj+bycBKuFoFGURjV/dLTW6F+89XA1ySPv0k9gq6T7z6ExujBnW7J9YnuW35Xpb3sqo3TgM6XtlnHV1duN7c5ZGl8WezpR3L8cgvH1v7hZPEJ+P+7u8/t/3JOx+3/dqBLm5n/cyL4+jK+5eLOHjq6F/mf9XdBLT7iSAfeX5JAPUDdYR5eR6v5joFkXxkJzC4FeA126fTxYPmHU8n2rW9/QVAX67vd3p+v2w+bbVjis9Gx84H3EZ5j6G+JYY3tZzt26vgIBhjr4yePmIdcCZ3P3LszbwHeP8AIj+5/ovvgS/yF/lP0IaJ7kkifPPzHbB3Lf1f+rWfzJukrb/Lb+73htQcHsZ6bdJu5esbcOMLJGJwOmfxYeGrEceJ9Bbse/Q7z7W3pen19WyKLuS2diXc9MurE1cbHJZhLC8HtHGF1HSENSMiXuMFgSHxIfEI9jeAgL5dHs9ur17sYO3rbr8yz/6+C0wEuIfuL/OfoXdrmQL+kEHO429ESX7f7sN1/k3o/wCbAmY87brfNdiYJ94DPVLbmzAm+Kh3kpLxifE72M6ZLD2O0uWl7e3mSMAZ39KL7I064Pb6g1y6Opb1dzLxweWQ6PAltCQWRO2dmHG0LLvltvPyXamDj82CT4n3pa277adpJO4Z5I6xTs4LYbixvV2/Xt/q/wDUueSA7bN+V/lP0M9Xgb2tbZbbuIxweXUDN6mDwg6WNPWXcYXqM4Z3SVGRy3bJZzkOktWyDufM4I62Ml3Yd5anIa2II55b0/SkkSEntHd850Y5JByHUSHayEYul02QvGXS3gT9JM2ye5DPi7FZj2cy7XeAkQZYpund7AzKeDLl2fxF+xDBJ5CeWmPn6VpjjyvHu3Y1bZwkNIubtL4jqJH2v7+F9xlyenb0eifq8BJlvNviI875AtjPTDJq6y+JFjFkzDBsuxlokw9WEqbwmbZiwS3b3A+3QugJ+YY2HBMGfWEGs9LMncFbpA6mz6Gmi2bDGxnsYi8WskdidR66sR95PmQwxwhGjueuyfUDLZO8tl6IS2zGHbY40EkzjpH5nkzqXjLNwray3b4cujJh1t6+nfiQO5a7wxLT6WOn2aOrctk7LFhMMdXdvHxF13hbwnDST7J8a8cwe3Z2fkXvuHcG2Djz6chA27Rr3CYjwxuWCbKMEibw8Q+LMc4CWzKfLQ0JH04G0JHvUbPtsHk8BsMul2cR3h92LdoHUAse7AEMboRnTqThJ2n5nR1wrpN2e/Vo29nlgevzKdjfBa9PbY7tMvY+eN6eWkQa3vgbDDG28QYnB1yT2bxZzqKCELId2IHeLPpWCR8hQ12Mx5KqZs/e75+0kF1JXDOk9yd+I7XxdxPZBmoqGMcJOM5eCPbU2USy7vzuw2D5F4EhIuoWWCCCcAaWAh2L1yLxDso5blx1fHPhbkFeazeC+zy28YFzuDw3LsQYpwe2l92LpbIusTYm8MbJ2RbuXY/N4+r3OICQnzZfMmF6jDrOEODPtIQsTVN3ZYWoW95BZ0SuEDZ1pAwTxtdTwxGO2HzeIhjnBwhX4hsjVLslJhBpI6sGw7n0QhwvfOEJtg+GRN6s4DZPU8JHJGy3qM2TySTZ4Qzh62MQSzgbDYZs7u020LL9udt4Gw85+eC93sTqDO74E5NEAJd8iHd2Y92ht7tDtia7Jk/iD02dLZMjcxj1Nn8WnS+OeQiPbY0uyTdJsZ1hZmRhreR5yA+Jt7nwjqLpZLQ3veMtx2AAtuFl7WHuNw7Msxkzdju6uTerx49XRkfEet5ebXrAsfGDC2Z1HTIz3j13J9p4Yw1OC5z88+41bb7kZ0sFY1DFmXm2aLt16kG+5tukos8A7kXdjJ8ZdskaxvNmNv3BdT7wTdozG+/LT2krXyWex+x4JPtORxjoS7ak0pDdJ9ku50WMTbYibtn4luxn0ujikyk49EcZj3gyJnXOwnJnOrLYxC/la2956s27nY2UXX1eoledh0j7GN4n4QyD3OVsF7TdCVZg4HJhC4mesDl4l1wDgTvrk2oDgRaXaX2ddwPdnXVm36fOO3ZEvcxhOwsLjKfER5OQHIfTk7J9uxDvEyFh8cj2eHy0LI7FgkL7OD2DeCTxscDw6Mk+0nUdcMcNssDbvbzfEaVjHDjxPsrHzHUSYXgOCJZ2N6Zev1g6l3ersHhfeWOfQvcXwLtIY5dhXx9BLxL3h6Q7veVeMoRw49pdI8fNbLZ7xwSyHB7PHiQtfMt1PIb3wWgWJH0dQcZwu2yd8azqNjzh/N8y2fJL1PeiCt2HTeZYz7w9tcByWyLpbOd+WZT3uPZesY+8pgfSfivzXQvtrE5HA+U8DxdXeuMhnoN6cZGfZ74948heMsxYstatcXicm2TyYXc4MZwPtC2PmF+oE1jgtvtcG8eZMeXd4sSWFQSMPe3AB3TEfcM8nqeVx4ZJwHcZQ8WcMOfePUex4SHznPixHAb59HkKdktL88MKTgZ8Y6nvYO0+/RL4Djtug2zzfE89sS4LPVn34feS9j7y0zg7LK9zpp1fYZ+/B9cD9PXO8HXH5z20jzlvD8JnMVJxjAsMSxG97LwQcdXjg7dWbau4LqwulgEeWZuz2ynSzn7a3q0+JM4BbV3YOEh08ZpvLvPbY7CPMmFtljanfLGhztmHv6TnK7Esj5U8ukscYZvJ636s/oY2Jzllr6cJ2hy9ZZIwzo9jhFuhLc4zjTl688Mk164PAdW2tgMfdn4HJYmU9dIjNcVjxaZYi9hvjAm+2PIQ4FrDHxkoBN2/ZI3bP3umJMjyO4nHGnPky+mfuT7n6X3Rvtg+rOZLuj/SY8H3WC38XbZ4cJB9+M/6Xbv6cJD72WPB31J8EZmJI9ki8u0pgxvcYsmTgtnsu7uxgfPALPls3yWdZvMqeBHcl1Nhw9yTZBrwGHu8B4HHYCBeUG6tLcdJh7kWYyYw8jZLILOM4ybd0SL3epz3Hvf6OCfxtWfvYLPtKJ1YP3Q6dzN7QbaDO7xGyzbRPHRwcZAyL9U5Om9RhH2OlhI+Lse+CktttvG28Ntt4GXZPV1dWlts8lffoB3YfmgTqD4LRtttts2N+sCSkZ6tturYknbuyyx42bss4U8gz6Mss5Y92tu8Fp6LdXWyj4zRI+ODvaQ3YVpxttv1bbbyI8g/m/PKfeN/4W2/0N/obZZ9etq1bxtthZZsjd8Y/Tn0IRmXV5bwz7YWD6W2/Xv/AOG36N+neM4yyXJ4f/N5/wAwJPqy2XfpyMl/8xv/ADdumz+nvB/Rz/8AHbbZZ/wAssOH/wAzv9U/oZztvG//AKPf/PZ/QyzjOM+jP/B59W/8TbbYn6tOd43jbfo22223jbbbfo3jfo3jbbfo6/pZzvO/84/rv9DOD/wO28Dbwv8Ax8ssssssssssssssLCywsLC6uuN+rbbq22222223jr6TLr6evoyyznOc+jLLLLLv/i7xttvG22228bxv1987/wAnLP8Aj7xtttttttp//pP/xAAlEQEBAQEBAQEAAgMAAwEBAQABABEhMRBBIFEwYXFAUIGhYJH/2gAIAQIBAT8QTOXrSzwdLpUtRbNnJceXsIHbryb/AOIQ3gjvlmmbLXlzaGRvLCDvJA8+a8Wjs5CeSZDTn5LTfu2jZ/Pf8jEV+zrJ+ZIjGOSMdhRkpBMeTztuvbcbEGWT5eEs4nXsL7MlLDhHexLPJNliHhKJyD5LuQj78qZ2RDK0Qv2zDY7CG0O/Ejtj9kIPsRfxFGZcg8X+pbf7/A0hPsDLMneNk8lPgGGFrOsh0+EjpP8ALfmf+AV6wYfsACWnP4bzsBxItfj2yDnbJdg/uM/g3XT464SF2JR2y88kX+lr8n9G7aHWCu29tGX91m223Dy18wdhmLCxL0XEcyj/AFNzL0Mz48uppQPnyY8WwsHhakF2BdphuzRQ3lwJ/i2yz/JrOWmEHZxjsj0/gj+RD357ybFzz5XPTPm/nzZlhLsGR/UOy7DIkJDbhv7Rk3Ye2c0hhsfLAYWHwo75ZzRu0ofr9+8hkddtURn+rDkg7PCG8bHloYECy4kvG/QlW7ZOcsc1t/xbb8z/AAuCE7YDslwWLH+L2yPhDe3k6cYM+ZIkfHvtmQiy23/L8ggggXKe3rGBXIc6vFt25EjjHXPjBcg+Qx7czkOf9tztpxvf02k+ZpVquMoYMQKeOXs/7ttT/qz8hb8MThJk5KZk9z7J7YA8/wA2/M/jnJMKeMcz8EtycBZ8zXRy7AuGkkCechtexM2CcnJckfgOxzOWcgioxfiJmliPA3BYHsocLbK9uvIN6QDo4z7d3YBOz1ZGkeEkXshCs5Gnx3bjCGkGRHl05N4cvXJgpyeDPnCX9si7k7mSr9hbbM5aSUD3/Ptz6uFs7LZM2weWHJgupOwPGAaQCDsbxYC3xH9R8fLx9Z8/9stMt2R4tSQkOWbFvYTdnvE+3p2MeR/UpFOnlveRh7I/IyZanZ7C/Lu9+G2mQ4XfZGSeyOiOuTjcdl39nnLmdhFv2EQG3ZWYX4uzjSAx4Llgefcssssssss+ZZ/DPr52U7blwmRsUJuS/iDqYYx5bzYxD83Iuw9iPZfnw17F+fCfHrkN8sby1gpHVv1hnEm4kxHqRwY8lmy1JNgwjkodmNgeSjvshJaTmZIZePy1Ux7IS9ckXzLOwcuHkjZs8i1wRzfi6R3/AB7/AD1n+BRlqFuIBnjJPJc5EMZASd7GLq9jRDJc5JSH5nweWl42Ys5CBz5XDkvj7CesHm4LiwMbsX907mTyL+IYfOrLV1byFl2eJ1Z7yRLvxgbGy/Uw57fl4yyN+CHLCC6N/wBgLAPJfNsYB5eWJ9D+O/c/x935lnxNJCd4YzYMCVbR6xJsdMk2CztujkOxZh83+Ai0PbnsT23t62flmRN21xMUMvXJVI8G15LzC/1djYfocszY427DLWNOk5MtHT43fLUYdOXHtnGSp4Zb2637eEmkMS2V29sEoS1W3C9hBG0S639wjGyyyz+OFn8CQwwE58Uttebc5KzVpYGsH9X7I3su8mft1CNW5a9SWGRbPI6WhyLKGcW6nTkz7Ey9jsWbkDQx72wOSmoeFmSGbasgDCQX/JFNlxsJEeWsxtbyU+xDW04Q523PLR4yZz48jwl0WepO7ANh5bLeu2D5abbPbU9t/fhJleQy725eWidLfnbf57bLhIJYHCy5NnvSA/YCA23sJy2vJsjFjckPJOlvcjka+L+XZd7ENLzZkouoPO3BLyWx5Hl+FO7t5f0g/W7Wf2cYni0NbYNsHbJDHR7duEY9hhjCEbfvJ0LH2P7h34zbb+kdcnvs7byzJiDCjIsj9n3ljDlz2YWIRZe/GvJaSt/hl223+BJssMufb24JXDaSwjyz4Ztw7aPLudsbs57DOkGvZl2OzDK9tx8eNkh22GWfh2CXjKVveRq2c/3cT7etjuWc8+A39hB6n+mCQn/V/ZK8QSZ5PZ9sjSHXZ8slQ5DFvI5b3tvxnJJdPmwhbpHuQufPgZy3pkSLp/DbbbbLLtvzzstZZy2AdvfI4cnWoM7bl2wuybXC3w3bcAxEBvl6tN5JnGAOWH5EvOW07MrAfSDNI75aSURseS1d8QawBKBLbFS8z65yujQs5Pko2E3JuZokMckfMJPyXvx7ecs5Bkj8Lbrs5ZySeW/kP9fD5q2VWyHsIcj9MeIWwywf4NtuWT0gqHdMIwcuyNr+QP7f8mKC7hT/AEsXYR7IM5wxDpMNq1SF8bB2MvyB+/CkfsdD+xl0lka7c9gHLUjl/wAnBk5w1APb2tu3qf8A4m8QDCB3+5s7Gmz1nsWMO3qTOx2zb8tnWb8idLUkWt7B2WOlsNfhC65Ykj7aJe3q2Yf4b3P4YG2t5I+xntg8j+09dbiSEB+Rq9kb2Mf20P2PK1Y+Xq3kK9V4sYLbQY7I/Cc5aC2dRD20Q9+xW6QHsBwiFf72NsJBlrZQDHX2B8u+Qcsv0PSf7Xub9tyxlsvMuJT8t5B8C/L1OJtkJbyA8hzkqH2mWyx0kdg8II65bnbUn7suduXbW2xaJJtV7a5DvLpPex3klq1ke2xDkfmulm2D+nzSdzYLJOku3GU2w8t/ZA27J2fbNbxsRotz349X7By9WHLy3+oJ5LpH937bmEL+2r2CYRZb8G6dljVlbDl+/DP2/beR5t1eXIrmX5JZkVwkbX9hvZ3UGxzHPbBZ4yzt47Dpy/L+BnPi8GSeEfpdn8k/3aIxcdG1t2z7KZpbKFNgAbA4MnoMjK29xw16x+F/2ZRqrU02/wCkp5u36mPEHb+6AONn2yCoHk18fHqDsEy21dj34f3PscFy1S/YI0CGi8iOMsvZXZdLHIbiv9kt+2rjB4fPL2HPqXNjDNhJ7Afb058wvbNpGnt0l2SD+49nolnkK6cZgi782w+wBvPqwtusGfA0zaYksu2DAQAbd8gnGS4s6b/df/I2c2f9pAN/uAQF4/8AbfFy2en/ALea0ez/AGW94CfLAXI7P2PwtpxDZa8sG22Xbb2MDW9WubHkHLLcZL1Y7ZO/kmezFueSsFobH7hOHAjFEj0f7gz2/wBRHnz8t1/aP65/GUok5s2zn/DNOkemEVohxt2Id3hb/Lr5F/q/EkbW42/Fh2WOE0LMOkMzACzt3f3XCHyzn7N+5BQRir6Th6mGISeiMOZHkCU2sW9y2/8AqOwb9jDLriOEvq1Ot2NYCGutzL1JJdH4T+wT6Z88Sy8sqPL+0Buux5bZL4xyXbJ+H39V46SZ4dvaXkck/YbHNS2O/wD1J421ZbXt4WNx/wAIcR/Te3wwA5JjR6g5x8sA5CNmMa9iDSXOyh8TeCyTdDn1dLVNBQ5UImLux1jI+Q17D/JcAZjmPRaaztOm/wBXBnByBuw6ZZ5f6rNElVJMMujZMn9w6Jwew+PHLO25G5L8vUz9YYejM98vJ8jrYRs6I/gu/wANh28+eiEp7+wg7MF/2EfLL8s/ZLOy/wD1a9ZIbN1sQyX+1sJMxkPfGXCoIGw02jclpsBv6wwb/RPEIIe2vyTI+jsL1JY9jfGOkep/qZgbT+xWWAZD8CE9npP9wjiXx8mry6athLgZA3LBCG1/LTX+p4WP3DRIc6sr4y7JwzLD6oG+rNhM5PHnz/vd+Sf3ISRl2YXLjlibs1nG2U6gxkHuW17bxIcIefMsj5vxtCHfimZY/CeIZ8LA4X9gi1IO3EI2jGOTK6DlghKJpbwf7micuoTD+rexWa3QwlDl/oRPNrrVD6exWF+gn8C2JBQvX/lsJdfs7V1XLyS7a0f7mX9dq/8Ac5ACt1ZxYXSXm2epBk9/5R90Fm23TC3xFuX9bpkd/wDqG8J/24TQF+aQZ/V+m36S067emcTYs6WzvxmdtM5abQ9uYc1hD/7J937nxN+EeQfsHiSpkkoEhy/QixayQ38sfsB4Q0mYSXhe+wUIDdfgWgn93h8p+TGzZ3dbdejFjDLY2cg3DTWDuyDLCkDI2Du4E8IftuyXYCYeUnHsS0UhMC0UPI0M/wBJ9z26upnQ+IPDZ926BHDPIfuRHMsHkBhZHZjP5ev+pafwT4TL8kHIl2fvImoxJVbXSTuz/cuuqg5DkhSrxs1ew/b/AFBzbd7Z834H3bTraH8McssJGaW4Mq6f1boA5/D0CPMmJ/qdp6kwerof7uC3Jjy69nmrZiR5zY/lj+7WZRheRXsxEnd7Bpe15QhIkPMseI6o7zKdYrOWLK5X9hpkFM9P6vwlDlqDXsOwyLdtdPmtsbMdusF7/wCrcK15Ekl/+Kf7sWnS2RgGQnst6QPhYWWWhhHAGJ+T+McbEO/x35tmxwyPQtHtkQP/AMrOQwQ9jT2wgd58zJ/jt/2sPzJun2U42GLwhvxJa5cWoNkdIMLcupH+i9REsMteknta/uG6ltzIcnkALP2DcNo0spDUj5J3IImGvh43KsAbPXsYvvItJxR0iCfije720/d4mpV9hGe7cOEkIZ+P/wAUwO2/0iOTxm979CBZM/hFvJCL2zkK9+c/hkl4TwuomahDE/EtxEeEB9LFx1tQEj8+Ll79yWN7G2R8jnkN9vZe22uUY+COzrxjOENt1wsIIAcjHzIQerAz5wzYT42YlwnqeiG8v0R2m3Dtl5eq8Q7f0ghK9YwWvWwMddfmQ/k+yyJf/wCV306Rh7LStlY/gM+fwPPnkv7R5ZfmWrBkJiROw9jyTYeo6W0lbLDJr43Nl2Hlkx5L6SxZHVLc2RbuH8Mu2M8Lzv0w792TT7ot3xceWtv+pLq7bMnwXies3moY5fqLNunxn/aM+sXIhHy8hYv4ez5CyITGAcLFtnF4r/CBMlz28MiDnbYCD+ohzrL3lsw47LeW8v63rkcM+IMGyzmbq14I8vZ8+E+/yfIdP8Q/C34OS3+LrCNdWO/BAR/q2XC1rLTtlj+5FXgsSlgx8HBDHlnxmTIs/gP0TxeJ/VmyHLrNTGP5qcs9bDfY8yA1tQPnLbhJ4nk5Ds23KLxdr/8Aw2w/Vl3PG11HkT99fz0M/wAdhmJi6Hf4+hn4ZZktKIE7HZ8tm2n/ANjrSw9gJ/WxNlgJ8j2TYwoYbRg/i0NLQtu29Id5f6+ZHux8j+Ywh58eLMBnhbDnxXsmFzs+Zf6+DHY5u4jzfpMpa5d+Aclw+v8Aggy0IsI/H0ssIzrCSS6n8Tzb2YOP7Z91DfFY/rMoWaC3Zk9LHCCyGhdfB5EoeNyToPvR5f3fx8X7nz8MNfrDZzy4Y/mdxbhFEAnQg2ekdj/S4n5H9Ng8smcuIdLIP4bedt6+HFOz7Z8V7/n/AMk77exsl/kOfPp/EbZnLs/9gPVxdG2CLIl7CVgBshhPBLfibcsuiR+VhD4jyy363onDDzf4LDfntH+CWEMv5nwJcyzLqYJU522Vh+B24iZeHzbbZ6cj1B+DxsH79Tev5kVYTp8MN5EOyO9/gNh5D1/F+P8A91wNY0sb5DWwxCa+2vCQ5s9TL8Cel+v7N/BnDJYZHafw0k/k+xvpZzn8gdR/PxL8hzhaGQ1y5R7eJS6z/d78JIOx6+PC37lyR7sKxYPm/G19n521u5JbJdz5iIbx/wC3l/A7hvyjN/P4Lkxz/pYxueMQXX/KGWCwa+BxDHIicJ+SkXNLIwRFv+3rIftsNi18/L2w7tzxH+BZ8HsfzX5PZ4L1ly/xAZ5IRMW8lBqjq8J+a2zYpYQI2BNGsJ+w37KPk4S9tjvln08tGR02Glg17Ln/ALeH8PF/u4g/NJE8STCHpC8mUW8ltz8Gz/6fAWysNMM6t+aW/vCRmkCp7J7tgz+BqiJnzy9yjvf4wNuTsex/Lcumx7H7jjEz0kxPhvV6swuT7dEeCYYry+ZeW3DJNxbFqBg7liRPJPmxWOkHqw8+Blvbog6sA7BtvAWQ/wCl4fwO8RjS5Pnds+BhIvz1MakIt7D8GmNrF4R4bZMtjhkAttkhT23q9sMCXkMTaz5a2Dlq8hh9YPbSDsT/AAEyx+BB52/MItnP2XZvV1ZFZNEz7a6upGljyz5nw52T25s2vsxQIuiN4nBkrTFrYDyZJz9mAR2MPyGcZEcMuDP451/APiy5TiHIZQw9mquYfs8MXhaP9XjJ0W7bn6/MxE6nDnw/XgSmx58YyA9h2w4nXfnqWkBO2ZI5BNyRc0BeAv6M9Ze3oy9l34cbX7b8bORshLkvYbW23fmMxizLZl+TZQmZ6v8A/CPJtWPbS39Fob83vyLGyM/nvien0fg8Ti3STPj8X72D8it/bfSW4kyw2DL9Y+BHYuCfm/f7YCwc+giTI27chppYtmWLlsIgnt+crft/v1nW2KyPLx8v6XqL3C8t5A/bxsuWBaGfY+Zb8PjIjtvYSamErea2hhy3We/fKHfi7yyQHbZJxhP2xnZKf6W8m2OP0m2X7PbT5TPicl5e5KHnLsskDFnexAr24i3PYkPG188/lny8CfpMiEcSfL8mH9WbDht4fBo5ePniWu2XuPPh/uHpD8bXsr8lynLe8+Cb6/g/DqsPZvBKPJ9jlB028I5v4fk1XkPIHFuePnFSsDmT6S0ljto79J+JaMjXw8v6rZ+TuLP9lblk22Oxnkrs/JXGTWXD+BJ7JwU0+NIhPz2/MT+C/UZ+GPF7SVmlxF58/LT2f63Ybjl4v92xxk9C0ufkQhcjLpl6/i/A1KGT8Er6SwO3pyK7y8D9HscBco/NmG8bLD2E0+AMjhpdc/gzvYf9SHr7ePj34o/6lkHIgQLIsPLEyGIlkOsiseXj7t8HNlm534ZYvH0BOSId+Np7a9GIchs9hBOFG38ESZLLxsatD5ZTkHzPh8QN6/i/wFjPDyO3bd5a8lkubdYQ8kXkxDbEafWELofdilFQ5x+R822ZLFxuJcMbT4AWnZFwkrLxI9Rfl626ueW/kGEvGfMk3k1I2B87pBhdHwdCTb4XEuQT5d+g0kuzfvwjZHhMGs/2JdbmTOz3P+Wz/qFi5EmiXU7Hz8+ZPk4kzxy2isNTNufPXLOduuFziZ9Y8Gz0vJI5aQ/SYOS+DXL8Eux58/LCXfYj/dj5A5Bg8X4H4Qd+vr0h0XLkcQzdz9MOQCtI+YbjReuwR2zB+WEfmMadZxPk7+T/ALT123MtDkjvw31cflkefXosDG88t+G/tufBtL0Xv5k+ffHwXPIMbfJTZdi6ZOQ/M54iPZActPx7FL1SyKb8CTC6G4h58yYgltyCY3AEYjHltvz+PrOco2ciSMi8bG3s/wCxDc2cfAlPlwy4n4W/39Plm2P02HjasIh+2T5LMGLLJfifA7EPZ78J+ZYIa23qIFZ+Ph7Ecb8lmrA2ybYlntm8kNyDv/Jew5PkcXzPP5hMGSOTcG7L0J/E/J6JTyuHwbP2WsXkZn89fBjeUxbbLvxj4Wliwg2Tt5+LYsqFb97O2297Pkc+Dz5jezH4PuwgxLsEKdYB5N7iPI8+bmy/WzSMZIRJgxvyGczh9HV/ih0v9cPc8seQ/WG9jxDWfLox58G4jjl0/DtOx7H2B9IDpPwWUIsY/Pw/hQy9xhcfDFp8yz6qFC/Y37A+hhPL1Ek79ik+WCgCMliQsOXCuTy6h5HqJ3bD8WRgZskKbe58k+rvnxSHmxrlP5JsA+l7aEPZ7PEtPPjY6vz+J+WYpP1DPsT8HDZqFyXj8PqfJ8yHb3C6+C7cL9sZH+HbPuWXXz/WPwz1s+MLJdoOAFvxaNeWyYaZecgb2WLs+9m5gbuWLksEV6sDZd+6nMjhZzkOvLxZPqhYW/WB8+b2ZeRl28Mn1n2Chliz+2SB7fTkSH59m2Ph6MNF5uWY+gEBlvwbx/HbbCy7/FQsTbaG2J9ux81jRgtsZbbHDs6+5i3FtvzJvzjvYcOxTcx6QDmXdkc0npBz5Wwb+yzhzz4RWh8Bj8kkPnYsfFk1spzfgDDMgVr+p7qHSfZY7Ll7d+MPqAdg4bDw+FvwDjP6i8XqBeP8Tfj/AElcH9gCD4lI+aMt/LHf4KwvzT4x/uRXRgOMKfYxC6NLWSrbEO25a/DBuWkCcG6LjlxHkX6oC6fKJI7AOz7HLCVcjytiQd+Zto2GZvzI1cORDRtlf7T7cIfm/RtttizGDOXiNy5/h0x/vZkf622w2Ywl9/kmPIOwKNYveXoW2lh+dkX5NJ1kSF/qzfyAeEiW58BH7cfLUDYwQWWWWfCLGY/Ex+WvxkxsvsEkX+LjpYTzYwZ8MyyDLS4+fAFO+/GWNjdttLy35pDYx/v+ANv8GYt/q78J5ZZnxbF1uuTduDD/AHJ9JhiS0yxZZZZZ9z5lllllki0v9UAsss/wZ/DLLLLLLLLLP8mWXbX5llllkhZs7ZZ8ZayrGkO2FlwP4PwT6bO7d+ZZay1u/jZYT/PLP8Gfcs/9rlllllln9wXf4M8h+bbZB8Lbf8uWf+r37n/i58z4sN35sm2Qp8DP47O/4Ms/yZ/6TLP/ADMulsP3P55/LP47/iP/AODWQsS3PYfufdu3bH/Dv8c/9tn+V/llltthZ/8A0Wfcs/8AFz/0u2/d/wAG2lpaW2/w3+G/+fv8Nvfnfnf49/l3+WWWTHzt2yyz5lllnzLLLPmWWWWWWWWWH3LLLCyy5ZZYWWfO/dtt/ntr9yyA/hz/ANhtv+Tv8N+6f4tt/jlnzLPgf+Pttttttttttra2222rW1tbW7duzsrCxtnzGxsbG7Y2Nn0yx/Jhcht2f6x/exncvFx5I36G/Nt+7bbD9234xaWlv3fmf5cssssssssssssssssss+YWHzLlln/lD/4Kfzw+ZB+HX0xkf/AP8W/+py2H/Hn/APc//8QAKBABAAICAgEEAgMBAQEBAAAAAQARITFBUWFxgZGhscHR4fDxECAw/9oACAEBAAE/EGhA0u393AfxQyKVmfxBwuEGBI2cbJfgUFWpM1xqBA04atVk8sbra5leLyoA7fDzKInrw+s6zz8R/wBGmALP2lSuasDGF1y8RyLK2G8a+osZkXQ/mOYLqNmsV6DqOvDRUQDLTh6i01PoM+lRqVCFiJWg+2GeJi1AC8w6VK6R6d/iEaoqetn3LoLBByZ7l0ioOH69eJcQik59Y70CKpuBmrk08wIqAatX97lhS2Y926S8xQXWc7pMZUUPSJJvGpfW4Py1hrZ8RNaiXy0u66lXxGy3nzxDoFQdiSlwjG2NiYLePQll92Q5/wDa6tTTpPRiz92Ho/z8zSb8MfJiWIEdI7/+K/8A2Yd1SzDUQyysxR2bIWV6wSmDd/5/4JqxykuTHkxfpKFm2ylPcDqAq0NOIwCzXfgzxB1PEoXXhDdYjw9qi4IoSvd8yiWamSn1jvFeT28RabaEos9IICcp/Uv5CVaRLFc9R2A08p9QwQlbYYrEUMrSg49IzzsVS3EWSA2IkM4l0lvmHQaomD2SxPT7Zg3g+PrDZ1fHr/kLGSkEzA0yKv8ARBHVcrhV2PDjEMggWK9VhfFesSgrZID0HnxU3MqUtfC4NcRWfNcnKt/EJZQpSqxt85Xjog5iqL0q61w+YTwqPFhYfiM7XE88VWvNy+AKpCijkhqprtgq68XjiFViqgCti8eagxkuMgXqopbCWDJf7l0AtRD0sz/qIppxIYY1fp1GxezUynC8XmvLBZaYLG7FXXZ4lzAKmwre71x7sTuIZuirnfrEQxQXsd/7197gkNmVftEC0WBVkPCLbQ6PMsdFEE/y4xkTkwycDmgIhw291HxrB4gHsMwrHXpMm1OmDVJ9TIvUXw0WnrmEhCFov7XDzLatAqEdcKcshmj1iWQAAnLzCdBocjHpu2lUWerFe8c1fAPVzUw0wOC7ojoIpbUdYuXacgMV51OqkW/zBvmtNg5Q5iBQtUaDgjGK99IpkzJzIWD1BK/+WLO2V8mn3gniBz+BqF9NPJ9tQbMf/syVIqZf8Eyn4irxYtSIA0FlbPCX6AghtN5/8sSCPceqxquoFAFgdJ5JlLbO6iRauKgH0ihCwrJn1lJNwoXLM0qdcdhF34jkGIPNwAuozbDBXUsFAwXtjdspZaXsYKogKwJCxR0+YWlW7Laj9kJhlj0ykbyUUw5UWBf/AFFRF2nnsiEzTcBYmxlgQrgJhal5LhArVUX1gbL4MuUkqukrVPH7lc/FabQDHx8Qs1QbGucY9LzDxGWwcu2/aMoUjIpTviIQuysojv2rzLYHZnIHD39TgggWk4wCr8NQ0SJJyL046bLjd482Lx49oiqStI+KgNR18LwwaAFqP88wYAWlnboiYNqg4cUYSudlSxeoUSVwBE/nFMczYyzVi80zgeWNnEqK0uqlp6u7mSS7wW7PxEgS+nGLhZeUMg2U9Y9DSkL4tjl7qFRfrTFbrOC2KHny/RLixegUYrNZ98Sr21lbC64llkQBcPItihvvuZVajm2uooGObDXnHUSugpddeDKtFzP6CKletAF+f+yjULCWVzmLpSiFc8+Q6iC5CFw6xzEOjPROIOJtcgLvUs2J2GvmDbh1RKkooBdkTQshhi9wiuFSGEx0X/4oIiCPE7Y0bvXSAYT2qfh/mLRFNB+2/wD8K/8Ai0Jgg4faYRYUKPWY9diGb8y3IwVU3iCNtF0qdx2aiz/xLEgUKtbnxHgbOn+EisHJmR7uXnBniTmasLMw905wUBj2imENddRgfdssr04iDQxtgqhyaHHiKmJds6GYPwdQlMcBmUS0dhDF+ygmpeoRCCqa/iW5MsubWscRAW5SoW6z/EWwRAC/79R/cGs9+gVF4hRX91M/118mocdWQ5zxc43OEXjiMnGqzrxEGzWwbVGgxpCKdVH+uAVTFErXw2hhsZ9v5iNdBFKNmPFfiFYFgORq1+X7loVC+Vewvzl4xC2HA0Sq0870x3RAt7eL17TRy+Sji/zvW4le9yJYHrxMsbVun+JRSpqgNegpp0RzVToUWxwb1jveysWRDgc519zxtBy4oJIdBKTT9oGpnbBrYdwLiFQaLu94yQO7WVGLcDvfEDFAsHiUEOJn6LmIUYAYR5OoMo+7TWY+qhAUsApw+Ysf5gJ34iOPYRSgOkzLTgeCjrN7gFKpboC1r8ze91IneQ/mLeHA3KsbuLE0IZBURlo8yjOY8i/xF2oCGqQGpU1Fm5uLjEM4TeM3qlGQxqumv8wjZrFXe/iLiVCiw5MCyqKf5UZQ0gKCOgJzKHcymRDIOAEIOLMDHcQBSmT/APFUArhyQP3B/F17VHjLv9DBFj8r737f/dRitgsUxWztZeiG5qKophq9VCnPYx5QwuAtq68QyvclMcRmVXgr/wBuTAS9WUkrBrgi913TfvKYTMDkv7jYwCiblYQht6xUVFlN1NCLxtiDmVslM0q45MVGtJkZfAKyE5lNWGmo3OQfbEBkkODNRCIvCwX/ALzHG1hC363HR9JQhXmqgMCN4GD74M9/2TQBmnfRMpKwulblM1vvPXb+JVg1Lw49JUXG2MJzmFuKVKuPFlmsdW/9hYdg/cz51CYgYOGqfm7+YdAFPgCAs0mI4bpbNY4imIoKGrTv0iMkKRUtNcZhlBmg1vBljRU2H7aqNsC4NjrVZmyIYLRrpTruVMxABarXBh+4lMgBiCvyz4uBZK/CoWAijSHrzDSvIM2nGK9N1G/DA41zwwfqYXpbqggZb0nqyjgUmTBkL+5gINApleXfrCxtU0BbbXpj3hbBiNGt94WKHCD2MfOZ6gibeWECwBF5oK8YIoTDZzcqWKn0AlL2PiKCVoFb0V4lWBQ4rJY3i8R44P2FZjWsChzlydyvrYyX1qdFdC9y7LEqc16xv3MpY12XLFass89biUmB1TRcr11kFZnoQsg6ogkLbSyufVBW47o1VRK2u6unPoyhivL5fHpKeQFje2eoWObatesjHoeRWEFAWDEALdSPX/4r/wCKlf8AjQSbEsgaN3fode0u0F3V9P8AM1bD0o+dfcKSzUqV/wCZdEycmMysE3celwyV1zCREQJseGCx8pQJ5PmFAVAo5PmEG1ydeJfpwv8A4ncsi6iSm2bEWGQZaghg81ayeanC7jy9e4QYtla9QDYDhpCEFxwGY1ZV+HuW1YrAcERlTbNelQvKFrr8waMIEa91EkjsGoyWi2QHzFITYbhwDgJp8Id01UvPvNZAYba6mtDGbarqBSUXfmBtguRbqLcsqABy23mNoHplnfBuDMRqSOEs8d8zOUe6Lt6bmaF1B7GcxpcVqGluIgAAL2Usr4JRg2ooN+LigKSFDaZVum7gSwWgNKjIV8X7wQaRuLZXVWPfZHbHU0Xkpyb5gtvRsqvY62wE6q0QVxXWeZqRJG83vOrvxHZhlH9etYvXUdTNAKCrsc9fENYGtHPJoL5/2YIwxcabO7M4ln4x2gyC27N1zmpdsNqNTVm7vp7ywrmtyGE+4GG0F7demSW/sOSh/wBcvmqC1A5IkZbSWHvHzMu0LMi1+IQZfLWhlR8gEbLhdnIMBF59CO2/oy0lzOFZShQK7DFxMrWl9BzeIhBVMV/2pWgxg8nxA6MXg92CGWBMMeUOKOpso7mRbcHGtZ3Cv6DxlQVq3MaE/TvFYcagYobIRRRWK8YIUuaIwdnEcRaINBAyONls6C9TMAAankpxH0ogRbcNVACtNuxcR5OkUD+4zQES2TqH+KZzfFX/APhX/wBICII4RgTPwPHxqVrS8iv3Ear4fYfuofatKsYNLOsaIagQNLWZUbb6JMrFfAFxLD1NDPj0lI6DZeO4DRFbwe6JSaGZV1FS1jNupcyG8w8wG0etyW7iSBKTu/mbSC0sj5jfEAKT2DmI704l35P4hcubawsSYy32GKgsTcsH2G2bjAzRgmcMCgjLpIEXDZoRkjd2m9wNWepEVSnhJUWTi7HpBlzZlLsQIA/2jrg2DlK0Gn2jXbsbFjEZCNpZVHUwZNHiB5lP4a5KuVqvAlj5JWoDmL+nmmtRJV8kBVU9ktpCLeKDJ5/cscGu1K8npLl0ybwRmveGABmKZOb7JfDJnUh0MsbNeHRQxnEyEiMzpW9GN6jgzp3YMmNIbP6jWlbBYF8PSUosv9hlk5I+IXm6cqbG/XzKyVmQGxMGONY8RkgCi8Be72/Ed2IcqrGN67xqXZx0S/l+IV4NFDrVfiHESKgGC3V1xLRLgfdTXrHcJKBVuH+45AClgHZ7ZlxraA4VjEyBSytj1LrcgVAHJHuyNDQjv6jwcaHY0/HtGxMQu9+jQN+YuQ6RoHrWWdWK6WPfxKwUZgDxQmd9wgAuUFvqIwBRBZBvx3Uv2CaXC5m5UV3GrmlRGh5xFhVKMgdjxANMXSQPqZjZjVNB70w9K3bsD5zKd2+l1VZTGwr5Cm3bFoTRZZXPMRZqcrHoViH5lic9+saIn+DmKG36P5nlB/2P8Tx/7eJ/sv4n+gzw5/0P/Df8xP8AkJ/yE/5qf9+f9KIIObWZ4E9X7RCAptQ/UdFA70+iBCEFi98S8HropXqa94A9I008TIHVgYySsph5NTNHgD2jYGoGAV6QC9ggqet1K2oMnAhoODI/lKNjwaB8wcNsB6HJLUrkcXxROSfGrLDtaBzjuDTwG0JvscDFZjlcbEA7KtFKCIZcQtoDbNomCZNGFrCoJct19S2o9Ngvn6hxQaMbI6GTo6gw8KOT3P3N6AN5lz1KrS95hDRt1t+JVVrFZPRhdKLw6lQWO4z3ReVE440qApoNY8Lol5DXJYqjb6ksflWSnr5mR1L5YIuzuu+4SEsgsCk56y11Lci2BT8IBUtwpD5O4/i6w7g6FMsADCOeodFhvJWFrz9zSeexYmjqr+ZTzQEoJ0c1AvRYH23aS+vAW0nb5xCYtYBrasYrMfrB424/zcL6lIs0zj3Jk/Bdyjs6/wCSqBQlyFUNleN8RwRAwa9f74lQgXZJe8B4iqgkNpjLlqNRsgo0HdKXEcEyzFWhH1T5mtEANBuSt2r4lkgW9KQ4Tw/lvTRWTvxFAuD2x6vvxHLiGzK/WNnViOqPSaeLX2W/NRSbWVtPncT2snBw7Il2hmrn1lvVUDiF7xQZN8rAsg9S37Ja2GoZHc6/DoHpuUf0Evb3iF1hrhVCHTLUPClxLx2k0PQS4z5VXACqHrj8zZj/AOa/+a/+WIwodHrFBbd/+s5ZKHcSZUIWsEWhw2V7OYmHVyvpf8wNcnYGj7cfMUwjexXRdX7RdUJD0cErBPQCyUIzQ1RMoOoSuq6lbFcLh4mVNCraQlsfAWMWkYsy7pmz0gJ0m6CqjFq4tQQ7ENMGFou75haKFFaWIQVpSpVS5LsuUQvNEROGCXdvcJtuyLpRAOC4wZsaRqHQUKF+YEbVpfuFImVpPSdeUW3mFEOC2vmCoip5Z/uDAfRaI6+2ZZ1M0DV22ai7HK0BBZQoGxfjuAMII175RmqugHD7P4jR92GirzcEttizi9lROO+CUZYf9uVCYUjoGoTU2ZVEjFIVCFIGABmuy/eVaAAFc87RMkbMew139QgsLyKXQ1fo7g2O+LQaOsHMo8ghCbulE8QJF8Sgqy6oK9orI2FS47N8ZlcgWVMHtA2KGE2Vbz5uMdloR1ht+JesqpE47IUD7fKFZGfDHiOQ0gq35XggviSzTRUD1VblAoMIsxh6mDfmU0IlTx5x22+84qKt6xDN7kL7NL43iXgxd0iqpvz8xYwAFx0Y4xL0lQMIvVahZaicG5iWEMDBrFwmuvapSekCWVtm078S1DhfBeW+Y6yLaBMZA1C3DHA8Ke5SEys5xfnZBUUak2b9IzKw6iW8YIbVimzEoUgpaPw5gC0PpEEpLnpvRqXND1z+ZR5fqVA/yK4loPWDUD7/AP4qBlCF4ELSjEQdThBbg7e5R+YIdimj6q4jwg/7EBccBk99xIYCRp9yO7CgwfxLkjnEHyG4oJAE0ePeKVqgErV7IeN0kU9SKTMhkRvcG0a6lVfpcFT2OgHiWyXdITEiBmjisdYsxwu4VISjeTxKcnTbuDlpwLzAAsXl4IhppJb1ekqqRsG/uPCGPMvai2YSywwJVE2HuN0KgNaXqXV6NdnrBDYlCgyJVR1EeVYQmjk+sQtXxSUFGE2avxB6qZB64YQRwdFrYeJlylb5fJbJZbbUFhcvrFqAhlWtXC1i5Oh6vf1EYddYCAVb1M3G3AAxupV4XM+xxhiW+yl6clPmUa3s/iDcMi2Y1GbcMuQPDf8ArmOB4Kq/GeIDoxbbQP8Af1KXztYe949Is1pAVX2xHNojAUbCjiGFJhFnA0GqR4lKT8OHVhtr/Os3FsrOXUC131Bh8cNwXhRQp6qn7SYvQA6Ltlgo8EkMN9w1kUEOzwdSyoKHnnJ+YNGA6RVsxi8K3phoJQggHiDwEI2Vhl3OGCV0rfeYu37TW8iS8KoLDQYGMtjjbaIG5Is4ea/uJhYbwR5hQALtDJ+YlvJWih4f1HWRAK5xCQ5gWLTr3iGYqFg1teIAreExLaB7xicTQVvUFRAQswrcSrWoEj7yRrFxoUOvGZSZlDmC17dh/cxFclP8kbqkVJuh+INLLnd/4nr/ANek7ohtJK7R+v8ASZrLPRiyVeqMKcM9H+Ynun1mDFv+nxBmrnpA/ITf8J+4X5vvfzGUXCQe/aPglIvvSeJZDt8/W5W10r38RW8vyL8ImYALWEqLtaNdvmoI2oXEXwMfhDELv0dyutLAK241AfmeZa2sDNtGTxKR3IusGqjKy7aBuOVUQlng3KTXZMBKB48B8ifu5iOwIT1CmFoCd7QeblZrM2Mn1LDzhxKLAEZ7QYAKyuZYsbM3HEI0XZ8jqZB3KIaadytsH0OEjSt0qb/uK6vN16ZmwMVXF7vEDwWVhMLu/eIV4tJn8GARREZr4F8sQl2UsfSOkAPYLfxE/wCJOGH9xm4YcAcTmDgW9B5lpFyKwZnODuCcpG1hS1/csvDzkCOnq5QoaUVQKa+mLtSqc1IVFY9VtV+hEqi2t4IFfpjKtk2tDdD0wag2AbWHFyisqDdrn6mFujYVgJzKRKoJjDOY3AQem2H2YqaKoU0zbjW/LL/UwXQGRxnFXL8LJBpO0+blxJUK4P8AMEohYo4djZEVaiHRbShx6EU3kDSZynWIFiVrQrxZHdCm4KbvvcIMxbcubzCmpVpqtau8yh1o74/1xVaMgmjvfH3GZUqoCoy0ZqWNlfT6jCbxwHPtBjFqKt+IBsENeuCJlHIVnjUKP5DM4ESFAqD4GKiVOxR5G/dju5gZlHMPFjJul8ZgCxQOLQ1cvC+QbrxADY4QndCbjDnmLNYBCkPWGkVVg7Qg8GdCjrMsYoAIZN7I9I+RlLFoXtnkyQQtCeJRK/8Aiol7Li/H2IHQPe/zARcqYIaAEAP/ACFLu6DcUcqnxcRRJlBwPaMld4mCuyHSmmR9MtuR2bqYLig1cP4st0IXqtIKinqXRMBwFlqwTLeIl+MMQ/uDGVF7sPENydnLFIUqKVLp8Ec2bcp3QdhxHB1pqKwnYFIwao5EU9hmCh6+R2PmFMIODr4uBEFpsp7GfqXcA4B+GUpmwzEw1oFaSbcIpevZGACxjDKLK6NDFLEW2y/mGSV91QSJZAUyxHUKq8Wyy/Es9KN1ADEV9S1EbDdVko9cQW4KAas5faWAQHoc6iAb6GE3WZbV/RrRyVEgbcFbBMBAGGjUrzND/wAYuBGCoWdVYetRWu2UPJo90mWXQWROMbmYyYQCnWfQguYhOOSuyJSB4WoWvC8swQcEKHLrcz3IRQC883GXUCGiNtnUDszRBYWADT+npECacs0U79IwazCg+aXzAoaR1C5sXm2q8Q6AWbPliUcqri6o8Dbe4wVsp3Rz3FYLnqb9IhSmxW/f1pidgGwk9plFQ4jqw+KPecmEsab4jUl4QOB1LYjMiW9YzxAqwBMSlGbyGf8AVHKvtvaoc+iXYAF4VcIHaBeTpjGhAGDGnzKCaiZqzq4oGtWUPtFdRZdp4ld4z5fJAWh3eD1Zbi1V33B4QJyUvqE/FJQfEt1V0OD2icF2zvUM8wY0jMnU4LjWJg+C4tCcoK0Gp0xwC6q2ZkXaLm09czDhemI20vIfxDJu8ZSjb9oYgl9f/WaKsq5Z/U2LepVMKQ0KRy+Y5sRaKFc4goQet7QhNgjmJYDDyocQ8ymwteKYVysVBaw8KxgRftm4z1qDRY+bxCI0aFB18VFdwS7r+ILXSoIzcC3eK7qZNratIeCOiiMz1irEPrB/sQYtxg7lHb4h9JQlRMAqxCgbRunGOI1tjkeZdWVjWmVJOROU9YFZQq+VItb46FfUGOOFE9TDLShtZV8Ur7hgkLqrXpUvyFKBVTSaRj7EBti8nnqEIVq1VrCcHALo93GbaKUJ9Sx3ABPSZz5N+EYzOBoXm4PCmAVCfcpjDUnkOi9QfWEh1FZvnPglkwkVKDj0biVt2AWXCY6jAMCkGF5YgOIYG6UF95g0cUqXVS1JJp/zcr90AQ9ETcYtJ4buIbv3IKy+7+YM0rLNrdvA8HmXCAsAGtHSr6yiMLWACArWcvf1AtrggUCW/BzF4Y4aHkfdelu5nKLlLVu/UxGu9kowr/t+JVtUKbXOPeUIqih8Vb68S45QtzT+4RiphO/HmLw2cBKTPxM4Qi1R5nFtQllnWNZ6y8VzGaaQg5ihazzG4dGAr0xi5q5lBWWvqHXsDS081MVCwVBBAra2cS0BCog7NEc9OpgQe2uTzGIHKYK8Rkpikz8KiCXbA/bHSEsNGZ4CAss7PMOwtApaHi+c7x1HFCmk0FzGncgWrfMQOCcK4WYaYiuhl8xVyo3PLEw4RNzAEEFtaLgiWNn/AK7gPrKcKejEFL6hHSs9G/zHmHpiBcHpl3/6iN1jD5ShAkuVy3VTiM5w8KlFLNtD3lruVp9qQsRicA0FFDx4ZnUhqB68SglAs/DcryyKWntPWpYPSUiXI2BIiNgyrFHfUQxmUFCdnrCUog1mVl4ekHkCm0Jv9YatepANhi3L9kqYyEVVnq8R62Ssp9Rqd5BT6j2T6BBMqrwb8hFOdbceqoM4FpC4gX1lifzHyIqnxcqZOUFAfqNpCusfIfMtpFpapXNFjHAIgKieKzAuDUfQRpDHep0GyMaKRVKpuUGrHJ1mo7EfImI8goKYhcTnY/BHWXYG0DI8MUUuNzmZO3ze7m8gRqE596g/DQcAGD4uNcuXcpVjpuEMDJ3qT0zDJuo+ZfVzFtFw+IrbUGLPUjSMDpRdKecMsbBl+iU4Vs7vwUvhDdCmotdZatQxFLeBkoOuRP8AKl9B2Evk3lfucyqZsZKG8K07KldocBYUeuiJA1WflkPWF+DdlevzmLgGFyl7OJaBYiZbo/cpKu0Tt/38Q1OpsOXOfTiLpVWWjq4vDsNDhPr4hmd1RtL7jpAFlxrniU1DalJODvcIKlFsBXdD1Dsjgecy2vLJ7xUAyKaYqEpq5a+YVhWh0cEuZN6WsZXygcJepfKwU4InCb5G/wDVBTyYloTqHADFQx2ioUsoFl1pfSHstAN3cQWMSWV7RaKhyvUQVyjaSvmAUi4Iq5lz9sLBjLUq1Ai1TjdyptFalwObGwNwL1/8V/5oh9o72/8AGIg+IV+IkMFgWYhCxZFzcFl4ex4TxE/ACxRXiBrLLnNcxBuHy+k3N1ATbFLpcnVjzN5NTGVpx6Wv4KMssGPyRBjhjJ5037RhNV2B4bfXUo7/ADuPW7v5iQSLOD9QVg0AatxHMcmMEjlO6qcPPmJoyWG15xKRmhRo4Z2KZ4DupeCC1uo8GOp+aAQsHCKjBLw7e8fWCCDlwGHaa9yCBYoC8QZsC9Z0u+J1UrRy5vqwHyg/4KsYhVTdFdHU1u7wqjyS1KCCmCCdix2V7wShoooNMo21co1XG+4WBKGst9i3DdrKSB6AxeBaKUe5MfxYBt67r0hs6brfhZ5u4yAaiacI19MAuNrVsrn5jujImA226cyjA/ItNv5v6mraYEVrcXMQ6+37SyRCIGyb2cylBN0stFnPnqJiKbaXJQL2mQhVk52lLvvDAHimabMWX31qr1An/JoeHd87lhdYbFC1v9StNHIKGKB4w41m4zd8K3YQGuD59IufjYgPmWZaBfbWPzAoTVgWxAIFbrAGXLIrkaaDZnmGVJGN2raP+alhATAaYM+MmYZCyNWh78xGLR0Rziui2sxXySkl4meJYGzwdHUJeVM80OePWGseYpgIVhsTJnv0mhJpwD9ekAt/2AKejF30bXyPd/qWhLPIu/4hqUT3I7cCslYgAJFYLvxMWQUK5XBMlKUW3mIzaFnLXxBEMS5VlX6guoFsyDCKh4hPREI0wEBTIx7pYbNZGqlB30qlV6riXYoKrZT3bHdAANt3WzzBwsijdS5sZk/qZOPiWdJAWrPqy6lSpUZ8ubGPEFZkosiPpGAgABLsjaIZsbz4IxNv6WhE0ItG4LDnUNh4mAvDVLXtTDSMh4t1g25+iLZ5GwVvCEEYPsLSlj5EXmmH0CJ367P8EEyx6H5NTLl8IZ8Hv36hY5NKMV2ePESpFKAK5xHTrFo+sM9NX0/zFLXCDUWaowtLa0WyTK0gYe4XAAYZ6ZUozHhRwcoeHF6HE0Eso84doWOk9EtAu0NlV/MUvJSmSa8y8QALUAqKA3q3kuLFW0Wt+8rZ4Eo+iRnblsW5OviXAosCaL5/EPkU6cXTn8zmfE8P8wNuYub8TFAyU0HrcETLAovXYogWpqpYcWo14lHChaLVrxETsRb6DZV60yo2NKcLLd2w56C60U41LryC1AHpL4Tw1NaYtkC5SDVXsmtKiVbgKqwrb/SIsjYihaBMs29Q+JLXVoLG2XFyoqKtTWtVnvOsxFBgs20tre4QRlTMSrXHH3MmghQccq537Q0kUGwtxqMKQAwrd2/OYDK3U0ObhzRV1qFgvMu+j8PuLfaFSw/Vh7S9ap1UbFp7hLqAANbTzXm4ozNYBOufBENHZjaXXzzMwqyrcDf3X7lz1MG8LviNSNM24z4hsI58l2nUvt6Ps1G6wNnKDK2BpPUPMWH2BZ+kbQNhdMKUhjvfr1GrKLRKvcLCb0dI8GmbsncEGLDNDjMu8iBt4tei5VYsxLIuzn5hgLmgpr1xEtHi5WrWn9Si3EMaNJ9y2pT07lf5QVmWVt5XqK4lYVat58sQXpLNvEqOVkbzGd1cvUDXbBGh6D4hgGrsKMcl2fEFSlvQI5Y5KtH3R+pcsiyjjKdeY69gHmPPcAjlRzY2+n9R7oXWKmwS7XdwQgENJXpBPcANV7RgOoqn2nJDIjqKpo+kmPX1g1UUXHlZZT4JSmghXu80YYQ/iDFhqy9+0qVRNX1+BIVJrHB93FFFyGLpr/esRgKr5H5BliW0FDfrEAhaHrVVzKVDTCb4o5ilTTtHsY7lublQ+qxi6SOlNZjUejhQhkocha3EC02Cttym9tHPpGAHmUy+m9mWG0wOaaY6NG5tuKppNcpBzHhyx4Mcs1Mrogas9Cni4Mchmrkju5hTPGomGJkeitxSRhHauYLBUTprDcW0MBtjiNBDMUcPiVNFNCvWUfirWTHglM7sV0AOXoFrrNu5gC7hBtnr2lQE34UqP3KfiQZtc3Gww4C7xQkqBtUq3kw19Rggxy7ZxbnmMYk6zeasf7csJDRYtNA3orErDiYaUWrR5tWXkisNQCIsBcZto+ItFGC2IdkWTrR0d3wYTNcTQ9bhXAWVh8ekt/lQoBtxvrrMBAEFtl6VOLd+YDBRbAHdZ5gaqaO7KedcRx6ikLowB7tVHdhQKGR8WxwgewGpTRrnVSjcdmYzYZcdwL5QFXl3Ut3upvEmDbKLbb0+RElVayQHQ869mCpG5cbqX0QDQmuT1g8wo2Hsy9JejcVm7JcC4atvx1BQaizK/eAMkwKFcMqz3L7sBqYEpFbR7w7FZytPSEgkBwJeXq/E2Lkppm8S+8mCkS9ZgOXuCVYcc6KCvsN/MSiwKRWtV3BXoIW4JcXYz6Q4C+0BRxLgA03h53LgrBYhe4CYsN0NXKdEcA3jh/8Aakx7a4entmYY0pXrNhktca74lXwGWeV8+sZ18cFXQeM2rxRHDEwl2sy/Mr3hMFLSE3k3sYZQJk9ZQ4USL3JsKPmoyL6qOXgFfESVjBWV0/zHR68Wm/MuDQpK3/UweOsKXzbn0j60EDlV/uN3aJXzV2D8QxV5iGWzBjea4lApCW1WXzjjiOMBNpHzTBfmN7AKBHhh5wwhRXSijAWvdhlgGx6ZcTHO6FS5QWFmwByfDiNq/Y1x4uoHgytYf5lmUuFiq+t4gMiEyvoX7S5WG1a+EIrybRab5y4lw1G0R5vCOlIxp7nMsGLeaKTiAFrrSRdtoB6vtAuLGduXYprXvHUGt+xhczUrwQ2gJB5cFwNQFtA1d4gXTVvBqYBYd7V1LCiuRxUblAwvNWX+4HGAHqeYYDGbuNtw6QisoCJu8Co95moygSVDAWg8cRkxFZZStRO6iY54fVMsqw9OF+pT8JFvFXmiL2xLRorzqPdbpkWkaDWYA0y95mvY1EDOr5mUVsb2aAMY9fEEMxnUG78NxbAO0zlRzxR6a4pOsp6t6zKuF5GnEZnQFlWO/wBwT5H9t5aw6gS71B+f9iA1hFFgB1Vwqk1VQ6q/uOwWNlDZLyb59oWwCAL2g1eWvEtwXbV2ODXVhBDFmaA95grcLda8Y3xHkLkizpnjiWC4w7KGiGdKpHq/ggC+X/AwY9PzAwMZZKs2iEVTG9GGGqvzniObc6r/AETLCtimm6QVGmgMH3C6vAOfzp0qxeZTOaChYp5GNJTmXS8jDoomPR8xKkZYB78soBu2CjG6C35P1DuUWrweIOyNdzVmElwyDc+ty4uqqB6O42t7CGBBNev1AoTEDFymxV+bzEETsrdXGI2F24Cw1AItDHULAFt/8rksWvXuBvKBItovrl51ANvQqCXPOI8MwUduTyezCPKt4VCrFR6zCXsqKRRxkWvpEeqMYKdvFPvDP7gD7SkyKVW/RGATYsY8id5lTvNAujUO4QoLTmx56i2HkEDyvbCQmiqwBun9xMhfIGVWU96imKxWWjYXQ4MVX5lwRFHgcP1H9RgVsDkOa1+JtpOIZObBT8TNLERsOQhgCtwAYAWtRwaHNH7m4CYFHfH+7ivSiNAJZ1sxCCEUKFVcj9S83UYgHdm/abxBEVrCk/mNQA0KzW5h2tVAmviGe5TA1/EtOcKHEX8w6oOOZHiZULKpdFXE9BwLt7/uBqrNBNL8wNUYrdMs7LUUmKqFQCzUozEKhn0DARsQgY67lUTvsRKjjVBpgMmVEWvaUAbaxDGppklyatxKyqYmSnUEpqH7GG5g3sCG7RUVS8ZhcfQxzg3/ALzAyxQ2XnMW9FFld8fiGmXgMaLXrb9QUGpFu3hmJeYFgzuO+w0BUgNuWDajyW8RXMfFo1hbuuv6RVeFNQN8368xJQAqqf205Oa4g33RUAqMqYrB3DBM8mIa6uM8hvJKLZ8ETqMBaDZvHda8xDgNUMP7hRX6PdAzQ39V/qEWEOqioNOT4mJt3UEXXjuWMKgvMG6fVi0GxANea4wxcI1Owxlxd/UTX5Z7XNZ+4HYu5KF0hD7ptQAKy+bZn8Jtut33iiphl2/c6Icin2g8waQMc+YRpkzFPCdP1LfeLN3QOJfUVR4Ii3zhh0MUqKGKNb3BIDaXUFYKzw35iciKf4cRRuIpxV8e8IRpt6vUT8RGyiPeHGl4z8RxKEFFlvNNF3Hsy8YHGRctRCEPqoH2Y1BygAcLFxNRAK2QegHLRTsWHVRyCU7obliLjwOsxRIY7t4u3/xfi4O5/iLp2Su7itDoahd/BR7QusHfddvXpExcAtWJ20DjnD3Ajmg6p2B5Br28Qe2C9n8fkcwhporZ35K85iNACBKQX6JnAFpSwPkgwhmfb2/5KZjoqs7r+UA2YEt0ye27PWoD8Vi07aJZYzkA60xy4lpGKhLzn0I2ZH6BuHK2U1Ie4fUfmpS11Nm2NKeCJWSqtD7pholtegvBkhk9KbNC694TBKgA58TGbaConeCIgR0p239QKwIGV2opynPtBYFMFgBnjPr9QgIEFrFZI6iWAAaNU14r6hurwoBjwF9oCv2cfgo37IxTUEgSwHO8U47lYDoURGJjROc8g80PxFEpMhmLMqFUCystVv2LjTKvVoHHx9xk2BsHzmE44dLB5Z3EZW/SCeMdvNR4LalzUWKk4Ej64zF2IrHuMXEipcpunY6faYBaXqdwG4qC2GLAizpl9uVvGs4IAMsihdxTItcvZzzCghA3Tbn2siC2IqZZM29RznEUEtWPvDDaQZXkahoZSnN8wA3ZNPSJ5gYrBi6x3juWJIlkBcl8LlBEdiqLQofqJQjeGs54h0EEAyWRpOfWFjvSEvJWX6huDYAwLn417sNGTEVUVPyTOyhQvZaOLo5l0FmZ4Rde0F6lU2B2ABik31uOI1y8gwtpVDdZmGHFqNuxTvDFLzdiy5tv/blaQqxeuPepaZsCbxVnHMwGxqsBpuzxj2lwwWlJrftLMjcjy095i3tYuhr+KZVSPRbA8UcdQZTwXJa0m/iLOjYqioiOiq+Y0NVbiLIdcfTFR02cboyQwbsZMQjj1T2I/aMkeQU/mX+QOIe1spy/MVLrnSxtBQg0ppqUDcgvu3BF+Tlh3VlTM5+wQLTaCsmWA7pSVt75lUhQQaq0HLcSihcsLNL4h6OSQpTq/LMvim4guC+uWKuyhDQbWupn3YAVdVcW7IulvhfevmJ9uGlfi49PjUwxAFAVZoj5AlT8D5EYiKk6XD6X4jTIaugpb9qJYBozWF/EMvxTmEImrpa6lKUVty8hB7vaFlxhqJAt+NHWnEPpeE9QfJ+phBYu+IP1ktHumoT3T3sdj5YMnfAxIQSwK/AalzZeItyfMUACWlr516QLUpKDTxplhxsgauHdfxFYRuNmnzE8LPAI2eBoO25XYN28gdDynERzSJKjex4mDaBlBkcpXtEF6C2HnLEPVlEU5HHMMWFy4/zCS5LqBQJwvcyVNdjlEc6LK+ZVQvvcwXuStrofzmaW2+22qdrf1LVGUyIuKNWhZTX16LG+Q+gc/wCJhTGrXyDH5lntDgLPsGWWqSAbTcDCEBi7meISKiXjMwd7IgGVciYd0wDkkRE1m4UKEKOD2loCprIW72Zx11BdLAHcIrWZOKI54PaZ6IIApMGrgTQWzFuOc1VpdCPzcBSORfYGSbruG7bwfEHIIBFJ0eUSYQpZdMZgSnQUbgKXr5nBxAqm0rkG69ob1SitBRWPQzcsEGWyx0QUWbDk8MExFax2X5zET3S5oqhjoTVwTC6zXzxNA4NnwTfGNQrrxBoKXXtn0uI4ValDhykO61lhmc5+c1MA3U6jXyhCsUCWKLB+5iDppjPQF0FK7YNrychxpvN1+YVhIT4tXbT1DN1YAAOb1Xsx5ghbyZA2XXrzGYI5pe+SjuFiaE5B1+5QRuB9CFavuGBNKE7sqcDS91GVCnSZsqfjXUqeUK2KXqvaV4yQOnOHPF/UU6s3XVHKFf8APuA1BQ4nV6dXBQFM0bPgmPSBooV4xu33g3ZtFkrsmCAl6NtLAYICwN0aNc1uFe9wqJa8mN1OBewm1wrCW+1QcyIIF3YfxF6NBV1F9e9stc0Vl8azB1XIDfwItefHdy5wZlfQlYPWb9lC/kg42SaosS1uhemcVEg4gQ4eevTMSFiyh1YXbCIwWYH3NkFTCyZHAmHOfEHyjo0CgHtDboF3c3ZmHKjWterklPnFyo2qtmMS8UGcG7fQht1jXOO1B8XLXF2A8OX3YyDGE6Gn6PaOn1YtAsyynuVAC63pVfMatcXNTd9JdAgwgrq36qXBHnsVz8SwK2BwPCNy4JWSHwXmjMJJY61g0WwiqScpJdhfmjGZS3El4s/nPvADou8a2/BApjASVjI3lvOqCO+vPCimFmsbjEQId2P3BdKVew9CpTLuM2nabweJUYk3T4hM6wbpFy/MAm4CmfmYM2OgWXfirPeA6DmzTvDCa4peBcJCJyqFAurhujyiIXR9KSDw6PJ/mYWlRKFs4/2Zl9igiezLvThvVRniixwkw2AemOZm43Zms0FD8RHTwy84sQr0LriK4/EFGB8Krm/+1nUwANy69EwQQVRbq9+9RhaAug+TMRZJ8dJ44jTIVVbTMCFBHi04x4gLoQXYKqb8veW2u77mOvHuWt3EFQLchU/cq0tLlXEzkeFjdMxJBpLcZZCL9oafFymhssjzezqz7hmg8g4Xq5QWmGEVTIVuklwkOSBXp/uItAO7KrmoEjgBYo/zjxLt3DbL1Tgw+sv2Omm7HOvSyFpvpdAvF+0DKnheffERrEFLt2HcLin5fMdwXFgv0vcWk0rQ+vJ4+JZjh1yieBysMYC3FremDq9GWJYXvk94dcptUr+oTwrHHkWAGDzifxHl6MLx+UQVqiLbOQ0YxEauBCtn7YxbVuGHA1iZIFEZ+heEsRfaV+bZGEcl+9e3xTakVc4g2WAF1537SsVOsrU6Xv0ijn8UbWdHUNUdchaqM+JUWWrU84V447jNvFAh11CoT2BAxi/NwTI9dfzUQ0AEMMmiuUz3L80tbEgtxdL95Y4ErtHWbWY2o4Qr2JiW3FTi1W4qNjBZoF0VPOmDl+Y0yfCU6eR/cPBQC9h/TKce8fjEW7KFLXCUB/hPubagYJZAd6BTF0r6QJ7VFjy+pkx8W2fVFrXxcst8grHVW74qofwoAN2/x1Keqkbe/wDVBGlp6jVCig5KLPhZcKhtkNlfVe0EVNUJeNwWemMhKO0NjYWSreACW+QN1qCN2Q082S/XdwnDeOF+nEIOuwPdB+iKBN6+MkDiEIAUqkfXMwBIyjGunvHowYfvWl8QZQ6m93/cGFVADG1e+a44IPJpEAO1ZmPAlg3dc1zFb430x+EqL1wWHqTrLwo/qUJJ4ojyafiCSBGh9VqfUB8oMPrO/aXGAsHT/EqkeSMSxMyLdyscXhy/UQgExSL6OfuDqtDPl7Dt8nmZJNyCVUvO062A3+ouISyKRVVwkazgtC6B5ht0DmavUDJMDbtS2IFo0LD08wQxutP8wAdoTJfcCzTOEp/BYT3u0NlDEA55i8q4s/MsJS8ytfea9RLw4H8kfhoPxzHsYHdtxZWu291AjWgVHXslcxiIF6m/z6dyiMicUtmEpyFcxPEDFjS7xxiVao2BZG9SyrNoejENFoGCiHLfOoFQ866Dxbb8VB1qMsgrSuWZGxuKoth8Ss4BqXS/86lcGYrGs+6dxNR83hevczcyvrj+YJq/vY1hQfGX3YuGlZtcgbUXxLNwAqPQCte8Vjq3vPdz9xgzTRaPJ1Giq3eXkZaXIvNefEY4rGfmeIVKjyxV9APmLJ+6wntzruK1m84vNPZGC8kNVzxraSzWti/M1+sN0xhHAaNpixse1HvKAJEiqBoV7sZWcW14Y3IQoDwRSUjZa9oP6nJZjkVHZeFgofStX4lB5xIOhQZuuIGyl00s6LdCr8xyoUtP0uCekX+ctOCHV2cvrG7dKuZTXn/cTGq+eejHBe+vaCbJgU4sb4qxbHxV8lWWsKvQHuCXw2Q5cgo61DxAunSY+JfItIKCjVJKusMKkDOVtKBfWCLMgr+psKKo9K4tVLIWPlgULSHlnD5tgoVZXAAtUJqeze2/uFXZIWaKTnAcwCyQtJ2c4hJ5NRoj14iuPczwFV1zxzHqiFOyn23HJA21I9WmMNdMUxZC/chIM9DZRweNRssZdXA8JKImgcoU8wNoiuSNFY6caWKF2cxnsiM3WJPWMcdNHgYc8O8biuwjbCMrIIEekpGFM0145HzcuFDw8ygvLCzZ4uEbpQPg+YpiHUKGUFtfEWn4BSd2Zy6xqrNV73Dh8GkPt2gq1LUTsQreqnjgTh59n4SWFgUGCOmyQlDwl6lH6hVr3hhuIeAcuYF8NafNXDNGahYMs7j6C/SAQQAXgDv7lX5lAKCVGEA6RfREhK1wpv6QU6yoNugPEByz6FSv3M2NiV3WIGpq4tuNRQh5qZnoAwpqjvgizRAMMB3z6njMSTkFoUOfXMyQzCaHQ15WMUbaCFPLtnbZLj2jmvONzOTOh5jUspzY27goj7S8CGxM/UGABEmi2ol1KN8csvaXWeoxl+IZO1mnPCjmvNxNtWtNqF/UOlcsVaoxoaPO+pRCEKoweldSpaXeP/5DDcAwgj3ErK71/EsIeiZ9cEPZEkWi2fjcycEjIZRPVzjxLaHTQy4eT1lFCbGs7pjEdNEC+Vq3xFwreCJ0UB2p0BKuUDEUsKXV1/cvvqA9lNL6RLJk1lIqmBNpM8UmhzXTL9Cy2AlF9MXiXXEkaLBXf3XtAAO4CwOP3NdBaODhw4slGzjqPGSxlaqKXaUIjgrEoRIgLKOrDOfNzM+zkgm8CvVY5hI6jWAqrPtziX+uU4cJhMB2P+CN7Utrrv8AiIUGacwFno79TuUg0q+oCehhNCNIUEp7e9S2AU5bPfviGAFnZXrNSoKl0rrPZ6SpL4NfJQxEW1XuM/qAPa2DG77mb8owPM+WjzBaADFawMTBhAASsun/AGIUbmQSqf4jJPzQu4Tgg3Ht/lByBAIxTdern3mNAiDnLn6uYAUb68Qhkbrt5vp7iOioAeef1BWW56GP4j33WuqLaHkS/eMKGSm9SqTME1bbnbEqbxiSApisVh7YfnqaUdC55LNkZFqrJ0Xcr/itXIG36PmfC8A3cI7iD3gOT/tmNrUfwdfcAqHcF1G9M8koVAC9Ig/iZ+N5w4OclnvHoqdpf4XFPialPs2RArPNfxqImHKtV95gIfKA20N5m8i9D4/uVlZ7eVqr7IkvY3bvmV2oEHF3BCI7WjA2pfiLylR/S+IYKw2Ob/nEpMBdnJxCw5RcCRwUHhYw4O5a2rJ3WPhmFqctJ1mCG0ATBVW+tuoFoQBWnnPuQM1S7RXh31V7qCqARXKb+X8wqxt0W9W68xO7VQ5GwvcUZSwQLtylqGAo0BfRuDBFcoQCI1poYhEFgWxshhazeW+h83MBBDgesxoIrC1crrnO4ZBYrizT6PvLoDRra/7qGNWD520B8g+IKWxrLdQgLCjuG/ohpZYq/uDLfi8qj3d+IoQoRUF+stGatTfrUKmAB5oDPbBxM2DmQxbVaoRNufWO1FVUnUeij3YKwUCBZ2UkcmWjyxnkcRvJfPrCIhoTF1DDaBjSY/ME6SAsXNJxG5zTsfmokjKGxmzzsxBdkmhpzeirz+Ym3oK4G3hsX3iobcV4pN5SHNr5G9Oirh8kS4KULC6vv3nPl8cotU2on3t/iFdFgHSFkK0mrq40tBy6mcmInzXB21h5NkqqKFnfIv8AZJREbnlmEO/PxFbsmW1U+blJXXY1p4hnMrVstY9bN8QndTDr2mUuTNFOveiAADaaI3ATMI4JpU2dumB017algcgItFQrwvzCA12GmofEhEFDynmKdZW6i7X7l1KpovM5mF+Dj+YQOiKinxFjR17J7Hl/m5TH5kW8Dz6QTG8NANpcN51MG68IsbTrGV8RqgcVdcUKugjdWxCx9kcbhzSba2L0DeS/mOOB6ATGfF7+Jb18l4XN38VDb675ewUP1L+EfiMLFqZeH/MXDM9veUYB4F8v+zLF4xBJvx+IeSFAfzD0Jd5ENHzLXBUNx1EQLUtZgVazOHRBQbpq7dOpjS+cairw066jqS7zVjzn8Pmpri4opxAUcqcizXxEOsyhsjFyi+hmfl617Lj2mBSRIYI1C0ecWvxMGCKx4hRLFaSUQqb4EcB00ZkeQaYMGfb3mNyKGjbe+ZWA1FdECh/3U48cAUmcPVGSDeQc7h0BQ0W2xCwalXWF+T5gqwOHbTb9ywU5uFUqutEZqU3YxVjmyz0lwT0bvysTUAdpHdupnF+ce/xCWEbCChgL73KVRWVm3CbPeO+/I+sNYqzh3Q+67lQis8gefMKls4TccZc9RJsraJfvzde6VresYB7GK2LgR9v9ee5nnCiKDzjZCYAaOo5po6gLXDg9vEEtaQBwlNcnfmEPK710/ctozttW3wAOeMMdQBoEDA1qh6PriPWTRq8vHt8s5Bj2ixuxY7PJB8X1l8iXH9HoegnlUDwvFm/eWylkuhSytuOo8AgGsOFWjLeVWDdx21HAXysv1AQTQcEOEpdWEPmEMMd3E9PiU32QnRsAMfgNJ6vURALxnH0kKcjeCZD3gY4UORdX71cAzSV+gC+1y+cOMzYlwljw8/xBmC+7+I7Nou9Q6DqiP5v6lCMGMPE/UYpQLje39TVJ0l/uYFEWKEpWFGmLNAXxslbdLXgutGM+fjdymhRdrKulzec+8OLYU7ptfuXvILPgV751jMso+8OmKBDTfNQJUNCk6TXFp4i6LETWy08riuiUxCI2TaHy/cb1RegPJHz0WoxjNPP8fBAFKHqo/wA7gMhFBAGjTp8S0xSLdWY/XxFbqZXlUPtT2h6zQr0jjyVrCt50HxuXNGaW/OAJIAbyFutJXO7qHshXrbwuT0MRXVl3I7HkNb8wBwxa8la8srIL5UivQHpDCo5bRbzk1V34h/8AxvDpV5q/hjGb3ffVzrHHERf+CjNrcMXfriKMkIuU8+sT1mU8XLYobU4Rv6gGtHRt7iglApUIqP5lVAaLu0Y6uKwvF4m6OEPrxVo3h78+IYVWRc5vOTXMBhmCFuWwrfmKLo2QwDjnxTLcskI2V6PCRT3GSGhN6Sxx5uAhCoYUUtJVLxxSIcgIAFBte5ThptF0ahKikuzmKlgIbY1FhHxLF9Oisbrmt2fELbJTYB0OobTYsoLxSZ/HpOhALbfxAbdVLTiLmJZHfUBheXzMmqngzN90elh+bi5h3buYpU2sF91n7ikLVVv8lPqYNYrXjo6PBHWJ7Kw/LftEBySO92fDHNF/WOv1dv8AUzv7KSwn9oWzcpURyxaA94ZEWqir8NeZn+uNLzhTBhdNMtuzbKSzN6upayViTjNwoZYIDZQvwFFcRLCu2VWTEuBewBeuL+WEaqUzTWUFhEPh5WESNirIKtetHvL8Zj1uQMW1EsA9qq6QcMzUHGj8fCbYr72jmw4495zi0ajYnqFfHEKSY3d3gM0aF63MytuWx8y401kvdv7lQ6oAw1f6SAVZir6N/b8QDRsar3gTJzVVnv8AHvKtqkaVX1XXxBWVwSrhFd4I18695ZABXg4iFKpzRHBbdkTuBZZURLCrptfbmtAIPUNjWnT2jHsjGSuemPnfiCZFCL7zsPGoA1gUtYQHZBQwA9bZ955h6M1DZZjPHMC4Q4is6YRqTO+o7+fzAKTUXXY/DCEanF6oMvusp9HBQpxnysIVEIqnoqyu7ifZaulODJntlaPcsp7LQt7bl5XygDekqnWmKsYTh0ylvMoQa5FgaR7JgQX52+Xy/MF/qO7iOosKMDNhzERYxyqHw7jfaUX2V4hVbqXXB/cNVQq2nj2yQ0VXTeC/iVnLDb7sducm2fBG0YYzl/RFy4YFz79wpDQ0rePXMsE+TZZdPe4ylYpbijm+2uo8B2BsA/aicOoJZ9maBGgYyVM3jWdvj8/Mx5Uv5KPtgCHKj0Yi1S8sVeagi+zAHH2Rp3N9h/MCAgU4qUg5Swx1ID5fzGaqux5h5WZL5NEKVdwnHmAflcwyPTCAY2vUZT2/M4YbSz1srg8Qs5jUloD9CFshH8f5jsm5d9+ImzzKVpYKo6viHMVXFLVAZwOl7OcTBBqtKayy4u/BzLDqGSsZxszbg/5TrA1LAq3eg9WXsjTYKWkOs6m9DyctLfn/AGItwLWOmAKRTkPWJHBvlzGqyHO4XFUrVErX2ju1rB8e0atKGM6StemfMMQWu2mVH2Kg4DLVCfuW30A+b7943XlC7az7TSoUBBMNCi+ZZc+WUkrWhaea67lCUWyYTH8fEMx+E0fTGe+V6XdKrw48kS4/w5n6hoL3zszl+1L8EovEGkAs/KR6olkdv9xC6atYeJfVV0FazbZqoMIG6BQFLlyBykjaTkAVtNe9QYAdrtW35gNMWIESmOFqXdr7ImNICzI+vJCOlxvuYav+w/qLg+CLf0Io2hFl8zCely6GwHikPeMkNFd3iXA+V/D5NkVAlws9vfiHsO6B4P8AeswlJu703+Y4ayka7hqMqxJmK2ahiNt6zgegjEMai1UIJ1ig4ln1NiWuoU8AA9G8fJAnMzqFdeIwsCy3scR5KEGltvLCwouZeWaabGuKCv3MKyQum/WIt0doogMoGxrYM49r/caLAaUDu7usPzCzlcl3wH0/M3irC1eiACXaOrwSwBwQh7vS/Y+yj7RQKjQBx3NRFeiDZ3ziYGDHiM8LqGYMFu8L+7ip4EjPvQL0z/EZuU1+rlgIoYjuAZVNSyqQOckPUssWmfENHVYvuOoU4l5eXcXMtl3Qt4wXANjRa+YbTj5nJCkVXESK5+IpizpIW9IWfChsLH1qTYUKKN3dwzUJhEoKWy1S84A5sGXTniaYTvKvlY1WqlCqmnXvEKKtnuAIXgqFhDLZ4jgVBFY5mYLO5lbwy9RE/LKXTqBJjuCdD2l/KoiK9FJmC0AIGS9PH54hZbcQi4u7/JCGxgInuePMLDzkicgRTGCHYDPwcgfWoEHG2qndJQVWcZiArKxLdYRl9eaigYZoUYAo8VomSiXHF3oP9zBVpZrt5gqi8u72IO0q9uK3VgZ405jt02Gy6MQtXIYQDPj9IHqMlUAcOjm/hcwFxSrHxGVVgL3RuOjm6mR0bZVH3oG6MQ5x5Clm7xMNifNwuiDFHA49GO+cinqK+5U3Wv5Y+yR1QrZXNxTxexlwarzeWJaBqxaDg7u+PeX5LAoBYcrgstIFQIGYUWVxh31MHLT0Cs/P4f8AwOJuCHiw5TiZgmmPnWrencoF5IMxRpvecfMuSAHBiioBTJfaqm/qKAag0qGvSMZhm0vMKliui8QwsBugRLgTPFsBDAzFt3y1WKhCSCU0239PXiBEGUQCnb+YC25Cisd+MvxLGqp2BwnEczQOBTY5+ZQIssnYH3cNB+YF1oRlq2fxCkG2lHAjLGdBzAi0CHOw4YqNWYOpYBanurBf1fslt5CX1clIUMunUSoU9HljUGyIclalhk5CHTzb5z/4P/BMqi47jkXFX3GwWWGpPDURphDcJUuVN6JIdvjBFBh1BptXqByQDAtsXFMN6fFkpHgCvCDZ3fwp5glAhbGGuIRdBavf+I9jRvZt+oRRFGl2sQvdQeZu+YxjQHsUfuK9NJCFtCs1YfxGO0JMnGIF7CmS122ykuHwopQrwbbyfmDxWGuTER01Y0crj8THoks6M0ex928suTCqF6q4y6Cw3kbtHoxAKMmdsvx+IrGiC14ujriAAQ6Eqr0PuLT+vmBnUEPiKcoYX5F94W4IXwfiKmVD0j2K+IdFqygqLtNxgESK7ZYVcwsew1csHqo8sosgmdKEu4pv1qEnV0B5Bf1HsrB5Ev8AEWaCnLov8saXOC8TOI+CL+WhdWDeGiKCh7Wh35VL9fEYzFK1VYS95XxGWW6wTdOP/GOLkYZmlepLiBLAegnwr7RB6UUEZGEkWlqfqExHJd2hXjccioMWSsBAvLJuFxUsS0CB2cR3toLOEUl1cAuPR/iOMA1Lg84UjE3zOq3iXAsgK81f4/ETMdVYZLPPvKahQG0jm+v8wBuhcgB6nP8AcEDtYvIzzs4+IV0BY+rmADkCCVbmjJgX0lDsrQqECb9QjV+CXmqPNKvchMVlAUjke8LB1QNVEzu6HzK33RDidd9do9GnbNBPeNenzeoydqDTGqO6IcmApgogHqwMZwTy0ajlg9h1WjxazUKmCFQOgF09iWCEUHhzlMeISKqQdca3HggD3mK4Qc0iquEe4H2iByWPNPuNPiXQLajFodeEtYX+T+ZTbvLJ9iVj/bR8N1K6OU2UARcUpnDLu2+CAYllvZkg0vrJwiX3i4zgFiZGgW1u/iNCwaS1XqYOGNK9r6j7l2Wjb1hR86ldhXXwzflKh8YfplLVYC2/FfMQn9wULLrIZhSotehz/EQmLmTmr8HyJTtLfcNQBagU88f3HzkLtlQ/C/eXXqwb2wfmUcZZlAp0o17Q6feX/wD5QfQZl4FHI+CUK9Vtez1mJafY7ggMyV68PmMuq9ggJOBXIxngFQDTtPuMQ4p4RJeJdLHKbP38yscAvCfxCgUxc3MrekB/XBrH5mKryypqy+M+tx9tRCqrTtv1+ZzmMMMRLMS4HThlD5IwHZfXB+46b4h/Ng32+7mdUaOhCHRgLLaq09IuaUxDvoULgFVCYM/klmJ4QvNFPKpwy+5KXaJg3/rg070ySi1jxn8S6oypoxTNbneKWqWyvwQBS9OlIWt8269GBQaAOpwDx49YOkwepqMu0uiZVBeAsr7rHX4EwJV7Ch91pDQ+eJb3MAs+E/ENGrkOTFp4sjrAClnMRbGVxR1LBWidqgHAZoiQNcBthIKXor9zJA+rrPxCXZfPcXqCbKliY5C/QdMHoCPaxF2qg0RVeUdKP2fiMhLkFF2BpvG5nETYYsOQOq8xeeUmHvKiYNAmW8CV+Yt0LdAtcaYpZsNSst+0wcS6hPSscy+jZPo/mJgWE9Z6fiWHIHPHqqKF2IWNQZg2hq+/WZWavuGOC0ecLLH4Dj0R0bpXxagxXSjUYU16kJkBpWx9NK/JDNMyui8je+xldAsCvb+4N1h8i+nxBVIsAOf9cNnBWEBAM34GWLYTsCj8EsaOMOKMfzL0Zc0q+Myjyjcf4ZIJihQrFOPfB7zaghiKC/14H2/UMNVh5ip1t3TZWIvWrQZ9FjEhAPSAfUHu2yryAwdqHvKkGiPW69o6oXuWIg9a1ARKm9tuHU8ZOx0F9s2xSFiyitQW3/FSwncfIq+0zHAPtmBOAsd5/YD3j0gzK8STYKgsWOll8vTs0y1LQzrfeiJqKr9s1YYqcQmoFNy/SfiKuGSByNzBWt2O3LEbac/OI6YKIqquIYVbOOgekoxNLPCdEtVe8srXMRs7BdKJeXqRSy+b7xz6TJC61G649qiKHaYAG8ej1ItaEwFw1r0OI4KQbMglOMH2tll4LYTAU4czElwH7iV9DKlGLGS5x6z2VEAqri3DD8QqhGgbDpIVZA02uZSmlgKClHSuuhgR0qJy5lFFfwzr8TBWj8Av6uFojBWPmMLxmuPtUTcuFIPxGfwYE9d4mUd6Lj0uC8ukE0N19kIR5DBqHPRng9YQHItj9ur3B4h42WUHZxXvD/npY5PqxePOIXikNZQteDB7QGRbVhzdHqDMhNsmNFfxFY3QBqGAJGKvA2aRgIN0ptVb7v5gsCsqGQcw8xhhqEqGpbTIsCBKtgglNWXh19x8cIkp9UAmJoObImQ36ZfgFKK8yxsiUllVGN+cADMP+T3P4lfwlLscPshEIXKgOS60zI2QIL8DglzI1qw1QL8WrDYI8QUGjGou8gdCb1zCw5M7sF+tiCkBoGmUSXTZgOsNdcwQmXyG/eXsjC26mPlt+J1OtuU0SwY1FbfFeYq4kFMuL0bJkZa164hWYekD6CZ7/LuXXDsvB/aAFir6i3Iml61urENVLtFtaaAELrgcQ3q6yhKaGqyHJiAHnkU6VTJ9jW5uOamjty/Bb+ZYVeMWS5rnFchr2UfNDaEWhis6b1zqAUK18wxUZGwk+WP3MnKJTvk+N/EfACy9pEHBeIbRzBSHklnkc47SpTzQA4OIaEsKf/FWIZ/8cmFaWK2HuS7KEZ0gu/n6RF08i4j50iawQSSa11KVqCyn+1biK079DK3uBAZmjSQmeAlo7zUF1nHFuWNwnbUBqoRB2VhGtceW53qB8MI38XBBUQ5V+fT8TEcN7rw9xUCwMvHDTljJQpvZQtnFAw3QbM/EofiBaxoP2MR8WKIGj2xLFntQ14PwZIm85h9EsT1g0VbK/tgipmxyqWjlqzPcRaGCMA4+ro/EeVCIlb4g3ytq9WyDFgjp+IEDN27s79v4wCwdNivqpeCj3n7gUlU3gsb8B9kwg4QEWyvYHHEK3L4qUdxkMLxSvzTHlDaiFOfUIIihEvJLuqv4hfFY2xSTXFGv0QzNEUKVj/cwqY6x2j4BZAFuaDsiLN5Svimt7xDf5/slDzNqZai89MGikMzAXmGWqsgF2b9Jn+FkNNAx1dShTBHIb0NqZ4qE9qmJXqLKFHe6IiKRnGz8x2Zq5q4At9xG75rM40H5QjZ2QRw4lZTawe7Gya8lH1I0WWtKwPDG5qnowHyCz0MsH76Zd++X3K3RFpV0Bde0WvcobVwNrDXN15UeZxdzuIbqdjjnEsInlKYxLIlwiErR2UvVeZ6ZM4BHpy2Fao+z2I0yrfeRrvUeSJkGKsu/aIMKKUA+JTS90a918ntG/tRMGCPMw4BwUqlrIluGLyjZWgNrul7gxERBs4JWh0fniBEoELXWmtthYcZlkDG4r3haWXyu1i5ZD2Hhd56+CDbZpBsXJju/4gMGupKL5v33LgNHJktrJq/qYx5i2AAxb3CLtteKP7PeMGo8Fx5FZmbS7Q/EltTUb2lhZoS03iPfrMqcxU5j6x8GYsWvXYwSAPtY09CPbZfdWVUQIsaWt+r9QzLwvgpuFVtTXJzGboztdaIZaQCWlg5TqFCnBKr2h5bdGtVnEGxwCXHMCHIiOd8oO3DQ8b1Dmhbotqj9xRbU5HHQuv8AaIqsFITPfnr3j5XCnwMHdjcdx/MjZr2ihqOFIt9WXESO97Au9rH7hUtLjLv4kbWXofwSKx3y1DxcOpbllN8GTEZBmXPZKLKadMF6rBGqDFVCym/tNcvW7XhECsxZn0/mOcCHcIVd5TKKWHAX/MPnZboLRrEDeTbgcm/bJ5locCZIJdP3Bu6q9TahihAtZtvs4l4WCbL4dRO0UctKhGbpAEQhZXR1Z4lqqItfMS86TOl35u/9cwKqUnxyqa8Erwo0otNWZV6g50rcC7fuBYytyIwsUYcNntNBJ6x/kXH9kpiuGMOyCXlRsFAVVsdyrVyXzF2t6lqZ3S6VZvHpjfcJgG8EptvtYUFqM1Vq+qGMSiMBx0eYLVohszAV66iJUrTyhX4ICONhQRFOjEeTjK/qOch1/MAjYFEUHTjk9Qk4lLznE1gckP3Vw9RFNwPIgnvfVXC501XyUfBbqWlOgzcheOtwKgws1B/3jcdxjYRrj4SAWosmxmvWpT+YjHk54mAxlG7ovH1UykIULi27Doz7TC1a98rTw1TbvEbBtrZUa3XIHO4D1S1RmzoRs9ozLK4BpKutyzrKibI2XxYY+Kg2WsYA+gUWvBAP1QcBiHeWhoLbB8RyPyzazFTxj5QgFTiuu4mhPGULcTiCyd4gnEsGoRT2rMHpPMG32mnvL1BXTiPRPYQFcfULDjt0Snw8joVdX218RjhjUfYR7bVtStutaJk71Aom+BxzFZfgir/iG1A7gax8kvdbd+aJTCkqnxKaO0L08R5Tl/KGDMXohdVdIc0Srq4YMOPm/tExRaWxqjXB+5naIrK51mMlxqKY1X1KSnA5BxTesmeiNpJ4r+6BAWDC2J6OOvS+VBKU+ieDQbl9My4e72EDPLMNRb9JhQGsr6uXQIvCAyPVxrfvX5hQpQ+n3C6Bumcv1DIJlNUys45+JUiQcF+llQu6CDsJe7fsxEH4MulSAdd1DdrLL4G2NfDXFkrXvh48Rgporhjf7g/JOxRMdzGUUQwaxbdN2ZDiAdYmjodc1BzROhKlD0VW3cA3HBgtDHKGL8aim7VYiqrOn0jKEFCt97iII8mAjJaWVcN/9gs2KA/GdMVgxW6Zd0h8TGjhgvIfKmF26e/9TVLGVa9z+1AgPa69o7NstScxINPY/hFqlvgm+p4hsuG47Pvr9SloCD3Wg+UJT4LXtGyftF0CnQFCvrgVDhTJPUKgaC3TVt1ojj4PvrD2EPaB6Tf++oWVLhSUuAB1ha8H6T4gLBTe+WI1R2NsiuiFu07a0DYOsC3mLkJNBY7uGakDdfxicXtahcY1+zEVCVLpaI72Gf8AHURp1k5ugcjhs94IkYJiBQxfUVD8SiLVr3ORqLtIMG6QFB50E2NnpbGAN4b8PEqrJbYvBo2s6Pii4Q9HhVjX3DadkuPYpsHD1uveAu43mBgKSUNDWuYyOPGwuY6AAAG64fsYO4aP+qIbbsFlwn7gVeqYg7L5Jbblm5l7nJjdlkeQzxBrGOJcBjqixmIDpyZmJQMSEBX7BaIjtQDK1Mc1WuyUzMYLvt/u5XcgyjAhlOwPKRnuYnpm5aINnfLA1DhoMOvmFoIVX54+o1G+jqVC7Td6REVf9ks25DIx/qghTao8A/bLeqWC9Ae6xiZQC0v9ccxsF+QH3qXXhKuaOPofcdiDqVmw9MqxhaHTVNbc8cdwSquF/nMHVN0CDcQM4Ea18ygkdiZjEKeKinza3COx/PtFZ9gW5eZTJSA07/UpzvS1wV8MdEt5kpyfTBRL+Fv5hU7B/QysnqIefpkjCIFW2YH2NaMsUWyooni5xdksKB7VtAbuFRzbb+UWhewHl7e9QtRRLEA5DQVrFRWkEy1mEvUB3ayw4/3ZKEaVHxHVnZeT1gn5GHLARYnHp7jWn9S6rOOKzLklpoOpcAg5YHvBbIE4MnowiWiB2Gg9SvmKAo6XvZv0guJdB6bjRcuwqIG5kAaAeS/rPtAVbUJxX6lwtQrI0pPRgzMX0K6+26y51ydVCOWImgXe+SX16sDDFSFmgu26qyG0IASoAAvROC0/4O0leuBcek1KwMw3VJP1Y/NSh9JN+blm9aeTUKYVfKGg8Cl6Ug0eAeEWwE8QuLdAo6ob9I033RNkOmuH4mJBteK+nC9cEVWaf2YkRV1bZn6luEg5WOTWsrFim8qMVgRwlpuomNUuVq3gZTfPtMxNyoarPMdUlZqj9u1iqMWcDpz5d4sfUPMWQtOCqr1v1hA705S2+YjmKWs5DL+IMgsqUxj6P5lOkSyNo9zDEt4zx2F/EezNYZCNe+pfE2cGzqYblqjmK3KrRbiB2MK1aEoy4pgZrDAjbwCQhYFA8o9k1QHG6zyyzUi8wPwYGDe7vvB8SlYFlnTL+JmoJh4uHANrVy8VAvChllUDhUmHIVEKSAhQNGPqHpqA1U/7Dk/IW4FGxwXnUNw5M/ugjIEnA8F9XFQpw5nnPj8y6VtaHFV9j8QAbJZqv9+Isej4oqNex9ICg41QYZPmEvoimK0D9TrG89RibvLPtE9owXgsUdLKzxa1DvRFBiGyOQ2fMURRzstnkZTuALeuyKaR8b1WVF7d9xxmmwKJZC5vVCHSlsIv1Ylsq40PReX1iUSDeKQazlzI3PQFhK+DDQfhl7uBkFDlgBvqz7j2aiFG0H5YLthZ9T9fmFAbKuDHSvWVNlgqYb6eYpLCeSVyhaKJDsTXvLKDb9RFUhw42Ksw9p48ABJ5AopzKNOZmwPW6hL/AEo4P5nhhcn139iUWLGTfKpeRl5YOXS0bwcuPMGouxnKbF7B+pzEv2FCc3n4fSNEUQHPvBBqKFrKgOIvfUzlfL/vQlcB3qYBSMUXFxXu7q/3pFUGtPfpdX4uXeiMgWVve9H8xKw02uKXOKg0XlXV6hslBQDQLhql/cvD0yX/AKuVGrkr59FPtzuC1hA3bfKu4JBda8lDT0jw91V1cFsNLHiPCdZw1c9X+LgpIlI8Magvnei1sHwQYsr0OQUus+Kv3hcNNqIlAS88/MzaDgIVYtJiUAbIVjxcDXKr1XP4hjIDb10zOokT6BPfJ9wA8ubOCr8CV5llXZlYraodGfmC2KcJCQ0QL5WH4ioFWcPF+pfaDGX4CWnDkBtPd+REFVi7R8zeb5gJcdTg2MusrWLMf4jTq9J5xCFrbs/RACNad8EceYKBhxTbolwNKNOW7/3pKEFOj1p+omcCDK7MVKGUmL3wBMoMWb4vtH2jUGrd0G7ffOYRbdFYLNZPmO37eAHAZ8rE2zLMDq19q+4htb9GzX4WUpCuaCrb+M/UF2UrTW44KnZWXMyg675R9ElPdTp0eSUwZeC4O2KhTDhmNJxfvABLaE0/qUEBk7sP7lVcLVOfjMoEusr+B+4a5UpFm/F3cKAoLHkP1AbRkIBt76g1hc7Qk9GD1uX/AIUveEKAOiZV6iol0v3FBWI2UAfkYU7aBHd5TddeZS4PlW/crlirDqIUCPAq4GmlRqnskvdUlDwS33PzDcNsbKjNS8+AX5Nxw0E4JThxUfRamIp3fszT+ZvGk15jzDrfd9FjXGIuKlThJOw2Y+x92XDNsNX6RBQ/zn7J5OkubM/QngPAvMTWr4iuknBLwok07aTxyo3Zqs2OWDVsvioxSUlRPWEtWrOSERBRglx1UpuZ8U7a2uA/UeWwBYjzCzEAQu8fH+o+XkHiISJXJcfKtc2CWOrQ44cRbdoETJ2+R+Jfikztr2uK4FipQaugWXlfQf5gcDWoB8ZPeMKX02VC/mx8RbIVbbRp6FP/AFCKiNLn4RQHYDkc/H3FCtIa0LXuw2wWoRLIpjIQV7/qJo/tU16N/mMaC8g/TBA68W/iV5da1Cona2nvFF2st2t4dKvdmvhhDJ6w7oDvz5lbi2eLpcBDwqhr9TUixaignvG/1CuYtcUFSuRRsarwOZYsqhcrDYza82Gn4ZQagDkBcdAAuNNUd/UogpLJBY31qABGuy1jjsSDuHvQN8fMMdsMxWahiyZwBOoV5PSNN0pttCU08qqWIyL8+n7+ZRgsNGD1ma3hMDXTb0EwnalfMqR69cMvqGxZjdtMjnR/Mpgycmo/XGt2EHNiN0sKX5xGhWpTr6hBYigD8yAX6xVSOkbG/DEUtwuy+8LVociQWSKNFq+4xXp8uUAx+p/mIF8RhXqIrITL6EEiiF3B/I1CcQORlL6ghaWNXacRJJkLSc56hoIGSl16zHMFUogGxR4mKORo+0t1BitcgwyzZhmFZslo6uGoUlJ6jBh5xuNPU2MGQv6irYlkRoBmxscD5lOLk2tJBegdADhxhHxGB5oL6xN9z2cbYU0GGFehZtY6EK8wttEp2N3rtv8AuWVo0K3g7p8xi6TYVaSn43zKKcquIFrQtfmNAUhy8rAeI28Xgz/EJHHGPvPukZK4tsHwvHv9R1y8AY8aJ7xeR67Y2o/Lddx9tqgw0qt5dewiewVGK7+6RIKNgWiqQq6hnqb8fI4CmH/AW+YkHBhNaVKbrxDzAMo6A/T7Ex9sRgY1jlU9+kq7bywr6S0uEYpM/UQbtxCjkE9pRVrQUtwleYCRWjyJhPmXwA3Y/mXaTcxERagpD85Xt+YBsyEa8aF1eT+4SLRKUqMYmR2aNNR6BeAKYpwpdHXmLwGBZxeo9QGhvtqedGQD0gtpKL0OLhFAg9F6jKCeJf4uIpzUGbKLKIWTSnkqW8ZBluUqtrOMxBGQaxDsZCz2FPzMBSeTEC6BRweYbWgJ4GV7b2uTpI6ogy1h0St0Fvq4K0CbmhHLOIU2OMKAK5+IIaBzNBqHjz7bmhodU9CJQbsWY1mELYrnVVf3Hg0l+Jr1cMYC0RWg2BbAzatHVtERet01V0fgB3i7lPAqK5i1wN+RuZVJU2S+NntA5rDSPdb+ITGPB3iKAavENcWVZ7xWU8MZ+IDlu2IczsxFIDlAVZk8RZtNZjtFBpQWL/PtBoCJZFEAbpD+IZxunUXgAyMCn8e39wQlCMujxB+AlPkXqfmKEt7Vqjcqxrh/qjJ70WsLB8C9sYPdZUW6zmuvB4JfOB2KnxYVATAVHtKTollv+8+5ctgu2ZoCB6yj81DzaxbWmIvV/L+B1DZEBqWgetP8DXindGh9gvrMdjQlYsS5UpQUV1Q/uMQOYXSEsXlDzbf8Qm3hVkuPdm/VJYXYqEvil6T+Yd7WBrIZfJHhcDE0ltxJGkR6fWO0FwD5ZYtWUxBmwFxlxoACyq9/iIDGN0GJcemUlAuB8i+81elsPULFhJaeZmIxowoxv2fcACWhm+YJYbVmsfMPGRS2V3EKJQSPANee2Khlpm3zmW2BsWi+/BAfSymqPPcw6ezRDjuVo36EE6QILRYBPNt1OmORQjVMlmfFwTWMoCXiz0rqFvOhSAmV0181KOoyi/1A6nUYjd7F1Co4hJ0AlBNkFvKLRDZpap7zJ6lx5h5h8GJXbPExyFWhR1RC4FPABR0xoX8udTIAUJW6jN3XuP8AARAWDl6QzNiR4f6H3LJ59yhX4ld5YtwhA069Yiird5lnhcPBM7dE4JlM/XxCxiAuovJSxUzMbBxaIHzn2hkHgNH6Lj2AdgFuscRancW09BEIx4SfKYPti7XgZtO8w+lLjMnaoo31KMXalX019QWXLS4k+YZatynWM+cfuUYD3KivlqXKkLXi5lWrEyBYWWJjUECi6gJFWxmoqGrEA5IBi2+jl/EshdRFeGNQYq4+F6NlskIY+sN2nF3jhrcNqRT2XDV10/MskgwgpGFiXa7wV1NrFxc/EfqtkrPNkoyTL3DgI6viAFtM1cFMFa32S6g1mYa8IvGIRL2Ylv5wpNpIdDkhhigLxV+Yw+FSvLY/YymjzUMxK2/squD0Nx5luvbdvmBQISF0bPzGkuIxqmPw/UuOzDC0FxA1ZjMYA58Z/wATLQGrWn7T/bAF1KL0k9FfwR9ID05yPywLFasZiQA24Yur1Buc4ZEdFxiHDsmCbKU/MM9EYxyql9KYIS5A/K4qyGkmzDHyEIpWFPQPWGtGmg0Upr6l6GOXspm93UVEdByWxjhbXgzRxRnq3DbGozQDs/tD5ICKM5vPVyyIoK4T/kEdDKiqXEH3AKC0L946JXhIgAKYkchF3gwe7+0JcDDgauadLY7enrHhuP3PMoXTkhTBqJ3RvkDVhAIKLGP87iMcbTGmsek5oQAY+tRNbjZUewq3pzBAe8dk0cWjmbBoCnMumhF7VaqBX1CuoZAmzkmYGnjBn+IWiPLeo26EO9H8zBV0gz3ZC1qtvUIP1BMVNEt+xP8AZu1I3bT/AEX7xeBqXQQ0fLQfMFNZavNbffFeAlfKyxG82NrGvnqUqCZOxtXeeivUhJBtz4FZfmLer1cc/qHh0CZcnKHMVtLLRpjCXUWQxt6L549cmFh99LXJ/tQgQth20J64PuaJnBOO8/yks2546R+CDANJ9SiS58HKv3g2QX2ENfUsYHVYpQ64iJO4kbpToGyXXPewaPI0/AxnKM4CPOqTiVy8oVSRKFuReCX71+J40NHUrSydC2ycKapyTYSVG8UiOVwv0tDNB6sWoXXMJKuIqv1gF6s+5Rj0THUgNXZjf+8Q6+kEzQD9dMwgXBV28RN2+vuAeqj7riXEY92sm0F9PCIY2hVFm2JbNQlUwb7bNyr11Q9T+EL4UL9OYITZwSgDEuOa8BZb/wB5Iw1MphQsHxmK3savRgprl/VldDX4f0Sq53xLtEDrdwEoI08TS7BTxf8AybEbxUfz/MQRclc1SLBfxmEaSLtsvXmJQSSvD34gDBdzk76ivSw9WNxyNZTo6ac1MnTl7BAr7i0ZdPSq+/X/AMaxvqIS/g5zCB2ccEseQLYAIK79ds5BChQVocwOUZjqx8wGBGY/bXmDRAJZgz3FBRVSiyVu8MIr98fc2WXvTgYLNBvMIlg2Rj7iAFaLg9Y9WxdXHBCYTbLyMJp0KIfv1hyg8VR4TJaFhxisQ2b28Czi09IIJQsmS8XCWFAPdCTWtg5vUVlF5NFAfsg7LLlt/pr1ZjtsNUOZUCutplqDtXqf4j4VQnFCKxzhPjzALmOurXW4T9xzFFe80Wow2Wt+IlbvFvADxt8YL3qDK+rbDWTGq1GLbY5fWTvA2/P4iXHI49Y0B3sVQbWsiNKy9W/aLWCiYSYcjP8ACDTYSJhe9SjlglmFHT/PUtGLT1RKjTSBR3MNsCe5H7URzW6dSvJEpzZcxDi2BSY4TPhHKhkZ4dRALrvcNTnjtXVmk9y5tedDDyR0+5Xp2a0Dn4s9T3i+UCObA+WKzOhjRD2KeyOEUlXWvuOAwsvphZmTKSur/wB8S9BcNjURBeMg3t+5avEIciKLVtBMng5fL7TI5iDcJ8ov7ENF2RjlhB6spyKSvJT3pLmr1Q90ErNcRUrZiW7QCNEYItGPUvZhuNwRaHm4Bihh4OviGcG76AmFjyI8GmvuoyQW+pvEe1T0qDRQeGX4K1y5H+6lRE4jZG24K21B5E/ZL6hl7R7QPyIBVvOXMN3O+d+oS1CzdBrB7Qag6DCHb5NfcQYDWBIdgqDGzNPrLcQBR7RhpKzZz1K6Q6dFhcrHAAwixTuCOGJuhcWg5tW3j9/cMuZkBx9nxBO6cmWjEEXAzgqAgJlyY8RElCGFVECnJdNfFw8LalMzb+K8S/sMpm/LFnX3RX5xXtE6RfJ+Ym2tKehlqdGQLF6WJKB4A1K+o1sLqUBVlwZlpYcGm45jLMeHGcfqCo1XfjJEFgRTJyY9WWvoBhabU1RSYusSxKpYxaGlYBhnjyQC4OBjSb7oENviEk03fqXjlEXhQDoJVwROHgAeAJQK64gMrmviIZUoiuUt+7lAO7gqis83KDbVm3MEp3GNIlMwuh7GdnnUdm+kfyPIxKkir4uvwhUEFo9cS7elpd3OJxMF8lNH3FqZ9Vz+HVlfqdD/AE0/caF+4jE/8KpVlTF7GmFgxFu1HZe+CGGEQkMQudLcWKCTd5C2TPpi7lzFYaajVmS5XLbzK1NitXiPJuL14NWdLpx3LdnhqJaPtLGFqYiA5NeeQU+6gvGyo9RsYe8qrxeYApAbj3lCVULfFsoqNkSOeSxDZjnJFlskKJc2zGoVY8CvzUALXEWMdxu0oR9UNWUXVAtygkwLbRCTDFNZH9BM8YkdNf0SxaRt6yjxcsYHEOCCuUyLJiVtLaoOR7lbXnIHBgw4XaXUtigLgl21tGslD5hVXKQi23TwxGCnVcDCfMsiDYTFPmJUQy5nrijhpsY3U+2WCpgkBjBF1uwb94PYaS4buWC7M0QTxFuBjkN/pCQLfQ0uUZAQC8HmArQsEK69+5j0Mm6Ev0IYiKZBce8UWaqmln5iaj46rXxAGwyUuWYRNl0xe2oGLZFzk4muYg09iUor4ws5Hua+Kj4ZbHEEbWF9n8QbhKLL6G5Xir+QDfjKwcMrNrz04+eYKWD3IoUAcKyDKMB0dLXUC4oaLqcotNRjMDd5lxFfFQbEdarCLErifZtoAP7hW1ipkLVK+kYKcrolr2z+IU2DWW7/ABFi0zDnZGyUmW3G36GXoA11gdEKa0oeaMR4NyvLmmuK1jVkahgMgKwDeMQxS2WOjHaLJTUABtTSPzft5lDdJPoz/qGWtK86j61u9Rf2UP7gYVVZWlRtaUJBF3r+YgmABU4Ki8YCXLdsGw0AD6ftEBD7SHOz3+lbXnJHV4eI7/8AFgG8zPu7NXVHGZlMnQ8RmmkjmOLOUS1Pf0loZXb3K2WUWFlEUdEpor3iBW+hpd18Hyg8shUyCfbaPeVPFu3uZgAS5VmVDXymRuMRPBP3LVApzZ1KNZmKK8AWJTYwCRGrQyV7NntGAwXv/k1Dq7QpnlRBsEKO+IxIGqGy/HiWI4CELK7V72CjTsU1zE3kwWtfIfghOo075H5YTmvxsErQI9bT0GX29p+H9wD+UjUWjW1M7EUfPp1LdUltn8ayL+wxChXhuYDNecxJiXBgw0vzEl2xt6EhHNmAeBB/NwSwcLOz+pfqGgHFekCU2tF27zrUVI1tIfZL/O2j+SJWpg5zvm2DoBwhyiEkWUuD+Iop/dry7x8RfPzBzuKMrznBiFmTXVMcXBW9wFawvuIq8o43Er2PMKUhVd6JzUCGjkVY9PMvrtQNi0wSjCHHMNgCqIr2EeAOAAFi8entDp8FbbRSZPchusNsItqmPWGB5bGVC2/dmwL4L2bfhIygqDMHIewYbY9PExjZ9IWdyxLAccR0FdJ7tfMoUaKioqVmHi5ZDsKphxC8kxg9MykBgezzgt72ZXZrsOaf6mADT+hNP1KA1rXydTDV2WKj/eI6UJvVXR+VPhhYLQlR7RS8R19kLLeQIOnO/WveXnEG2ovsTi5EW3WPuobmKXeaT7EcdPkqIfbABDmvxr+P/Ct1sWpxZZ06xUMy3ZotoZWs1C4ILguRROGK0mqxddb1CmsuF6+NQmsU9WVuDJltvOOYGyCBKuPWagUicSpnOAFUtNBeLeBq3FkrWLoPpJbT8zDEuVE2ltj+LOJyclN8tLlBeNeEGm4+mXAlilU9d8e9QBBgF2Ku6z73KhdARz15aWuoGc1gonHEDMIbLbLftb2IitRgpsom74GS+cADl18zHVCZgjbWnvDhQWAZZbzSY9WEjam+UeukwyN+bRfwEQG0H1RcPEoNejD9VKrWiSANiunVkb8Jnak4fEOQa5yJYzZBNhmHHrD6OfMAVErzDUI7ENVbX1UtcE4lArx3y3HscX8ln6hXEq2Xga+6nMN9di/UOZ2HyJDO0+IDlGaC6AebPiCsFek2JfHMSypTraKAhwqr9Kg9q0r7WEApkCw54IAWy5By8QeCzHN0Uem5asfEHQA6xDNVOe9TcyB5qFErre6+syyKoo2LzSPURZvOLH3M3VcZpbCUU5oxX6nJkdwJVaLBw7rc2fEMS0lhfO4LADdD7g4KpdO5SAOQVnfBvODncSeXfZtg9gqFspo60byWUb2QAFnpScVb9XiXotRMIpkZc1vuBwKCdT0p99TOCxMBYoAXnf1L0N2PUOhCrRwkZYBhRBGw9MQ1tjBtDkrdWxVhEyA+8NkiYuxV6Fiy+L8SjFiERNqbyKb7lnSHBce2lUl7yJ5yY8QRWQLyy9mFr8y5BX0ssN8VRv8AdQBkrgNFscmHqLzALVioFw5Xj0PqCSxr5Btk9K95y4cWHs8Ndw/RgLzPirPualp80Vy09/XvFSzrJ9QY+iWWhDZ2dalilUsznwhiG1Eu8Werbs0OzuW87EMnKOEa14YL3GHJil3Yx+Yxt85Cg8F146hmCEUE9GMescc19fyLfUGyqLwiYLQtZc6q6pCd2zS2umKAz2xBUpBwT1byygSFd9SnF4IU659M/iYZUCAFlX4xFhUzI7yJaX5gvzWLn5Dhtz86mATmApLhgBb77hUhbED5VMPFdg1XmtwQBsTMpSskxkIghdmzXtKzMshWwAeqTJHpqVNim2bbdY/uNDK9jcJiqJR0LcPk8n9AfqVqzlK4aP4lVQCBV+1zSqDku4ldVvhKqshiraGO6VeYZshNLRSh4ci9l9sFgAhbQBjH7iaxBpU+t2TCWDZunD+T4moUrEyhKcuZdZVilURVWZzDrkWYsvGL4KImazOSrde9x4tygAx4wvN99xRJMJbF1zMwaEKHFFKF4bvm7h4iiDZNg4vjUL1BkPC2oU2lZxHCmlNw8B7KlgpbvmDvbKPEEpX6hyTIs7dWIdqjDV5i4b9pSrvJKhQQxcmaYLe/MU1rbIv0ZXaEKppdL7NfEwSWGN14bpSveAVEUoAHVXC9zK2Bx/yCNKGoo0NeLgL1USl14Mwm5xaG5lKqav8ApFHdssqyDlsPTiVshjtgcAqzW6irhU+CsSzDTnb7MwrmATYhgc5S8r2uYCA6ACVNjNBALMZcXpq+47isb/VOXCPMo8sLKA0L5Q3mV11B6Z2SfUBFkuYDQXyFB8sfznGXru85uKN4kqCBfJX6qFcIFe8b6MD3jD7YzoAK+CWchpJnolJgeUU171KwGgKGPBmo+oDWTebsQwtTasjmgGxGke4wj3rUL3fTtuFyo358yqHSUbG6345iUYJte82cTKeoE9CPqE0Ti2Pdy9T4leYqgboA35pT1jWgVpJOkbNi2PVCEVABAQdFv8ISTZdko+PEcAA90B4aekxtAGiMAUBu6GtrstpWFosaKOBDvYB4DMrRgYpQ7Krz6xtpkhTrK9Rx1CyMaxYlukzjzLzD+DJ+Iec9VBbSwUDlyVM01GL6nL8x3JWXt+qa3M8uM4uc5c/fEpF1Kt4dNSwSWFMhosb5lLygiA/WVJK0tSd0rT6dxsHNdr3cNiByoNWaXWyIoAO260S8xzDTdv8AMsvWyJpeisvMgi4DggdiqLLTfXLdQbpkQWOZUMZhXYbV316RmAscSFLK+1QuWluBmhpxe/PmKknIlh5eT3KirRZrRwe0JrWCsAbuqPmZqXpeL/GoxSyrFvjGu4+aijLRwYwEFERVwrLj4JRjQslY95qAhtZrrbOQpqg/wP4mDBSGrLe74/GoABQG3P8AvMJDPRPIt9kMQarJX8yjvlFpxcNZzCn+tPY4s+43pV4ICXfx4ih10NDdlZrhrcoVVABgBQXoDXllwfIWsQKqi2l5VtjxhSaUAVeQfdl/TCFhXeO6b9vMprLBnaAONier8Q7WrGvRjPG696gLGXuQl0V21X8eWjuUqiqq63iw4MOG9zZ4AmgKys5rjUHL6p6O1MOetxJUJyrgp43Uy8quM9t6u/VCWpWjUm33LdesUaaB9ym9/ioEvD55zMsglQHG2u4pV6X8RxtXpFOe9JNoHeR8OahtBWLFx+9S4iKyBb9MVVkdOz4WCSqHJUEbsHgtCcVYitoyoLVAZdEJbNwEnLnVbigy3GGN08ZiHAtzIAfr4jealCoBXLi3AfPFOqhqUEzoDZ9I2lBWgcq1jg+epeEKmLTY86t45TqnbZ42l7RanHrMOuFEQt5nN77gQ+hgEbstbPEHAPlD5JaL2lA/nEBIZy/9R/SsfMB4HJa664lcExAMbpALev1KooKsU4yo1a+XXEIWASAAxWTJS5YgFAyVZV0u95j0UaFAehdTBiZQR1lWKgUrqpwlKN7D3gQVUYBL8Jj4jaQArZqqGH1PHVRYNu6YOmsjKcWDGT9EM38NtvtDa1o1teCY3Hnk+0OcCCra3FGEbQtWFVFX1qWK1fXNRq11VZ8sx4TWwwHtVfURY5VT4UfiYqiGYc6xChw+Vf5Yty7A9QC8VnuXAginy6c1Abts2rPtDwrgKfazVu2I0X8Hg+JVmr5fMXikl6WcxmoSqGAUaltSqq82c2dwwqgWVr6Xr4mXDiw2/MtCnwfzFI1YB0JaeeeILUiMK84zjPmUiECuUO0nNeKzGnNAEAHFIfJASYKcr5dQHKEd9niIu7P93F1eikV+IOaBQsv3dQpAq6wvxkG+5ZXa+hXE42ttk+ioHXCN1+RGz8OBNN1uDvAsJxll6xV3b56V08ZGgNa5jItWA/yI56L40+JsQoCoWyaAtRrDXrCxtOG0uHnjDEJETClcFqufjcdobODwa31Hw9qylOmO2sWDoOKfb4i8BS1cOUOy89kruxoWn1omBluyGoyWmQwcEtJCFC9tEyb/AIY6DlRw8hT7IqAFQpKNrQe8Yl2LberVtcYYHQbAXb7agi0ggKixTxgfQxFC0JkXCc45h5BmkcQQy/RUUFL5i9BRv+Blk5MZojgIW8uoUY9kRstHwwoiOqEFC73yxUOMcFwFwCsUQZM8/mWBixC0rt0+ZYoGrN85+owFPKEytedUfxK143QD2sUimKNKAVeB19Rflex38K3NF5R7jP8AJH9Y0zRWL2PVihqyk/MCoKsAoPYlKf4O/NXABRhA0TsM83c0W0POpwnWN3FLy1xGiw4qiJv2clWRVSWG0v1xMfQ8ChBcrN83AboXXUyVuEGveotsDlRY+bi0XqsYnswIwFgpM+tv3CzZraS7DSHj6gj0OOYVPwgar1JA6Bfm0iQrCexAKtK7SA5Cjk6JtPqIqAuzgDiWACCU2mZUNFDcHRdY9JVFGzuaLUYe4qgZzqv91DYHWpxDqstQQKbza3UDIANPJ4NwI0i0VUYwLOn7mRGyjgnQBmyA1rbmtRSjWsNRQKMtFTaqcaKg0NAaWlzDAXjD/eYFvOsOMxArWPC5iilJO+4DkF3j+I2uBOxV/wBj9SujFXOz8wxfnXL5CBVD0RHdEaP3cHtI+R8TALHkgkG/n+JoUmq5/MHZxg5hoI3S5a732RWTAtUQodslzA0MLh8CKPuTI+cNhHyZn+bGnMNFqgQVovJPWDwH1tPXIlxf6TUWsS5dfq4sTaoAfUWFx1DCI/Yi9cUUEfFDPowo3bn5eOjwUQOFBIthw2ykBBE3kZlKDVA34z+pasQy2nHxFJahk/TGRs+sDisLwxrklatGpnBkzPogAp/JiYYxfLGwlLcp/cUHjwRlugESHXL8QVg3J+Qp+5Y3Vuxo9mUNj3AA9oFiTLqkIYP3EtIDF1UClpftGlHvLKpgcmW8wSoL6tzUsO25SwcFZagEtC3QjuBRVpzqBsVL8xMZDNa5hiujtNxRXpesygolvpMk6RPQ2aoxBpukesxUAYagRelfeMqw68wvBWHqwNeik5gJoV3iGt7HpA7ZxyEcI+ldwIJv4DMo2Ko3bUrVIsy3C1sLzdzLDSeC4DFLitmRd8xpS0L0m+XvuKOWHtA7GzCWxoDg89MSxjDgDNyroljitRcYrGM5jm91jEBcE8KdxdAj8xyF803eWOBgXJ5IUaF1iqi9gq7tOIX04HJ3HgU81AaEFwZiyQOzTDMEujNmXTFA7lIN+wEvTK+eo004GLav4qmOCkeMuo4BFHd2TkeFYFD3GwW8dEroHdMEunL4URw2hLoqpyAy4tlFrbXIR22HQ8RAGLXTqOdq5M5lWyxdRRpFrHZFIsA7iRcZ0WMEvVOyPIsNMTkaXZC67uzU+SBgZ+tp71KLLPDWY4uO6V4meR8ieyiZgWXSygwHrtDS4RoaZnc3bskfIfaIwGUS0LiAVYb6rPmWrADxLwjoCmcwvluBBwOuiAJZYeswhSWHIVEGLeHmCte14lBRVtkqW0N8G52aaRxBho83C0Ba2jiFN9mbeJQKcBvlMLg9KIF7sG0I0aIu91AC9s4tAQiqrF4hk0usYx7wDUC/M6B81KKKKN5CUaAOm5hqhd89R3W/FQsmXHvHQLN5pxAU0cL5lkdjlgaeYKYsHMRaQXdessosV5iDR7Vi4HA8NaZQETztCkNh3cWhVSYywwZ22bhKSmg4aqC6qPW7/wBiDJquARBasoGz+4hkYu7vEteQ3zFYabwPMo6ewjrTyYDEG+6KFsI5wz/cQtyMKxfiCgybwk/xG1QpWmLJS621f3ADIac1eYhRAi93FGGLi55l3KXngW4ZqLfEwfoupdVWetbloE7FX/YHnVgIeuRM3KjxVwE0o4/1wTaDOaz/ABKFQsrFwTKUl3Z/cAYad5dw3SSiWP0uMyp2Xoa+o1dbtpPMBoAV3qYYO92OJiJYh2RSOG3ZgqYUJbbqUTtDRAwN+uoFFOj5lyoK4f8AekyP5RcBNlZCKYmd4xqZNdkFGFec1XtKtnXOselS84N20zKnHC4YZHcMBl9wK41lE/coynbX+ULBcGMXMSAhTSFfco4Tm79y85BePkMeB+TZ9TMinERYsqHsQn9A/wBQc6PWpkpROq3MCXXtLHV5uWUKPFZiFbfxNwZxIkLjkxEMXOMekv1PDcQGHnZKaGi8l17xOiyVnVx1aQwKWjpeZebSIWbXCRAAbxy4jsGbxZUo4aWgDmBxsSs+sKLsOWXZeTuUlFZ6XcsVsfTEG6azwcQCF346holr3eIGigM45gbGeKuZbinBZqUmdAqpa4tPqOeHrTeIUUd/UbhpYvB/mDWA1upjkdEHwLee4NWXrLUVTp1f7ip4v1uoUdNcGvuO7dvGPrmbUI91ALQVQo5XOSaOKZU5VhsLzMG8mLL+cwHarihzLrcNtV/EaRyo3xAGl7vyxQ4FTOYtbs8mEaLbL/0mikt4thS2C3CZ9SWApaze/WZZH0v69YEqwvHMw5tM01NQ1v8AAu/uVjDZQ5cZz+mFQifLu/aAiqCCjv8AiYEyc9RLu8tZltthftBFjaYvMoOE7XH9w4wx71BFi9cMVZsOjuFj4fS4nhFsRQEfLEQQoTFU1FomuK1ARaDq+EQrJzWhLEre7rX7gEQseqWygQwcEHJ7y9kCcwVA3WrAqN87zGtBk1LODneSVZrLW2ZgVAgVC2dHWp9pkCzOGpeuK0NowOho3ZuzxcVBoHvmWGYK5ckVT4zi7jVs9MRrCgC84goDA4mz6moAS1KlpN8buGJyLWohVVa6LjFftlGC8+WWllffBK3W15RmEjK5luHluYs1unQRdb4AVAVWYKuhZSi2l6eeoYUMqUWXIL6ISkqxe7jcAIZvNxr0uW+GIZocoQWlqzq/4hbTdpxdxrpjzLUc2X5mbKDtHn2hgWByQo0N0VVysJoeLiITK1mOLr4xA8B+UqrUecSqWnZju5cLHo3iZEwvC7lLakvcBgyrgCBTQA0lAxAaHbK668ZrE5OTtUeQYfVUINBK/wAuORKvQmo2gCt4M/EWtW8t8RfkXQbIFWmarEddHkHUoePa7qCAOLa5qWtI5oSkbAgjVYiAmbooeogK05NJcbVA01n9MBeDVlH9SwkwNASguy9L6zeIz5uNm46upaUZIu6HDfK/8jUZDQmFdxhNZASMvJjr/abGiZ9fqDXboD+oFIKMosqzigp8vMuYS8IMLXpRYf5m0Wuqq7YBhWc8iNBTPuiktaHK37cylCdHTEhmKt4Kig3e1abjWoMZDFxq1b3ixtQv/OYW4mhXMclJbslsvWcPCYblLSrbO0BILXen4lIHIvdJd0G9hzGvDaYpIu94oO2WGxlTZd3M+FduvqAClaBD4NgCKfnTCFBn0NS9lK6Zig4uUJVCl7YAYwl3mAcj7zBdGuC4GH6zcdUAeFgZbE6uW7FdyioGzx+O5XuY1UTLYvUJhAJVJcBBLHx9wO0E56QKsglUstW29alVOX2qLVaW/MpkADTAEwu8ZlK1wcYc/MRV4PDAJRTWAi0SvO5pvnqFgXKZXkxGUPp/MK0MvbEAGzDq45z2xeY3gfOf9U5rA5CCJUtWAzHjHRiJHJ+UFajwv1MCZI4piC0jHL/DEM8fZHQVFu3UrVFKaXiOigFxioaA7qqceYhBl45lrCFV0xtALs5pEDUXhAv3ljQYe5LwWdeeoK0S814l0heBjEL1MIxdGaAtOZqC6zAQ0F5nEgXuolursUlsRxVZccEoI+lU4i5SsLzuX21tx/q3KgyLajjEttpKeArMSjK93CtqeS4BaG3LLOkHrdRpSWuC2AHiBamkoFUB5u/MyRh0YKlokdLe4xAbsMnn+5smBcO7BB+9yg8OwwtbVKae5kVywW7hhOPqH1gig6t0F5jgWU2de8KpFmhbx9x09Lh7iNLZla/uWctOMj9QaqL/AOETgM3ruUWb0sr9CEQlRqy9RLq7SZSIlbDgKlihQvkxKUu1lOtRzWgOA4gEt5/hBS6NPSJI44PPrFRANYVL6ymoAWKs+Y4wpvGWNrNvBEQNfTMQy4a1GSDXjJiFlpVPEstYB3ti5lXtmAqtdbcRzSqTzCyTSs7hZKUv1MS8Di7mwa1uAG8PBbBOKdPHtLYaD4ZkJV9TRBzLVu8axqKpTzxUFhkacTQsozog0jL2xSUT54lGLFzY1Lr0Gi3NxILIbBqEiLOC8oKZZrHn7hWe3fUR4iik1mUKKzR3EO1PN7lClp1hQWwKd2n6lnD5gGLbq2JTZbC8c35jaZyaq3EELZp4IiD5pILbpXTqPFRTRiDkODseYF92+yUgaa8MovvhUaG2uYOWL5NT9cf5iFF85S1tJMUVMDdcG47Gaez5gpSy/LFpZwPOZnFA5tYpodVGKfSJLClKxhuIXLjA8zaxTda/zNBHZsf9iajTDezP1ELLC8PHvKMFMEtpJupQw42mzDaod6/ZHDWG9hDAZNLg38xDAdOy8LCw2sctIq9iBqewcxWRcChX1x8wtFQDqut+WeA0LfEzXkctP7lwWgXuoKjdU1yisWHQCh95ZZQla5i5DB7QSgyl3wTKsgYeamSOXTUwLy4tcS1rBpEr7igVY9BgZFU0U4hNg7u2DTQRdZjkDZ3mK8NOiBftENq5BlIm2b8sDaoKJzmHIYXcCmgl86g0WmuLxA8lvpLIwoau5VT5REt1x6yxj32wbqit2cSlUXWs3frDQBUu01LUKVOpnFRfrUUAA7YIWBVwsL2vQx5AHW+ZkLtmRVTPNjw1EEGR7ijLaKzmDVCD7RqtwxxEIvJjEuofk4igLQ8cRxTVd4uUytQCi4CMwwLEVVEqyoPDNGagl04BWINrag8dQzZbrGIutVwEoUaDHpBbCs0YGcoqnUCmAQ5gixa6rcAaSrLAWzw1G7wZ57iWcMncYAA9LY/GJTQ7mJBdHP3EKkGtVSQBm3vjRzYXzASmi8FkVq2hsxqU5g1zcvQLdYTMALR8gc/qWU1je1QUgauDuFIy1ixy9y2EFOBwEqVA12EERUXlaMATVwE0xbVEO6/MaoVCYepgF1yGpUsK0souCUF2aTEH6zgaMq23xTFkCK1Y/MPFKwUmdTMULuCL0HWs4inACrawdX/cIvFoLvPURMcWoUaykJviI1j0JxilvCFPvEBbVYXb+ZXAbZbcRsaK8m34l2dy7XMtDBS7A/JCogGAvSxybFmb1cRqwPus+ZsWSubl0jXYOvmYaFvvMBQq1Sy1LVWEvMKPFGQdwyCUOaIrGweSiHEfRmK4Bsq4JgwHkLIpQl0nMySymcbr1jRRMi6upQRLt3EqlvwXLKtPZjFkx0RHhp33EKqR3UoEtNeI6AA9bgJoxpPyiBBac2LLtSiTMWrVXC1wQwOM8cy9hh0QXA2GpkV8XUXVBrV1NM+AdSzTB23NLYwG7jVNerR+CICljm0BcZaUwPuJG9ckRcSCIZVN/cVygl8YnGs33+IUVKjOcWHLS5slFcpbsfUHBL2CK/MoDmD1gLICxGh8QNRvksP98RKDJLLEBYZwlLb6yw7nTWoA25rCL+5lE8G2PuMRS6ox83LQBRzHXEY8WcID1goinBVvjWpbcFYRTj01Nqh05v24gAFWiPzqZLWDs3G2INKf+w7Ti+kfc5ntsCeRgP4gkaaORxv+oVSL8F/7iKXuxw/EtyRyuwILDdi/z5g2F7Lb/EXtLm0U+0vR6UtG6e4be212eIMAEyUv2qAY8pFa/cylHLbv0qoblygavsgi8TGNvzLe0+H9RJROXu+faVUgjFNn1C0PIDSQTR0crvxiOu50ijp9vSInXXk81HU5YssIFsMt0QBYF2Zfi5YpbvYvMULjYbF583DidMDg69IIostBpUEN0nLrmKhdXDlqLGsTgNwTQ21GkWCiZxYr7mIRnhLhkp8HUpAuXTXj5ieCaV35pgVGs3T8cTuXrpuKRqvFJKQ8WmNfMKwvpH3N0QuTMainBupbYOObcxWib2LcSpgMggVTIfiU4Ia1yiGh7ckSEAO6RtsLkJgvaqqXLCxfGIpxAaIRUJ0qh+5U5sm8v8ykBy0rERFRi5lIeksMIbMuYgux9oQaHvG/qUBTa9GIm/5JalG+e4FwcamHTnqAeEcMDGNTN4fiAtFv5lbII5b3BV6q94lzSWetwRbSnKollAv1jW+nRBKJW2pRARBjNJMl1tDxuW7PRCxeEai1gX4IZ2QboK/MqQL57hdGzzRFDOz07ggUq11tgDxsWcywUSvUw3cmW0W2l43DYWHsdThLgdEEWBtihhZEuKTiGkYGv4liigDpYsir5iauxvIGoczfRMbAbvEUuAJ1K5ivwgpsgXld/ETVHY9fErslKqhCXbJnFD3uK5Y5qwhCqgG6Vpg4UrO+ZwWHghIEoLaDfUco1Ry1c4fHaX6sOLA/hAcGuEmJW47x9Rthaq3z7RpsIui2QEEBq1JEPNnbVMAtx3piBtgHF8+ILovjNdVACKCyar4mELd7jDea4CmZuhFrTmJDB5LX6kwfKsFVLgiMrjqNhaLqYwYUpbxLEOHQbPPEVDdlFbTALQBGiveYxANEc3DCzCXQalQFFxyyosXnEPYZnA0wNhk5rL6l4DtzbqGcYHN7zJI6ftMbBhxEmpy4uPht7IIKrxzAgljnM2jR21MyAPNwu1vBtIuCm+OiIZTeoo1k+JQfymgp5MEB3brx4hksq9wLoInEVNUVxKNA80yxRwF0BMm2wav/AMRdGge8BbB4JZ5dFkKrsvqBye9lKuAyG+5E6Mm75jRKdDNjF8iobdc5RuNb0B5QNFqcUMTgrRtCWLVPa0MtCw5pcxC7z9OJdhAdyizowuUCIA7zQy6he6LLbA3SXDkC5yc/c1gl1u/3BW6miDXSewtRG1oTHl7QsqV6eEaWYtozUa1WuQuf4jY4uaZeo55xUbhwl4iDlS8FR+DDT3KaGcUxNYXCphDQerzBi9WGzc1aazRctXoLlKClVknIwDnMtqzzj+YgHFUFFJlt5M3XP7iLicD+8DUr7BrOIIUoXtLSYKIOXvNQYsGn9yuLsZafGETL8xZs8OIFalSle+odymyynxKUbgXNx6Sjsmwn+Yc+Vq5bXivT4lZbJkLFV7Sut4WWuRmWrvNLiTgoa6+Y5V5CqvH9zKUK4rH/AGBohzR9R2A2uRT9YigGKuRf+S3U5q9cQdoDyLm4dQirZ/cHgCNKUVjvKFMj3hQNLVZ9twuAUeI0H8k+ZkNpsgVFF3NdNkXQkUuIwV5KlK7BLIvmDcRdW5tVmAmCeSXswXE5AGu4rCI3KheE5lwlgc1ABENN3FodqiTKVfTFXAXy/wBQWgAeJgBbsnpGrCdFodvUQat8AP1MEt3LlBoWJUASlVvOZyApu7hdsvpUdgW7M6ghdiGMSt1YH+wyhLttQhwC89RjBdViiOcVK6ImZAllS4hG5sWP6jtAQvY+dRQe1q7vy3M1tvD0xwA/Fgx3K26BuLS0WsVe1ioqyrS/UQ3hHSFIZDVKRc4Qwh9RoEeWiU2fm3UEUx4jfEmDTT6jgLKqxDLHW8xCydtQNkU68w36jUoBa5rNeYAWxfBmDqCxoYuk2Le4ytBWs6lX3kdOYi0oBZmMq78WnJkHd8+sQkBbOUTKZHGhdywVOWSkYhFWee41AaG3uN5QTVGGAS4BmpZVYVgqIrJycjvDB7zgQpely5PFQJSDWMYInIV0g3E2ur4BKlWkWMaq4gRRxrUwlEedsG1SvjuZIBBpwxswGephKArSrd91GGszgSnJVKra/EtYFuaxcrmGLKq47LIYTaW4aML18wTOdGBICNUKAFMwUyWbx/MoIgjIH5inOLtKjmzVyw5pMjnEx0TCubiSjZzajzF257OM3jqBNWbHK/DGVAthcxhTQYtOfMtH1AGGKGBWfyjzAFi058Sy6HVy3VntLDQg78QV0xrMqdGYKtcepOVYesaqCPrHimblF3S+ZRkZJsYL4lArPsRlGPiWVbO4SrS8LCzbPrGxTaC0GOaXUAzQgcsooYO0TAw5siGCUzTMtJ3OI0I+64IUFtkvQQUKKbxiBinGbCoHCtNbIO1vSMCVRq9VuJQhS/UEXtfTuW5KPyyhteXJomEG45xAFBeFMulwdjES1WSAi0V1Ts7YgF7MYsGFC98VioCAUs5YXBUE2p9TUrSOwxVTIcqLy6iOVBcWYlqUOcMelKuipw9A35hzjOR1EF8WEuA6zXMuIMvNJkWt8CqhzCBsViAM6tqDDYjRn8wAKXXNwVy74y8SlTPoSI7CGamWA1ghBZDDwuoQLU2VsZfNgVRtjahS+kwbETABNw2cjN+l28v5YJmYuNwovbOqJsaKumouti8NB7wiALTBeJUb0LscXE02NpQspZWsmVRZmtBeligq2Ga1FQuW3nFykxE3rcsKQ2oZgyFpi/3KQ+wjZXIcHMpEWJwXKZQJisVMAc3oKxUGA9BKhqtqKizeK6mxo6Mys5qvdwFTm161BCkRdEErQAWsPzmT6I4sNXKMOKgdRLF4rU2TEOTuPmG2nJBR0zFp1Gy5JQ0TT7RNsxTeZsVmNBrcFVMFzgdRmoacRZs3mP7u4C1WbqIF5aicL8RqI0RMzOp6QzwRUTOjERWc8xJRXdQhQ1qCpmeguWQFfnzCPRfcdyiniAKmMTbtVwFPSZ18wFvSEi4rbL9Zq6MNFxzZeVmkNXCJsvEUluIAoNuYBP8Axur9I4o7MA5xKt9wlo4glZNQLD22xCh017QVXm5nY6qVMGaOY5zvyLalw0uwagANq79oVnOMwlAU6QigUaKhhKUYgoxCdRxeYGizLzG2HaECiFz1GIBHbUsmlqHtFW3J0ck3UDE1MlMgWXnmAEBQjZ7yztfSHCit2NGQuNrKNqvEEFW8RVA0dEpNrEIBDMS9D2qZG25j5AM0OV7iZfSGxws//9k=)"
      ],
      "metadata": {
        "id": "n0fZbS5SmQki"
      },
      "id": "n0fZbS5SmQki"
    },
    {
      "cell_type": "code",
      "execution_count": null,
      "id": "7e9d15ca-34c8-4ab6-9293-4b8bb3971849",
      "metadata": {
        "id": "7e9d15ca-34c8-4ab6-9293-4b8bb3971849"
      },
      "outputs": [],
      "source": [
        "# TODO: Detect faces within the image (specifying the scale_factor and min_neighbours arguments)\n",
        "\n",
        "\n",
        "\n",
        "# TODO: Overlay the detections on your image\n",
        "\n",
        "\n",
        "\n",
        "# TODO: Display the overlaid image\n",
        "\n",
        "\n",
        "\n",
        "# TODO: Modify the scale_factor and min_neighbour parameters until you find a set of parameters with good trade-off"
      ]
    },
    {
      "cell_type": "code",
      "execution_count": null,
      "id": "90de9a7b-27e2-4f8f-a085-0b972135dbff",
      "metadata": {
        "jupyter": {
          "source_hidden": true
        },
        "tags": [],
        "id": "90de9a7b-27e2-4f8f-a085-0b972135dbff",
        "cellView": "form"
      },
      "outputs": [],
      "source": [
        "#@title Task solution\n",
        "\n",
        "# TODO: Detect faces within the image (specifying the scale_factor and min_neighbours arguments)\n",
        "face_detections = detect_faces_haar(image, haar_cascade_classifier, 1.15, 6)\n",
        "\n",
        "# TODO: Overlay the detections on your image\n",
        "overlaid_image = draw_rectangles_tlbr(image, face_detections, thickness=3)\n",
        "\n",
        "# TODO: Display the overlaid image\n",
        "display_image(overlaid_image)"
      ]
    },
    {
      "cell_type": "markdown",
      "source": [
        "### Experimenting with more images"
      ],
      "metadata": {
        "id": "9jePQvhLi-AM"
      },
      "id": "9jePQvhLi-AM"
    },
    {
      "cell_type": "markdown",
      "id": "56afacba-6544-4b31-8471-35b5cda9f917",
      "metadata": {
        "id": "56afacba-6544-4b31-8471-35b5cda9f917"
      },
      "source": [
        "In the code cell below we provide a function that can load an image from a URL and overlay face detections. Feel free to test out how well this works on different images. Experiment with different *scale_factor* and *min_neighbours* parameters.\n",
        "\n",
        "A good resource for finding sample images to classify is [Unsplash.com](https://unsplash.com/).  \n",
        "\n",
        "To get the URL for an image from Unsplash:\n",
        "1. Search for an image\n",
        "2. Click on the desired image to open it up in a larger window\n",
        "3. Right click on the image and select \"copy image address\"\n",
        "4. Paste the copied URL into the code cell and run your code!\n",
        "\n",
        "Can you find any examples where Haar cascades fail to detect faces? Can you explain why?  \n",
        "Does this work well on images that do not contain any faces?"
      ]
    },
    {
      "cell_type": "code",
      "execution_count": null,
      "id": "753b19ef-ae25-48cb-9d1b-6f1d8b438380",
      "metadata": {
        "id": "753b19ef-ae25-48cb-9d1b-6f1d8b438380"
      },
      "outputs": [],
      "source": [
        "def haar_detect_and_overlay_from_url(url, classifier, scale_factor, min_neighbours):\n",
        "    url_image = load_image_from_url(url)\n",
        "    detections = detect_faces_haar(url_image, classifier, scale_factor, min_neighbours)\n",
        "    overlaid_image = draw_rectangles_tlbr(url_image, detections, thickness=3)\n",
        "    display_image(overlaid_image)\n",
        "\n",
        "# TODO: Insert your URL here\n",
        "url = ''\n",
        "haar_detect_and_overlay_from_url(url, haar_cascade_classifier, 1.3, 6)"
      ]
    },
    {
      "cell_type": "markdown",
      "id": "6ead8bd0-dff3-4fe6-bc70-80723136dc06",
      "metadata": {
        "id": "6ead8bd0-dff3-4fe6-bc70-80723136dc06"
      },
      "source": [
        "## 2.5 Evaluation\n",
        "\n",
        "Let's briefly look at an example where this Haar cascade falls apart.\n",
        "\n",
        "**Task**: Given the below URL, detect and overlay any faces in the image using your Haar cascade classifier."
      ]
    },
    {
      "cell_type": "code",
      "execution_count": null,
      "id": "59b1f199-a154-4eb8-ad9a-eec1cfc8d48f",
      "metadata": {
        "id": "59b1f199-a154-4eb8-ad9a-eec1cfc8d48f"
      },
      "outputs": [],
      "source": [
        "url = 'https://images.unsplash.com/photo-1517841905240-472988babdf9?ixid=MnwxMjA3fDB8MHxwaG90by1wYWdlfHx8fGVufDB8fHx8&ixlib=rb-1.2.1&auto=format&fit=crop&w=934&q=80'\n",
        "\n",
        "\n",
        "# TODO: Load the URL, detect and overlay any faces\n",
        "\n",
        "\n"
      ]
    },
    {
      "cell_type": "code",
      "execution_count": null,
      "id": "1860f824-0296-401f-86d8-6a6fef3e26be",
      "metadata": {
        "jupyter": {
          "source_hidden": true
        },
        "tags": [],
        "id": "1860f824-0296-401f-86d8-6a6fef3e26be",
        "cellView": "form"
      },
      "outputs": [],
      "source": [
        "#@title Task solution\n",
        "\n",
        "url = 'https://images.unsplash.com/photo-1517841905240-472988babdf9?ixid=MnwxMjA3fDB8MHxwaG90by1wYWdlfHx8fGVufDB8fHx8&ixlib=rb-1.2.1&auto=format&fit=crop&w=934&q=80'\n",
        "\n",
        "# TODO: Load the URL, detect and overlay any faces\n",
        "haar_detect_and_overlay_from_url(url, haar_cascade_classifier, 1.3, 6)"
      ]
    },
    {
      "cell_type": "markdown",
      "source": [
        "#### Comprehension questions"
      ],
      "metadata": {
        "id": "jSxR2hmpjw-D"
      },
      "id": "jSxR2hmpjw-D"
    },
    {
      "cell_type": "markdown",
      "id": "ecb4f274-8940-4381-963f-9f294203644d",
      "metadata": {
        "id": "ecb4f274-8940-4381-963f-9f294203644d"
      },
      "source": [
        "Your network didn't detect any faces at all!\n",
        "\n",
        "**Comprehension Question 1**\n",
        "\n",
        "Why didn't your Haar cascade classifier detect the face?\n",
        "\n",
        "<details>\n",
        "<summary style='cursor:pointer;'><u>Answer</u></summary>\n",
        "\n",
        "The pretrained Haar cascade classifier was only trained on frontal faces (Determined by the name of the `.xml` file: *haarcascade_frontalface_default.xml*). This means the features that your Haar cascade classifier uses are not tuned to detect faces that are turned to the side.\n",
        "</details>\n",
        "\n",
        "</br>\n",
        "\n",
        "**Comprehension Question 2**\n",
        "\n",
        "What can you do to get your Haar cascade classifier to detect this face?\n",
        "\n",
        "<details>\n",
        "<summary style='cursor:pointer;'><u>Answer</u></summary>\n",
        "\n",
        "When training the Haar cascade classifier, you would need to include examples of faces that are turned to the side.\n",
        "</details>"
      ]
    },
    {
      "cell_type": "markdown",
      "id": "b08b1a78-7c7a-4552-80d1-858fbe227f8f",
      "metadata": {
        "id": "b08b1a78-7c7a-4552-80d1-858fbe227f8f"
      },
      "source": [
        "# 3. Deep Neural Networks - OpenCV\n",
        "\n",
        "In this section we will look at using pre-trained deep learning object detection models specifically for face detection using *OpenCV*.\n",
        "\n",
        "Since a background into deep learning object detection is provided in more detail elsewhere in the subject, we will instead focus here on the specifics of using the *OpenCV* implementation."
      ]
    },
    {
      "cell_type": "markdown",
      "id": "68b9bd8f-a8b5-4f98-8093-3a3dba91fcc4",
      "metadata": {
        "id": "68b9bd8f-a8b5-4f98-8093-3a3dba91fcc4"
      },
      "source": [
        "## 3.1 Loading Sample Data\n",
        "\n",
        "Like for Haar cascades, let's first start by loading a sample image so we can evaluate how well we can detect faces.\n",
        "\n",
        "\n",
        "In the code cell below we load and display the image data from the given URL."
      ]
    },
    {
      "cell_type": "code",
      "execution_count": null,
      "id": "7ce329ea-f1c3-40a5-b63b-d6058607634c",
      "metadata": {
        "tags": [],
        "id": "7ce329ea-f1c3-40a5-b63b-d6058607634c"
      },
      "outputs": [],
      "source": [
        "url = 'https://images.unsplash.com/photo-1517841905240-472988babdf9?ixid=MnwxMjA3fDB8MHxwaG90by1wYWdlfHx8fGVufDB8fHx8&ixlib=rb-1.2.1&auto=format&fit=crop&w=934&q=80'\n",
        "image = load_image_from_url(url)\n",
        "display_image(image)"
      ]
    },
    {
      "cell_type": "markdown",
      "id": "de983fab-60f5-461e-a11d-02c8fefa2cbf",
      "metadata": {
        "id": "de983fab-60f5-461e-a11d-02c8fefa2cbf"
      },
      "source": [
        "## 3.2 Creating a Face Detection Model\n",
        "\n",
        "We are going to use a pre-trained model for face detection. Specifically for this section, we are going to be using one that was originally trained with *Caffe*. For reference, *Caffe* is a deep learning framework, much like *PyTorch*.  \n",
        "\n",
        "*OpenCV* can load networks trained in different frameworks. To load a network trained with *Caffe*, *OpenCV* needs two files:\n",
        "* a `.txt` file describing the network architecture\n",
        "* a `.caffemodel` file which contains the trained network weights\n",
        "\n",
        "Along with this lab, you should have downloaded a `.txt` and `.caffemodel` file. In the code cell below we use these files to initialize our network."
      ]
    },
    {
      "cell_type": "code",
      "execution_count": null,
      "id": "daa32c73-9d0e-49eb-aec9-3655682d58e3",
      "metadata": {
        "id": "daa32c73-9d0e-49eb-aec9-3655682d58e3"
      },
      "outputs": [],
      "source": [
        "config_file = 'deploy.prototxt.txt'\n",
        "model_file = 'res10_300x300_ssd_iter_140000.caffemodel'\n",
        "net = cv2.dnn.readNetFromCaffe(config_file, model_file)"
      ]
    },
    {
      "cell_type": "markdown",
      "id": "2fbb9269-bb61-4739-b237-cf806d301bd6",
      "metadata": {
        "id": "2fbb9269-bb61-4739-b237-cf806d301bd6"
      },
      "source": [
        "## 3.3 Preprocessing\n",
        "\n",
        "Before using this model we need to apply preprocessing to our image data. This model expects images to be passed in with channel ordering BGR, and resized to 300x300 pixels.\n",
        "\n",
        "The `preprocess_image_dnn` function defined below takes an `image` as an argument (assumed to be in RGB), converts it to BGR channel ordering, resizes to 300x300 pixels (ignoring aspect ratio), then returns the preprocessed image."
      ]
    },
    {
      "cell_type": "code",
      "execution_count": null,
      "id": "5aca4537-cc1d-4d37-82cc-e61aed04213a",
      "metadata": {
        "id": "5aca4537-cc1d-4d37-82cc-e61aed04213a"
      },
      "outputs": [],
      "source": [
        "def preprocess_image_dnn(image):\n",
        "    image = cv2.cvtColor(image, cv2.COLOR_RGB2BGR)\n",
        "    image = cv2.resize(image, (300, 300), interpolation=cv2.INTER_AREA)\n",
        "    return image\n",
        "\n",
        "preprocessed_image = preprocess_image_dnn(image)\n",
        "display_image(preprocessed_image)"
      ]
    },
    {
      "cell_type": "markdown",
      "id": "d4c16fbf-84b9-449b-82c3-ad59363bf429",
      "metadata": {
        "id": "d4c16fbf-84b9-449b-82c3-ad59363bf429"
      },
      "source": [
        "You may see that the image looks stretched. Typically we would want to address this by applying different preprocessing steps to our image data to get it to 300x300px, but we will leave it as-is for now. The colours will also look strange, since the channel ordering used by OpenCV (BGR) does not match the channel ordering used by matplotlib when displaying images (RGB)."
      ]
    },
    {
      "cell_type": "markdown",
      "id": "cab753cc-d9b3-4b1b-a55d-961bb24b7637",
      "metadata": {
        "id": "cab753cc-d9b3-4b1b-a55d-961bb24b7637"
      },
      "source": [
        "## 3.4 Classification"
      ]
    },
    {
      "cell_type": "markdown",
      "id": "c0e5fcfe-d1f1-4224-ba00-78d28283f476",
      "metadata": {
        "id": "c0e5fcfe-d1f1-4224-ba00-78d28283f476"
      },
      "source": [
        "The last step is to use our face detection model to detect faces in our image, then overlay the results to visually inspect how well it performed.\n",
        "\n",
        "When we used *PyTorch* to make predictions on image data, we saw that we needed to first transpose the image data and then put it into a batch.\n",
        "\n",
        "For *OpenCV*, we need to do something quite similar, however *OpenCV* provides a function that will take our image data and automatically modify it to a form ready to be passed through our network. They call this form a *blob*.\n",
        "\n",
        "**Task**: In the code cell below, take the `preprocessed_image` from above and get it into a form usable by our model using the [*`cv2.dnn.blobFromImage()`* function](https://docs.opencv.org/4.5.2/d6/d0f/group__dnn.html#ga29f34df9376379a603acd8df581ac8d7). Your target size is a 300x300 pixel image, and you should subtract the mean values: `(104.0, 177.0, 123.0)`."
      ]
    },
    {
      "cell_type": "code",
      "execution_count": null,
      "id": "cd780571-4396-40c3-b13f-05efe6aecf85",
      "metadata": {
        "tags": [],
        "id": "cd780571-4396-40c3-b13f-05efe6aecf85"
      },
      "outputs": [],
      "source": [
        "# TODO: Your solution here\n",
        "# blob = ...\n",
        "\n",
        "# Inspect the shape of the created blob\n",
        "print(blob.shape)"
      ]
    },
    {
      "cell_type": "code",
      "execution_count": null,
      "id": "6dcb280e-9cb7-4d0b-b36b-20540ae97075",
      "metadata": {
        "jupyter": {
          "source_hidden": true
        },
        "tags": [],
        "cellView": "form",
        "id": "6dcb280e-9cb7-4d0b-b36b-20540ae97075"
      },
      "outputs": [],
      "source": [
        "#@title Task solution\n",
        "\n",
        "blob = cv2.dnn.blobFromImage(preprocessed_image, 1.0, (300, 300), mean=(104.0, 117.0, 123.0))\n",
        "print(blob.shape)"
      ]
    },
    {
      "cell_type": "markdown",
      "id": "1de4d38d-7bba-4ab5-b5b9-e0bc5f14e956",
      "metadata": {
        "id": "1de4d38d-7bba-4ab5-b5b9-e0bc5f14e956"
      },
      "source": [
        "You'll see the dimensionality of our blob is similar to the dimensionality of a tensor when using *PyTorch* (i.e. **B**atch x **C**hannels x **H**eight x **W**idth)\n",
        "\n",
        "Once the *blob* is created, we can then perform the forward pass through our network. To perform the forward pass, we first need to set the input of our network to be the *blob* and then perform the forward pass.\n",
        "\n",
        "The code cell below performs the forward pass of our blob through the network and prints the detection results."
      ]
    },
    {
      "cell_type": "code",
      "execution_count": null,
      "id": "0bb9fe3f-d732-418f-afd9-cb65787d443f",
      "metadata": {
        "id": "0bb9fe3f-d732-418f-afd9-cb65787d443f"
      },
      "outputs": [],
      "source": [
        "net.setInput(blob)\n",
        "detections = net.forward()\n",
        "print(detections)\n",
        "print(f'The shape of the detections are: {detections.shape}')"
      ]
    },
    {
      "cell_type": "markdown",
      "id": "18437fb1-5352-495c-a648-370ca071d6ac",
      "metadata": {
        "id": "18437fb1-5352-495c-a648-370ca071d6ac"
      },
      "source": [
        "<details>\n",
        "<summary style='cursor:pointer;'><u>What does the output represent?</u></summary>\n",
        "\n",
        "The shape of the output of our network is (1, 1, 200, 7). The shape of this output is specific to the model we are using, so we will just describe how we can interpret the data.\n",
        "    \n",
        "The dimension with size 200 represents 200 detections that have been made within the image. Each detection has 7 numbers associated with it.\n",
        "    \n",
        "Assuming we extracted the first detection with:  \n",
        "`detection = detections[0, 0, 0]`\n",
        "\n",
        "Then:\n",
        "* `detection[2]`: Represents a confidence score (how confident the model was that the detection is a face)\n",
        "* `detection[3]`: Represents the normalized (between [0, 1]) x coordinate of the top-left corner of the detected rectangle\n",
        "* `detection[4]`: Represents the normalized (between [0, 1]) y coordinate of the top-left corner of the detected rectangle\n",
        "* `detection[5]`: Represents the normalized (between [0, 1]) x coordinate of the bottom-right corner of the detected rectangle\n",
        "* `detection[6]`: Represents the normalized (between [0, 1]) y coordinate of the bottom-right corner of the detected rectangle\n",
        "</details>"
      ]
    },
    {
      "cell_type": "markdown",
      "id": "90994051-8f8d-4ad3-a97c-c6e024c5fa56",
      "metadata": {
        "id": "90994051-8f8d-4ad3-a97c-c6e024c5fa56"
      },
      "source": [
        "Given there are a huge number of detected regions, we will need to do some post processing on this data to only keep detections that the model is reasonably confident with.\n",
        "\n",
        "As part of this post processing, we should also convert the coordinates of the box coordinates to be relative to the original image instead of normalized between [0, 1]. To do this, we can simply multiply the x coordinates by the width of the original image, and the y coordinates by the height of the original image.\n",
        "\n",
        "**Task**: Write a function `postprocess_detections_dnn` that:\n",
        "* Takes the set of *detections* from our network, the *width* of the original image, the *height* of the original image, and a *confidence threshold*\n",
        "* Creates an empty list of *postprocessed_detections*\n",
        "* For each detection, checks if the detection confidence value is above the given threshold (Refer to the section above to understand how to extract this from the detection)\n",
        "* If the confidence of the detection exceeds the threshold:\n",
        "    * Extracts the normalized box coordinates\n",
        "    * Scales them to be relative to the original image (Using the given width and height)\n",
        "    * Appends them to the list of postprocessed_detections\n",
        "* Returns the post processed list of detections\n",
        "\n",
        "The code at the end of the code cell will take the post processed detections and overlay them onto the original image. You should see that the face was detected!"
      ]
    },
    {
      "cell_type": "code",
      "execution_count": null,
      "id": "ce06f991-7827-4b08-be34-7d9a9c8b0a3c",
      "metadata": {
        "id": "ce06f991-7827-4b08-be34-7d9a9c8b0a3c"
      },
      "outputs": [],
      "source": [
        "# TODO: Your solution here\n",
        "\n",
        "\n",
        "\n",
        "# Test your solution\n",
        "postprocessed_detections = postprocess_detections_dnn(detections, image.shape[1], image.shape[0], 0.5)\n",
        "print(f'Found {len(postprocessed_detections)} face(s)!')    # Should print out 1 (Only 1 detection meets the threshold)\n",
        "overlaid_image = draw_rectangles_tlbr(image, postprocessed_detections, thickness=3)\n",
        "display_image(overlaid_image)"
      ]
    },
    {
      "cell_type": "code",
      "execution_count": null,
      "id": "80fc46d4-0c80-41ab-a5a6-55a32a46bb27",
      "metadata": {
        "jupyter": {
          "source_hidden": true
        },
        "tags": [],
        "cellView": "form",
        "id": "80fc46d4-0c80-41ab-a5a6-55a32a46bb27"
      },
      "outputs": [],
      "source": [
        "#@title Task solution\n",
        "\n",
        "def postprocess_detections_dnn(detections, orig_w, orig_h, confidence_threshold):\n",
        "    # Create the list of postprocessed_detections\n",
        "    postprocessed_detections = []\n",
        "\n",
        "    # Iterates through all 200 detections\n",
        "    for detection in detections[0, 0]:\n",
        "        # Checks if the detection confidence exceeds the threshold\n",
        "        if detection[2] > confidence_threshold:\n",
        "            # Extract the normalized box coordinates\n",
        "            detection_coordinates = detection[3:]\n",
        "\n",
        "            # Scale the coordinates to be relative to the original image\n",
        "            detection_coordinates = detection_coordinates * [orig_w, orig_h, orig_w, orig_h]\n",
        "\n",
        "            # Append the coordinates to the list of postprocessed detections\n",
        "            postprocessed_detections.append(detection_coordinates)\n",
        "\n",
        "    return postprocessed_detections\n",
        "\n",
        "\n",
        "# Test your solution\n",
        "postprocessed_detections = postprocess_detections_dnn(detections, image.shape[1], image.shape[0], 0.5)\n",
        "print(f'Found {len(postprocessed_detections)} face(s)!')    # Should print out 1 (Only 1 detection meets the threshold)\n",
        "overlaid_image = draw_rectangles_tlbr(image, postprocessed_detections, thickness=3)\n",
        "display_image(overlaid_image)"
      ]
    },
    {
      "cell_type": "markdown",
      "id": "4b9a9db7-8f80-42d2-b422-42f472cb6e2e",
      "metadata": {
        "id": "4b9a9db7-8f80-42d2-b422-42f472cb6e2e"
      },
      "source": [
        "Great work so far! As you can see the process here is quite a bit involved. To make this easier, let's make a function that can handle the grunt of the work for us to make classifying an image a bit simpler!\n",
        "\n",
        "**Task**: Write a function named `detect_faces_dnn` that takes an *image* a pretrained *net* and a *confidence_threshold* as arguments. This function should preprocess the image data, create the *blob*, perform the forward pass through the net, postprocess any detections, then return the postprocessed detections.\n",
        "\n",
        "Use the code at the bottom of the code cell to test your function."
      ]
    },
    {
      "cell_type": "code",
      "execution_count": null,
      "id": "b4a1a7c0-423b-4823-8f27-0abb91a00f12",
      "metadata": {
        "id": "b4a1a7c0-423b-4823-8f27-0abb91a00f12"
      },
      "outputs": [],
      "source": [
        "# TODO: Your solution here\n",
        "\n",
        "\n",
        "\n",
        "# Test your solution\n",
        "url = 'https://images.unsplash.com/photo-1576267423445-b2e0074d68a4?ixid=MnwxMjA3fDB8MHxwaG90by1wYWdlfHx8fGVufDB8fHx8&ixlib=rb-1.2.1&auto=format&fit=crop&w=1050&q=80'\n",
        "url_image = load_image_from_url(url)\n",
        "detections = detect_faces_dnn(url_image, net, 0.5)\n",
        "overlaid_image = draw_rectangles_tlbr(url_image, detections, thickness=3)\n",
        "display_image(overlaid_image)"
      ]
    },
    {
      "cell_type": "code",
      "execution_count": null,
      "id": "8a6c104b-b1a0-4144-9573-ebf8fbae16d1",
      "metadata": {
        "jupyter": {
          "source_hidden": true
        },
        "tags": [],
        "cellView": "form",
        "id": "8a6c104b-b1a0-4144-9573-ebf8fbae16d1"
      },
      "outputs": [],
      "source": [
        "#@title Task solution\n",
        "\n",
        "def detect_faces_dnn(image, net, confidence_threshold):\n",
        "    # Preprocess the image\n",
        "    preprocessed_image = preprocess_image_dnn(image)\n",
        "\n",
        "    # Create the blob\n",
        "    blob = cv2.dnn.blobFromImage(preprocessed_image, 1.0, (300, 300), mean=(104.0, 117.0, 123.0))\n",
        "\n",
        "    # Perform the forward pass\n",
        "    net.setInput(blob)\n",
        "    detections = net.forward()\n",
        "\n",
        "    # Postprocess the detections\n",
        "    postprocessed_detections = postprocess_detections_dnn(detections, image.shape[1], image.shape[0], confidence_threshold)\n",
        "\n",
        "    # Return the postprocessed detections\n",
        "    return postprocessed_detections\n",
        "\n",
        "\n",
        "# Test your solution\n",
        "url = 'https://images.unsplash.com/photo-1576267423445-b2e0074d68a4?ixid=MnwxMjA3fDB8MHxwaG90by1wYWdlfHx8fGVufDB8fHx8&ixlib=rb-1.2.1&auto=format&fit=crop&w=1050&q=80'\n",
        "url_image = load_image_from_url(url)\n",
        "detections = detect_faces_dnn(url_image, net, 0.5)\n",
        "overlaid_image = draw_rectangles_tlbr(url_image, detections, thickness=3)\n",
        "display_image(overlaid_image)"
      ]
    },
    {
      "cell_type": "markdown",
      "id": "d8e5b6b1-fd23-4927-8b30-51c0836e3840",
      "metadata": {
        "id": "d8e5b6b1-fd23-4927-8b30-51c0836e3840"
      },
      "source": [
        "In the code cell below we provide a function that can load an image from a URL and overlay face detections. Feel free to test out how well this works on different images."
      ]
    },
    {
      "cell_type": "code",
      "execution_count": null,
      "id": "8cc75a7e-d005-4f99-8f3e-bab4253d285f",
      "metadata": {
        "id": "8cc75a7e-d005-4f99-8f3e-bab4253d285f"
      },
      "outputs": [],
      "source": [
        "def dnn_detect_and_overlay_from_url(url, net, confidence_threshold):\n",
        "    url_image = load_image_from_url(url)\n",
        "    detections = detect_faces_dnn(url_image, net, confidence_threshold)\n",
        "    overlaid_image = draw_rectangles_tlbr(url_image, detections, thickness=3)\n",
        "    display_image(overlaid_image)\n",
        "\n",
        "# TODO: Insert your URL here\n",
        "url = ''\n",
        "dnn_detect_and_overlay_from_url(url, net, 0.5)"
      ]
    },
    {
      "cell_type": "markdown",
      "id": "49f0335d-2eb3-4e5b-bd9c-9503b8ed3e49",
      "metadata": {
        "id": "49f0335d-2eb3-4e5b-bd9c-9503b8ed3e49"
      },
      "source": [
        "## 3.5 Evaluation\n",
        "\n",
        "Let's briefly look at an example where your DNN face detector fails.\n",
        "\n",
        "**Task**: Given the below URL, detect and overlay any faces in the image using your DNN with a confidence threshold of *0.5*."
      ]
    },
    {
      "cell_type": "code",
      "execution_count": null,
      "id": "7fd335e1-0681-42a6-9807-11c923a1493b",
      "metadata": {
        "id": "7fd335e1-0681-42a6-9807-11c923a1493b"
      },
      "outputs": [],
      "source": [
        "url = 'https://images.unsplash.com/photo-1531844251246-9a1bfaae09fc?ixid=MnwxMjA3fDB8MHxwaG90by1wYWdlfHx8fGVufDB8fHx8&ixlib=rb-1.2.1&auto=format&fit=crop&w=1390&q=80'\n",
        "\n",
        "# TODO: Load the URL, detect and overlay any faces\n",
        "\n"
      ]
    },
    {
      "cell_type": "code",
      "execution_count": null,
      "id": "cead2028-d034-46e8-94e8-0a870c06f506",
      "metadata": {
        "jupyter": {
          "source_hidden": true
        },
        "tags": [],
        "cellView": "form",
        "id": "cead2028-d034-46e8-94e8-0a870c06f506"
      },
      "outputs": [],
      "source": [
        "#@title Task solution\n",
        "\n",
        "url = 'https://images.unsplash.com/photo-1531844251246-9a1bfaae09fc?ixid=MnwxMjA3fDB8MHxwaG90by1wYWdlfHx8fGVufDB8fHx8&ixlib=rb-1.2.1&auto=format&fit=crop&w=1390&q=80'\n",
        "\n",
        "# TODO: Load the URL, detect and overlay any faces\n",
        "dnn_detect_and_overlay_from_url(url, net, 0.5)"
      ]
    },
    {
      "cell_type": "markdown",
      "id": "4c42466c-3489-4536-8824-ae708f55c747",
      "metadata": {
        "id": "4c42466c-3489-4536-8824-ae708f55c747"
      },
      "source": [
        "Your network didn't detect any faces at all!\n",
        "\n",
        "**Comprehension Question 1**\n",
        "\n",
        "Why didn't your DNN detect any faces?\n",
        "\n",
        "<details>\n",
        "<summary style='cursor:pointer;'><u>Answer</u></summary>\n",
        "\n",
        "The original resolution of this image was 1390x881px. During image preprocessing, we resized this whole image down to be 300x300px. This means that the faces in the image become too small (and possibly too skewed) for our DNN to be able to detect. Run the code cell below to see what the input to your DNN looks like!\n",
        "</details>"
      ]
    },
    {
      "cell_type": "code",
      "execution_count": null,
      "id": "1788187f-c5cc-40a4-8a3f-f0d1100cdcf2",
      "metadata": {
        "jupyter": {
          "source_hidden": true
        },
        "tags": [],
        "id": "1788187f-c5cc-40a4-8a3f-f0d1100cdcf2"
      },
      "outputs": [],
      "source": [
        "url = 'https://images.unsplash.com/photo-1531844251246-9a1bfaae09fc?ixid=MnwxMjA3fDB8MHxwaG90by1wYWdlfHx8fGVufDB8fHx8&ixlib=rb-1.2.1&auto=format&fit=crop&w=1390&q=80'\n",
        "url_image = load_image_from_url(url)\n",
        "preprocessed_url_image = preprocess_image_dnn(url_image)\n",
        "display_image(preprocessed_url_image)"
      ]
    },
    {
      "cell_type": "markdown",
      "id": "4ebb1b0b-fed8-4f01-98d0-018260400380",
      "metadata": {
        "id": "4ebb1b0b-fed8-4f01-98d0-018260400380"
      },
      "source": [
        "**Comprehension Question 2**\n",
        "\n",
        "What can you do to get your DNN to detect the faces?\n",
        "\n",
        "<details>\n",
        "<summary style='cursor:pointer;'><u>Answer</u></summary>\n",
        "\n",
        "To make this work, we need to do something at the input stage of our DNN to ensure it can see the faces at a better resolution and non-skewed. There are a few ways we can go about this:\n",
        "* To address size; instead of predicting the whole image at once, break the image up into smaller tiles and make predictions on each tile (Fuse the results at the end).\n",
        "* To address skew; before resizing, pad the image to make it a square image, then resize.\n",
        "    \n",
        "Run the code cell below to see what happens when we pass in 300x300px tiles to the DNN!\n",
        "</details>"
      ]
    },
    {
      "cell_type": "code",
      "execution_count": null,
      "id": "4f8e5cbf-18bf-4717-9f56-84b24fa93cd4",
      "metadata": {
        "jupyter": {
          "source_hidden": true
        },
        "tags": [],
        "id": "4f8e5cbf-18bf-4717-9f56-84b24fa93cd4"
      },
      "outputs": [],
      "source": [
        "url = 'https://images.unsplash.com/photo-1531844251246-9a1bfaae09fc?ixid=MnwxMjA3fDB8MHxwaG90by1wYWdlfHx8fGVufDB8fHx8&ixlib=rb-1.2.1&auto=format&fit=crop&w=1390&q=80'\n",
        "url_image = load_image_from_url(url)\n",
        "for tile_x in range(0, url_image.shape[1], 300):\n",
        "    for tile_y in range(0, url_image.shape[0], 300):\n",
        "        tiled_image = url_image[tile_y:tile_y + 300, tile_x:tile_x + 300, :]\n",
        "        detections = detect_faces_dnn(tiled_image, net, 0.5)\n",
        "        overlaid_image = draw_rectangles_tlbr(tiled_image, detections, thickness=3)\n",
        "        display_image(overlaid_image)"
      ]
    },
    {
      "cell_type": "markdown",
      "id": "58c18baf-1d90-418b-9364-9081480e724f",
      "metadata": {
        "id": "58c18baf-1d90-418b-9364-9081480e724f"
      },
      "source": [
        "# Summary\n",
        "In this lab we looked at two different approaches to face detection from images. We saw some pitfalls to each approach and looked at ways we could overcome them."
      ]
    }
  ],
  "metadata": {
    "kernelspec": {
      "display_name": "Python 3 (ipykernel)",
      "language": "python",
      "name": "python3"
    },
    "language_info": {
      "codemirror_mode": {
        "name": "ipython",
        "version": 3
      },
      "file_extension": ".py",
      "mimetype": "text/x-python",
      "name": "python",
      "nbconvert_exporter": "python",
      "pygments_lexer": "ipython3",
      "version": "3.8.10"
    },
    "toc-autonumbering": false,
    "toc-showcode": false,
    "toc-showmarkdowntxt": false,
    "colab": {
      "provenance": [],
      "toc_visible": true,
      "include_colab_link": true
    }
  },
  "nbformat": 4,
  "nbformat_minor": 5
}